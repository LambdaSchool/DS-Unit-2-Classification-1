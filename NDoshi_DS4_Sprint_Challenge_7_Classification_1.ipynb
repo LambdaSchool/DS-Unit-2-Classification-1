{
 "cells": [
  {
   "cell_type": "markdown",
   "metadata": {
    "colab_type": "text",
    "id": "7NQhCv9N9NCo"
   },
   "source": [
    "_Lambda School Data Science, Unit 2_\n",
    " \n",
    "# Classification 1 Sprint Challenge: Predict Steph Curry's shots 🏀\n",
    "\n",
    "For your Sprint Challenge, you'll use a dataset with all Steph Curry's NBA field goal attempts. (Regular season and playoff games, from October 28, 2009, through June 5, 2019.) \n",
    "\n",
    "You'll use information about the shot and the game to predict whether the shot was made. This is hard to predict! Try for an accuracy score in the high 50's or low 60's. The dataset was collected with the [nba_api](https://github.com/swar/nba_api) Python library."
   ]
  },
  {
   "cell_type": "code",
   "execution_count": 1,
   "metadata": {
    "colab": {},
    "colab_type": "code",
    "id": "5RDEWI9c9NCr"
   },
   "outputs": [],
   "source": [
    "import pandas as pd\n",
    "url = 'https://drive.google.com/uc?export=download&id=1fL7KPyxgGYfQDsuJoBWHIWwCAf-HTFpX'\n",
    "df = pd.read_csv(url, parse_dates=['game_date']).set_index('game_date')\n",
    "assert df.shape == (13958, 19)"
   ]
  },
  {
   "cell_type": "markdown",
   "metadata": {
    "colab_type": "text",
    "id": "gWRX4uaY9NCw"
   },
   "source": [
    "This Sprint Challenge has two parts. To demonstrate mastery on each part, do all the required, numbered instructions. To earn a score of \"3\" for the part, also do the stretch goals.\n",
    "\n",
    "## Part 1. Prepare to model\n",
    "\n",
    "### Required\n",
    "\n",
    "1. **Do train/validate/test split.** Use the 2009-10 season through 2016-17 season to train, the 2017-18 season to validate, and the 2018-19 season to test. NBA seasons begin in October and end in June. You'll know you've split the data correctly when your train set has 11081 observations, your validation set has 1168 observations, and your test set has 1709 observations.\n",
    "2. **Begin with baselines for classification.** Your target to predict is `shot_made_flag`. What is the baseline accuracy for the validation set, if you guessed the majority class for every prediction?\n",
    "3. **Use Ordinal Encoding _or_ One-Hot Encoding,** for the categorical features you select.\n",
    "4. **Train a Random Forest _or_ Logistic Regression** with the features you select.\n",
    "\n",
    "### Stretch goals\n",
    "Engineer at least 4 of these 5 features:\n",
    "\n",
    "- **Homecourt Advantage**: Is the home team (`htm`) the Golden State Warriors (`GSW`) ?\n",
    "- **Opponent**: Who is the other team playing the Golden State Warriors?\n",
    "- **Seconds remaining in the period**: Combine minutes remaining with seconds remaining, to get the total number of seconds remaining in the period.\n",
    "- **Seconds remaining in the game**: Combine period, and seconds remaining in the period, to get the total number of seconds remaining in the game. A basketball game has 4 periods, each 12 minutes long.\n",
    "- **Made previous shot**: Was Steph Curry's previous shot successful?\n",
    "    \n",
    "\n",
    "## Part 2. Evaluate models\n",
    "\n",
    "### Required\n",
    "1. Get your model's **validation accuracy.** (Multiple times if you try multiple iterations.)\n",
    "2. Get your model's **test accuracy.** (One time, at the end.)\n",
    "3. Get and plot your Random Forest's **feature importances** _or_ your Logistic Regression's **coefficients.**\n",
    "4. Imagine this is the confusion matrix for a binary classification model. **Calculate accuracy, precision, and recall for this confusion matrix:**\n",
    "\n",
    "<table>\n",
    "  <tr>\n",
    "    <td colspan=\"2\" rowspan=\"2\"></td>\n",
    "    <td colspan=\"2\">Predicted</td>\n",
    "  </tr>\n",
    "  <tr>\n",
    "    <td>Negative</td>\n",
    "    <td>Positive</td>\n",
    "  </tr>\n",
    "  <tr>\n",
    "    <td rowspan=\"2\">Actual</td>\n",
    "    <td>Negative</td>\n",
    "    <td style=\"border: solid\">85</td>\n",
    "    <td style=\"border: solid\">58</td>\n",
    "  </tr>\n",
    "  <tr>\n",
    "    <td>Positive</td>\n",
    "    <td style=\"border: solid\">8</td>\n",
    "    <td style=\"border: solid\"> 36</td>\n",
    "  </tr>\n",
    "</table>\n",
    "\n",
    "\n",
    "### Stretch goals\n",
    "- Calculate F1 score for the provided, imaginary confusion matrix.\n",
    "- Plot a real confusion matrix for your basketball model, with row and column labels.\n",
    "- Print the classification report for your model."
   ]
  },
  {
   "cell_type": "code",
   "execution_count": 2,
   "metadata": {},
   "outputs": [],
   "source": [
    "# Load all necessary libraries and set options for viewing data\n",
    "%matplotlib inline\n",
    "import category_encoders as ce\n",
    "import matplotlib.pyplot as plt\n",
    "import numpy as np\n",
    "import seaborn as sns\n",
    "from sklearn.impute import SimpleImputer\n",
    "from sklearn.model_selection import train_test_split\n",
    "from sklearn.pipeline import make_pipeline\n",
    "from sklearn.preprocessing import StandardScaler\n",
    "from sklearn.linear_model import LogisticRegression\n",
    "from sklearn.tree import DecisionTreeClassifier\n",
    "from sklearn.ensemble import RandomForestClassifier\n",
    "pd.set_option('display.float_format', '{:.2f}'.format)\n",
    "pd.set_option('display.max_columns', 50)\n"
   ]
  },
  {
   "cell_type": "code",
   "execution_count": 3,
   "metadata": {},
   "outputs": [
    {
     "data": {
      "text/html": [
       "<div>\n",
       "<style scoped>\n",
       "    .dataframe tbody tr th:only-of-type {\n",
       "        vertical-align: middle;\n",
       "    }\n",
       "\n",
       "    .dataframe tbody tr th {\n",
       "        vertical-align: top;\n",
       "    }\n",
       "\n",
       "    .dataframe thead th {\n",
       "        text-align: right;\n",
       "    }\n",
       "</style>\n",
       "<table border=\"1\" class=\"dataframe\">\n",
       "  <thead>\n",
       "    <tr style=\"text-align: right;\">\n",
       "      <th></th>\n",
       "      <th>game_id</th>\n",
       "      <th>game_event_id</th>\n",
       "      <th>player_name</th>\n",
       "      <th>period</th>\n",
       "      <th>minutes_remaining</th>\n",
       "      <th>seconds_remaining</th>\n",
       "      <th>action_type</th>\n",
       "      <th>shot_type</th>\n",
       "      <th>shot_zone_basic</th>\n",
       "      <th>shot_zone_area</th>\n",
       "      <th>shot_zone_range</th>\n",
       "      <th>shot_distance</th>\n",
       "      <th>loc_x</th>\n",
       "      <th>loc_y</th>\n",
       "      <th>shot_made_flag</th>\n",
       "      <th>htm</th>\n",
       "      <th>vtm</th>\n",
       "      <th>season_type</th>\n",
       "      <th>scoremargin_before_shot</th>\n",
       "    </tr>\n",
       "    <tr>\n",
       "      <th>game_date</th>\n",
       "      <th></th>\n",
       "      <th></th>\n",
       "      <th></th>\n",
       "      <th></th>\n",
       "      <th></th>\n",
       "      <th></th>\n",
       "      <th></th>\n",
       "      <th></th>\n",
       "      <th></th>\n",
       "      <th></th>\n",
       "      <th></th>\n",
       "      <th></th>\n",
       "      <th></th>\n",
       "      <th></th>\n",
       "      <th></th>\n",
       "      <th></th>\n",
       "      <th></th>\n",
       "      <th></th>\n",
       "      <th></th>\n",
       "    </tr>\n",
       "  </thead>\n",
       "  <tbody>\n",
       "    <tr>\n",
       "      <th>2009-10-28</th>\n",
       "      <td>20900015</td>\n",
       "      <td>4</td>\n",
       "      <td>Stephen Curry</td>\n",
       "      <td>1</td>\n",
       "      <td>11</td>\n",
       "      <td>25</td>\n",
       "      <td>Jump Shot</td>\n",
       "      <td>3PT Field Goal</td>\n",
       "      <td>Above the Break 3</td>\n",
       "      <td>Right Side Center(RC)</td>\n",
       "      <td>24+ ft.</td>\n",
       "      <td>26</td>\n",
       "      <td>99</td>\n",
       "      <td>249</td>\n",
       "      <td>0</td>\n",
       "      <td>GSW</td>\n",
       "      <td>HOU</td>\n",
       "      <td>Regular Season</td>\n",
       "      <td>2.00</td>\n",
       "    </tr>\n",
       "    <tr>\n",
       "      <th>2009-10-28</th>\n",
       "      <td>20900015</td>\n",
       "      <td>17</td>\n",
       "      <td>Stephen Curry</td>\n",
       "      <td>1</td>\n",
       "      <td>9</td>\n",
       "      <td>31</td>\n",
       "      <td>Step Back Jump shot</td>\n",
       "      <td>2PT Field Goal</td>\n",
       "      <td>Mid-Range</td>\n",
       "      <td>Left Side Center(LC)</td>\n",
       "      <td>16-24 ft.</td>\n",
       "      <td>18</td>\n",
       "      <td>-122</td>\n",
       "      <td>145</td>\n",
       "      <td>1</td>\n",
       "      <td>GSW</td>\n",
       "      <td>HOU</td>\n",
       "      <td>Regular Season</td>\n",
       "      <td>0.00</td>\n",
       "    </tr>\n",
       "    <tr>\n",
       "      <th>2009-10-28</th>\n",
       "      <td>20900015</td>\n",
       "      <td>53</td>\n",
       "      <td>Stephen Curry</td>\n",
       "      <td>1</td>\n",
       "      <td>6</td>\n",
       "      <td>2</td>\n",
       "      <td>Jump Shot</td>\n",
       "      <td>2PT Field Goal</td>\n",
       "      <td>In The Paint (Non-RA)</td>\n",
       "      <td>Center(C)</td>\n",
       "      <td>8-16 ft.</td>\n",
       "      <td>14</td>\n",
       "      <td>-60</td>\n",
       "      <td>129</td>\n",
       "      <td>0</td>\n",
       "      <td>GSW</td>\n",
       "      <td>HOU</td>\n",
       "      <td>Regular Season</td>\n",
       "      <td>-4.00</td>\n",
       "    </tr>\n",
       "    <tr>\n",
       "      <th>2009-10-28</th>\n",
       "      <td>20900015</td>\n",
       "      <td>141</td>\n",
       "      <td>Stephen Curry</td>\n",
       "      <td>2</td>\n",
       "      <td>9</td>\n",
       "      <td>49</td>\n",
       "      <td>Jump Shot</td>\n",
       "      <td>2PT Field Goal</td>\n",
       "      <td>Mid-Range</td>\n",
       "      <td>Left Side(L)</td>\n",
       "      <td>16-24 ft.</td>\n",
       "      <td>19</td>\n",
       "      <td>-172</td>\n",
       "      <td>82</td>\n",
       "      <td>0</td>\n",
       "      <td>GSW</td>\n",
       "      <td>HOU</td>\n",
       "      <td>Regular Season</td>\n",
       "      <td>-4.00</td>\n",
       "    </tr>\n",
       "    <tr>\n",
       "      <th>2009-10-28</th>\n",
       "      <td>20900015</td>\n",
       "      <td>249</td>\n",
       "      <td>Stephen Curry</td>\n",
       "      <td>2</td>\n",
       "      <td>2</td>\n",
       "      <td>19</td>\n",
       "      <td>Jump Shot</td>\n",
       "      <td>2PT Field Goal</td>\n",
       "      <td>Mid-Range</td>\n",
       "      <td>Left Side Center(LC)</td>\n",
       "      <td>16-24 ft.</td>\n",
       "      <td>16</td>\n",
       "      <td>-68</td>\n",
       "      <td>148</td>\n",
       "      <td>0</td>\n",
       "      <td>GSW</td>\n",
       "      <td>HOU</td>\n",
       "      <td>Regular Season</td>\n",
       "      <td>0.00</td>\n",
       "    </tr>\n",
       "  </tbody>\n",
       "</table>\n",
       "</div>"
      ],
      "text/plain": [
       "             game_id  game_event_id    player_name  period  minutes_remaining  \\\n",
       "game_date                                                                       \n",
       "2009-10-28  20900015              4  Stephen Curry       1                 11   \n",
       "2009-10-28  20900015             17  Stephen Curry       1                  9   \n",
       "2009-10-28  20900015             53  Stephen Curry       1                  6   \n",
       "2009-10-28  20900015            141  Stephen Curry       2                  9   \n",
       "2009-10-28  20900015            249  Stephen Curry       2                  2   \n",
       "\n",
       "            seconds_remaining          action_type       shot_type  \\\n",
       "game_date                                                            \n",
       "2009-10-28                 25            Jump Shot  3PT Field Goal   \n",
       "2009-10-28                 31  Step Back Jump shot  2PT Field Goal   \n",
       "2009-10-28                  2            Jump Shot  2PT Field Goal   \n",
       "2009-10-28                 49            Jump Shot  2PT Field Goal   \n",
       "2009-10-28                 19            Jump Shot  2PT Field Goal   \n",
       "\n",
       "                  shot_zone_basic         shot_zone_area shot_zone_range  \\\n",
       "game_date                                                                  \n",
       "2009-10-28      Above the Break 3  Right Side Center(RC)         24+ ft.   \n",
       "2009-10-28              Mid-Range   Left Side Center(LC)       16-24 ft.   \n",
       "2009-10-28  In The Paint (Non-RA)              Center(C)        8-16 ft.   \n",
       "2009-10-28              Mid-Range           Left Side(L)       16-24 ft.   \n",
       "2009-10-28              Mid-Range   Left Side Center(LC)       16-24 ft.   \n",
       "\n",
       "            shot_distance  loc_x  loc_y  shot_made_flag  htm  vtm  \\\n",
       "game_date                                                           \n",
       "2009-10-28             26     99    249               0  GSW  HOU   \n",
       "2009-10-28             18   -122    145               1  GSW  HOU   \n",
       "2009-10-28             14    -60    129               0  GSW  HOU   \n",
       "2009-10-28             19   -172     82               0  GSW  HOU   \n",
       "2009-10-28             16    -68    148               0  GSW  HOU   \n",
       "\n",
       "               season_type  scoremargin_before_shot  \n",
       "game_date                                            \n",
       "2009-10-28  Regular Season                     2.00  \n",
       "2009-10-28  Regular Season                     0.00  \n",
       "2009-10-28  Regular Season                    -4.00  \n",
       "2009-10-28  Regular Season                    -4.00  \n",
       "2009-10-28  Regular Season                     0.00  "
      ]
     },
     "execution_count": 3,
     "metadata": {},
     "output_type": "execute_result"
    }
   ],
   "source": [
    "# Looking at descriptive information for the dataset\n",
    "df.head()"
   ]
  },
  {
   "cell_type": "code",
   "execution_count": 4,
   "metadata": {},
   "outputs": [
    {
     "data": {
      "text/plain": [
       "(          game_id  game_event_id   period  minutes_remaining  \\\n",
       " count    13958.00       13958.00 13958.00           13958.00   \n",
       " mean  24428365.36         270.44     2.41               4.73   \n",
       " std    7226619.76         169.93     1.13               3.33   \n",
       " min   20900015.00           2.00     1.00               0.00   \n",
       " 25%   21200912.00         109.00     1.00               2.00   \n",
       " 50%   21500259.00         275.50     2.00               4.00   \n",
       " 75%   21700963.00         398.00     3.00               7.00   \n",
       " max   41800403.00         752.00     6.00              11.00   \n",
       " \n",
       "        seconds_remaining  shot_distance    loc_x    loc_y  shot_made_flag  \\\n",
       " count           13958.00       13958.00 13958.00 13958.00        13958.00   \n",
       " mean               28.51          17.60    -0.55   131.26            0.47   \n",
       " std                17.60          10.30   124.72   102.67            0.50   \n",
       " min                 0.00           0.00  -250.00   -41.00            0.00   \n",
       " 25%                13.00           8.00   -96.00    23.00            0.00   \n",
       " 50%                29.00          22.00     1.00   141.00            0.00   \n",
       " 75%                44.00          25.00    95.00   219.00            1.00   \n",
       " max                59.00          83.00   247.00   811.00            1.00   \n",
       " \n",
       "        scoremargin_before_shot  \n",
       " count                 13958.00  \n",
       " mean                      1.62  \n",
       " std                      10.13  \n",
       " min                     -39.00  \n",
       " 25%                      -4.00  \n",
       " 50%                       1.00  \n",
       " 75%                       8.00  \n",
       " max                      43.00  ,\n",
       "           player_name action_type       shot_type    shot_zone_basic  \\\n",
       " count           13958       13958           13958              13958   \n",
       " unique              1          53               2                  7   \n",
       " top     Stephen Curry   Jump Shot  2PT Field Goal  Above the Break 3   \n",
       " freq            13958        6657            7135               5695   \n",
       " \n",
       "        shot_zone_area shot_zone_range    htm    vtm     season_type  \n",
       " count           13958           13958  13958  13958           13958  \n",
       " unique              6               5     32     32               2  \n",
       " top         Center(C)         24+ ft.    GSW    GSW  Regular Season  \n",
       " freq             5987            6721   6871   7087           11846  )"
      ]
     },
     "execution_count": 4,
     "metadata": {},
     "output_type": "execute_result"
    }
   ],
   "source": [
    "df.describe(), df.describe(exclude='number')"
   ]
  },
  {
   "cell_type": "code",
   "execution_count": 5,
   "metadata": {},
   "outputs": [
    {
     "data": {
      "text/plain": [
       "((11081, 19), (1168, 19), (1709, 19))"
      ]
     },
     "execution_count": 5,
     "metadata": {},
     "output_type": "execute_result"
    }
   ],
   "source": [
    "# Create train validate and test data sets\n",
    "train = df['2009-10':'2017-06']\n",
    "val = df['2017-10':'2018-06']\n",
    "test = df['2018-10': '2019-06']\n",
    "\n",
    "train.shape, val.shape, test.shape"
   ]
  },
  {
   "cell_type": "code",
   "execution_count": 6,
   "metadata": {},
   "outputs": [
    {
     "data": {
      "text/plain": [
       "0   0.53\n",
       "1   0.47\n",
       "Name: shot_made_flag, dtype: float64"
      ]
     },
     "execution_count": 6,
     "metadata": {},
     "output_type": "execute_result"
    }
   ],
   "source": [
    "# Attempt 1st baseline using majority class method\n",
    "y_train = train['shot_made_flag']\n",
    "y_train.value_counts(normalize=True)"
   ]
  },
  {
   "cell_type": "code",
   "execution_count": 7,
   "metadata": {},
   "outputs": [
    {
     "data": {
      "text/plain": [
       "0.4837328767123288"
      ]
     },
     "execution_count": 7,
     "metadata": {},
     "output_type": "execute_result"
    }
   ],
   "source": [
    "# Apply majority class to determine accuracy\n",
    "majority_class = [1]\n",
    "\n",
    "# Pull in validation shot results to compare\n",
    "y_val = val['shot_made_flag']\n",
    "\n",
    "# Create predicted set\n",
    "y_pred = majority_class * len(y_val)\n",
    "\n",
    "# Use accuracy score function to compare\n",
    "from sklearn.metrics import accuracy_score\n",
    "accuracy_score(y_val, y_pred)"
   ]
  },
  {
   "cell_type": "markdown",
   "metadata": {},
   "source": [
    "According to initial baseline test above, using majority class as the predicted value netted onlya 48% accuracy score."
   ]
  },
  {
   "cell_type": "code",
   "execution_count": 8,
   "metadata": {},
   "outputs": [],
   "source": [
    "# Perform data cleaning and feature engineering to use in model\n",
    "def wrangle(X):\n",
    "    # Create fresh copy\n",
    "    X_Clean = X.copy()\n",
    "    \n",
    "    # Remove player name as we know it is only one player\n",
    "    # Also removing game_id and game_event_id as they are unique\n",
    "    X_Clean = X_Clean.drop(columns=['player_name','game_id','game_event_id'])\n",
    "    \n",
    "    # Add feature to indicate homecourt advantage\n",
    "    X_Clean['home_advantage'] = np.where(X_Clean['htm'] == 'GSW', 1, 0)\n",
    "    \n",
    "    # Add feature to show opponent\n",
    "    X_Clean['opponent'] = np.where(X_Clean['htm'] == 'GSW', X_Clean['vtm'], X_Clean['htm'])\n",
    "    \n",
    "    # Add feature to show total seconds remaining in period\n",
    "    X_Clean['secs_remaining_per'] = (X_Clean['minutes_remaining'] * 60) + X_Clean['seconds_remaining']\n",
    "    \n",
    "    # Add feature to show total seconds remaining in the game\n",
    "    X_Clean['secs_remaining_game'] = ((4 - X_Clean['period']) * 12 * 60) + X_Clean['secs_remaining_per'] \n",
    "    \n",
    "    return X_Clean\n",
    "    \n",
    "    "
   ]
  },
  {
   "cell_type": "code",
   "execution_count": 9,
   "metadata": {},
   "outputs": [],
   "source": [
    "# Wrangle train, val and test data sets\n",
    "train_c = wrangle(train)\n",
    "val_c = wrangle(val)\n",
    "test_c = wrangle(test)"
   ]
  },
  {
   "cell_type": "code",
   "execution_count": 10,
   "metadata": {},
   "outputs": [],
   "source": [
    "# Create training features and target feature split\n",
    "target = 'shot_made_flag'\n",
    "features_t = train_c.drop(columns=[target]).columns.tolist()\n",
    "\n"
   ]
  },
  {
   "cell_type": "code",
   "execution_count": 11,
   "metadata": {},
   "outputs": [],
   "source": [
    "# Create X and Y matrices for regression fit and testing\n",
    "X_train = train_c[features_t]\n",
    "Y_train = train_c[target]\n",
    "X_val = val_c[features_t]\n",
    "Y_val = val_c[target]\n",
    "X_test = test_c[features_t]\n",
    "Y_test = test_c[target]"
   ]
  },
  {
   "cell_type": "code",
   "execution_count": 12,
   "metadata": {},
   "outputs": [],
   "source": [
    "# Create pipeline for logistic regression classifier model\n",
    "pipeline_lr = make_pipeline(\n",
    "                # Use one hot encoder \n",
    "                ce.OneHotEncoder(use_cat_names=True), \n",
    "                # Use mean imputer\n",
    "                SimpleImputer(strategy='mean'), \n",
    "                # Use logistic regression\n",
    "                LogisticRegression(solver='lbfgs', multi_class='auto', max_iter=10000)\n",
    "                )\n",
    "\n",
    "# Create pipeline for random forest classifier model using ordinal encoding\n",
    "pipeline_rf = make_pipeline(\n",
    "                # Use ordinal encoder\n",
    "                ce.OrdinalEncoder(),\n",
    "                SimpleImputer(strategy='mean'),\n",
    "                RandomForestClassifier(n_estimators=100, random_state=23, n_jobs=-1)\n",
    ")"
   ]
  },
  {
   "cell_type": "code",
   "execution_count": 13,
   "metadata": {},
   "outputs": [
    {
     "name": "stdout",
     "output_type": "stream",
     "text": [
      "Logistic Regression validation accuracy: 0.6215753424657534\n"
     ]
    }
   ],
   "source": [
    "# Fit logistic regression model on training data set\n",
    "pipeline_lr.fit(X_train, Y_train)\n",
    "\n",
    "# Score logistic regression model on validation data set\n",
    "print('Logistic Regression validation accuracy:', pipeline_lr.score(X_val, Y_val))"
   ]
  },
  {
   "cell_type": "code",
   "execution_count": 14,
   "metadata": {},
   "outputs": [
    {
     "name": "stdout",
     "output_type": "stream",
     "text": [
      "Random Forest validation accuracy: 0.5804794520547946\n"
     ]
    }
   ],
   "source": [
    "# Fit random forest model on training data set\n",
    "pipeline_rf.fit(X_train, Y_train)\n",
    "\n",
    "# Score random forest model on validation data set\n",
    "print('Random Forest validation accuracy:', pipeline_rf.score(X_val, Y_val))"
   ]
  },
  {
   "cell_type": "markdown",
   "metadata": {},
   "source": [
    "Based on the initial runs of the 2 classification models, Logistic Regression is more accurate."
   ]
  },
  {
   "cell_type": "code",
   "execution_count": 15,
   "metadata": {},
   "outputs": [
    {
     "data": {
      "image/png": "[encoded data removed]",
      "text/plain": [
       "<Figure size 1440x2160 with 1 Axes>"
      ]
     },
     "metadata": {
      "needs_background": "light"
     },
     "output_type": "display_data"
    }
   ],
   "source": [
    "# Pull coefficients for logistic regression\n",
    "pipeline_lr.named_steps\n",
    "\n",
    "# Pull information from pipeline\n",
    "encoder = pipeline_lr.named_steps['onehotencoder']\n",
    "lr = pipeline_lr.named_steps['logisticregression']\n",
    "feat_names = encoder.transform(X_val).columns\n",
    "lr_coef = pd.Series(lr.coef_[0], feat_names)\n",
    "\n",
    "# Plot coefficients\n",
    "n = 25\n",
    "plt.figure(figsize=(20, 30))\n",
    "plt.title(f'Top {n} coefficients')\n",
    "lr_coef.sort_values()[-n:].plot.barh();"
   ]
  },
  {
   "cell_type": "code",
   "execution_count": 16,
   "metadata": {},
   "outputs": [
    {
     "data": {
      "text/plain": [
       "{'ordinalencoder': OrdinalEncoder(cols=['action_type', 'shot_type', 'shot_zone_basic', 'shot_zone_area', 'shot_zone_range', 'htm', 'vtm', 'season_type', 'opponent'],\n",
       "         drop_invariant=False, handle_missing='value',\n",
       "         handle_unknown='value',\n",
       "         mapping=[{'col': 'action_type', 'mapping': Jump Shot                              1\n",
       " Step Back Jump shot                    2\n",
       " Pullup Jump shot                       3\n",
       " Layup Shot                             4\n",
       " Jump Bank Shot                         5\n",
       " Driving Layup Shot                     6\n",
       " Reverse Lay...\n",
       " ATL    27\n",
       " TOR    28\n",
       " NYK    29\n",
       " BKN    30\n",
       " NOP    31\n",
       " NaN    -2\n",
       " dtype: int64, 'data_type': dtype('O')}],\n",
       "         return_df=True, verbose=0),\n",
       " 'simpleimputer': SimpleImputer(copy=True, fill_value=None, missing_values=nan, strategy='mean',\n",
       "        verbose=0),\n",
       " 'randomforestclassifier': RandomForestClassifier(bootstrap=True, class_weight=None, criterion='gini',\n",
       "             max_depth=None, max_features='auto', max_leaf_nodes=None,\n",
       "             min_impurity_decrease=0.0, min_impurity_split=None,\n",
       "             min_samples_leaf=1, min_samples_split=2,\n",
       "             min_weight_fraction_leaf=0.0, n_estimators=100, n_jobs=-1,\n",
       "             oob_score=False, random_state=23, verbose=0, warm_start=False)}"
      ]
     },
     "execution_count": 16,
     "metadata": {},
     "output_type": "execute_result"
    }
   ],
   "source": [
    "# Pull coefficients for logistic regression\n",
    "pipeline_rf.named_steps"
   ]
  },
  {
   "cell_type": "code",
   "execution_count": 17,
   "metadata": {},
   "outputs": [
    {
     "data": {
      "image/png": "[encoded data removed]",
      "text/plain": [
       "<Figure size 1440x2160 with 1 Axes>"
      ]
     },
     "metadata": {
      "needs_background": "light"
     },
     "output_type": "display_data"
    }
   ],
   "source": [
    "# Pull information from pipeline\n",
    "encoder = pipeline_rf.named_steps['ordinalencoder']\n",
    "rf = pipeline_rf.named_steps['randomforestclassifier']\n",
    "feat_names = encoder.transform(X_val).columns\n",
    "rf_importances = pd.Series(rf.feature_importances_, feat_names)\n",
    "\n",
    "# Plot coefficients\n",
    "n = 25\n",
    "plt.figure(figsize=(20, 30))\n",
    "plt.title(f'Top {n} features')\n",
    "rf_importances.sort_values()[-n:].plot.barh();"
   ]
  },
  {
   "cell_type": "code",
   "execution_count": 18,
   "metadata": {},
   "outputs": [
    {
     "name": "stdout",
     "output_type": "stream",
     "text": [
      "The accuracy on the test set using logistic regression is: 0.6272674078408426\n"
     ]
    }
   ],
   "source": [
    "# Perform prediction on test set\n",
    "y_pred_lr = pipeline_lr.predict(X_test)\n",
    "\n",
    "print('The accuracy on the test set using logistic regression is:', pipeline_lr.score(X_test,Y_test))"
   ]
  },
  {
   "cell_type": "markdown",
   "metadata": {},
   "source": [
    "### Question 4 of part 2"
   ]
  },
  {
   "cell_type": "code",
   "execution_count": 19,
   "metadata": {},
   "outputs": [
    {
     "name": "stdout",
     "output_type": "stream",
     "text": [
      "The accuracy for the matrix is: 0.6470588235294118\n"
     ]
    }
   ],
   "source": [
    "# Calculate Accuracy of given matrix\n",
    "correct_preds = 85 + 36\n",
    "total_preds = 85+ 58 + 8 + 36\n",
    "accuracy = correct_preds/total_preds\n",
    "\n",
    "print('The accuracy for the matrix is:', accuracy)"
   ]
  },
  {
   "cell_type": "code",
   "execution_count": 20,
   "metadata": {},
   "outputs": [
    {
     "name": "stdout",
     "output_type": "stream",
     "text": [
      "The precision values for the matrix are as follows:\n",
      " Negative: 0.9340659340659341 \n",
      " Positive: 0.3956043956043956\n"
     ]
    }
   ],
   "source": [
    "# Calculate precision for Negative\n",
    "correct_preds_neg = 85\n",
    "total_preds_neg = 85 + 6\n",
    "precision_neg = correct_preds_neg/total_preds_neg\n",
    "\n",
    "# Calculate precision for Positive\n",
    "correct_preds_pos = 36\n",
    "total_preds_pos = 58 + 36\n",
    "precision_pos = correct_preds_pos/total_preds_neg\n",
    "\n",
    "print('The precision values for the matrix are as follows:\\n', 'Negative:', precision_neg, \n",
    "      '\\n', 'Positive:', precision_pos)"
   ]
  },
  {
   "cell_type": "code",
   "execution_count": 21,
   "metadata": {},
   "outputs": [
    {
     "name": "stdout",
     "output_type": "stream",
     "text": [
      "The recall vales for the matrix are as follows:\n",
      " Negative: 0.5944055944055944 \n",
      " Positive: 0.8181818181818182\n"
     ]
    }
   ],
   "source": [
    "# Calculate recall for matrix\n",
    "actual_neg = 85 + 58\n",
    "actual_pos = 8 + 36\n",
    "\n",
    "recall_neg = correct_preds_neg/actual_neg\n",
    "recall_pos = correct_preds_pos/actual_pos\n",
    "\n",
    "print('The recall vales for the matrix are as follows:\\n', 'Negative:', recall_neg,\n",
    "      '\\n', 'Positive:', recall_pos)"
   ]
  }
 ],
 "metadata": {
  "colab": {
   "name": "DS_Sprint_Challenge_7_Classification_1.ipynb",
   "provenance": [],
   "version": "0.3.2"
  },
  "kernelspec": {
   "display_name": "Python 3",
   "language": "python",
   "name": "python3"
  },
  "language_info": {
   "codemirror_mode": {
    "name": "ipython",
    "version": 3
   },
   "file_extension": ".py",
   "mimetype": "text/x-python",
   "name": "python",
   "nbconvert_exporter": "python",
   "pygments_lexer": "ipython3",
   "version": "3.7.3"
  }
 },
 "nbformat": 4,
 "nbformat_minor": 2
}
