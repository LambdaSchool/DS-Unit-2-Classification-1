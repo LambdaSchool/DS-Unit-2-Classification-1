{
  "nbformat": 4,
  "nbformat_minor": 0,
  "metadata": {
    "colab": {
      "name": "Untitled10.ipynb",
      "version": "0.3.2",
      "provenance": [],
      "collapsed_sections": [],
      "include_colab_link": true
    },
    "kernelspec": {
      "name": "python3",
      "display_name": "Python 3"
    }
  },
  "cells": [
    {
      "cell_type": "markdown",
      "metadata": {
        "id": "view-in-github",
        "colab_type": "text"
      },
      "source": [
        "<a href=\"https://colab.research.google.com/github/alvinwalker314/DS-Unit-2-Classification-1/blob/master/Untitled10.ipynb\" target=\"_parent\"><img src=\"https://colab.research.google.com/assets/colab-badge.svg\" alt=\"Open In Colab\"/></a>"
      ]
    },
    {
      "cell_type": "markdown",
      "metadata": {
        "id": "JTs6FuhkFsRj",
        "colab_type": "text"
      },
      "source": [
        "## Imports"
      ]
    },
    {
      "cell_type": "code",
      "metadata": {
        "id": "njyk81Jy8M7I",
        "colab_type": "code",
        "outputId": "a1334697-774c-497e-ca1b-abbf7d6b272b",
        "colab": {
          "base_uri": "https://localhost:8080/",
          "height": 281
        }
      },
      "source": [
        "!pip install category_encoders"
      ],
      "execution_count": 3,
      "outputs": [
        {
          "output_type": "stream",
          "text": [
            "Collecting category_encoders\n",
            "\u001b[?25l  Downloading https://files.pythonhosted.org/packages/6e/a1/f7a22f144f33be78afeb06bfa78478e8284a64263a3c09b1ef54e673841e/category_encoders-2.0.0-py2.py3-none-any.whl (87kB)\n",
            "\u001b[K     |████████████████████████████████| 92kB 5.2MB/s \n",
            "\u001b[?25hRequirement already satisfied: scipy>=0.19.0 in /usr/local/lib/python3.6/dist-packages (from category_encoders) (1.3.0)\n",
            "Requirement already satisfied: scikit-learn>=0.20.0 in /usr/local/lib/python3.6/dist-packages (from category_encoders) (0.21.2)\n",
            "Requirement already satisfied: numpy>=1.11.3 in /usr/local/lib/python3.6/dist-packages (from category_encoders) (1.16.4)\n",
            "Requirement already satisfied: pandas>=0.21.1 in /usr/local/lib/python3.6/dist-packages (from category_encoders) (0.24.2)\n",
            "Requirement already satisfied: statsmodels>=0.6.1 in /usr/local/lib/python3.6/dist-packages (from category_encoders) (0.9.0)\n",
            "Requirement already satisfied: patsy>=0.4.1 in /usr/local/lib/python3.6/dist-packages (from category_encoders) (0.5.1)\n",
            "Requirement already satisfied: joblib>=0.11 in /usr/local/lib/python3.6/dist-packages (from scikit-learn>=0.20.0->category_encoders) (0.13.2)\n",
            "Requirement already satisfied: pytz>=2011k in /usr/local/lib/python3.6/dist-packages (from pandas>=0.21.1->category_encoders) (2018.9)\n",
            "Requirement already satisfied: python-dateutil>=2.5.0 in /usr/local/lib/python3.6/dist-packages (from pandas>=0.21.1->category_encoders) (2.5.3)\n",
            "Requirement already satisfied: six in /usr/local/lib/python3.6/dist-packages (from patsy>=0.4.1->category_encoders) (1.12.0)\n",
            "Installing collected packages: category-encoders\n",
            "Successfully installed category-encoders-2.0.0\n"
          ],
          "name": "stdout"
        }
      ]
    },
    {
      "cell_type": "code",
      "metadata": {
        "id": "ahq48j5X7-l4",
        "colab_type": "code",
        "colab": {}
      },
      "source": [
        "from sklearn.experimental import enable_hist_gradient_boosting\n",
        "from sklearn.tree import DecisionTreeClassifier\n",
        "from sklearn.ensemble import RandomForestClassifier, RandomForestRegressor, GradientBoostingClassifier, HistGradientBoostingClassifier, ExtraTreesClassifier\n",
        "from sklearn.linear_model import LogisticRegression\n",
        "from sklearn.metrics import mean_absolute_error, r2_score, confusion_matrix\n",
        "import pandas as pd\n",
        "import matplotlib.pyplot as plt\n",
        "import numpy as np\n",
        "import category_encoders as ce\n",
        "from sklearn.preprocessing import StandardScaler\n",
        "from sklearn.model_selection import train_test_split\n",
        "from sklearn.metrics import accuracy_score\n",
        "from google.colab import files\n",
        "\n"
      ],
      "execution_count": 0,
      "outputs": []
    },
    {
      "cell_type": "markdown",
      "metadata": {
        "id": "_nZ0fe3oGIeo",
        "colab_type": "text"
      },
      "source": [
        "## Datasets"
      ]
    },
    {
      "cell_type": "code",
      "metadata": {
        "id": "iBZ9Ju5P8BlR",
        "colab_type": "code",
        "colab": {}
      },
      "source": [
        "sample_sub= pd.read_csv('https://raw.githubusercontent.com/alvinwalker314/DS-Unit-2-Classification-1/master/sample_submission.csv')\n",
        "test_features= pd.read_csv('https://raw.githubusercontent.com/alvinwalker314/DS-Unit-2-Classification-1/master/test_features.csv')\n",
        "train_features= pd.read_csv('https://raw.githubusercontent.com/alvinwalker314/DS-Unit-2-Classification-1/master/train_features.csv')\n",
        "train_labels= pd.read_csv('https://raw.githubusercontent.com/alvinwalker314/DS-Unit-2-Classification-1/master/train_labels.csv')\n",
        "pd.set_option('display.float_format', '{:.2f}'.format)"
      ],
      "execution_count": 0,
      "outputs": []
    },
    {
      "cell_type": "code",
      "metadata": {
        "id": "C2TTxMQvG_iL",
        "colab_type": "code",
        "colab": {}
      },
      "source": [
        "train_features.fillna('Unknown', inplace=True)\n",
        "test_features.fillna('Unknown', inplace=True)"
      ],
      "execution_count": 0,
      "outputs": []
    },
    {
      "cell_type": "code",
      "metadata": {
        "id": "iQnckrNilMVV",
        "colab_type": "code",
        "colab": {}
      },
      "source": [
        "train_features.describe(exclude='number').T.sort_values(by='unique')"
      ],
      "execution_count": 0,
      "outputs": []
    },
    {
      "cell_type": "markdown",
      "metadata": {
        "id": "8zYTSXsSARBb",
        "colab_type": "text"
      },
      "source": [
        "## Feature Engineering Latitude and Longitude"
      ]
    },
    {
      "cell_type": "code",
      "metadata": {
        "id": "GzgaFsrwWMaM",
        "colab_type": "code",
        "colab": {}
      },
      "source": [
        "#copies of train and test features\n",
        "train_features_lat= train_features.copy()\n",
        "train_features_long= train_features.copy()\n",
        "test_features_long= test_features.copy()\n",
        "test_features_lat= test_features.copy()"
      ],
      "execution_count": 0,
      "outputs": []
    },
    {
      "cell_type": "code",
      "metadata": {
        "id": "cPQFytLkZzz4",
        "colab_type": "code",
        "colab": {}
      },
      "source": [
        "#function to change very low values to 0\n",
        "def change(data):\n",
        "  if data < 0.01 and data > -0.01:\n",
        "    data= 0\n",
        "  return data"
      ],
      "execution_count": 0,
      "outputs": []
    },
    {
      "cell_type": "code",
      "metadata": {
        "id": "-_cjlCqvkXlC",
        "colab_type": "code",
        "colab": {}
      },
      "source": [
        "#applying function to lat and long for train and test features\n",
        "train_features_lat['latitude']= train_features_lat['latitude'].apply(change)\n",
        "train_features_long['longitude']= train_features_long['longitude'].apply(change)\n",
        "test_features_lat['longitude']= test_features_lat['latitude'].apply(change)\n",
        "test_features_long['longitude']= test_features_long['longitude'].apply(change)\n",
        "test_features['latitude']= test_features['latitude'].apply(change)\n",
        "test_features['longitude']= test_features['longitude'].apply(change)"
      ],
      "execution_count": 0,
      "outputs": []
    },
    {
      "cell_type": "code",
      "metadata": {
        "id": "49jxxzC7PxNW",
        "colab_type": "code",
        "colab": {}
      },
      "source": [
        "#grab lat and long features to train with\n",
        "lat_features= train_features_lat[train_features_lat['latitude']!= 0]\n",
        "long_features= train_features_long[train_features_long['longitude']!= 0]"
      ],
      "execution_count": 0,
      "outputs": []
    },
    {
      "cell_type": "code",
      "metadata": {
        "id": "ja1bDb4VS3pC",
        "colab_type": "code",
        "colab": {}
      },
      "source": [
        "#grab lat and long targets\n",
        "lat_target = lat_features['latitude']\n",
        "long_target = long_features['longitude']"
      ],
      "execution_count": 0,
      "outputs": []
    },
    {
      "cell_type": "code",
      "metadata": {
        "id": "RcMZUKd6TGWU",
        "colab_type": "code",
        "colab": {}
      },
      "source": [
        "#dropping targets from training data\n",
        "lat_features.drop(columns= ['latitude'], inplace=True)\n",
        "long_features.drop(columns=['longitude'], inplace=True)"
      ],
      "execution_count": 0,
      "outputs": []
    },
    {
      "cell_type": "code",
      "metadata": {
        "id": "0a9wwZnSpwnS",
        "colab_type": "code",
        "colab": {}
      },
      "source": [
        "#split lat data into train and test sets\n",
        "lat_X_train, lat_X_test, lat_y_train, lat_y_test= train_test_split(\n",
        "    lat_features, lat_target, train_size=0.80, test_size=0.20, random_state= 40)"
      ],
      "execution_count": 0,
      "outputs": []
    },
    {
      "cell_type": "code",
      "metadata": {
        "id": "h-DyjKvriAU_",
        "colab_type": "code",
        "colab": {}
      },
      "source": [
        "#split long data into train and test sets\n",
        "long_X_train, long_X_test, long_y_train, long_y_test= train_test_split(\n",
        "    long_features, long_target, train_size=0.80, test_size=0.20, random_state= 40)"
      ],
      "execution_count": 0,
      "outputs": []
    },
    {
      "cell_type": "code",
      "metadata": {
        "id": "Drkbu8iVqsX4",
        "colab_type": "code",
        "colab": {}
      },
      "source": [
        "#grabbed numeric and categoricals features for lat model\n",
        "lat_X_train_numeric= lat_X_train.select_dtypes('number')\n",
        "lat_X_train_cat= lat_X_train.select_dtypes(exclude='number')\n",
        "lat_X_test_numeric= lat_X_test.select_dtypes('number')\n",
        "lat_X_test_cat= lat_X_test.select_dtypes(exclude='number')"
      ],
      "execution_count": 0,
      "outputs": []
    },
    {
      "cell_type": "code",
      "metadata": {
        "id": "R3mhnD-lix_J",
        "colab_type": "code",
        "colab": {}
      },
      "source": [
        "#grab numeric and catergorical features for long model\n",
        "long_X_train_numeric= long_X_train.select_dtypes('number')\n",
        "long_X_train_cat= long_X_train.select_dtypes(exclude='number')\n",
        "long_X_test_numeric= long_X_test.select_dtypes('number')\n",
        "long_X_test_cat= long_X_test.select_dtypes(exclude='number')"
      ],
      "execution_count": 0,
      "outputs": []
    },
    {
      "cell_type": "code",
      "metadata": {
        "id": "jF37UtSejAMx",
        "colab_type": "code",
        "colab": {}
      },
      "source": [
        "#grab numerical and categorical for train features\n",
        "train_features_cat= train_features.select_dtypes(exclude='number')\n",
        "train_features_numeric= train_features.select_dtypes('number')\n",
        "test_features_numeric= test_features.select_dtypes('number')\n",
        "test_features_cat= test_features.select_dtypes(exclude='number')"
      ],
      "execution_count": 0,
      "outputs": []
    },
    {
      "cell_type": "code",
      "metadata": {
        "id": "mobZvnVPsE6T",
        "colab_type": "code",
        "colab": {}
      },
      "source": [
        "#Ordinally encoding lat train and test features\n",
        "encoder= ce.OrdinalEncoder()\n",
        "lat_X_train_encoded= encoder.fit_transform(lat_X_train_cat)\n",
        "lat_X_test_encoded= encoder.transform(lat_X_test_cat)\n"
      ],
      "execution_count": 0,
      "outputs": []
    },
    {
      "cell_type": "code",
      "metadata": {
        "id": "i3zvFCVnjFbb",
        "colab_type": "code",
        "colab": {}
      },
      "source": [
        "#same encoder on long features\n",
        "long_X_train_encoded= encoder.transform(long_X_train_cat)\n",
        "long_X_test_encoded= encoder.transform(long_X_test_cat)"
      ],
      "execution_count": 0,
      "outputs": []
    },
    {
      "cell_type": "code",
      "metadata": {
        "id": "KojuF7ijjFxE",
        "colab_type": "code",
        "colab": {}
      },
      "source": [
        "#encoder on main features\n",
        "train_features_encoded= encoder.transform(train_features_cat)\n",
        "test_features_encoded= encoder.transform(test_features_cat)"
      ],
      "execution_count": 0,
      "outputs": []
    },
    {
      "cell_type": "code",
      "metadata": {
        "id": "7gaAYRvftP1T",
        "colab_type": "code",
        "colab": {}
      },
      "source": [
        "#combining numeric and catergorical for lat\n",
        "lat_X_train_final= pd.concat([lat_X_train_encoded,lat_X_train_numeric], axis=1)\n",
        "lat_X_test_final= pd.concat([lat_X_test_encoded, lat_X_test_numeric],axis=1)"
      ],
      "execution_count": 0,
      "outputs": []
    },
    {
      "cell_type": "code",
      "metadata": {
        "id": "eSbdEkO0jTJB",
        "colab_type": "code",
        "colab": {}
      },
      "source": [
        "#combining numeric and categorical for long\n",
        "long_X_train_final= pd.concat([long_X_train_encoded,long_X_train_numeric], axis=1)\n",
        "long_X_test_final= pd.concat([long_X_test_encoded, long_X_test_numeric],axis=1)"
      ],
      "execution_count": 0,
      "outputs": []
    },
    {
      "cell_type": "code",
      "metadata": {
        "id": "m7HA_HUKjTSe",
        "colab_type": "code",
        "colab": {}
      },
      "source": [
        "#combining numeric and categorical for train features\n",
        "train_features_final=pd.concat([train_features_encoded, train_features_numeric], axis=1)\n",
        "test_features_final= pd.concat([test_features_encoded, test_features_numeric], axis=1)"
      ],
      "execution_count": 0,
      "outputs": []
    },
    {
      "cell_type": "code",
      "metadata": {
        "id": "ZEgo_HoMsgc4",
        "colab_type": "code",
        "outputId": "e3e287dd-968e-4abd-ed0d-da7d8316c33d",
        "colab": {
          "base_uri": "https://localhost:8080/",
          "height": 34
        }
      },
      "source": [
        "#Random forest regressor for predicting lattitude\n",
        "lat_forest= RandomForestRegressor(n_estimators= 10, random_state= 40)\n",
        "lat_forest.fit(lat_X_train_final, lat_y_train)\n",
        "y_pred= lat_forest.predict(lat_X_test_final)\n",
        "mean_absolute_error(lat_y_test, y_pred), r2_score(lat_y_test, y_pred)"
      ],
      "execution_count": 22,
      "outputs": [
        {
          "output_type": "execute_result",
          "data": {
            "text/plain": [
              "(0.020409740506724717, 0.999750678529952)"
            ]
          },
          "metadata": {
            "tags": []
          },
          "execution_count": 22
        }
      ]
    },
    {
      "cell_type": "code",
      "metadata": {
        "id": "vsP85KM-cQ8T",
        "colab_type": "code",
        "colab": {
          "base_uri": "https://localhost:8080/",
          "height": 34
        },
        "outputId": "bda5dda3-fafa-42f2-e0ee-852cc693dcaa"
      },
      "source": [
        "#Random Forest Regressor for predicting longitude\n",
        "long_forest= RandomForestRegressor(n_estimators= 10, random_state= 40)\n",
        "long_forest.fit(long_X_train_final, long_y_train)\n",
        "y_pred= long_forest.predict(long_X_test_final)\n",
        "mean_absolute_error(long_y_test, y_pred), r2_score(long_y_test, y_pred)"
      ],
      "execution_count": 23,
      "outputs": [
        {
          "output_type": "execute_result",
          "data": {
            "text/plain": [
              "(0.021300283078098267, 0.9996840144571777)"
            ]
          },
          "metadata": {
            "tags": []
          },
          "execution_count": 23
        }
      ]
    },
    {
      "cell_type": "code",
      "metadata": {
        "id": "txjGrvNynJNB",
        "colab_type": "code",
        "colab": {}
      },
      "source": [
        "train_features_final.drop(columns=['latitude'], inplace=True)\n",
        "test_features_final.drop(columns=['latitude'], inplace=True)"
      ],
      "execution_count": 0,
      "outputs": []
    },
    {
      "cell_type": "code",
      "metadata": {
        "id": "n356N_YZnTCF",
        "colab_type": "code",
        "colab": {}
      },
      "source": [
        "lat_pred= lat_forest.predict(train_features_final)\n",
        "lat_pred2= lat_forest.predict(test_features_final)"
      ],
      "execution_count": 0,
      "outputs": []
    },
    {
      "cell_type": "code",
      "metadata": {
        "id": "0_7FNj-RnRuL",
        "colab_type": "code",
        "colab": {}
      },
      "source": [
        "train_features_final['latitude']= lat_pred\n",
        "test_features_final['latitude']= lat_pred2"
      ],
      "execution_count": 0,
      "outputs": []
    },
    {
      "cell_type": "code",
      "metadata": {
        "id": "jzQ6zEGmn2i7",
        "colab_type": "code",
        "colab": {}
      },
      "source": [
        "train_features_final.drop(columns=['longitude'], inplace=True)\n",
        "test_features_final.drop(columns=['longitude'], inplace=True)"
      ],
      "execution_count": 0,
      "outputs": []
    },
    {
      "cell_type": "code",
      "metadata": {
        "id": "3cb7w0XXoPSw",
        "colab_type": "code",
        "colab": {}
      },
      "source": [
        "long_pred= long_forest.predict(train_features_final)\n",
        "long_pred2= long_forest.predict(test_features_final)"
      ],
      "execution_count": 0,
      "outputs": []
    },
    {
      "cell_type": "code",
      "metadata": {
        "id": "k70cw5FGoUvq",
        "colab_type": "code",
        "colab": {}
      },
      "source": [
        "train_features_final['longitude']= long_pred\n",
        "test_features_final['longitude']= long_pred2"
      ],
      "execution_count": 0,
      "outputs": []
    },
    {
      "cell_type": "markdown",
      "metadata": {
        "id": "pB-zzUuaW9oE",
        "colab_type": "text"
      },
      "source": [
        "## Feature Engineering Gps Height(helped decision tree, but not forest)"
      ]
    },
    {
      "cell_type": "code",
      "metadata": {
        "id": "34-uucZtXEhe",
        "colab_type": "code",
        "colab": {}
      },
      "source": [
        "gps_train_features= train_features_final.copy()\n",
        "gps_test_features= test_features_final.copy()"
      ],
      "execution_count": 0,
      "outputs": []
    },
    {
      "cell_type": "code",
      "metadata": {
        "id": "pMf4FN-GXej6",
        "colab_type": "code",
        "colab": {}
      },
      "source": [
        "gps_features= gps_train_features[gps_train_features['gps_height']!=0]\n",
        "gps_target= gps_features['gps_height']"
      ],
      "execution_count": 0,
      "outputs": []
    },
    {
      "cell_type": "code",
      "metadata": {
        "id": "2lX5z8fpX8zP",
        "colab_type": "code",
        "colab": {}
      },
      "source": [
        "gps_features.drop(columns=['gps_height'], inplace=True)"
      ],
      "execution_count": 0,
      "outputs": []
    },
    {
      "cell_type": "code",
      "metadata": {
        "id": "lOA8IBrxYNu9",
        "colab_type": "code",
        "colab": {}
      },
      "source": [
        "X_train, X_test, y_train, y_test= train_test_split(\n",
        "    gps_features, gps_target, train_size=0.80, test_size=0.20, random_state= 40)"
      ],
      "execution_count": 0,
      "outputs": []
    },
    {
      "cell_type": "code",
      "metadata": {
        "id": "6e6DRAFJYYzZ",
        "colab_type": "code",
        "colab": {
          "base_uri": "https://localhost:8080/",
          "height": 34
        },
        "outputId": "54849112-61de-4b50-8d6a-e0f37ddf8f38"
      },
      "source": [
        "#Random forest regressor for predicting gps_height\n",
        "gps_forest= RandomForestRegressor(n_estimators= 10, random_state= 40)\n",
        "gps_forest.fit(X_train, y_train)\n",
        "y_pred= gps_forest.predict(X_test)\n",
        "mean_absolute_error(y_test, y_pred), r2_score(y_test, y_pred)"
      ],
      "execution_count": 35,
      "outputs": [
        {
          "output_type": "execute_result",
          "data": {
            "text/plain": [
              "(27.91266521237008, 0.9921101345794895)"
            ]
          },
          "metadata": {
            "tags": []
          },
          "execution_count": 35
        }
      ]
    },
    {
      "cell_type": "code",
      "metadata": {
        "id": "TYFUrQ7dY0e0",
        "colab_type": "code",
        "colab": {}
      },
      "source": [
        "train_features_final.drop(columns=['gps_height'], inplace=True)"
      ],
      "execution_count": 0,
      "outputs": []
    },
    {
      "cell_type": "code",
      "metadata": {
        "id": "5I5bu4f4ZJLX",
        "colab_type": "code",
        "colab": {}
      },
      "source": [
        "gps_pred= gps_forest.predict(train_features_final)"
      ],
      "execution_count": 0,
      "outputs": []
    },
    {
      "cell_type": "code",
      "metadata": {
        "id": "znHjUzO3ZPMl",
        "colab_type": "code",
        "colab": {}
      },
      "source": [
        "train_features_final['gps_height']= gps_pred-26"
      ],
      "execution_count": 0,
      "outputs": []
    },
    {
      "cell_type": "markdown",
      "metadata": {
        "id": "D6XmIkp-Ab2o",
        "colab_type": "text"
      },
      "source": [
        "## Feature Engineering Population(waste)\n"
      ]
    },
    {
      "cell_type": "code",
      "metadata": {
        "id": "jjgGMPS1ABpn",
        "colab_type": "code",
        "colab": {}
      },
      "source": [
        "test_features_pop= test_features_final.copy()\n",
        "train_features_pop= train_features_final.copy()"
      ],
      "execution_count": 0,
      "outputs": []
    },
    {
      "cell_type": "code",
      "metadata": {
        "id": "4T_KoCJKAlkJ",
        "colab_type": "code",
        "colab": {}
      },
      "source": [
        "pop_features= train_features_pop[train_features_pop['population']!= 0]\n",
        "pop_target= pop_features['population']\n",
        "pop_features.drop(columns=['population'], inplace=True)"
      ],
      "execution_count": 0,
      "outputs": []
    },
    {
      "cell_type": "code",
      "metadata": {
        "id": "TCevSCGHBSNt",
        "colab_type": "code",
        "colab": {}
      },
      "source": [
        "pop_X_train, pop_X_test, pop_y_train, pop_y_test= train_test_split(\n",
        "    pop_features, pop_target, train_size=0.80, test_size=0.20, random_state= 40)"
      ],
      "execution_count": 0,
      "outputs": []
    },
    {
      "cell_type": "code",
      "metadata": {
        "id": "XfMPXOnc-6ft",
        "colab_type": "code",
        "colab": {
          "base_uri": "https://localhost:8080/",
          "height": 34
        },
        "outputId": "eb5fc073-9db4-4165-af51-1ec3bbc5b093"
      },
      "source": [
        "pop_forest= RandomForestRegressor(n_estimators= 10, random_state= 40)\n",
        "pop_forest.fit(pop_X_train, pop_y_train)\n",
        "y_pred= pop_forest.predict(pop_X_test)\n",
        "mean_absolute_error(pop_y_test, y_pred), r2_score(pop_y_test, y_pred)"
      ],
      "execution_count": 40,
      "outputs": [
        {
          "output_type": "execute_result",
          "data": {
            "text/plain": [
              "(165.37902419779064, 0.3268915401674023)"
            ]
          },
          "metadata": {
            "tags": []
          },
          "execution_count": 40
        }
      ]
    },
    {
      "cell_type": "code",
      "metadata": {
        "id": "3PzkH6Q0By4g",
        "colab_type": "code",
        "colab": {}
      },
      "source": [
        "pop_pred= pop_forest.predict(train_features_final)\n",
        "pop_pred2= pop_forest.predict(test_features_final)"
      ],
      "execution_count": 0,
      "outputs": []
    },
    {
      "cell_type": "markdown",
      "metadata": {
        "id": "Woh1P9-OMRjc",
        "colab_type": "text"
      },
      "source": [
        "## Train Test Split"
      ]
    },
    {
      "cell_type": "code",
      "metadata": {
        "id": "duKonwn28pzI",
        "colab_type": "code",
        "colab": {}
      },
      "source": [
        "#Split training data(with pred lat and long)\n",
        "X_train_features= train_features_final.copy()\n",
        "X_train_features.drop(columns=['recorded_by', 'date_recorded', 'wpt_name'], inplace=True)\n",
        "y_train_target= train_labels['status_group']\n",
        "\n",
        "X_train, X_test, y_train, y_test= train_test_split(\n",
        "    X_train_features, y_train_target, train_size=0.80, test_size=0.20,random_state= 40, stratify= y_train_target)"
      ],
      "execution_count": 0,
      "outputs": []
    },
    {
      "cell_type": "code",
      "metadata": {
        "id": "WIkm5g1yII5v",
        "colab_type": "code",
        "colab": {}
      },
      "source": [
        "#Split training data(without pred lat and long)\n",
        "X_train_features= train_features.copy()\n",
        "X_train_features.drop(columns=['recorded_by', 'id', 'date_recorded'], inplace=True)\n",
        "y_train_target= train_labels['status_group']\n",
        "\n",
        "X_train, X_test, y_train, y_test= train_test_split(\n",
        "    X_train_features, y_train_target, train_size=0.80, test_size=0.20,random_state= 40, stratify= y_train_target)"
      ],
      "execution_count": 0,
      "outputs": []
    },
    {
      "cell_type": "code",
      "metadata": {
        "id": "KbJluc5ge2cT",
        "colab_type": "code",
        "colab": {}
      },
      "source": [
        "#dropping columns on test features\n",
        "test_features_final.drop(columns=['recorded_by', 'date_recorded', 'wpt_name'], inplace=True)"
      ],
      "execution_count": 0,
      "outputs": []
    },
    {
      "cell_type": "markdown",
      "metadata": {
        "id": "JInYsXvTA6Be",
        "colab_type": "text"
      },
      "source": [
        "## Models"
      ]
    },
    {
      "cell_type": "code",
      "metadata": {
        "id": "H4mc3F969ZS7",
        "colab_type": "code",
        "colab": {}
      },
      "source": [
        "#standarize features\n",
        "scaler=StandardScaler()\n",
        "X_train_scaled= scaler.fit_transform(X_train)\n",
        "X_test_scaled= scaler.transform(X_test)"
      ],
      "execution_count": 0,
      "outputs": []
    },
    {
      "cell_type": "code",
      "metadata": {
        "id": "kuIjDck09auc",
        "colab_type": "code",
        "outputId": "26bace85-6a0d-496f-d7d6-87c6a1dcc84d",
        "colab": {
          "base_uri": "https://localhost:8080/",
          "height": 34
        }
      },
      "source": [
        "#logistic regression model\n",
        "model= LogisticRegression(solver='lbfgs', multi_class= 'auto', max_iter=1000)\n",
        "model.fit(X_train_scaled, y_train)\n",
        "y_pred= model.predict(X_test_scaled)\n",
        "accuracy_score(y_test, y_pred)"
      ],
      "execution_count": 40,
      "outputs": [
        {
          "output_type": "execute_result",
          "data": {
            "text/plain": [
              "0.695959595959596"
            ]
          },
          "metadata": {
            "tags": []
          },
          "execution_count": 40
        }
      ]
    },
    {
      "cell_type": "code",
      "metadata": {
        "id": "qs5TCtgk89ds",
        "colab_type": "code",
        "outputId": "59bfaf4c-7925-4860-9668-9056779639ec",
        "colab": {
          "base_uri": "https://localhost:8080/",
          "height": 34
        }
      },
      "source": [
        "#decision tree\n",
        "dt= DecisionTreeClassifier(random_state= 40, max_depth=38)\n",
        "dt.fit(X_train, y_train)\n",
        "dt.score(X_test, y_test)"
      ],
      "execution_count": 118,
      "outputs": [
        {
          "output_type": "execute_result",
          "data": {
            "text/plain": [
              "0.7441919191919192"
            ]
          },
          "metadata": {
            "tags": []
          },
          "execution_count": 118
        }
      ]
    },
    {
      "cell_type": "code",
      "metadata": {
        "id": "yO0CTZ-4EHWl",
        "colab_type": "code",
        "outputId": "da9375a3-89a1-42d9-b243-7444acf4596b",
        "colab": {
          "base_uri": "https://localhost:8080/",
          "height": 34
        }
      },
      "source": [
        "#random forest\n",
        "forest= RandomForestClassifier(n_estimators= 250, random_state=40)\n",
        "forest.fit(X_train, y_train)\n",
        "forest.score(X_test, y_test)"
      ],
      "execution_count": 126,
      "outputs": [
        {
          "output_type": "execute_result",
          "data": {
            "text/plain": [
              "0.8136363636363636"
            ]
          },
          "metadata": {
            "tags": []
          },
          "execution_count": 126
        }
      ]
    },
    {
      "cell_type": "code",
      "metadata": {
        "id": "mhemLdaj9toZ",
        "colab_type": "code",
        "colab": {
          "base_uri": "https://localhost:8080/",
          "height": 34
        },
        "outputId": "7328b4cd-8c07-4e89-f4ef-1b3e72a30d07"
      },
      "source": [
        "#extra trees classifier\n",
        "extra= ExtraTreesClassifier(n_estimators= 100)\n",
        "extra.fit(X_train, y_train)\n",
        "extra.score(X_test, y_test)"
      ],
      "execution_count": 125,
      "outputs": [
        {
          "output_type": "execute_result",
          "data": {
            "text/plain": [
              "0.7992424242424242"
            ]
          },
          "metadata": {
            "tags": []
          },
          "execution_count": 125
        }
      ]
    },
    {
      "cell_type": "code",
      "metadata": {
        "id": "ht0hJv8EWqXZ",
        "colab_type": "code",
        "colab": {
          "base_uri": "https://localhost:8080/",
          "height": 632
        },
        "outputId": "abf79082-95be-4a91-9137-6dea6253c8cb"
      },
      "source": [
        "#plotting importances of random forest\n",
        "importances= pd.Series(forest.feature_importances_, X_train.columns)\n",
        "fig= plt.figure(figsize=(20,10))\n",
        "importances.sort_values().plot.barh()\n",
        "plt.title('Feature Importances for Random Forest Model', fontsize=20)\n",
        "plt.xlabel('Percentage of importance', fontsize=15)\n",
        "plt.ylabel('Features', fontsize=15);"
      ],
      "execution_count": 49,
      "outputs": [
        {
          "output_type": "display_data",
          "data": {
            "image/png": "[encoded data removed]",
            "text/plain": [
              "<Figure size 1440x720 with 1 Axes>"
            ]
          },
          "metadata": {
            "tags": []
          }
        }
      ]
    },
    {
      "cell_type": "code",
      "metadata": {
        "id": "cmIAPvyOQG8C",
        "colab_type": "code",
        "colab": {}
      },
      "source": [
        "#gradient boosting\n",
        "model= GradientBoostingClassifier(max_depth= 5, random_state=40, n_estimators=100)\n",
        "model.fit(X_train, y_train)\n",
        "model.score(X_test, y_test)"
      ],
      "execution_count": 0,
      "outputs": []
    },
    {
      "cell_type": "code",
      "metadata": {
        "id": "xvwKyW1hNOa0",
        "colab_type": "code",
        "colab": {
          "base_uri": "https://localhost:8080/",
          "height": 34
        },
        "outputId": "5ee3e766-c924-42b0-b2e9-881af799dafa"
      },
      "source": [
        "#new model from sklearn\n",
        "model= HistGradientBoostingClassifier(max_leaf_nodes= 50, max_iter=1000, learning_rate= 0.1, min_samples_leaf=250, random_state= 40)\n",
        "model.fit(X_train, y_train)\n",
        "model.score(X_test, y_test)"
      ],
      "execution_count": 84,
      "outputs": [
        {
          "output_type": "execute_result",
          "data": {
            "text/plain": [
              "0.7923400673400673"
            ]
          },
          "metadata": {
            "tags": []
          },
          "execution_count": 84
        }
      ]
    },
    {
      "cell_type": "markdown",
      "metadata": {
        "id": "So4KBRmqNLZz",
        "colab_type": "text"
      },
      "source": [
        "## Submission Stuff"
      ]
    },
    {
      "cell_type": "code",
      "metadata": {
        "id": "46q7ObF9wUBP",
        "colab_type": "code",
        "colab": {}
      },
      "source": [
        "y_pred= forest.predict(test_features_final)"
      ],
      "execution_count": 0,
      "outputs": []
    },
    {
      "cell_type": "code",
      "metadata": {
        "id": "NXBcPV25yMDY",
        "colab_type": "code",
        "colab": {}
      },
      "source": [
        "sample_sub['status_group']= y_pred"
      ],
      "execution_count": 0,
      "outputs": []
    },
    {
      "cell_type": "code",
      "metadata": {
        "id": "rUoBOCLcNmTO",
        "colab_type": "code",
        "colab": {}
      },
      "source": [
        "sample_sub.to_csv('sample_sub.csv', index=False)"
      ],
      "execution_count": 0,
      "outputs": []
    },
    {
      "cell_type": "code",
      "metadata": {
        "id": "PHUYGx93NpFa",
        "colab_type": "code",
        "colab": {}
      },
      "source": [
        "files.download('sample_sub.csv')"
      ],
      "execution_count": 0,
      "outputs": []
    }
  ]
}