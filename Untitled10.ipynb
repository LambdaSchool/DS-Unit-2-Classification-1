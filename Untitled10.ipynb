{
  "nbformat": 4,
  "nbformat_minor": 0,
  "metadata": {
    "colab": {
      "name": "Untitled10.ipynb",
      "version": "0.3.2",
      "provenance": [],
      "collapsed_sections": [],
      "include_colab_link": true
    },
    "kernelspec": {
      "name": "python3",
      "display_name": "Python 3"
    }
  },
  "cells": [
    {
      "cell_type": "markdown",
      "metadata": {
        "id": "view-in-github",
        "colab_type": "text"
      },
      "source": [
        "<a href=\"https://colab.research.google.com/github/alvinwalker314/DS-Unit-2-Classification-1/blob/master/Untitled10.ipynb\" target=\"_parent\"><img src=\"https://colab.research.google.com/assets/colab-badge.svg\" alt=\"Open In Colab\"/></a>"
      ]
    },
    {
      "cell_type": "code",
      "metadata": {
        "id": "njyk81Jy8M7I",
        "colab_type": "code",
        "colab": {
          "base_uri": "https://localhost:8080/",
          "height": 210
        },
        "outputId": "095d5ed7-8462-4ced-b850-7ab8c011c856"
      },
      "source": [
        "!pip install category_encoders"
      ],
      "execution_count": 1,
      "outputs": [
        {
          "output_type": "stream",
          "text": [
            "Requirement already satisfied: category_encoders in /usr/local/lib/python3.6/dist-packages (2.0.0)\n",
            "Requirement already satisfied: pandas>=0.21.1 in /usr/local/lib/python3.6/dist-packages (from category_encoders) (0.24.2)\n",
            "Requirement already satisfied: scikit-learn>=0.20.0 in /usr/local/lib/python3.6/dist-packages (from category_encoders) (0.21.2)\n",
            "Requirement already satisfied: statsmodels>=0.6.1 in /usr/local/lib/python3.6/dist-packages (from category_encoders) (0.9.0)\n",
            "Requirement already satisfied: patsy>=0.4.1 in /usr/local/lib/python3.6/dist-packages (from category_encoders) (0.5.1)\n",
            "Requirement already satisfied: numpy>=1.11.3 in /usr/local/lib/python3.6/dist-packages (from category_encoders) (1.16.4)\n",
            "Requirement already satisfied: scipy>=0.19.0 in /usr/local/lib/python3.6/dist-packages (from category_encoders) (1.3.0)\n",
            "Requirement already satisfied: python-dateutil>=2.5.0 in /usr/local/lib/python3.6/dist-packages (from pandas>=0.21.1->category_encoders) (2.5.3)\n",
            "Requirement already satisfied: pytz>=2011k in /usr/local/lib/python3.6/dist-packages (from pandas>=0.21.1->category_encoders) (2018.9)\n",
            "Requirement already satisfied: joblib>=0.11 in /usr/local/lib/python3.6/dist-packages (from scikit-learn>=0.20.0->category_encoders) (0.13.2)\n",
            "Requirement already satisfied: six in /usr/local/lib/python3.6/dist-packages (from patsy>=0.4.1->category_encoders) (1.12.0)\n"
          ],
          "name": "stdout"
        }
      ]
    },
    {
      "cell_type": "code",
      "metadata": {
        "id": "ahq48j5X7-l4",
        "colab_type": "code",
        "colab": {}
      },
      "source": [
        "from sklearn.tree import DecisionTreeClassifier\n",
        "from sklearn.ensemble import RandomForestClassifier\n",
        "from sklearn.linear_model import LogisticRegression\n",
        "from sklearn.metrics import mean_absolute_error, r2_score\n",
        "import pandas as pd\n",
        "import matplotlib.pyplot as plt\n",
        "import numpy as np\n",
        "import category_encoders as ce\n",
        "from sklearn.preprocessing import StandardScaler\n",
        "from sklearn.model_selection import train_test_split\n",
        "from sklearn.metrics import accuracy_score\n",
        "from google.colab import files"
      ],
      "execution_count": 0,
      "outputs": []
    },
    {
      "cell_type": "code",
      "metadata": {
        "id": "iBZ9Ju5P8BlR",
        "colab_type": "code",
        "colab": {}
      },
      "source": [
        "sample_sub= pd.read_csv('https://raw.githubusercontent.com/alvinwalker314/DS-Unit-2-Classification-1/master/sample_submission.csv')\n",
        "test_features= pd.read_csv('https://raw.githubusercontent.com/alvinwalker314/DS-Unit-2-Classification-1/master/test_features.csv')\n",
        "train_features= pd.read_csv('https://raw.githubusercontent.com/alvinwalker314/DS-Unit-2-Classification-1/master/train_features.csv')\n",
        "train_labels= pd.read_csv('https://raw.githubusercontent.com/alvinwalker314/DS-Unit-2-Classification-1/master/train_labels.csv')\n",
        "# pd.set_option('display.float_format', '{:.2f}'.format)"
      ],
      "execution_count": 0,
      "outputs": []
    },
    {
      "cell_type": "code",
      "metadata": {
        "id": "vO6NhHRg8a_3",
        "colab_type": "code",
        "colab": {}
      },
      "source": [
        "#Replace any -0 caused by changing scientific notation to floats\n"
      ],
      "execution_count": 0,
      "outputs": []
    },
    {
      "cell_type": "code",
      "metadata": {
        "id": "cPQFytLkZzz4",
        "colab_type": "code",
        "colab": {}
      },
      "source": [
        "def change(data):\n",
        "  if data < 0.01 and data > -0.01:\n",
        "    data= 0\n",
        "  return data\n",
        "  "
      ],
      "execution_count": 0,
      "outputs": []
    },
    {
      "cell_type": "code",
      "metadata": {
        "id": "-_cjlCqvkXlC",
        "colab_type": "code",
        "colab": {}
      },
      "source": [
        "train_features['latitude']= train_features['latitude'].apply(change)\n",
        "train_features['longitude']= train_features['longitude'].apply(change)\n",
        "test_features['longitude']= test_features['latitude'].apply(change)\n",
        "test_features['longitude']= test_features['longitude'].apply(change)"
      ],
      "execution_count": 0,
      "outputs": []
    },
    {
      "cell_type": "code",
      "metadata": {
        "id": "nAVcvgXIk1OA",
        "colab_type": "code",
        "colab": {}
      },
      "source": [
        "y_train= train_features['latitude']\n",
        "y_train1= train_features['longitude']\n",
        "train_features.drop(columns= ['latitude', 'longitude'], inplace=True)"
      ],
      "execution_count": 0,
      "outputs": []
    },
    {
      "cell_type": "code",
      "metadata": {
        "id": "0a9wwZnSpwnS",
        "colab_type": "code",
        "colab": {}
      },
      "source": [
        "X_train= train_features\n",
        "\n",
        "X_train, X_test, y_train, y_test= train_test_split(\n",
        "    X_train, y_train, train_size=0.80, test_size=0.20, random_state= 40)"
      ],
      "execution_count": 0,
      "outputs": []
    },
    {
      "cell_type": "code",
      "metadata": {
        "id": "b9-um383yRK_",
        "colab_type": "code",
        "colab": {}
      },
      "source": [
        ""
      ],
      "execution_count": 0,
      "outputs": []
    },
    {
      "cell_type": "code",
      "metadata": {
        "id": "Drkbu8iVqsX4",
        "colab_type": "code",
        "colab": {}
      },
      "source": [
        "X_train_numeric= X_train.select_dtypes('number')\n",
        "X_train_cat= X_train.select_dtypes(exclude='number')\n",
        "X_test_numeric= X_test.select_dtypes('number')\n",
        "X_test_cat= X_test.select_dtypes(exclude='number')\n"
      ],
      "execution_count": 0,
      "outputs": []
    },
    {
      "cell_type": "code",
      "metadata": {
        "id": "mobZvnVPsE6T",
        "colab_type": "code",
        "colab": {}
      },
      "source": [
        "encoder= ce.OrdinalEncoder()\n",
        "X_train_encoded= encoder.fit_transform(X_train_cat)\n",
        "X_test_encoded= encoder.transform(X_test_cat)"
      ],
      "execution_count": 0,
      "outputs": []
    },
    {
      "cell_type": "code",
      "metadata": {
        "id": "7gaAYRvftP1T",
        "colab_type": "code",
        "colab": {}
      },
      "source": [
        "X_train_final= pd.concat([X_train_encoded,X_train_numeric], axis=1)\n",
        "X_test_final= pd.concat([X_test_encoded, X_test_numeric],axis=1)"
      ],
      "execution_count": 0,
      "outputs": []
    },
    {
      "cell_type": "code",
      "metadata": {
        "id": "ZEgo_HoMsgc4",
        "colab_type": "code",
        "colab": {
          "base_uri": "https://localhost:8080/",
          "height": 34
        },
        "outputId": "a26d1011-0ac3-462f-84a6-a87e919d7ca6"
      },
      "source": [
        "forest= RandomForestRegressor(n_estimators= 10, random_state= 40)\n",
        "forest.fit(X_train_final, y_train)\n",
        "lat_pred= forest.predict(X_test_final)\n",
        "mean_absolute_error(y_test, lat_pred), r2_score(y_test, lat_pred)"
      ],
      "execution_count": 564,
      "outputs": [
        {
          "output_type": "execute_result",
          "data": {
            "text/plain": [
              "(0.055362249982982996, 0.9959533059421465)"
            ]
          },
          "metadata": {
            "tags": []
          },
          "execution_count": 564
        }
      ]
    },
    {
      "cell_type": "code",
      "metadata": {
        "id": "ZwlL-KRzxdjE",
        "colab_type": "code",
        "colab": {
          "base_uri": "https://localhost:8080/",
          "height": 34
        },
        "outputId": "6855bb71-d5fa-4c12-ab4a-9c723872f320"
      },
      "source": [
        ""
      ],
      "execution_count": 570,
      "outputs": [
        {
          "output_type": "execute_result",
          "data": {
            "text/plain": [
              "-7.674921010599999"
            ]
          },
          "metadata": {
            "tags": []
          },
          "execution_count": 570
        }
      ]
    },
    {
      "cell_type": "code",
      "metadata": {
        "id": "ydmZ5oQ-xuyK",
        "colab_type": "code",
        "colab": {}
      },
      "source": [
        ""
      ],
      "execution_count": 0,
      "outputs": []
    },
    {
      "cell_type": "code",
      "metadata": {
        "id": "duKonwn28pzI",
        "colab_type": "code",
        "colab": {}
      },
      "source": [
        "#Split training data\n",
        "X_train= train_features\n",
        "y_train= train_labels['status_group']\n",
        "\n",
        "X_train, X_test, y_train, y_test= train_test_split(\n",
        "    X_train, y_train, train_size=0.80, test_size=0.20,random_state= 40, stratify= y_train)"
      ],
      "execution_count": 0,
      "outputs": []
    },
    {
      "cell_type": "markdown",
      "metadata": {
        "id": "JInYsXvTA6Be",
        "colab_type": "text"
      },
      "source": [
        "## Numeric, Categorical, and combined Data"
      ]
    },
    {
      "cell_type": "code",
      "metadata": {
        "id": "Hgm6nLt48zM9",
        "colab_type": "code",
        "colab": {}
      },
      "source": [
        "#numeric features\n",
        "X_train_numeric= X_train.select_dtypes('number')\n",
        "X_test_numeric= X_test.select_dtypes('number')\n",
        "test_features_numeric= test_features.select_dtypes('number')"
      ],
      "execution_count": 0,
      "outputs": []
    },
    {
      "cell_type": "code",
      "metadata": {
        "id": "ogprzPHF870Y",
        "colab_type": "code",
        "colab": {}
      },
      "source": [
        "#drop some numeric features\n",
        "X_train_numeric= X_train_numeric.drop(columns=['id', 'num_private'])\n",
        "X_test_numeric= X_test_numeric.drop(columns=['id', 'num_private'])\n",
        "test_features_numeric= test_features_numeric.drop(columns=['id', 'num_private'])"
      ],
      "execution_count": 0,
      "outputs": []
    },
    {
      "cell_type": "code",
      "metadata": {
        "id": "H4mc3F969ZS7",
        "colab_type": "code",
        "colab": {}
      },
      "source": [
        "#standarize numeric features\n",
        "scaler=StandardScaler()\n",
        "X_train_scaled= scaler.fit_transform(X_train_numeric)\n",
        "X_test_scaled= scaler.transform(X_test_numeric)"
      ],
      "execution_count": 0,
      "outputs": []
    },
    {
      "cell_type": "code",
      "metadata": {
        "id": "8BVxma3O9iai",
        "colab_type": "code",
        "colab": {}
      },
      "source": [
        "#categorial features\n",
        "X_train_cat= X_train.select_dtypes(exclude='number')\n",
        "X_test_cat= X_test.select_dtypes(exclude='number')\n",
        "test_features_cat= test_features.select_dtypes(exclude='number')"
      ],
      "execution_count": 0,
      "outputs": []
    },
    {
      "cell_type": "code",
      "metadata": {
        "id": "XaPYn9tkDUJ-",
        "colab_type": "code",
        "colab": {}
      },
      "source": [
        "#Ordinal Encoding categorical features\n",
        "encoder= ce.OrdinalEncoder()\n",
        "X_train_ord_cat= encoder.fit_transform(X_train_cat)\n",
        "X_test_ord_cat= encoder.transform(X_test_cat)\n",
        "test_features_ord_cat= encoder.transform(test_features_cat)"
      ],
      "execution_count": 0,
      "outputs": []
    },
    {
      "cell_type": "code",
      "metadata": {
        "id": "sE96Rhne9ozp",
        "colab_type": "code",
        "colab": {}
      },
      "source": [
        "#drop some categorical features\n",
        "columns= ['recorded_by', 'extraction_type_group', 'extraction_type_class', 'management', 'quantity_group', 'quality_group', 'source_class', 'payment', 'source_type','wpt_name', 'subvillage', 'scheme_name', 'ward', 'installer']\n",
        "X_train_cat= X_train_cat.drop(columns= columns)\n",
        "X_test_cat= X_test_cat.drop(columns= columns)\n",
        "test_features_cat= test_features_cat.drop(columns= columns)\n",
        "X_train_ord_cat= X_train_ord_cat.drop(columns=columns)\n",
        "X_test_ord_cat= X_test_ord_cat.drop(columns=columns)\n",
        "test_features_ord_cat= test_features_ord_cat.drop(columns=columns)"
      ],
      "execution_count": 0,
      "outputs": []
    },
    {
      "cell_type": "code",
      "metadata": {
        "id": "NSnaPChTTeLq",
        "colab_type": "code",
        "colab": {}
      },
      "source": [
        ""
      ],
      "execution_count": 0,
      "outputs": []
    },
    {
      "cell_type": "code",
      "metadata": {
        "id": "py-dZPeM9sSR",
        "colab_type": "code",
        "colab": {}
      },
      "source": [
        "#one hot encoding on categorical features\n",
        "encoder= ce.OneHotEncoder(use_cat_names=True)\n",
        "X_train_encoded= encoder.fit_transform(X_train_cat)\n",
        "X_test_encoded= encoder.transform(X_test_cat)\n",
        "test_features_encoded= encoder.transform(test_features_cat)"
      ],
      "execution_count": 0,
      "outputs": []
    },
    {
      "cell_type": "code",
      "metadata": {
        "id": "5NDxNnvV-M6Q",
        "colab_type": "code",
        "colab": {}
      },
      "source": [
        "#catergorical and numeric features\n",
        "X_train_final= pd.concat([X_train_encoded,X_train_numeric], axis=1)\n",
        "X_test_final= pd.concat([X_test_encoded, X_test_numeric],axis=1)\n",
        "test_features_final= pd.concat([test_features_encoded, test_features_numeric], axis=1)\n",
        "X_train_final1= pd.concat([X_train_ord_cat, X_train_numeric], axis=1)\n",
        "X_test_final1= pd.concat([X_test_ord_cat, X_test_numeric], axis=1)\n",
        "test_features_final1= pd.concat([test_features_ord_cat, test_features_numeric], axis=1)"
      ],
      "execution_count": 0,
      "outputs": []
    },
    {
      "cell_type": "code",
      "metadata": {
        "id": "TtJe1qXNAlbj",
        "colab_type": "code",
        "colab": {}
      },
      "source": [
        "#standardized catergorical and numeric features\n",
        "scaler= StandardScaler()\n",
        "X_train_final_scaled= scaler.fit_transform(X_train_final)\n",
        "X_test_final_scaled= scaler.transform(X_test_final)\n",
        "test_features_scaled= scaler.transform(test_features_final)"
      ],
      "execution_count": 0,
      "outputs": []
    },
    {
      "cell_type": "code",
      "metadata": {
        "id": "qs5TCtgk89ds",
        "colab_type": "code",
        "outputId": "bca3f1e8-7bf4-4b9d-f3c6-de6025c34a56",
        "colab": {
          "base_uri": "https://localhost:8080/",
          "height": 34
        }
      },
      "source": [
        "#decision tree for numeric features\n",
        "dt= DecisionTreeClassifier(random_state= 40)\n",
        "dt.fit(X_train_numeric, y_train)\n",
        "# y_pred= dt.predict(X_test_numeric)\n",
        "# accuracy_score(y_test,y_pred)\n",
        "dt.score(X_test_numeric, y_test)"
      ],
      "execution_count": 0,
      "outputs": [
        {
          "output_type": "execute_result",
          "data": {
            "text/plain": [
              "0.6692760942760942"
            ]
          },
          "metadata": {
            "tags": []
          },
          "execution_count": 311
        }
      ]
    },
    {
      "cell_type": "code",
      "metadata": {
        "id": "yO0CTZ-4EHWl",
        "colab_type": "code",
        "outputId": "4f787e3b-6d0f-4772-d99d-a4dd4e25020d",
        "colab": {
          "base_uri": "https://localhost:8080/",
          "height": 34
        }
      },
      "source": [
        "#random forest with numeric features\n",
        "forest= RandomForestClassifier(n_estimators= 100, random_state=40)\n",
        "forest.fit(X_train_numeric, y_train)\n",
        "forest.score(X_test_numeric, y_test)"
      ],
      "execution_count": 0,
      "outputs": [
        {
          "output_type": "execute_result",
          "data": {
            "text/plain": [
              "0.7239057239057239"
            ]
          },
          "metadata": {
            "tags": []
          },
          "execution_count": 312
        }
      ]
    },
    {
      "cell_type": "code",
      "metadata": {
        "id": "kuIjDck09auc",
        "colab_type": "code",
        "outputId": "35f10c5d-550b-4899-c448-1a92bbbaed00",
        "colab": {
          "base_uri": "https://localhost:8080/",
          "height": 34
        }
      },
      "source": [
        "#logistic regression model with numeric features\n",
        "model= LogisticRegression(solver='lbfgs', multi_class= 'auto', max_iter=1000)\n",
        "model.fit(X_train_scaled, y_train)\n",
        "y_pred= model.predict(X_test_scaled)\n",
        "accuracy_score(y_test, y_pred)"
      ],
      "execution_count": 0,
      "outputs": [
        {
          "output_type": "execute_result",
          "data": {
            "text/plain": [
              "0.5580808080808081"
            ]
          },
          "metadata": {
            "tags": []
          },
          "execution_count": 14
        }
      ]
    },
    {
      "cell_type": "code",
      "metadata": {
        "id": "DqbiPRcS9vgz",
        "colab_type": "code",
        "outputId": "3e03a10c-c130-46d5-f6d8-5224eecb84ee",
        "colab": {
          "base_uri": "https://localhost:8080/",
          "height": 34
        }
      },
      "source": [
        "#decision tree with categorical features(one hot encoded)\n",
        "dt= DecisionTreeClassifier(random_state= 25)\n",
        "dt.fit(X_train_encoded, y_train)\n",
        "# y_pred= dt.predict(X_test_encoded)\n",
        "# accuracy_score(y_pred, y_test)\n",
        "dt.score(X_test_encoded, y_test)"
      ],
      "execution_count": 0,
      "outputs": [
        {
          "output_type": "execute_result",
          "data": {
            "text/plain": [
              "0.7823232323232323"
            ]
          },
          "metadata": {
            "tags": []
          },
          "execution_count": 302
        }
      ]
    },
    {
      "cell_type": "code",
      "metadata": {
        "id": "37Ycj99CHnvt",
        "colab_type": "code",
        "outputId": "14a6b8d3-485f-4b85-88ef-50df78ea4458",
        "colab": {
          "base_uri": "https://localhost:8080/",
          "height": 34
        }
      },
      "source": [
        "#decision tree with categorical features(ordinal encoded)\n",
        "dt= DecisionTreeClassifier(random_state= 25)\n",
        "dt.fit(X_train_ord_cat, y_train)\n",
        "dt.score(X_test_ord_cat, y_test)"
      ],
      "execution_count": 0,
      "outputs": [
        {
          "output_type": "execute_result",
          "data": {
            "text/plain": [
              "0.697053872053872"
            ]
          },
          "metadata": {
            "tags": []
          },
          "execution_count": 56
        }
      ]
    },
    {
      "cell_type": "code",
      "metadata": {
        "id": "7Hlt878hIHWg",
        "colab_type": "code",
        "outputId": "1e19ce9a-9b03-44fa-83fd-530b28c66e4f",
        "colab": {
          "base_uri": "https://localhost:8080/",
          "height": 34
        }
      },
      "source": [
        "#random forest with categorical features(one hot encoded)\n",
        "forest= RandomForestClassifier(n_estimators= 100)\n",
        "forest.fit(X_train_encoded, y_train)\n",
        "forest.score(X_test_encoded, y_test)"
      ],
      "execution_count": 0,
      "outputs": [
        {
          "output_type": "execute_result",
          "data": {
            "text/plain": [
              "0.7934343434343434"
            ]
          },
          "metadata": {
            "tags": []
          },
          "execution_count": 64
        }
      ]
    },
    {
      "cell_type": "code",
      "metadata": {
        "id": "B8qRXuePIh9U",
        "colab_type": "code",
        "outputId": "a941cced-d2ea-40c4-fa06-89447a73652a",
        "colab": {
          "base_uri": "https://localhost:8080/",
          "height": 34
        }
      },
      "source": [
        "#random forest with categorical features(ordinal encoded)\n",
        "forest= RandomForestClassifier(n_estimators= 100)\n",
        "forest.fit(X_train_ord_cat, y_train)\n",
        "forest.score(X_test_ord_cat, y_test)"
      ],
      "execution_count": 0,
      "outputs": [
        {
          "output_type": "execute_result",
          "data": {
            "text/plain": [
              "0.789983164983165"
            ]
          },
          "metadata": {
            "tags": []
          },
          "execution_count": 60
        }
      ]
    },
    {
      "cell_type": "code",
      "metadata": {
        "id": "05bJr4tdGxt_",
        "colab_type": "code",
        "colab": {}
      },
      "source": [
        "#Random Forest with categorical features\n",
        "forest= RandomForestClassifier(n_estimators=100)\n",
        "forest.fit(X_train_cat_ord)"
      ],
      "execution_count": 0,
      "outputs": []
    },
    {
      "cell_type": "code",
      "metadata": {
        "id": "CjFC49Jo-H4W",
        "colab_type": "code",
        "outputId": "75b059af-9965-4ef0-85e9-b237d2b87615",
        "colab": {
          "base_uri": "https://localhost:8080/",
          "height": 34
        }
      },
      "source": [
        "#logistic regression model with categorical features\n",
        "model= LogisticRegression(solver='lbfgs', multi_class= 'auto', max_iter=1000)\n",
        "model.fit(X_train_encoded, y_train)\n",
        "# y_pred= model.predict(X_test_encoded)\n",
        "# accuracy_score(y_test, y_pred)\n",
        "model.score(X_test_encoded, y_test)"
      ],
      "execution_count": 0,
      "outputs": [
        {
          "output_type": "execute_result",
          "data": {
            "text/plain": [
              "0.7509259259259259"
            ]
          },
          "metadata": {
            "tags": []
          },
          "execution_count": 21
        }
      ]
    },
    {
      "cell_type": "code",
      "metadata": {
        "id": "9PihMUnYGsIM",
        "colab_type": "code",
        "colab": {}
      },
      "source": [
        ""
      ],
      "execution_count": 0,
      "outputs": []
    },
    {
      "cell_type": "code",
      "metadata": {
        "id": "QG3CPV-p-uji",
        "colab_type": "code",
        "outputId": "1fd4eb88-6b8c-4cab-dac6-875615675a23",
        "colab": {
          "base_uri": "https://localhost:8080/",
          "height": 34
        }
      },
      "source": [
        "#decision tree with numeric and catergorical\n",
        "dt= DecisionTreeClassifier(random_state= 25)\n",
        "dt.fit(X_train_final, y_train)\n",
        "# y_pred= dt.predict(X_test_final)\n",
        "# accuracy_score(y_test, y_pred)\n",
        "dt.score(X_test_final, y_test)"
      ],
      "execution_count": 0,
      "outputs": [
        {
          "output_type": "execute_result",
          "data": {
            "text/plain": [
              "0.7642255892255893"
            ]
          },
          "metadata": {
            "tags": []
          },
          "execution_count": 325
        }
      ]
    },
    {
      "cell_type": "code",
      "metadata": {
        "id": "h-6FD7b2-7c_",
        "colab_type": "code",
        "colab": {}
      },
      "source": [
        "#logistic regression model with numeric and catergorical features\n",
        "model= LogisticRegression(solver='lbfgs',multi_class='auto',max_iter=1000)\n",
        "model.fit(X_train_final_scaled, y_train)\n",
        "# y_pred= model.predict(X_test_final_scaled)\n",
        "# accuracy_score(y_test, y_pred)\n",
        "model.score(X_test_final_scaled, y_test)"
      ],
      "execution_count": 0,
      "outputs": []
    },
    {
      "cell_type": "code",
      "metadata": {
        "id": "QTs8Pj_RLdyW",
        "colab_type": "code",
        "outputId": "b2c93c9d-3a11-4c3e-c550-844f74ca3f23",
        "colab": {
          "base_uri": "https://localhost:8080/",
          "height": 34
        }
      },
      "source": [
        "#random forest with numerical and catergorical(ordinal encoded) features\n",
        "forest= RandomForestClassifier(n_estimators= 100, random_state= 40)\n",
        "forest.fit(X_train_final1, y_train)\n",
        "forest.score(X_test_final1, y_test)"
      ],
      "execution_count": 489,
      "outputs": [
        {
          "output_type": "execute_result",
          "data": {
            "text/plain": [
              "0.8116161616161616"
            ]
          },
          "metadata": {
            "tags": []
          },
          "execution_count": 489
        }
      ]
    },
    {
      "cell_type": "code",
      "metadata": {
        "id": "UCVFygOMSTNC",
        "colab_type": "code",
        "colab": {}
      },
      "source": [
        "importances= pd.Series(forest.feature_importances_, X_train_final1.columns)"
      ],
      "execution_count": 0,
      "outputs": []
    },
    {
      "cell_type": "code",
      "metadata": {
        "id": "Hwhs__vqSkpS",
        "colab_type": "code",
        "outputId": "2f2366b8-bc54-41c0-bf20-0cf9d359508c",
        "colab": {
          "base_uri": "https://localhost:8080/",
          "height": 613
        }
      },
      "source": [
        "fig= plt.figure(figsize=(20,10))\n",
        "importances.sort_values().plot.barh()"
      ],
      "execution_count": 0,
      "outputs": [
        {
          "output_type": "execute_result",
          "data": {
            "text/plain": [
              "<matplotlib.axes._subplots.AxesSubplot at 0x7f0adcd9b358>"
            ]
          },
          "metadata": {
            "tags": []
          },
          "execution_count": 185
        },
        {
          "output_type": "display_data",
          "data": {
            "image/png": "[encoded data removed]",
            "text/plain": [
              "<Figure size 1440x720 with 1 Axes>"
            ]
          },
          "metadata": {
            "tags": []
          }
        }
      ]
    },
    {
      "cell_type": "code",
      "metadata": {
        "id": "aCaCz5VfMok3",
        "colab_type": "code",
        "colab": {}
      },
      "source": [
        "y_pred= forest.predict(test_features_final1)\n",
        "sample_sub['status_group']= y_pred"
      ],
      "execution_count": 0,
      "outputs": []
    },
    {
      "cell_type": "code",
      "metadata": {
        "id": "rUoBOCLcNmTO",
        "colab_type": "code",
        "colab": {}
      },
      "source": [
        "sample_sub.to_csv('sample_sub.csv', index=False)"
      ],
      "execution_count": 0,
      "outputs": []
    },
    {
      "cell_type": "code",
      "metadata": {
        "id": "PHUYGx93NpFa",
        "colab_type": "code",
        "colab": {}
      },
      "source": [
        "files.download('sample_sub.csv')"
      ],
      "execution_count": 0,
      "outputs": []
    }
  ]
}