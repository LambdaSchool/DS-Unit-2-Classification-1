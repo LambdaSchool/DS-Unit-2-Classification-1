{
  "nbformat": 4,
  "nbformat_minor": 0,
  "metadata": {
    "colab": {
      "name": "Nicolae Dubenco random_forests_ordinal_encoding.ipynb",
      "version": "0.3.2",
      "provenance": [],
      "include_colab_link": true
    },
    "kernelspec": {
      "name": "python3",
      "display_name": "Python 3"
    }
  },
  "cells": [
    {
      "cell_type": "markdown",
      "metadata": {
        "id": "view-in-github",
        "colab_type": "text"
      },
      "source": [
        "<a href=\"https://colab.research.google.com/github/NikuDubenco/DS-Unit-2-Classification-1/blob/master/Nicolae_Dubenco_random_forests_ordinal_encoding.ipynb\" target=\"_parent\"><img src=\"https://colab.research.google.com/assets/colab-badge.svg\" alt=\"Open In Colab\"/></a>"
      ]
    },
    {
      "cell_type": "markdown",
      "metadata": {
        "id": "jpbHDeE_ZhB1",
        "colab_type": "text"
      },
      "source": [
        "## Import libraries"
      ]
    },
    {
      "cell_type": "code",
      "metadata": {
        "id": "l5MFGYxHnLct",
        "colab_type": "code",
        "colab": {
          "base_uri": "https://localhost:8080/",
          "height": 224
        },
        "outputId": "e893a8b4-f983-4278-ab37-6544c772d85f"
      },
      "source": [
        "!pip install category_encoders"
      ],
      "execution_count": 63,
      "outputs": [
        {
          "output_type": "stream",
          "text": [
            "Requirement already satisfied: category_encoders in /usr/local/lib/python3.6/dist-packages (2.0.0)\n",
            "Requirement already satisfied: pandas>=0.21.1 in /usr/local/lib/python3.6/dist-packages (from category_encoders) (0.24.2)\n",
            "Requirement already satisfied: statsmodels>=0.6.1 in /usr/local/lib/python3.6/dist-packages (from category_encoders) (0.9.0)\n",
            "Requirement already satisfied: scikit-learn>=0.20.0 in /usr/local/lib/python3.6/dist-packages (from category_encoders) (0.21.2)\n",
            "Requirement already satisfied: patsy>=0.4.1 in /usr/local/lib/python3.6/dist-packages (from category_encoders) (0.5.1)\n",
            "Requirement already satisfied: scipy>=0.19.0 in /usr/local/lib/python3.6/dist-packages (from category_encoders) (1.3.0)\n",
            "Requirement already satisfied: numpy>=1.11.3 in /usr/local/lib/python3.6/dist-packages (from category_encoders) (1.16.4)\n",
            "Requirement already satisfied: pytz>=2011k in /usr/local/lib/python3.6/dist-packages (from pandas>=0.21.1->category_encoders) (2018.9)\n",
            "Requirement already satisfied: python-dateutil>=2.5.0 in /usr/local/lib/python3.6/dist-packages (from pandas>=0.21.1->category_encoders) (2.5.3)\n",
            "Requirement already satisfied: joblib>=0.11 in /usr/local/lib/python3.6/dist-packages (from scikit-learn>=0.20.0->category_encoders) (0.13.2)\n",
            "Requirement already satisfied: six in /usr/local/lib/python3.6/dist-packages (from patsy>=0.4.1->category_encoders) (1.12.0)\n"
          ],
          "name": "stdout"
        }
      ]
    },
    {
      "cell_type": "code",
      "metadata": {
        "id": "-Hbu0XVqFDyC",
        "colab_type": "code",
        "colab": {}
      },
      "source": [
        "%matplotlib inline\n",
        "import category_encoders as ce\n",
        "import matplotlib.pyplot as plt\n",
        "import numpy as np\n",
        "import pandas as pd\n",
        "import seaborn as sns\n",
        "from sklearn.impute import SimpleImputer\n",
        "from sklearn.model_selection import train_test_split\n",
        "from sklearn.pipeline import make_pipeline\n",
        "from sklearn.preprocessing import RobustScaler\n",
        "from sklearn.tree import DecisionTreeClassifier\n",
        "pd.set_option('display.float_format', '{:.2f}'.format)\n"
      ],
      "execution_count": 0,
      "outputs": []
    },
    {
      "cell_type": "markdown",
      "metadata": {
        "id": "-fQXInRnZle5",
        "colab_type": "text"
      },
      "source": [
        "## Import and read CSV files"
      ]
    },
    {
      "cell_type": "code",
      "metadata": {
        "id": "Zu5BGLmeZcWp",
        "colab_type": "code",
        "colab": {}
      },
      "source": [
        "# Merge train_feartures.csv & train_labels.csv\n",
        "train = pd.merge(pd.read_csv('https://drive.google.com/uc?export=download&id=14ULvX0uOgftTB2s97uS8lIx1nHGQIB0P'),\n",
        "                pd.read_csv('https://drive.google.com/uc?export=download&id=1r441wLr7gKGHGLyPpKauvCuUOU556S2f'))\n",
        "\n",
        "# Read test_features.csv & sample_admission.csv\n",
        "test = pd.read_csv('https://drive.google.com/uc?export=download&id=1wvsYl9hbRbZuIuoaLWCsW_kbcxCdocHz')\n",
        "sample_submission = pd.read_csv('https://drive.google.com/uc?export=download&id=1kfJewnmhowpUo381oSn3XqsQ6Eto23XV')\n",
        "\n",
        "# Split train into train & val\n",
        "train, val = train_test_split(train, train_size=.80, test_size=.20, \n",
        "                             stratify=train['status_group'], random_state=42)"
      ],
      "execution_count": 0,
      "outputs": []
    },
    {
      "cell_type": "code",
      "metadata": {
        "id": "Cw33hWjUTjRZ",
        "colab_type": "code",
        "colab": {
          "base_uri": "https://localhost:8080/",
          "height": 34
        },
        "outputId": "a22472e0-9a70-48af-bab5-ac7cf3d16012"
      },
      "source": [
        "# Identify the dimension of the 'train' data set\n",
        "train.shape"
      ],
      "execution_count": 40,
      "outputs": [
        {
          "output_type": "execute_result",
          "data": {
            "text/plain": [
              "(47520, 40)"
            ]
          },
          "metadata": {
            "tags": []
          },
          "execution_count": 40
        }
      ]
    },
    {
      "cell_type": "markdown",
      "metadata": {
        "id": "VE4mLBT_hqH0",
        "colab_type": "text"
      },
      "source": [
        "## Exploring categorical features"
      ]
    },
    {
      "cell_type": "code",
      "metadata": {
        "id": "ekqHpf3ELkIz",
        "colab_type": "code",
        "colab": {}
      },
      "source": [
        "# function that will give a vision on what columns double data:\n",
        "def identify_double_columns_data(X):\n",
        "  \"\"\"Identify the columns that contain the same data in the data set,\n",
        "  type of data categorical\"\"\"\n",
        "  for column in X.select_dtypes(exclude='number').columns:\n",
        "    if X[column].nunique() <= 30:\n",
        "      print('--------' * 10)\n",
        "      print('feature displayed: >>>', column, ' <<<')\n",
        "      print('                      ', len(column) * '-')\n",
        "      print('value     &    times present in column')\n",
        "      print(X[column].value_counts())"
      ],
      "execution_count": 0,
      "outputs": []
    },
    {
      "cell_type": "code",
      "metadata": {
        "id": "4X9MsfplPoPl",
        "colab_type": "code",
        "colab": {
          "base_uri": "https://localhost:8080/",
          "height": 4964
        },
        "outputId": "e1d3b381-5fa9-4e75-cb7e-7205bf5c83a8"
      },
      "source": [
        "identify_double_columns_data(train)"
      ],
      "execution_count": 42,
      "outputs": [
        {
          "output_type": "stream",
          "text": [
            "--------------------------------------------------------------------------------\n",
            "feature displayed: >>> basin  <<<\n",
            "                       -----\n",
            "value     &    times present in column\n",
            "Lake Victoria              8137\n",
            "Pangani                    7173\n",
            "Rufiji                     6412\n",
            "Internal                   6255\n",
            "Lake Tanganyika            5194\n",
            "Wami / Ruvu                4773\n",
            "Lake Nyasa                 4075\n",
            "Ruvuma / Southern Coast    3551\n",
            "Lake Rukwa                 1950\n",
            "Name: basin, dtype: int64\n",
            "--------------------------------------------------------------------------------\n",
            "feature displayed: >>> region  <<<\n",
            "                       ------\n",
            "value     &    times present in column\n",
            "Iringa           4250\n",
            "Shinyanga        3972\n",
            "Mbeya            3703\n",
            "Kilimanjaro      3512\n",
            "Morogoro         3238\n",
            "Arusha           2686\n",
            "Kagera           2615\n",
            "Mwanza           2485\n",
            "Kigoma           2276\n",
            "Pwani            2110\n",
            "Ruvuma           2090\n",
            "Tanga            2029\n",
            "Dodoma           1768\n",
            "Singida          1678\n",
            "Tabora           1586\n",
            "Mara             1560\n",
            "Rukwa            1440\n",
            "Mtwara           1384\n",
            "Manyara          1284\n",
            "Lindi            1223\n",
            "Dar es Salaam     631\n",
            "Name: region, dtype: int64\n",
            "--------------------------------------------------------------------------------\n",
            "feature displayed: >>> public_meeting  <<<\n",
            "                       --------------\n",
            "value     &    times present in column\n",
            "True     40838\n",
            "False     4038\n",
            "Name: public_meeting, dtype: int64\n",
            "--------------------------------------------------------------------------------\n",
            "feature displayed: >>> recorded_by  <<<\n",
            "                       -----------\n",
            "value     &    times present in column\n",
            "GeoData Consultants Ltd    47520\n",
            "Name: recorded_by, dtype: int64\n",
            "--------------------------------------------------------------------------------\n",
            "feature displayed: >>> scheme_management  <<<\n",
            "                       -----------------\n",
            "value     &    times present in column\n",
            "VWC                 29470\n",
            "WUG                  4164\n",
            "Water authority      2507\n",
            "WUA                  2334\n",
            "Water Board          2197\n",
            "Parastatal           1320\n",
            "Private operator      836\n",
            "Company               824\n",
            "Other                 603\n",
            "SWC                    78\n",
            "Trust                  58\n",
            "None                    1\n",
            "Name: scheme_management, dtype: int64\n",
            "--------------------------------------------------------------------------------\n",
            "feature displayed: >>> permit  <<<\n",
            "                       ------\n",
            "value     &    times present in column\n",
            "True     31071\n",
            "False    14006\n",
            "Name: permit, dtype: int64\n",
            "--------------------------------------------------------------------------------\n",
            "feature displayed: >>> extraction_type  <<<\n",
            "                       ---------------\n",
            "value     &    times present in column\n",
            "gravity                      21448\n",
            "nira/tanira                   6526\n",
            "other                         5193\n",
            "submersible                   3770\n",
            "swn 80                        2930\n",
            "mono                          2261\n",
            "india mark ii                 1928\n",
            "afridev                       1435\n",
            "ksb                           1124\n",
            "other - rope pump              353\n",
            "other - swn 81                 184\n",
            "windmill                        93\n",
            "india mark iii                  73\n",
            "cemo                            70\n",
            "other - play pump               65\n",
            "walimi                          42\n",
            "climax                          24\n",
            "other - mkulima/shinyanga        1\n",
            "Name: extraction_type, dtype: int64\n",
            "--------------------------------------------------------------------------------\n",
            "feature displayed: >>> extraction_type_group  <<<\n",
            "                       ---------------------\n",
            "value     &    times present in column\n",
            "gravity            21448\n",
            "nira/tanira         6526\n",
            "other               5193\n",
            "submersible         4894\n",
            "swn 80              2930\n",
            "mono                2261\n",
            "india mark ii       1928\n",
            "afridev             1435\n",
            "rope pump            353\n",
            "other handpump       292\n",
            "other motorpump       94\n",
            "wind-powered          93\n",
            "india mark iii        73\n",
            "Name: extraction_type_group, dtype: int64\n",
            "--------------------------------------------------------------------------------\n",
            "feature displayed: >>> extraction_type_class  <<<\n",
            "                       ---------------------\n",
            "value     &    times present in column\n",
            "gravity         21448\n",
            "handpump        13184\n",
            "other            5193\n",
            "submersible      4894\n",
            "motorpump        2355\n",
            "rope pump         353\n",
            "wind-powered       93\n",
            "Name: extraction_type_class, dtype: int64\n",
            "--------------------------------------------------------------------------------\n",
            "feature displayed: >>> management  <<<\n",
            "                       ----------\n",
            "value     &    times present in column\n",
            "vwc                 32449\n",
            "wug                  5189\n",
            "water board          2343\n",
            "wua                  2046\n",
            "private operator     1566\n",
            "parastatal           1397\n",
            "water authority       731\n",
            "other                 669\n",
            "company               534\n",
            "unknown               453\n",
            "other - school         80\n",
            "trust                  63\n",
            "Name: management, dtype: int64\n",
            "--------------------------------------------------------------------------------\n",
            "feature displayed: >>> management_group  <<<\n",
            "                       ----------------\n",
            "value     &    times present in column\n",
            "user-group    42027\n",
            "commercial     2894\n",
            "parastatal     1397\n",
            "other           749\n",
            "unknown         453\n",
            "Name: management_group, dtype: int64\n",
            "--------------------------------------------------------------------------------\n",
            "feature displayed: >>> payment  <<<\n",
            "                       -------\n",
            "value     &    times present in column\n",
            "never pay                20287\n",
            "pay per bucket            7161\n",
            "pay monthly               6644\n",
            "unknown                   6532\n",
            "pay when scheme fails     3093\n",
            "pay annually              2938\n",
            "other                      865\n",
            "Name: payment, dtype: int64\n",
            "--------------------------------------------------------------------------------\n",
            "feature displayed: >>> payment_type  <<<\n",
            "                       ------------\n",
            "value     &    times present in column\n",
            "never pay     20287\n",
            "per bucket     7161\n",
            "monthly        6644\n",
            "unknown        6532\n",
            "on failure     3093\n",
            "annually       2938\n",
            "other           865\n",
            "Name: payment_type, dtype: int64\n",
            "--------------------------------------------------------------------------------\n",
            "feature displayed: >>> water_quality  <<<\n",
            "                       -------------\n",
            "value     &    times present in column\n",
            "soft                  40598\n",
            "salty                  3903\n",
            "unknown                1503\n",
            "milky                   658\n",
            "coloured                403\n",
            "salty abandoned         276\n",
            "fluoride                165\n",
            "fluoride abandoned       14\n",
            "Name: water_quality, dtype: int64\n",
            "--------------------------------------------------------------------------------\n",
            "feature displayed: >>> quality_group  <<<\n",
            "                       -------------\n",
            "value     &    times present in column\n",
            "good        40598\n",
            "salty        4179\n",
            "unknown      1503\n",
            "milky         658\n",
            "colored       403\n",
            "fluoride      179\n",
            "Name: quality_group, dtype: int64\n",
            "--------------------------------------------------------------------------------\n",
            "feature displayed: >>> quantity  <<<\n",
            "                       --------\n",
            "value     &    times present in column\n",
            "enough          26567\n",
            "insufficient    12153\n",
            "dry              4921\n",
            "seasonal         3244\n",
            "unknown           635\n",
            "Name: quantity, dtype: int64\n",
            "--------------------------------------------------------------------------------\n",
            "feature displayed: >>> quantity_group  <<<\n",
            "                       --------------\n",
            "value     &    times present in column\n",
            "enough          26567\n",
            "insufficient    12153\n",
            "dry              4921\n",
            "seasonal         3244\n",
            "unknown           635\n",
            "Name: quantity_group, dtype: int64\n",
            "--------------------------------------------------------------------------------\n",
            "feature displayed: >>> source  <<<\n",
            "                       ------\n",
            "value     &    times present in column\n",
            "spring                  13620\n",
            "shallow well            13507\n",
            "machine dbh              8813\n",
            "river                    7685\n",
            "rainwater harvesting     1859\n",
            "hand dtw                  698\n",
            "lake                      586\n",
            "dam                       518\n",
            "other                     175\n",
            "unknown                    59\n",
            "Name: source, dtype: int64\n",
            "--------------------------------------------------------------------------------\n",
            "feature displayed: >>> source_type  <<<\n",
            "                       -----------\n",
            "value     &    times present in column\n",
            "spring                  13620\n",
            "shallow well            13507\n",
            "borehole                 9511\n",
            "river/lake               8271\n",
            "rainwater harvesting     1859\n",
            "dam                       518\n",
            "other                     234\n",
            "Name: source_type, dtype: int64\n",
            "--------------------------------------------------------------------------------\n",
            "feature displayed: >>> source_class  <<<\n",
            "                       ------------\n",
            "value     &    times present in column\n",
            "groundwater    36638\n",
            "surface        10648\n",
            "unknown          234\n",
            "Name: source_class, dtype: int64\n",
            "--------------------------------------------------------------------------------\n",
            "feature displayed: >>> waterpoint_type  <<<\n",
            "                       ---------------\n",
            "value     &    times present in column\n",
            "communal standpipe             22778\n",
            "hand pump                      14015\n",
            "other                           5138\n",
            "communal standpipe multiple     4864\n",
            "improved spring                  631\n",
            "cattle trough                     89\n",
            "dam                                5\n",
            "Name: waterpoint_type, dtype: int64\n",
            "--------------------------------------------------------------------------------\n",
            "feature displayed: >>> waterpoint_type_group  <<<\n",
            "                       ---------------------\n",
            "value     &    times present in column\n",
            "communal standpipe    27642\n",
            "hand pump             14015\n",
            "other                  5138\n",
            "improved spring         631\n",
            "cattle trough            89\n",
            "dam                       5\n",
            "Name: waterpoint_type_group, dtype: int64\n",
            "--------------------------------------------------------------------------------\n",
            "feature displayed: >>> status_group  <<<\n",
            "                       ------------\n",
            "value     &    times present in column\n",
            "functional                 25807\n",
            "non functional             18259\n",
            "functional needs repair     3454\n",
            "Name: status_group, dtype: int64\n"
          ],
          "name": "stdout"
        }
      ]
    },
    {
      "cell_type": "markdown",
      "metadata": {
        "id": "nPRyGxgTpUJY",
        "colab_type": "text"
      },
      "source": [
        "#### Analysis of columns: source, source_type, source_class"
      ]
    },
    {
      "cell_type": "code",
      "metadata": {
        "id": "H2a5tj-xmnea",
        "colab_type": "code",
        "colab": {
          "base_uri": "https://localhost:8080/",
          "height": 0
        },
        "outputId": "6f261df7-c58a-42f0-8813-f13205fd9faa"
      },
      "source": [
        "train[['source', 'source_type', 'source_class']].isin(['unknown']).sum()"
      ],
      "execution_count": 13,
      "outputs": [
        {
          "output_type": "execute_result",
          "data": {
            "text/plain": [
              "source           59\n",
              "source_type       0\n",
              "source_class    234\n",
              "dtype: int64"
            ]
          },
          "metadata": {
            "tags": []
          },
          "execution_count": 13
        }
      ]
    },
    {
      "cell_type": "code",
      "metadata": {
        "id": "RD4KzWHWorqu",
        "colab_type": "code",
        "colab": {
          "base_uri": "https://localhost:8080/",
          "height": 0
        },
        "outputId": "fc11bd14-4530-4c16-9aa0-445e21a04131"
      },
      "source": [
        "train[['source', 'source_type', 'source_class']].isin(['other']).sum()"
      ],
      "execution_count": 14,
      "outputs": [
        {
          "output_type": "execute_result",
          "data": {
            "text/plain": [
              "source          175\n",
              "source_type     234\n",
              "source_class      0\n",
              "dtype: int64"
            ]
          },
          "metadata": {
            "tags": []
          },
          "execution_count": 14
        }
      ]
    },
    {
      "cell_type": "markdown",
      "metadata": {
        "id": "J12zSWGqqVhE",
        "colab_type": "text"
      },
      "source": [
        "#### Analyze columns 'scheme_management', 'management', 'management_group'"
      ]
    },
    {
      "cell_type": "code",
      "metadata": {
        "id": "Xow8NR_YqwPx",
        "colab_type": "code",
        "colab": {
          "base_uri": "https://localhost:8080/",
          "height": 0
        },
        "outputId": "66763065-a47a-4ab6-a1e3-890fc304a591"
      },
      "source": [
        "train[['scheme_management', 'management', 'management_group']].isin(['unknown']).sum()"
      ],
      "execution_count": 15,
      "outputs": [
        {
          "output_type": "execute_result",
          "data": {
            "text/plain": [
              "scheme_management      0\n",
              "management           453\n",
              "management_group     453\n",
              "dtype: int64"
            ]
          },
          "metadata": {
            "tags": []
          },
          "execution_count": 15
        }
      ]
    },
    {
      "cell_type": "code",
      "metadata": {
        "id": "0CZ_9ovHqnuK",
        "colab_type": "code",
        "colab": {
          "base_uri": "https://localhost:8080/",
          "height": 0
        },
        "outputId": "47ec87ae-9c30-4101-bf8f-2ee6eda70c7c"
      },
      "source": [
        "train[['scheme_management', 'management', 'management_group']].isin(['other']).sum()"
      ],
      "execution_count": 16,
      "outputs": [
        {
          "output_type": "execute_result",
          "data": {
            "text/plain": [
              "scheme_management      0\n",
              "management           669\n",
              "management_group     749\n",
              "dtype: int64"
            ]
          },
          "metadata": {
            "tags": []
          },
          "execution_count": 16
        }
      ]
    },
    {
      "cell_type": "code",
      "metadata": {
        "id": "fS-ktWb2rEf1",
        "colab_type": "code",
        "colab": {
          "base_uri": "https://localhost:8080/",
          "height": 0
        },
        "outputId": "798b7849-d5b2-40cc-86f8-ba96cf20413c"
      },
      "source": [
        "train[['scheme_management', 'management', 'management_group']].isna().sum()"
      ],
      "execution_count": 18,
      "outputs": [
        {
          "output_type": "execute_result",
          "data": {
            "text/plain": [
              "scheme_management    3128\n",
              "management              0\n",
              "management_group        0\n",
              "dtype: int64"
            ]
          },
          "metadata": {
            "tags": []
          },
          "execution_count": 18
        }
      ]
    },
    {
      "cell_type": "code",
      "metadata": {
        "id": "AwfuXX_nq5mi",
        "colab_type": "code",
        "colab": {
          "base_uri": "https://localhost:8080/",
          "height": 0
        },
        "outputId": "dc84f6a2-781a-43bf-837e-6d2169b8b784"
      },
      "source": [
        "train[['scheme_management', 'management', 'management_group']]"
      ],
      "execution_count": 17,
      "outputs": [
        {
          "output_type": "execute_result",
          "data": {
            "text/html": [
              "<div>\n",
              "<style scoped>\n",
              "    .dataframe tbody tr th:only-of-type {\n",
              "        vertical-align: middle;\n",
              "    }\n",
              "\n",
              "    .dataframe tbody tr th {\n",
              "        vertical-align: top;\n",
              "    }\n",
              "\n",
              "    .dataframe thead th {\n",
              "        text-align: right;\n",
              "    }\n",
              "</style>\n",
              "<table border=\"1\" class=\"dataframe\">\n",
              "  <thead>\n",
              "    <tr style=\"text-align: right;\">\n",
              "      <th></th>\n",
              "      <th>scheme_management</th>\n",
              "      <th>management</th>\n",
              "      <th>management_group</th>\n",
              "    </tr>\n",
              "  </thead>\n",
              "  <tbody>\n",
              "    <tr>\n",
              "      <th>43360</th>\n",
              "      <td>VWC</td>\n",
              "      <td>vwc</td>\n",
              "      <td>user-group</td>\n",
              "    </tr>\n",
              "    <tr>\n",
              "      <th>7263</th>\n",
              "      <td>WUA</td>\n",
              "      <td>wua</td>\n",
              "      <td>user-group</td>\n",
              "    </tr>\n",
              "    <tr>\n",
              "      <th>2486</th>\n",
              "      <td>VWC</td>\n",
              "      <td>vwc</td>\n",
              "      <td>user-group</td>\n",
              "    </tr>\n",
              "    <tr>\n",
              "      <th>313</th>\n",
              "      <td>NaN</td>\n",
              "      <td>vwc</td>\n",
              "      <td>user-group</td>\n",
              "    </tr>\n",
              "    <tr>\n",
              "      <th>52726</th>\n",
              "      <td>VWC</td>\n",
              "      <td>vwc</td>\n",
              "      <td>user-group</td>\n",
              "    </tr>\n",
              "    <tr>\n",
              "      <th>8558</th>\n",
              "      <td>VWC</td>\n",
              "      <td>vwc</td>\n",
              "      <td>user-group</td>\n",
              "    </tr>\n",
              "    <tr>\n",
              "      <th>2559</th>\n",
              "      <td>VWC</td>\n",
              "      <td>vwc</td>\n",
              "      <td>user-group</td>\n",
              "    </tr>\n",
              "    <tr>\n",
              "      <th>54735</th>\n",
              "      <td>VWC</td>\n",
              "      <td>vwc</td>\n",
              "      <td>user-group</td>\n",
              "    </tr>\n",
              "    <tr>\n",
              "      <th>25763</th>\n",
              "      <td>VWC</td>\n",
              "      <td>vwc</td>\n",
              "      <td>user-group</td>\n",
              "    </tr>\n",
              "    <tr>\n",
              "      <th>44540</th>\n",
              "      <td>VWC</td>\n",
              "      <td>vwc</td>\n",
              "      <td>user-group</td>\n",
              "    </tr>\n",
              "    <tr>\n",
              "      <th>28603</th>\n",
              "      <td>VWC</td>\n",
              "      <td>vwc</td>\n",
              "      <td>user-group</td>\n",
              "    </tr>\n",
              "    <tr>\n",
              "      <th>4372</th>\n",
              "      <td>Water authority</td>\n",
              "      <td>water authority</td>\n",
              "      <td>commercial</td>\n",
              "    </tr>\n",
              "    <tr>\n",
              "      <th>30666</th>\n",
              "      <td>Parastatal</td>\n",
              "      <td>parastatal</td>\n",
              "      <td>parastatal</td>\n",
              "    </tr>\n",
              "    <tr>\n",
              "      <th>6431</th>\n",
              "      <td>Company</td>\n",
              "      <td>private operator</td>\n",
              "      <td>commercial</td>\n",
              "    </tr>\n",
              "    <tr>\n",
              "      <th>57420</th>\n",
              "      <td>VWC</td>\n",
              "      <td>vwc</td>\n",
              "      <td>user-group</td>\n",
              "    </tr>\n",
              "    <tr>\n",
              "      <th>1373</th>\n",
              "      <td>VWC</td>\n",
              "      <td>vwc</td>\n",
              "      <td>user-group</td>\n",
              "    </tr>\n",
              "    <tr>\n",
              "      <th>2026</th>\n",
              "      <td>VWC</td>\n",
              "      <td>vwc</td>\n",
              "      <td>user-group</td>\n",
              "    </tr>\n",
              "    <tr>\n",
              "      <th>58977</th>\n",
              "      <td>VWC</td>\n",
              "      <td>vwc</td>\n",
              "      <td>user-group</td>\n",
              "    </tr>\n",
              "    <tr>\n",
              "      <th>41101</th>\n",
              "      <td>VWC</td>\n",
              "      <td>vwc</td>\n",
              "      <td>user-group</td>\n",
              "    </tr>\n",
              "    <tr>\n",
              "      <th>10019</th>\n",
              "      <td>VWC</td>\n",
              "      <td>vwc</td>\n",
              "      <td>user-group</td>\n",
              "    </tr>\n",
              "    <tr>\n",
              "      <th>5103</th>\n",
              "      <td>Water authority</td>\n",
              "      <td>vwc</td>\n",
              "      <td>user-group</td>\n",
              "    </tr>\n",
              "    <tr>\n",
              "      <th>36712</th>\n",
              "      <td>VWC</td>\n",
              "      <td>vwc</td>\n",
              "      <td>user-group</td>\n",
              "    </tr>\n",
              "    <tr>\n",
              "      <th>29670</th>\n",
              "      <td>NaN</td>\n",
              "      <td>vwc</td>\n",
              "      <td>user-group</td>\n",
              "    </tr>\n",
              "    <tr>\n",
              "      <th>54588</th>\n",
              "      <td>NaN</td>\n",
              "      <td>wug</td>\n",
              "      <td>user-group</td>\n",
              "    </tr>\n",
              "    <tr>\n",
              "      <th>31867</th>\n",
              "      <td>NaN</td>\n",
              "      <td>vwc</td>\n",
              "      <td>user-group</td>\n",
              "    </tr>\n",
              "    <tr>\n",
              "      <th>12090</th>\n",
              "      <td>VWC</td>\n",
              "      <td>vwc</td>\n",
              "      <td>user-group</td>\n",
              "    </tr>\n",
              "    <tr>\n",
              "      <th>48300</th>\n",
              "      <td>VWC</td>\n",
              "      <td>vwc</td>\n",
              "      <td>user-group</td>\n",
              "    </tr>\n",
              "    <tr>\n",
              "      <th>16754</th>\n",
              "      <td>WUA</td>\n",
              "      <td>wua</td>\n",
              "      <td>user-group</td>\n",
              "    </tr>\n",
              "    <tr>\n",
              "      <th>50582</th>\n",
              "      <td>NaN</td>\n",
              "      <td>unknown</td>\n",
              "      <td>unknown</td>\n",
              "    </tr>\n",
              "    <tr>\n",
              "      <th>9136</th>\n",
              "      <td>Private operator</td>\n",
              "      <td>private operator</td>\n",
              "      <td>commercial</td>\n",
              "    </tr>\n",
              "    <tr>\n",
              "      <th>...</th>\n",
              "      <td>...</td>\n",
              "      <td>...</td>\n",
              "      <td>...</td>\n",
              "    </tr>\n",
              "    <tr>\n",
              "      <th>26450</th>\n",
              "      <td>Water Board</td>\n",
              "      <td>water board</td>\n",
              "      <td>user-group</td>\n",
              "    </tr>\n",
              "    <tr>\n",
              "      <th>56373</th>\n",
              "      <td>VWC</td>\n",
              "      <td>vwc</td>\n",
              "      <td>user-group</td>\n",
              "    </tr>\n",
              "    <tr>\n",
              "      <th>4595</th>\n",
              "      <td>Other</td>\n",
              "      <td>other</td>\n",
              "      <td>other</td>\n",
              "    </tr>\n",
              "    <tr>\n",
              "      <th>35771</th>\n",
              "      <td>VWC</td>\n",
              "      <td>vwc</td>\n",
              "      <td>user-group</td>\n",
              "    </tr>\n",
              "    <tr>\n",
              "      <th>41564</th>\n",
              "      <td>Water authority</td>\n",
              "      <td>water board</td>\n",
              "      <td>user-group</td>\n",
              "    </tr>\n",
              "    <tr>\n",
              "      <th>30571</th>\n",
              "      <td>WUA</td>\n",
              "      <td>wua</td>\n",
              "      <td>user-group</td>\n",
              "    </tr>\n",
              "    <tr>\n",
              "      <th>25961</th>\n",
              "      <td>VWC</td>\n",
              "      <td>vwc</td>\n",
              "      <td>user-group</td>\n",
              "    </tr>\n",
              "    <tr>\n",
              "      <th>21280</th>\n",
              "      <td>VWC</td>\n",
              "      <td>vwc</td>\n",
              "      <td>user-group</td>\n",
              "    </tr>\n",
              "    <tr>\n",
              "      <th>40122</th>\n",
              "      <td>VWC</td>\n",
              "      <td>vwc</td>\n",
              "      <td>user-group</td>\n",
              "    </tr>\n",
              "    <tr>\n",
              "      <th>42270</th>\n",
              "      <td>Water authority</td>\n",
              "      <td>vwc</td>\n",
              "      <td>user-group</td>\n",
              "    </tr>\n",
              "    <tr>\n",
              "      <th>38160</th>\n",
              "      <td>VWC</td>\n",
              "      <td>vwc</td>\n",
              "      <td>user-group</td>\n",
              "    </tr>\n",
              "    <tr>\n",
              "      <th>6050</th>\n",
              "      <td>Water authority</td>\n",
              "      <td>wug</td>\n",
              "      <td>user-group</td>\n",
              "    </tr>\n",
              "    <tr>\n",
              "      <th>12578</th>\n",
              "      <td>VWC</td>\n",
              "      <td>vwc</td>\n",
              "      <td>user-group</td>\n",
              "    </tr>\n",
              "    <tr>\n",
              "      <th>56315</th>\n",
              "      <td>Parastatal</td>\n",
              "      <td>parastatal</td>\n",
              "      <td>parastatal</td>\n",
              "    </tr>\n",
              "    <tr>\n",
              "      <th>48801</th>\n",
              "      <td>VWC</td>\n",
              "      <td>vwc</td>\n",
              "      <td>user-group</td>\n",
              "    </tr>\n",
              "    <tr>\n",
              "      <th>5891</th>\n",
              "      <td>VWC</td>\n",
              "      <td>vwc</td>\n",
              "      <td>user-group</td>\n",
              "    </tr>\n",
              "    <tr>\n",
              "      <th>59254</th>\n",
              "      <td>VWC</td>\n",
              "      <td>vwc</td>\n",
              "      <td>user-group</td>\n",
              "    </tr>\n",
              "    <tr>\n",
              "      <th>3731</th>\n",
              "      <td>VWC</td>\n",
              "      <td>vwc</td>\n",
              "      <td>user-group</td>\n",
              "    </tr>\n",
              "    <tr>\n",
              "      <th>23046</th>\n",
              "      <td>VWC</td>\n",
              "      <td>vwc</td>\n",
              "      <td>user-group</td>\n",
              "    </tr>\n",
              "    <tr>\n",
              "      <th>28292</th>\n",
              "      <td>WUG</td>\n",
              "      <td>vwc</td>\n",
              "      <td>user-group</td>\n",
              "    </tr>\n",
              "    <tr>\n",
              "      <th>19682</th>\n",
              "      <td>VWC</td>\n",
              "      <td>vwc</td>\n",
              "      <td>user-group</td>\n",
              "    </tr>\n",
              "    <tr>\n",
              "      <th>38481</th>\n",
              "      <td>VWC</td>\n",
              "      <td>wug</td>\n",
              "      <td>user-group</td>\n",
              "    </tr>\n",
              "    <tr>\n",
              "      <th>7096</th>\n",
              "      <td>VWC</td>\n",
              "      <td>vwc</td>\n",
              "      <td>user-group</td>\n",
              "    </tr>\n",
              "    <tr>\n",
              "      <th>36363</th>\n",
              "      <td>Company</td>\n",
              "      <td>company</td>\n",
              "      <td>commercial</td>\n",
              "    </tr>\n",
              "    <tr>\n",
              "      <th>48006</th>\n",
              "      <td>VWC</td>\n",
              "      <td>vwc</td>\n",
              "      <td>user-group</td>\n",
              "    </tr>\n",
              "    <tr>\n",
              "      <th>9795</th>\n",
              "      <td>VWC</td>\n",
              "      <td>vwc</td>\n",
              "      <td>user-group</td>\n",
              "    </tr>\n",
              "    <tr>\n",
              "      <th>58170</th>\n",
              "      <td>VWC</td>\n",
              "      <td>vwc</td>\n",
              "      <td>user-group</td>\n",
              "    </tr>\n",
              "    <tr>\n",
              "      <th>17191</th>\n",
              "      <td>VWC</td>\n",
              "      <td>vwc</td>\n",
              "      <td>user-group</td>\n",
              "    </tr>\n",
              "    <tr>\n",
              "      <th>8192</th>\n",
              "      <td>VWC</td>\n",
              "      <td>vwc</td>\n",
              "      <td>user-group</td>\n",
              "    </tr>\n",
              "    <tr>\n",
              "      <th>49783</th>\n",
              "      <td>VWC</td>\n",
              "      <td>vwc</td>\n",
              "      <td>user-group</td>\n",
              "    </tr>\n",
              "  </tbody>\n",
              "</table>\n",
              "<p>47520 rows × 3 columns</p>\n",
              "</div>"
            ],
            "text/plain": [
              "      scheme_management        management management_group\n",
              "43360               VWC               vwc       user-group\n",
              "7263                WUA               wua       user-group\n",
              "2486                VWC               vwc       user-group\n",
              "313                 NaN               vwc       user-group\n",
              "52726               VWC               vwc       user-group\n",
              "8558                VWC               vwc       user-group\n",
              "2559                VWC               vwc       user-group\n",
              "54735               VWC               vwc       user-group\n",
              "25763               VWC               vwc       user-group\n",
              "44540               VWC               vwc       user-group\n",
              "28603               VWC               vwc       user-group\n",
              "4372    Water authority   water authority       commercial\n",
              "30666        Parastatal        parastatal       parastatal\n",
              "6431            Company  private operator       commercial\n",
              "57420               VWC               vwc       user-group\n",
              "1373                VWC               vwc       user-group\n",
              "2026                VWC               vwc       user-group\n",
              "58977               VWC               vwc       user-group\n",
              "41101               VWC               vwc       user-group\n",
              "10019               VWC               vwc       user-group\n",
              "5103    Water authority               vwc       user-group\n",
              "36712               VWC               vwc       user-group\n",
              "29670               NaN               vwc       user-group\n",
              "54588               NaN               wug       user-group\n",
              "31867               NaN               vwc       user-group\n",
              "12090               VWC               vwc       user-group\n",
              "48300               VWC               vwc       user-group\n",
              "16754               WUA               wua       user-group\n",
              "50582               NaN           unknown          unknown\n",
              "9136   Private operator  private operator       commercial\n",
              "...                 ...               ...              ...\n",
              "26450       Water Board       water board       user-group\n",
              "56373               VWC               vwc       user-group\n",
              "4595              Other             other            other\n",
              "35771               VWC               vwc       user-group\n",
              "41564   Water authority       water board       user-group\n",
              "30571               WUA               wua       user-group\n",
              "25961               VWC               vwc       user-group\n",
              "21280               VWC               vwc       user-group\n",
              "40122               VWC               vwc       user-group\n",
              "42270   Water authority               vwc       user-group\n",
              "38160               VWC               vwc       user-group\n",
              "6050    Water authority               wug       user-group\n",
              "12578               VWC               vwc       user-group\n",
              "56315        Parastatal        parastatal       parastatal\n",
              "48801               VWC               vwc       user-group\n",
              "5891                VWC               vwc       user-group\n",
              "59254               VWC               vwc       user-group\n",
              "3731                VWC               vwc       user-group\n",
              "23046               VWC               vwc       user-group\n",
              "28292               WUG               vwc       user-group\n",
              "19682               VWC               vwc       user-group\n",
              "38481               VWC               wug       user-group\n",
              "7096                VWC               vwc       user-group\n",
              "36363           Company           company       commercial\n",
              "48006               VWC               vwc       user-group\n",
              "9795                VWC               vwc       user-group\n",
              "58170               VWC               vwc       user-group\n",
              "17191               VWC               vwc       user-group\n",
              "8192                VWC               vwc       user-group\n",
              "49783               VWC               vwc       user-group\n",
              "\n",
              "[47520 rows x 3 columns]"
            ]
          },
          "metadata": {
            "tags": []
          },
          "execution_count": 17
        }
      ]
    },
    {
      "cell_type": "markdown",
      "metadata": {
        "id": "JKjI9MKgttLt",
        "colab_type": "text"
      },
      "source": [
        "#### Analyze columns 'extraction_type', 'extraction_type_group', 'extraction_type_class'"
      ]
    },
    {
      "cell_type": "code",
      "metadata": {
        "id": "ZzsnMWjPts5V",
        "colab_type": "code",
        "colab": {
          "base_uri": "https://localhost:8080/",
          "height": 0
        },
        "outputId": "5b94d86b-4633-45ed-88db-405526ae366f"
      },
      "source": [
        "train[['extraction_type', 'extraction_type_group', 'extraction_type_class']].isna().sum()"
      ],
      "execution_count": 19,
      "outputs": [
        {
          "output_type": "execute_result",
          "data": {
            "text/plain": [
              "extraction_type          0\n",
              "extraction_type_group    0\n",
              "extraction_type_class    0\n",
              "dtype: int64"
            ]
          },
          "metadata": {
            "tags": []
          },
          "execution_count": 19
        }
      ]
    },
    {
      "cell_type": "code",
      "metadata": {
        "id": "W55xgT3KuKtJ",
        "colab_type": "code",
        "colab": {
          "base_uri": "https://localhost:8080/",
          "height": 0
        },
        "outputId": "a2ad238c-5ffc-4bc2-d9a5-75faa43c103e"
      },
      "source": [
        "train[['extraction_type', 'extraction_type_group', 'extraction_type_class']].nunique()"
      ],
      "execution_count": 23,
      "outputs": [
        {
          "output_type": "execute_result",
          "data": {
            "text/plain": [
              "extraction_type          18\n",
              "extraction_type_group    13\n",
              "extraction_type_class     7\n",
              "dtype: int64"
            ]
          },
          "metadata": {
            "tags": []
          },
          "execution_count": 23
        }
      ]
    },
    {
      "cell_type": "code",
      "metadata": {
        "id": "-Wf3YqyjuH4h",
        "colab_type": "code",
        "colab": {
          "base_uri": "https://localhost:8080/",
          "height": 0
        },
        "outputId": "9f7bd156-77d0-49a7-f1b2-637bb0e1f2af"
      },
      "source": [
        "train[['extraction_type', 'extraction_type_group', 'extraction_type_class']].isin(['unknown']).sum()"
      ],
      "execution_count": 24,
      "outputs": [
        {
          "output_type": "execute_result",
          "data": {
            "text/plain": [
              "extraction_type          0\n",
              "extraction_type_group    0\n",
              "extraction_type_class    0\n",
              "dtype: int64"
            ]
          },
          "metadata": {
            "tags": []
          },
          "execution_count": 24
        }
      ]
    },
    {
      "cell_type": "code",
      "metadata": {
        "id": "zOMSjS5Bt-11",
        "colab_type": "code",
        "colab": {
          "base_uri": "https://localhost:8080/",
          "height": 85
        },
        "outputId": "4e32bc3f-c04b-41c0-81d5-2ad0c908efa2"
      },
      "source": [
        "train[['extraction_type', 'extraction_type_group', 'extraction_type_class']].isin(['other']).sum()"
      ],
      "execution_count": 25,
      "outputs": [
        {
          "output_type": "execute_result",
          "data": {
            "text/plain": [
              "extraction_type          5193\n",
              "extraction_type_group    5193\n",
              "extraction_type_class    5193\n",
              "dtype: int64"
            ]
          },
          "metadata": {
            "tags": []
          },
          "execution_count": 25
        }
      ]
    },
    {
      "cell_type": "markdown",
      "metadata": {
        "id": "Rz7MnZsyYdfF",
        "colab_type": "text"
      },
      "source": [
        "#### Analyzing the results above, I decided the next actions:\n",
        "1. Delete column  'recorded_by'. It's contains the same value in every cell.\n",
        "\n",
        "2. Delete column 'quality_group'. Have same data as 'water_quality',  but the last have 2 values divided in 4 values \n",
        "\n",
        "3. Doubled data in the columns 'quantity_group' and 'quantity'. Drop 'quantity_group' column\n",
        "\n",
        "4. Delete column 'waterpoint_type_group'. Have same data as 'waterpoint_type',  but the last have 1 category divided in 2 categories\n",
        "\n",
        "5. Columns 'payment' and 'payment_type' double the same values and I will drop the 'payment column'\n",
        "\n",
        "6. Columns  'source', 'source_type', 'source_class' contain the same values. Delete 'source_type', 'source_class'\n",
        "\n",
        "7. Delete column 'scheme_management' it's look like it double the 'management', and the last more or less is it doubled by 'management_group' column what will be deleted too\n",
        "\n",
        "8. Delete columns 'extraction_type_group', 'extraction_type_class' that double the column 'extraction_type' (the last have more type of value, and could be more useful)\n",
        "\n",
        "#### Conclusion\n",
        "Delete columns:  recorded_by, quality_group, quantity_group, waterpoint_type_group, payment column, source_type, source_class, scheme_management, management_group, extraction_type_group, extraction_type_class"
      ]
    },
    {
      "cell_type": "code",
      "metadata": {
        "id": "EKqVkrUALkCq",
        "colab_type": "code",
        "colab": {}
      },
      "source": [
        "def wrangle(X):\n",
        "  \"\"\"Wrangle train, validate and test sets in the same way\"\"\"\n",
        "  X = X.copy()\n",
        "  \n",
        "  # Convert data_recorded to datetime\n",
        "  X['date_recorded'] = pd.to_datetime(X['date_recorded'], infer_datetime_format=True)\n",
        "  \n",
        "  # Extract components from date_recorded, then drop the original column\n",
        "  X['year_recorded'] = X['date_recorded'].dt.year\n",
        "  X['month_recorded'] = X['date_recorded'].dt.month\n",
        "  X['day_recorded'] = X['date_recorded'].dt.day\n",
        "  X = X.drop(columns='date_recorded')\n",
        "  \n",
        "  # Delete the columns that double the data\n",
        "  X = X.drop(columns=['recorded_by', 'quality_group', 'quantity_group', \n",
        "              'waterpoint_type_group', 'payment', 'source_type', \n",
        "              'source_class', 'scheme_management', 'management_group', \n",
        "              'extraction_type_group', 'extraction_type_class'])\n",
        "  \n",
        "  # Delete 'id' column doesn't contain information as feature\n",
        "  X.drop(columns='id', inplace=True)\n",
        "  \n",
        "  # About 3% of the time, latitude has small values near zero,\n",
        "  # outside Tanzania, so we'll treat these like null values\n",
        "  X['latitude'] = X['latitude'].replace(-2e-08, np.nan)\n",
        "\n",
        "  # When columns have zeros and shouldn't, they are like null values\n",
        "  for col in ['construction_year', 'longitude', 'latitude', 'gps_height', 'population']:\n",
        "    X[col] = X[col].replace(0, np.nan)\n",
        "  \n",
        "  # Calculate the age of the pump at the moment of recording\n",
        "  X['age'] = X['year_recorded'] - X['construction_year']\n",
        "  \n",
        "  X.drop(columns='construction_year', inplace=True)\n",
        "  \n",
        "  return X"
      ],
      "execution_count": 0,
      "outputs": []
    },
    {
      "cell_type": "markdown",
      "metadata": {
        "id": "849IvIvWk9A-",
        "colab_type": "text"
      },
      "source": [
        "#### Wrangle datasets"
      ]
    },
    {
      "cell_type": "code",
      "metadata": {
        "id": "da6xn0B6yBRt",
        "colab_type": "code",
        "colab": {}
      },
      "source": [
        "train = wrangle(train)\n",
        "val = wrangle(val)\n",
        "test = wrangle(test)"
      ],
      "execution_count": 0,
      "outputs": []
    },
    {
      "cell_type": "code",
      "metadata": {
        "id": "RyaFhZOm-GYg",
        "colab_type": "code",
        "colab": {
          "base_uri": "https://localhost:8080/",
          "height": 34
        },
        "outputId": "94dade73-9d69-4736-b94c-08723db737bb"
      },
      "source": [
        "train.shape, val.shape, test.shape"
      ],
      "execution_count": 50,
      "outputs": [
        {
          "output_type": "execute_result",
          "data": {
            "text/plain": [
              "((47520, 32), (11880, 32), (14358, 31))"
            ]
          },
          "metadata": {
            "tags": []
          },
          "execution_count": 50
        }
      ]
    },
    {
      "cell_type": "markdown",
      "metadata": {
        "id": "e5pmAdwhmJgV",
        "colab_type": "text"
      },
      "source": [
        "#### Define features and target"
      ]
    },
    {
      "cell_type": "code",
      "metadata": {
        "id": "TWMIud8smGTh",
        "colab_type": "code",
        "colab": {}
      },
      "source": [
        "# The status_group column is the target\n",
        "target = 'status_group'\n",
        "\n",
        "# Get a dataframe with all train columns except the target\n",
        "train_features = train.drop(columns=[target])\n",
        "\n",
        "# Get a list of the numeric features\n",
        "numeric_features = train_features.select_dtypes(include='number').columns.tolist()\n",
        "\n",
        "# Get a series with the cardinality of the nonnumeric features\n",
        "cardinality = train_features.select_dtypes(exclude='number').nunique()\n",
        "\n",
        "# Get a list of all categorical features with cardinality <= 50\n",
        "categorical_features = cardinality[cardinality <= 50].index.tolist()\n",
        "\n",
        "# Combine the lists \n",
        "features = numeric_features + categorical_features"
      ],
      "execution_count": 0,
      "outputs": []
    },
    {
      "cell_type": "code",
      "metadata": {
        "id": "u7R9ApfRlkWG",
        "colab_type": "code",
        "colab": {}
      },
      "source": [
        "# Arrange data into X features matrix and y target vector \n",
        "X_train = train[features]\n",
        "y_train = train[target]\n",
        "X_val = val[features]\n",
        "y_val = val[target]\n",
        "X_test = test[features]"
      ],
      "execution_count": 0,
      "outputs": []
    },
    {
      "cell_type": "markdown",
      "metadata": {
        "id": "UfBw_8-flZei",
        "colab_type": "text"
      },
      "source": [
        "## Random Forest Classifier"
      ]
    },
    {
      "cell_type": "code",
      "metadata": {
        "id": "7fFdTkCHle4Q",
        "colab_type": "code",
        "colab": {
          "base_uri": "https://localhost:8080/",
          "height": 0
        },
        "outputId": "e285e04f-d914-4239-b9e8-11e7cd5d2e82"
      },
      "source": [
        "%%time\n",
        "from sklearn.ensemble import RandomForestClassifier\n",
        "\n",
        "pipeline = make_pipeline(\n",
        "    ce.OneHotEncoder(use_cat_names=True), \n",
        "    SimpleImputer(strategy='median'), \n",
        "    RandomForestClassifier(n_estimators=200, random_state=42, n_jobs=-1)\n",
        ")\n",
        "\n",
        "# Fit on train, score on val\n",
        "model = pipeline.fit(X_train, y_train)\n",
        "print('Validation Accuracy', pipeline.score(X_val, y_val))"
      ],
      "execution_count": 73,
      "outputs": [
        {
          "output_type": "stream",
          "text": [
            "Validation Accuracy 0.8085858585858586\n",
            "CPU times: user 39.5 s, sys: 417 ms, total: 39.9 s\n",
            "Wall time: 21.6 s\n"
          ],
          "name": "stdout"
        }
      ]
    },
    {
      "cell_type": "code",
      "metadata": {
        "id": "iP18bv-Ou7Ha",
        "colab_type": "code",
        "colab": {}
      },
      "source": [
        "y_pred = model.predict(X_test)"
      ],
      "execution_count": 0,
      "outputs": []
    },
    {
      "cell_type": "code",
      "metadata": {
        "id": "HpyW1EEGuhF_",
        "colab_type": "code",
        "colab": {
          "base_uri": "https://localhost:8080/",
          "height": 0
        },
        "outputId": "f220f213-73c9-407f-a18e-3f8ca7377ee9"
      },
      "source": [
        "X_train.shape"
      ],
      "execution_count": 22,
      "outputs": [
        {
          "output_type": "execute_result",
          "data": {
            "text/plain": [
              "(47520, 24)"
            ]
          },
          "metadata": {
            "tags": []
          },
          "execution_count": 22
        }
      ]
    },
    {
      "cell_type": "code",
      "metadata": {
        "id": "CltkJLEMurs4",
        "colab_type": "code",
        "colab": {
          "base_uri": "https://localhost:8080/",
          "height": 0
        },
        "outputId": "83826dfb-0af3-45d1-bb65-7c1f496d329e"
      },
      "source": [
        "X_test.shape"
      ],
      "execution_count": 23,
      "outputs": [
        {
          "output_type": "execute_result",
          "data": {
            "text/plain": [
              "(14358, 24)"
            ]
          },
          "metadata": {
            "tags": []
          },
          "execution_count": 23
        }
      ]
    },
    {
      "cell_type": "markdown",
      "metadata": {
        "id": "FNJJkjGNpp1H",
        "colab_type": "text"
      },
      "source": [
        "## Ordinal encoding"
      ]
    },
    {
      "cell_type": "code",
      "metadata": {
        "id": "Uz_IUyLr9EME",
        "colab_type": "code",
        "colab": {}
      },
      "source": [
        "# Arrange data into X features matrix and y target vector\n",
        "X_train = train.drop(columns=target)\n",
        "y_train = train[target]\n",
        "X_val = val.drop(columns=target)\n",
        "y_val = val[target]"
      ],
      "execution_count": 0,
      "outputs": []
    },
    {
      "cell_type": "code",
      "metadata": {
        "id": "cZrEJ-Qe9NuF",
        "colab_type": "code",
        "colab": {
          "base_uri": "https://localhost:8080/",
          "height": 34
        },
        "outputId": "1a9a697f-78c0-4bf2-efae-fb16a1c3142e"
      },
      "source": [
        "X_train.shape, X_val.shape, X_test.shape"
      ],
      "execution_count": 48,
      "outputs": [
        {
          "output_type": "execute_result",
          "data": {
            "text/plain": [
              "((47520, 31), (11880, 31), (14358, 24))"
            ]
          },
          "metadata": {
            "tags": []
          },
          "execution_count": 48
        }
      ]
    },
    {
      "cell_type": "code",
      "metadata": {
        "id": "o-i80FLHp3P2",
        "colab_type": "code",
        "colab": {
          "base_uri": "https://localhost:8080/",
          "height": 68
        },
        "outputId": "3be5c1f8-1b9b-4d84-ffa7-5f1a0a7761f6"
      },
      "source": [
        "%%time\n",
        "\n",
        "pipeline = make_pipeline(\n",
        "    ce.OrdinalEncoder(), \n",
        "    SimpleImputer(strategy='median'), \n",
        "    RandomForestClassifier(n_estimators=200, random_state=42, n_jobs=-1)\n",
        ")\n",
        "\n",
        "# Fit on train, score on val\n",
        "pipeline.fit(X_train, y_train)\n",
        "y_pred = pipeline.predict(test)\n",
        "print('Validation Accuracy', pipeline.score(X_val, y_val))"
      ],
      "execution_count": 95,
      "outputs": [
        {
          "output_type": "stream",
          "text": [
            "Validation Accuracy 0.8111952861952862\n",
            "CPU times: user 39.9 s, sys: 144 ms, total: 40.1 s\n",
            "Wall time: 20.9 s\n"
          ],
          "name": "stdout"
        }
      ]
    },
    {
      "cell_type": "code",
      "metadata": {
        "id": "BveAgsAUezG7",
        "colab_type": "code",
        "colab": {
          "base_uri": "https://localhost:8080/",
          "height": 68
        },
        "outputId": "5c7007da-1b0c-40d1-8502-55a77bd3caa1"
      },
      "source": [
        "%%time\n",
        "\n",
        "pipeline = make_pipeline(\n",
        "    ce.OrdinalEncoder(), \n",
        "    SimpleImputer(strategy='mean'), \n",
        "    RandomForestClassifier(n_estimators=200, random_state=42, n_jobs=-1)\n",
        ")\n",
        "\n",
        "# Fit on train, score on val\n",
        "pipeline.fit(X_train, y_train)\n",
        "y_pred = pipeline.predict(test)\n",
        "print('Validation Accuracy', pipeline.score(X_val, y_val))"
      ],
      "execution_count": 96,
      "outputs": [
        {
          "output_type": "stream",
          "text": [
            "Validation Accuracy 0.8092592592592592\n",
            "CPU times: user 41.7 s, sys: 146 ms, total: 41.8 s\n",
            "Wall time: 21.7 s\n"
          ],
          "name": "stdout"
        }
      ]
    },
    {
      "cell_type": "code",
      "metadata": {
        "id": "JQi28UUAhNfd",
        "colab_type": "code",
        "colab": {
          "base_uri": "https://localhost:8080/",
          "height": 68
        },
        "outputId": "fb70e506-8c02-4aa0-96cc-ac4f1f4ba574"
      },
      "source": [
        "%%time\n",
        "\n",
        "pipeline = make_pipeline(\n",
        "    ce.OrdinalEncoder(), \n",
        "    SimpleImputer(strategy='most_frequent'), \n",
        "    RandomForestClassifier(n_estimators=200, random_state=42, n_jobs=-1)\n",
        ")\n",
        "\n",
        "# Fit on train, score on val\n",
        "pipeline.fit(X_train, y_train)\n",
        "y_pred = pipeline.predict(test)\n",
        "print('Validation Accuracy', pipeline.score(X_val, y_val))"
      ],
      "execution_count": 98,
      "outputs": [
        {
          "output_type": "stream",
          "text": [
            "Validation Accuracy 0.8083333333333333\n",
            "CPU times: user 39.7 s, sys: 145 ms, total: 39.8 s\n",
            "Wall time: 20.7 s\n"
          ],
          "name": "stdout"
        }
      ]
    },
    {
      "cell_type": "code",
      "metadata": {
        "id": "WGUxkoQlhJme",
        "colab_type": "code",
        "colab": {}
      },
      "source": [
        ""
      ],
      "execution_count": 0,
      "outputs": []
    },
    {
      "cell_type": "code",
      "metadata": {
        "id": "BawNp1_Ew41S",
        "colab_type": "code",
        "colab": {
          "base_uri": "https://localhost:8080/",
          "height": 34
        },
        "outputId": "cbd2cce9-fa4a-4ed3-b7ec-ff27840393bc"
      },
      "source": [
        "X_val.shape"
      ],
      "execution_count": 26,
      "outputs": [
        {
          "output_type": "execute_result",
          "data": {
            "text/plain": [
              "(11880, 31)"
            ]
          },
          "metadata": {
            "tags": []
          },
          "execution_count": 26
        }
      ]
    },
    {
      "cell_type": "code",
      "metadata": {
        "id": "e0IChwEGqbwh",
        "colab_type": "code",
        "colab": {}
      },
      "source": [
        "submission = sample_submission.copy()\n",
        "submission['status_group'] = y_pred\n",
        "submission.to_csv('submission-06.csv', index=False)"
      ],
      "execution_count": 0,
      "outputs": []
    },
    {
      "cell_type": "code",
      "metadata": {
        "id": "kdynAfKTq9-p",
        "colab_type": "code",
        "colab": {}
      },
      "source": [
        "from google.colab import files\n",
        "files.download('submission-06.csv')"
      ],
      "execution_count": 0,
      "outputs": []
    },
    {
      "cell_type": "markdown",
      "metadata": {
        "id": "B0sIqgJlDLL7",
        "colab_type": "text"
      },
      "source": [
        "## XGBoost Classifier"
      ]
    },
    {
      "cell_type": "code",
      "metadata": {
        "id": "wgJDFNxe_6JQ",
        "colab_type": "code",
        "colab": {
          "base_uri": "https://localhost:8080/",
          "height": 68
        },
        "outputId": "2e49227a-2dce-4872-de2c-b3fa3dbf2393"
      },
      "source": [
        "!pip install xgboost"
      ],
      "execution_count": 78,
      "outputs": [
        {
          "output_type": "stream",
          "text": [
            "Requirement already satisfied: xgboost in /usr/local/lib/python3.6/dist-packages (0.90)\n",
            "Requirement already satisfied: numpy in /usr/local/lib/python3.6/dist-packages (from xgboost) (1.16.4)\n",
            "Requirement already satisfied: scipy in /usr/local/lib/python3.6/dist-packages (from xgboost) (1.3.0)\n"
          ],
          "name": "stdout"
        }
      ]
    },
    {
      "cell_type": "code",
      "metadata": {
        "id": "6FjEfqyMAHlR",
        "colab_type": "code",
        "colab": {}
      },
      "source": [
        "from xgboost import XGBClassifier"
      ],
      "execution_count": 0,
      "outputs": []
    },
    {
      "cell_type": "code",
      "metadata": {
        "id": "PyCNq0tuBeSQ",
        "colab_type": "code",
        "colab": {}
      },
      "source": [
        "encoder = pipeline.named_steps['ordinalencoder']\n",
        "imputer = pipeline.named_steps['simpleimputer']\n",
        "X_train_encoded = encoder.transform(X_train)\n",
        "X_train_imputed = imputer.transform(X_train_encoded)"
      ],
      "execution_count": 0,
      "outputs": []
    },
    {
      "cell_type": "code",
      "metadata": {
        "id": "4yZC-neWAJGf",
        "colab_type": "code",
        "colab": {
          "base_uri": "https://localhost:8080/",
          "height": 136
        },
        "outputId": "5339217a-5035-4044-d81d-677b24271a66"
      },
      "source": [
        "model = XGBClassifier()\n",
        "model.fit(X_train_encoded, y_train)"
      ],
      "execution_count": 81,
      "outputs": [
        {
          "output_type": "execute_result",
          "data": {
            "text/plain": [
              "XGBClassifier(base_score=0.5, booster='gbtree', colsample_bylevel=1,\n",
              "              colsample_bynode=1, colsample_bytree=1, gamma=0,\n",
              "              learning_rate=0.1, max_delta_step=0, max_depth=3,\n",
              "              min_child_weight=1, missing=None, n_estimators=100, n_jobs=1,\n",
              "              nthread=None, objective='multi:softprob', random_state=0,\n",
              "              reg_alpha=0, reg_lambda=1, scale_pos_weight=1, seed=None,\n",
              "              silent=None, subsample=1, verbosity=1)"
            ]
          },
          "metadata": {
            "tags": []
          },
          "execution_count": 81
        }
      ]
    },
    {
      "cell_type": "code",
      "metadata": {
        "id": "qsos7PIwCieh",
        "colab_type": "code",
        "colab": {}
      },
      "source": [
        "X_val_encoded = encoder.transform(X_val)\n",
        "X_val_imputed = imputer.transform(X_val_encoded)"
      ],
      "execution_count": 0,
      "outputs": []
    },
    {
      "cell_type": "code",
      "metadata": {
        "id": "kU7IdpTYCYHP",
        "colab_type": "code",
        "colab": {
          "base_uri": "https://localhost:8080/",
          "height": 34
        },
        "outputId": "a528d880-c134-4140-937d-94285c08ba26"
      },
      "source": [
        "model.score(X_val_encoded, y_val)"
      ],
      "execution_count": 83,
      "outputs": [
        {
          "output_type": "execute_result",
          "data": {
            "text/plain": [
              "0.7428451178451179"
            ]
          },
          "metadata": {
            "tags": []
          },
          "execution_count": 83
        }
      ]
    }
  ]
}