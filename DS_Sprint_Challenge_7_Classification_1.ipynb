{
  "nbformat": 4,
  "nbformat_minor": 0,
  "metadata": {
    "colab": {
      "name": "DS_Sprint_Challenge_7_Classification_1.ipynb",
      "version": "0.3.2",
      "provenance": [],
      "include_colab_link": true
    },
    "language_info": {
      "codemirror_mode": {
        "name": "ipython",
        "version": 3
      },
      "file_extension": ".py",
      "mimetype": "text/x-python",
      "name": "python",
      "nbconvert_exporter": "python",
      "pygments_lexer": "ipython3",
      "version": "3.7.1"
    },
    "kernelspec": {
      "display_name": "Python 3",
      "language": "python",
      "name": "python3"
    }
  },
  "cells": [
    {
      "cell_type": "markdown",
      "metadata": {
        "id": "view-in-github",
        "colab_type": "text"
      },
      "source": [
        "<a href=\"https://colab.research.google.com/github/JefNtungila/DS-Unit-2-Classification-1/blob/master/DS_Sprint_Challenge_7_Classification_1.ipynb\" target=\"_parent\"><img src=\"https://colab.research.google.com/assets/colab-badge.svg\" alt=\"Open In Colab\"/></a>"
      ]
    },
    {
      "cell_type": "markdown",
      "metadata": {
        "id": "7NQhCv9N9NCo",
        "colab_type": "text"
      },
      "source": [
        "_Lambda School Data Science, Unit 2_\n",
        " \n",
        "# Classification 1 Sprint Challenge: Predict Steph Curry's shots 🏀\n",
        "\n",
        "For your Sprint Challenge, you'll use a dataset with all Steph Curry's NBA field goal attempts. (Regular season and playoff games, from October 28, 2009, through June 5, 2019.) \n",
        "\n",
        "You'll use information about the shot and the game to predict whether the shot was made. This is hard to predict! Try for an accuracy score in the high 50's or low 60's. The dataset was collected with the [nba_api](https://github.com/swar/nba_api) Python library."
      ]
    },
    {
      "cell_type": "code",
      "metadata": {
        "id": "LTkx-v2Bf0rV",
        "colab_type": "code",
        "colab": {
          "base_uri": "https://localhost:8080/",
          "height": 284
        },
        "outputId": "6ac4541e-8206-4e47-dbe7-293ce824aa22"
      },
      "source": [
        "!pip install category_encoders"
      ],
      "execution_count": 5,
      "outputs": [
        {
          "output_type": "stream",
          "text": [
            "Collecting category_encoders\n",
            "\u001b[?25l  Downloading https://files.pythonhosted.org/packages/6e/a1/f7a22f144f33be78afeb06bfa78478e8284a64263a3c09b1ef54e673841e/category_encoders-2.0.0-py2.py3-none-any.whl (87kB)\n",
            "\u001b[K     |████████████████████████████████| 92kB 5.9MB/s \n",
            "\u001b[?25hRequirement already satisfied: scikit-learn>=0.20.0 in /usr/local/lib/python3.6/dist-packages (from category_encoders) (0.21.2)\n",
            "Requirement already satisfied: scipy>=0.19.0 in /usr/local/lib/python3.6/dist-packages (from category_encoders) (1.3.0)\n",
            "Requirement already satisfied: pandas>=0.21.1 in /usr/local/lib/python3.6/dist-packages (from category_encoders) (0.24.2)\n",
            "Requirement already satisfied: statsmodels>=0.6.1 in /usr/local/lib/python3.6/dist-packages (from category_encoders) (0.9.0)\n",
            "Requirement already satisfied: patsy>=0.4.1 in /usr/local/lib/python3.6/dist-packages (from category_encoders) (0.5.1)\n",
            "Requirement already satisfied: numpy>=1.11.3 in /usr/local/lib/python3.6/dist-packages (from category_encoders) (1.16.4)\n",
            "Requirement already satisfied: joblib>=0.11 in /usr/local/lib/python3.6/dist-packages (from scikit-learn>=0.20.0->category_encoders) (0.13.2)\n",
            "Requirement already satisfied: pytz>=2011k in /usr/local/lib/python3.6/dist-packages (from pandas>=0.21.1->category_encoders) (2018.9)\n",
            "Requirement already satisfied: python-dateutil>=2.5.0 in /usr/local/lib/python3.6/dist-packages (from pandas>=0.21.1->category_encoders) (2.5.3)\n",
            "Requirement already satisfied: six in /usr/local/lib/python3.6/dist-packages (from patsy>=0.4.1->category_encoders) (1.12.0)\n",
            "Installing collected packages: category-encoders\n",
            "Successfully installed category-encoders-2.0.0\n"
          ],
          "name": "stdout"
        }
      ]
    },
    {
      "cell_type": "code",
      "metadata": {
        "id": "8so54fpdfyBX",
        "colab_type": "code",
        "colab": {}
      },
      "source": [
        "%matplotlib inline\n",
        "import category_encoders as ce\n",
        "import matplotlib.pyplot as plt\n",
        "import numpy as np\n",
        "import pandas as pd\n",
        "import seaborn as sns\n",
        "from sklearn.linear_model import LogisticRegression\n",
        "from sklearn.model_selection import train_test_split\n",
        "from sklearn.preprocessing import RobustScaler\n",
        "pd.set_option('display.float_format', '{:.2f}'.format)"
      ],
      "execution_count": 0,
      "outputs": []
    },
    {
      "cell_type": "code",
      "metadata": {
        "id": "5RDEWI9c9NCr",
        "colab_type": "code",
        "colab": {}
      },
      "source": [
        "import pandas as pd\n",
        "url = 'https://drive.google.com/uc?export=download&id=1fL7KPyxgGYfQDsuJoBWHIWwCAf-HTFpX'\n",
        "df = pd.read_csv(url, parse_dates=['game_date']).set_index('game_date')\n",
        "assert df.shape == (13958, 19)"
      ],
      "execution_count": 0,
      "outputs": []
    },
    {
      "cell_type": "code",
      "metadata": {
        "id": "HPEaj7qcfCla",
        "colab_type": "code",
        "colab": {
          "base_uri": "https://localhost:8080/",
          "height": 328
        },
        "outputId": "9c0e61fb-77b5-4bc2-aef6-306c1becf41e"
      },
      "source": [
        "df.head() #first look at table content"
      ],
      "execution_count": 41,
      "outputs": [
        {
          "output_type": "execute_result",
          "data": {
            "text/html": [
              "<div>\n",
              "<style scoped>\n",
              "    .dataframe tbody tr th:only-of-type {\n",
              "        vertical-align: middle;\n",
              "    }\n",
              "\n",
              "    .dataframe tbody tr th {\n",
              "        vertical-align: top;\n",
              "    }\n",
              "\n",
              "    .dataframe thead th {\n",
              "        text-align: right;\n",
              "    }\n",
              "</style>\n",
              "<table border=\"1\" class=\"dataframe\">\n",
              "  <thead>\n",
              "    <tr style=\"text-align: right;\">\n",
              "      <th></th>\n",
              "      <th>game_id</th>\n",
              "      <th>game_event_id</th>\n",
              "      <th>player_name</th>\n",
              "      <th>period</th>\n",
              "      <th>minutes_remaining</th>\n",
              "      <th>seconds_remaining</th>\n",
              "      <th>action_type</th>\n",
              "      <th>shot_type</th>\n",
              "      <th>shot_zone_basic</th>\n",
              "      <th>shot_zone_area</th>\n",
              "      <th>shot_zone_range</th>\n",
              "      <th>shot_distance</th>\n",
              "      <th>loc_x</th>\n",
              "      <th>loc_y</th>\n",
              "      <th>shot_made_flag</th>\n",
              "      <th>htm</th>\n",
              "      <th>vtm</th>\n",
              "      <th>season_type</th>\n",
              "      <th>scoremargin_before_shot</th>\n",
              "    </tr>\n",
              "    <tr>\n",
              "      <th>game_date</th>\n",
              "      <th></th>\n",
              "      <th></th>\n",
              "      <th></th>\n",
              "      <th></th>\n",
              "      <th></th>\n",
              "      <th></th>\n",
              "      <th></th>\n",
              "      <th></th>\n",
              "      <th></th>\n",
              "      <th></th>\n",
              "      <th></th>\n",
              "      <th></th>\n",
              "      <th></th>\n",
              "      <th></th>\n",
              "      <th></th>\n",
              "      <th></th>\n",
              "      <th></th>\n",
              "      <th></th>\n",
              "      <th></th>\n",
              "    </tr>\n",
              "  </thead>\n",
              "  <tbody>\n",
              "    <tr>\n",
              "      <th>2009-10-28</th>\n",
              "      <td>20900015</td>\n",
              "      <td>4</td>\n",
              "      <td>Stephen Curry</td>\n",
              "      <td>1</td>\n",
              "      <td>11</td>\n",
              "      <td>25</td>\n",
              "      <td>Jump Shot</td>\n",
              "      <td>3PT Field Goal</td>\n",
              "      <td>Above the Break 3</td>\n",
              "      <td>Right Side Center(RC)</td>\n",
              "      <td>24+ ft.</td>\n",
              "      <td>26</td>\n",
              "      <td>99</td>\n",
              "      <td>249</td>\n",
              "      <td>0</td>\n",
              "      <td>GSW</td>\n",
              "      <td>HOU</td>\n",
              "      <td>Regular Season</td>\n",
              "      <td>2.00</td>\n",
              "    </tr>\n",
              "    <tr>\n",
              "      <th>2009-10-28</th>\n",
              "      <td>20900015</td>\n",
              "      <td>17</td>\n",
              "      <td>Stephen Curry</td>\n",
              "      <td>1</td>\n",
              "      <td>9</td>\n",
              "      <td>31</td>\n",
              "      <td>Step Back Jump shot</td>\n",
              "      <td>2PT Field Goal</td>\n",
              "      <td>Mid-Range</td>\n",
              "      <td>Left Side Center(LC)</td>\n",
              "      <td>16-24 ft.</td>\n",
              "      <td>18</td>\n",
              "      <td>-122</td>\n",
              "      <td>145</td>\n",
              "      <td>1</td>\n",
              "      <td>GSW</td>\n",
              "      <td>HOU</td>\n",
              "      <td>Regular Season</td>\n",
              "      <td>0.00</td>\n",
              "    </tr>\n",
              "    <tr>\n",
              "      <th>2009-10-28</th>\n",
              "      <td>20900015</td>\n",
              "      <td>53</td>\n",
              "      <td>Stephen Curry</td>\n",
              "      <td>1</td>\n",
              "      <td>6</td>\n",
              "      <td>2</td>\n",
              "      <td>Jump Shot</td>\n",
              "      <td>2PT Field Goal</td>\n",
              "      <td>In The Paint (Non-RA)</td>\n",
              "      <td>Center(C)</td>\n",
              "      <td>8-16 ft.</td>\n",
              "      <td>14</td>\n",
              "      <td>-60</td>\n",
              "      <td>129</td>\n",
              "      <td>0</td>\n",
              "      <td>GSW</td>\n",
              "      <td>HOU</td>\n",
              "      <td>Regular Season</td>\n",
              "      <td>-4.00</td>\n",
              "    </tr>\n",
              "    <tr>\n",
              "      <th>2009-10-28</th>\n",
              "      <td>20900015</td>\n",
              "      <td>141</td>\n",
              "      <td>Stephen Curry</td>\n",
              "      <td>2</td>\n",
              "      <td>9</td>\n",
              "      <td>49</td>\n",
              "      <td>Jump Shot</td>\n",
              "      <td>2PT Field Goal</td>\n",
              "      <td>Mid-Range</td>\n",
              "      <td>Left Side(L)</td>\n",
              "      <td>16-24 ft.</td>\n",
              "      <td>19</td>\n",
              "      <td>-172</td>\n",
              "      <td>82</td>\n",
              "      <td>0</td>\n",
              "      <td>GSW</td>\n",
              "      <td>HOU</td>\n",
              "      <td>Regular Season</td>\n",
              "      <td>-4.00</td>\n",
              "    </tr>\n",
              "    <tr>\n",
              "      <th>2009-10-28</th>\n",
              "      <td>20900015</td>\n",
              "      <td>249</td>\n",
              "      <td>Stephen Curry</td>\n",
              "      <td>2</td>\n",
              "      <td>2</td>\n",
              "      <td>19</td>\n",
              "      <td>Jump Shot</td>\n",
              "      <td>2PT Field Goal</td>\n",
              "      <td>Mid-Range</td>\n",
              "      <td>Left Side Center(LC)</td>\n",
              "      <td>16-24 ft.</td>\n",
              "      <td>16</td>\n",
              "      <td>-68</td>\n",
              "      <td>148</td>\n",
              "      <td>0</td>\n",
              "      <td>GSW</td>\n",
              "      <td>HOU</td>\n",
              "      <td>Regular Season</td>\n",
              "      <td>0.00</td>\n",
              "    </tr>\n",
              "  </tbody>\n",
              "</table>\n",
              "</div>"
            ],
            "text/plain": [
              "             game_id  game_event_id  ...     season_type  scoremargin_before_shot\n",
              "game_date                            ...                                         \n",
              "2009-10-28  20900015              4  ...  Regular Season                     2.00\n",
              "2009-10-28  20900015             17  ...  Regular Season                     0.00\n",
              "2009-10-28  20900015             53  ...  Regular Season                    -4.00\n",
              "2009-10-28  20900015            141  ...  Regular Season                    -4.00\n",
              "2009-10-28  20900015            249  ...  Regular Season                     0.00\n",
              "\n",
              "[5 rows x 19 columns]"
            ]
          },
          "metadata": {
            "tags": []
          },
          "execution_count": 41
        }
      ]
    },
    {
      "cell_type": "code",
      "metadata": {
        "id": "NZpG_Z3HhgZg",
        "colab_type": "code",
        "colab": {
          "base_uri": "https://localhost:8080/",
          "height": 282
        },
        "outputId": "916c1c88-01e6-4d8e-fe20-ef7efbe1d40a"
      },
      "source": [
        "df.describe()"
      ],
      "execution_count": 42,
      "outputs": [
        {
          "output_type": "execute_result",
          "data": {
            "text/html": [
              "<div>\n",
              "<style scoped>\n",
              "    .dataframe tbody tr th:only-of-type {\n",
              "        vertical-align: middle;\n",
              "    }\n",
              "\n",
              "    .dataframe tbody tr th {\n",
              "        vertical-align: top;\n",
              "    }\n",
              "\n",
              "    .dataframe thead th {\n",
              "        text-align: right;\n",
              "    }\n",
              "</style>\n",
              "<table border=\"1\" class=\"dataframe\">\n",
              "  <thead>\n",
              "    <tr style=\"text-align: right;\">\n",
              "      <th></th>\n",
              "      <th>game_id</th>\n",
              "      <th>game_event_id</th>\n",
              "      <th>period</th>\n",
              "      <th>minutes_remaining</th>\n",
              "      <th>seconds_remaining</th>\n",
              "      <th>shot_distance</th>\n",
              "      <th>loc_x</th>\n",
              "      <th>loc_y</th>\n",
              "      <th>shot_made_flag</th>\n",
              "      <th>scoremargin_before_shot</th>\n",
              "    </tr>\n",
              "  </thead>\n",
              "  <tbody>\n",
              "    <tr>\n",
              "      <th>count</th>\n",
              "      <td>13958.00</td>\n",
              "      <td>13958.00</td>\n",
              "      <td>13958.00</td>\n",
              "      <td>13958.00</td>\n",
              "      <td>13958.00</td>\n",
              "      <td>13958.00</td>\n",
              "      <td>13958.00</td>\n",
              "      <td>13958.00</td>\n",
              "      <td>13958.00</td>\n",
              "      <td>13958.00</td>\n",
              "    </tr>\n",
              "    <tr>\n",
              "      <th>mean</th>\n",
              "      <td>24428365.36</td>\n",
              "      <td>270.44</td>\n",
              "      <td>2.41</td>\n",
              "      <td>4.73</td>\n",
              "      <td>28.51</td>\n",
              "      <td>17.60</td>\n",
              "      <td>-0.55</td>\n",
              "      <td>131.26</td>\n",
              "      <td>0.47</td>\n",
              "      <td>1.62</td>\n",
              "    </tr>\n",
              "    <tr>\n",
              "      <th>std</th>\n",
              "      <td>7226619.76</td>\n",
              "      <td>169.93</td>\n",
              "      <td>1.13</td>\n",
              "      <td>3.33</td>\n",
              "      <td>17.60</td>\n",
              "      <td>10.30</td>\n",
              "      <td>124.72</td>\n",
              "      <td>102.67</td>\n",
              "      <td>0.50</td>\n",
              "      <td>10.13</td>\n",
              "    </tr>\n",
              "    <tr>\n",
              "      <th>min</th>\n",
              "      <td>20900015.00</td>\n",
              "      <td>2.00</td>\n",
              "      <td>1.00</td>\n",
              "      <td>0.00</td>\n",
              "      <td>0.00</td>\n",
              "      <td>0.00</td>\n",
              "      <td>-250.00</td>\n",
              "      <td>-41.00</td>\n",
              "      <td>0.00</td>\n",
              "      <td>-39.00</td>\n",
              "    </tr>\n",
              "    <tr>\n",
              "      <th>25%</th>\n",
              "      <td>21200912.00</td>\n",
              "      <td>109.00</td>\n",
              "      <td>1.00</td>\n",
              "      <td>2.00</td>\n",
              "      <td>13.00</td>\n",
              "      <td>8.00</td>\n",
              "      <td>-96.00</td>\n",
              "      <td>23.00</td>\n",
              "      <td>0.00</td>\n",
              "      <td>-4.00</td>\n",
              "    </tr>\n",
              "    <tr>\n",
              "      <th>50%</th>\n",
              "      <td>21500259.00</td>\n",
              "      <td>275.50</td>\n",
              "      <td>2.00</td>\n",
              "      <td>4.00</td>\n",
              "      <td>29.00</td>\n",
              "      <td>22.00</td>\n",
              "      <td>1.00</td>\n",
              "      <td>141.00</td>\n",
              "      <td>0.00</td>\n",
              "      <td>1.00</td>\n",
              "    </tr>\n",
              "    <tr>\n",
              "      <th>75%</th>\n",
              "      <td>21700963.00</td>\n",
              "      <td>398.00</td>\n",
              "      <td>3.00</td>\n",
              "      <td>7.00</td>\n",
              "      <td>44.00</td>\n",
              "      <td>25.00</td>\n",
              "      <td>95.00</td>\n",
              "      <td>219.00</td>\n",
              "      <td>1.00</td>\n",
              "      <td>8.00</td>\n",
              "    </tr>\n",
              "    <tr>\n",
              "      <th>max</th>\n",
              "      <td>41800403.00</td>\n",
              "      <td>752.00</td>\n",
              "      <td>6.00</td>\n",
              "      <td>11.00</td>\n",
              "      <td>59.00</td>\n",
              "      <td>83.00</td>\n",
              "      <td>247.00</td>\n",
              "      <td>811.00</td>\n",
              "      <td>1.00</td>\n",
              "      <td>43.00</td>\n",
              "    </tr>\n",
              "  </tbody>\n",
              "</table>\n",
              "</div>"
            ],
            "text/plain": [
              "          game_id  game_event_id  ...  shot_made_flag  scoremargin_before_shot\n",
              "count    13958.00       13958.00  ...        13958.00                 13958.00\n",
              "mean  24428365.36         270.44  ...            0.47                     1.62\n",
              "std    7226619.76         169.93  ...            0.50                    10.13\n",
              "min   20900015.00           2.00  ...            0.00                   -39.00\n",
              "25%   21200912.00         109.00  ...            0.00                    -4.00\n",
              "50%   21500259.00         275.50  ...            0.00                     1.00\n",
              "75%   21700963.00         398.00  ...            1.00                     8.00\n",
              "max   41800403.00         752.00  ...            1.00                    43.00\n",
              "\n",
              "[8 rows x 10 columns]"
            ]
          },
          "metadata": {
            "tags": []
          },
          "execution_count": 42
        }
      ]
    },
    {
      "cell_type": "code",
      "metadata": {
        "id": "xINd-mPtmIFE",
        "colab_type": "code",
        "colab": {
          "base_uri": "https://localhost:8080/",
          "height": 372
        },
        "outputId": "ce35b996-1fad-4897-9681-c01619200c74"
      },
      "source": [
        "df.dtypes"
      ],
      "execution_count": 43,
      "outputs": [
        {
          "output_type": "execute_result",
          "data": {
            "text/plain": [
              "game_id                      int64\n",
              "game_event_id                int64\n",
              "player_name                 object\n",
              "period                       int64\n",
              "minutes_remaining            int64\n",
              "seconds_remaining            int64\n",
              "action_type                 object\n",
              "shot_type                   object\n",
              "shot_zone_basic             object\n",
              "shot_zone_area              object\n",
              "shot_zone_range             object\n",
              "shot_distance                int64\n",
              "loc_x                        int64\n",
              "loc_y                        int64\n",
              "shot_made_flag               int64\n",
              "htm                         object\n",
              "vtm                         object\n",
              "season_type                 object\n",
              "scoremargin_before_shot    float64\n",
              "dtype: object"
            ]
          },
          "metadata": {
            "tags": []
          },
          "execution_count": 43
        }
      ]
    },
    {
      "cell_type": "markdown",
      "metadata": {
        "id": "vUaCKJquesWZ",
        "colab_type": "text"
      },
      "source": [
        "## Part 1. Prepare to model\n",
        "\n",
        "### Required\n",
        "\n",
        "1. **Do train/validate/test split.** Use the 2009-10 season through 2016-17 season to train, the 2017-18 season to validate, and the 2018-19 season to test. NBA seasons begin in October and end in June. You'll know you've split the data correctly when your train set has 11081 observations, your validation set has 1168 observations, and your test set has 1709 observations.\n",
        "2. **Begin with baselines for classification.** Your target to predict is `shot_made_flag`. What is the baseline accuracy for the validation set, if you guessed the majority class for every prediction?\n",
        "3. **Use Ordinal Encoding _or_ One-Hot Encoding,** for the categorical features you select.\n",
        "4. **Train a Random Forest _or_ Logistic Regression** with the features you select.\n"
      ]
    },
    {
      "cell_type": "markdown",
      "metadata": {
        "id": "aD4X1huR0Y3B",
        "colab_type": "text"
      },
      "source": [
        "##Train Test Split"
      ]
    },
    {
      "cell_type": "code",
      "metadata": {
        "id": "5tClQdgbevYe",
        "colab_type": "code",
        "colab": {
          "base_uri": "https://localhost:8080/",
          "height": 124
        },
        "outputId": "711a7f28-a4df-4538-d24f-68417eadf3ac"
      },
      "source": [
        "df.columns.values #getting the namesof the columns"
      ],
      "execution_count": 44,
      "outputs": [
        {
          "output_type": "execute_result",
          "data": {
            "text/plain": [
              "array(['game_id', 'game_event_id', 'player_name', 'period',\n",
              "       'minutes_remaining', 'seconds_remaining', 'action_type',\n",
              "       'shot_type', 'shot_zone_basic', 'shot_zone_area',\n",
              "       'shot_zone_range', 'shot_distance', 'loc_x', 'loc_y',\n",
              "       'shot_made_flag', 'htm', 'vtm', 'season_type',\n",
              "       'scoremargin_before_shot'], dtype=object)"
            ]
          },
          "metadata": {
            "tags": []
          },
          "execution_count": 44
        }
      ]
    },
    {
      "cell_type": "code",
      "metadata": {
        "id": "YwkwK53Mrd-7",
        "colab_type": "code",
        "colab": {}
      },
      "source": [
        "df.index = pd.to_datetime(df.index) #needed to be able to split the data frame"
      ],
      "execution_count": 0,
      "outputs": []
    },
    {
      "cell_type": "code",
      "metadata": {
        "id": "g2-2JnX2iy0B",
        "colab_type": "code",
        "colab": {
          "base_uri": "https://localhost:8080/",
          "height": 70
        },
        "outputId": "b9a1d026-e0ab-4b69-9aee-01256856d3c0"
      },
      "source": [
        "train = df['2009-10-8':'2017-06-30']\n",
        "val = df['2017-07-01':'2018-06-30']\n",
        "test = df['2018-07-01':'2019-06-05']\n",
        "\n",
        "print('train', train.shape)\n",
        "print('val', val.shape)\n",
        "print('test', test.shape)"
      ],
      "execution_count": 52,
      "outputs": [
        {
          "output_type": "stream",
          "text": [
            "train (11081, 19)\n",
            "val (1168, 19)\n",
            "test (1709, 19)\n"
          ],
          "name": "stdout"
        }
      ]
    },
    {
      "cell_type": "markdown",
      "metadata": {
        "id": "CZwdkvjP0cxI",
        "colab_type": "text"
      },
      "source": [
        "##Baseline for classification"
      ]
    },
    {
      "cell_type": "code",
      "metadata": {
        "id": "46Dk5T25j-NB",
        "colab_type": "code",
        "colab": {
          "base_uri": "https://localhost:8080/",
          "height": 70
        },
        "outputId": "333392de-50a3-4520-f739-f829678eb496"
      },
      "source": [
        "y_train = train['shot_made_flag']\n",
        "y_train.value_counts(normalize=True) #0 is the majority class"
      ],
      "execution_count": 53,
      "outputs": [
        {
          "output_type": "execute_result",
          "data": {
            "text/plain": [
              "0   0.53\n",
              "1   0.47\n",
              "Name: shot_made_flag, dtype: float64"
            ]
          },
          "metadata": {
            "tags": []
          },
          "execution_count": 53
        }
      ]
    },
    {
      "cell_type": "markdown",
      "metadata": {
        "id": "Fy6VEa2d4KAS",
        "colab_type": "text"
      },
      "source": [
        "##One-hot encoding"
      ]
    },
    {
      "cell_type": "code",
      "metadata": {
        "id": "el8QUxHj1lOi",
        "colab_type": "code",
        "colab": {
          "base_uri": "https://localhost:8080/",
          "height": 311
        },
        "outputId": "177bfed5-65c0-4c04-c2cc-847765f4f7a7"
      },
      "source": [
        "train.describe(exclude='number').T.sort_values(by='unique') #checking which non numeric columns would be interesting"
      ],
      "execution_count": 57,
      "outputs": [
        {
          "output_type": "execute_result",
          "data": {
            "text/html": [
              "<div>\n",
              "<style scoped>\n",
              "    .dataframe tbody tr th:only-of-type {\n",
              "        vertical-align: middle;\n",
              "    }\n",
              "\n",
              "    .dataframe tbody tr th {\n",
              "        vertical-align: top;\n",
              "    }\n",
              "\n",
              "    .dataframe thead th {\n",
              "        text-align: right;\n",
              "    }\n",
              "</style>\n",
              "<table border=\"1\" class=\"dataframe\">\n",
              "  <thead>\n",
              "    <tr style=\"text-align: right;\">\n",
              "      <th></th>\n",
              "      <th>count</th>\n",
              "      <th>unique</th>\n",
              "      <th>top</th>\n",
              "      <th>freq</th>\n",
              "    </tr>\n",
              "  </thead>\n",
              "  <tbody>\n",
              "    <tr>\n",
              "      <th>player_name</th>\n",
              "      <td>11081</td>\n",
              "      <td>1</td>\n",
              "      <td>Stephen Curry</td>\n",
              "      <td>11081</td>\n",
              "    </tr>\n",
              "    <tr>\n",
              "      <th>shot_type</th>\n",
              "      <td>11081</td>\n",
              "      <td>2</td>\n",
              "      <td>2PT Field Goal</td>\n",
              "      <td>5941</td>\n",
              "    </tr>\n",
              "    <tr>\n",
              "      <th>season_type</th>\n",
              "      <td>11081</td>\n",
              "      <td>2</td>\n",
              "      <td>Regular Season</td>\n",
              "      <td>9642</td>\n",
              "    </tr>\n",
              "    <tr>\n",
              "      <th>shot_zone_range</th>\n",
              "      <td>11081</td>\n",
              "      <td>5</td>\n",
              "      <td>24+ ft.</td>\n",
              "      <td>5065</td>\n",
              "    </tr>\n",
              "    <tr>\n",
              "      <th>shot_zone_area</th>\n",
              "      <td>11081</td>\n",
              "      <td>6</td>\n",
              "      <td>Center(C)</td>\n",
              "      <td>4820</td>\n",
              "    </tr>\n",
              "    <tr>\n",
              "      <th>shot_zone_basic</th>\n",
              "      <td>11081</td>\n",
              "      <td>7</td>\n",
              "      <td>Above the Break 3</td>\n",
              "      <td>4298</td>\n",
              "    </tr>\n",
              "    <tr>\n",
              "      <th>htm</th>\n",
              "      <td>11081</td>\n",
              "      <td>32</td>\n",
              "      <td>GSW</td>\n",
              "      <td>5512</td>\n",
              "    </tr>\n",
              "    <tr>\n",
              "      <th>vtm</th>\n",
              "      <td>11081</td>\n",
              "      <td>32</td>\n",
              "      <td>GSW</td>\n",
              "      <td>5569</td>\n",
              "    </tr>\n",
              "    <tr>\n",
              "      <th>action_type</th>\n",
              "      <td>11081</td>\n",
              "      <td>51</td>\n",
              "      <td>Jump Shot</td>\n",
              "      <td>5375</td>\n",
              "    </tr>\n",
              "  </tbody>\n",
              "</table>\n",
              "</div>"
            ],
            "text/plain": [
              "                 count unique                top   freq\n",
              "player_name      11081      1      Stephen Curry  11081\n",
              "shot_type        11081      2     2PT Field Goal   5941\n",
              "season_type      11081      2     Regular Season   9642\n",
              "shot_zone_range  11081      5            24+ ft.   5065\n",
              "shot_zone_area   11081      6          Center(C)   4820\n",
              "shot_zone_basic  11081      7  Above the Break 3   4298\n",
              "htm              11081     32                GSW   5512\n",
              "vtm              11081     32                GSW   5569\n",
              "action_type      11081     51          Jump Shot   5375"
            ]
          },
          "metadata": {
            "tags": []
          },
          "execution_count": 57
        }
      ]
    },
    {
      "cell_type": "code",
      "metadata": {
        "id": "GZjoc9Rh1y4T",
        "colab_type": "code",
        "colab": {
          "base_uri": "https://localhost:8080/",
          "height": 124
        },
        "outputId": "1e56eed1-0c34-4da0-8b48-f33d2c84b17c"
      },
      "source": [
        "train['shot_zone_range'].value_counts(dropna=False) #shotzonerange chosen"
      ],
      "execution_count": 58,
      "outputs": [
        {
          "output_type": "execute_result",
          "data": {
            "text/plain": [
              "24+ ft.            5065\n",
              "Less Than 8 ft.    2711\n",
              "16-24 ft.          2133\n",
              "8-16 ft.           1097\n",
              "Back Court Shot      75\n",
              "Name: shot_zone_range, dtype: int64"
            ]
          },
          "metadata": {
            "tags": []
          },
          "execution_count": 58
        }
      ]
    },
    {
      "cell_type": "code",
      "metadata": {
        "id": "upBg6ld_2m9V",
        "colab_type": "code",
        "colab": {
          "base_uri": "https://localhost:8080/",
          "height": 35
        },
        "outputId": "56d3d375-5fcb-400b-f2d8-5e995afc3c60"
      },
      "source": [
        "encoder = ce.OrdinalEncoder() #shotzonerange info\n",
        "encoded = encoder.fit_transform(train['shot_zone_range'])\n",
        "encoded.head(10)\n",
        "encoded['shot_zone_range'].dtype"
      ],
      "execution_count": 110,
      "outputs": [
        {
          "output_type": "execute_result",
          "data": {
            "text/plain": [
              "dtype('int64')"
            ]
          },
          "metadata": {
            "tags": []
          },
          "execution_count": 110
        }
      ]
    },
    {
      "cell_type": "code",
      "metadata": {
        "id": "x1uAYFEY4hoG",
        "colab_type": "code",
        "colab": {
          "base_uri": "https://localhost:8080/",
          "height": 328
        },
        "outputId": "57bf0358-f92f-4bf0-804a-cabf26bbf654"
      },
      "source": [
        "train_encoded = encoder.fit_transform(train) #creating new dataframe for predictions\n",
        "train_encoded.head()"
      ],
      "execution_count": 96,
      "outputs": [
        {
          "output_type": "execute_result",
          "data": {
            "text/html": [
              "<div>\n",
              "<style scoped>\n",
              "    .dataframe tbody tr th:only-of-type {\n",
              "        vertical-align: middle;\n",
              "    }\n",
              "\n",
              "    .dataframe tbody tr th {\n",
              "        vertical-align: top;\n",
              "    }\n",
              "\n",
              "    .dataframe thead th {\n",
              "        text-align: right;\n",
              "    }\n",
              "</style>\n",
              "<table border=\"1\" class=\"dataframe\">\n",
              "  <thead>\n",
              "    <tr style=\"text-align: right;\">\n",
              "      <th></th>\n",
              "      <th>game_id</th>\n",
              "      <th>game_event_id</th>\n",
              "      <th>player_name</th>\n",
              "      <th>period</th>\n",
              "      <th>minutes_remaining</th>\n",
              "      <th>seconds_remaining</th>\n",
              "      <th>action_type</th>\n",
              "      <th>shot_type</th>\n",
              "      <th>shot_zone_basic</th>\n",
              "      <th>shot_zone_area</th>\n",
              "      <th>shot_zone_range</th>\n",
              "      <th>shot_distance</th>\n",
              "      <th>loc_x</th>\n",
              "      <th>loc_y</th>\n",
              "      <th>shot_made_flag</th>\n",
              "      <th>htm</th>\n",
              "      <th>vtm</th>\n",
              "      <th>season_type</th>\n",
              "      <th>scoremargin_before_shot</th>\n",
              "    </tr>\n",
              "    <tr>\n",
              "      <th>game_date</th>\n",
              "      <th></th>\n",
              "      <th></th>\n",
              "      <th></th>\n",
              "      <th></th>\n",
              "      <th></th>\n",
              "      <th></th>\n",
              "      <th></th>\n",
              "      <th></th>\n",
              "      <th></th>\n",
              "      <th></th>\n",
              "      <th></th>\n",
              "      <th></th>\n",
              "      <th></th>\n",
              "      <th></th>\n",
              "      <th></th>\n",
              "      <th></th>\n",
              "      <th></th>\n",
              "      <th></th>\n",
              "      <th></th>\n",
              "    </tr>\n",
              "  </thead>\n",
              "  <tbody>\n",
              "    <tr>\n",
              "      <th>2009-10-28</th>\n",
              "      <td>20900015</td>\n",
              "      <td>4</td>\n",
              "      <td>Stephen Curry</td>\n",
              "      <td>1</td>\n",
              "      <td>11</td>\n",
              "      <td>25</td>\n",
              "      <td>Jump Shot</td>\n",
              "      <td>3PT Field Goal</td>\n",
              "      <td>Above the Break 3</td>\n",
              "      <td>Right Side Center(RC)</td>\n",
              "      <td>1</td>\n",
              "      <td>26</td>\n",
              "      <td>99</td>\n",
              "      <td>249</td>\n",
              "      <td>0</td>\n",
              "      <td>GSW</td>\n",
              "      <td>HOU</td>\n",
              "      <td>Regular Season</td>\n",
              "      <td>2.00</td>\n",
              "    </tr>\n",
              "    <tr>\n",
              "      <th>2009-10-28</th>\n",
              "      <td>20900015</td>\n",
              "      <td>17</td>\n",
              "      <td>Stephen Curry</td>\n",
              "      <td>1</td>\n",
              "      <td>9</td>\n",
              "      <td>31</td>\n",
              "      <td>Step Back Jump shot</td>\n",
              "      <td>2PT Field Goal</td>\n",
              "      <td>Mid-Range</td>\n",
              "      <td>Left Side Center(LC)</td>\n",
              "      <td>2</td>\n",
              "      <td>18</td>\n",
              "      <td>-122</td>\n",
              "      <td>145</td>\n",
              "      <td>1</td>\n",
              "      <td>GSW</td>\n",
              "      <td>HOU</td>\n",
              "      <td>Regular Season</td>\n",
              "      <td>0.00</td>\n",
              "    </tr>\n",
              "    <tr>\n",
              "      <th>2009-10-28</th>\n",
              "      <td>20900015</td>\n",
              "      <td>53</td>\n",
              "      <td>Stephen Curry</td>\n",
              "      <td>1</td>\n",
              "      <td>6</td>\n",
              "      <td>2</td>\n",
              "      <td>Jump Shot</td>\n",
              "      <td>2PT Field Goal</td>\n",
              "      <td>In The Paint (Non-RA)</td>\n",
              "      <td>Center(C)</td>\n",
              "      <td>3</td>\n",
              "      <td>14</td>\n",
              "      <td>-60</td>\n",
              "      <td>129</td>\n",
              "      <td>0</td>\n",
              "      <td>GSW</td>\n",
              "      <td>HOU</td>\n",
              "      <td>Regular Season</td>\n",
              "      <td>-4.00</td>\n",
              "    </tr>\n",
              "    <tr>\n",
              "      <th>2009-10-28</th>\n",
              "      <td>20900015</td>\n",
              "      <td>141</td>\n",
              "      <td>Stephen Curry</td>\n",
              "      <td>2</td>\n",
              "      <td>9</td>\n",
              "      <td>49</td>\n",
              "      <td>Jump Shot</td>\n",
              "      <td>2PT Field Goal</td>\n",
              "      <td>Mid-Range</td>\n",
              "      <td>Left Side(L)</td>\n",
              "      <td>2</td>\n",
              "      <td>19</td>\n",
              "      <td>-172</td>\n",
              "      <td>82</td>\n",
              "      <td>0</td>\n",
              "      <td>GSW</td>\n",
              "      <td>HOU</td>\n",
              "      <td>Regular Season</td>\n",
              "      <td>-4.00</td>\n",
              "    </tr>\n",
              "    <tr>\n",
              "      <th>2009-10-28</th>\n",
              "      <td>20900015</td>\n",
              "      <td>249</td>\n",
              "      <td>Stephen Curry</td>\n",
              "      <td>2</td>\n",
              "      <td>2</td>\n",
              "      <td>19</td>\n",
              "      <td>Jump Shot</td>\n",
              "      <td>2PT Field Goal</td>\n",
              "      <td>Mid-Range</td>\n",
              "      <td>Left Side Center(LC)</td>\n",
              "      <td>2</td>\n",
              "      <td>16</td>\n",
              "      <td>-68</td>\n",
              "      <td>148</td>\n",
              "      <td>0</td>\n",
              "      <td>GSW</td>\n",
              "      <td>HOU</td>\n",
              "      <td>Regular Season</td>\n",
              "      <td>0.00</td>\n",
              "    </tr>\n",
              "  </tbody>\n",
              "</table>\n",
              "</div>"
            ],
            "text/plain": [
              "             game_id  game_event_id  ...     season_type  scoremargin_before_shot\n",
              "game_date                            ...                                         \n",
              "2009-10-28  20900015              4  ...  Regular Season                     2.00\n",
              "2009-10-28  20900015             17  ...  Regular Season                     0.00\n",
              "2009-10-28  20900015             53  ...  Regular Season                    -4.00\n",
              "2009-10-28  20900015            141  ...  Regular Season                    -4.00\n",
              "2009-10-28  20900015            249  ...  Regular Season                     0.00\n",
              "\n",
              "[5 rows x 19 columns]"
            ]
          },
          "metadata": {
            "tags": []
          },
          "execution_count": 96
        }
      ]
    },
    {
      "cell_type": "markdown",
      "metadata": {
        "id": "LbHk4fjB3ZRk",
        "colab_type": "text"
      },
      "source": [
        "##Random Forest Model"
      ]
    },
    {
      "cell_type": "code",
      "metadata": {
        "id": "GeINMHYr78BS",
        "colab_type": "code",
        "colab": {
          "base_uri": "https://localhost:8080/",
          "height": 124
        },
        "outputId": "dd2e26b9-3c27-476f-8831-252775ae835f"
      },
      "source": [
        "train_encoded.columns.values"
      ],
      "execution_count": 97,
      "outputs": [
        {
          "output_type": "execute_result",
          "data": {
            "text/plain": [
              "array(['game_id', 'game_event_id', 'player_name', 'period',\n",
              "       'minutes_remaining', 'seconds_remaining', 'action_type',\n",
              "       'shot_type', 'shot_zone_basic', 'shot_zone_area',\n",
              "       'shot_zone_range', 'shot_distance', 'loc_x', 'loc_y',\n",
              "       'shot_made_flag', 'htm', 'vtm', 'season_type',\n",
              "       'scoremargin_before_shot'], dtype=object)"
            ]
          },
          "metadata": {
            "tags": []
          },
          "execution_count": 97
        }
      ]
    },
    {
      "cell_type": "code",
      "metadata": {
        "id": "cDSfbyko3vI2",
        "colab_type": "code",
        "colab": {}
      },
      "source": [
        "X_train = train_encoded[['game_id', 'game_event_id', 'player_name', 'period',\n",
        "       'minutes_remaining', 'seconds_remaining', 'action_type',\n",
        "       'shot_type', 'shot_zone_basic', 'shot_zone_area',\n",
        "       'shot_zone_range', 'shot_distance', 'loc_x', 'loc_y',\n",
        "        'htm', 'vtm', 'season_type',\n",
        "       'scoremargin_before_shot']]\n",
        "\n",
        "y_train = train_encoded['shot_made_flag']\n",
        "\n"
      ],
      "execution_count": 0,
      "outputs": []
    },
    {
      "cell_type": "code",
      "metadata": {
        "id": "3X77eK9a9M0s",
        "colab_type": "code",
        "colab": {
          "base_uri": "https://localhost:8080/",
          "height": 124
        },
        "outputId": "4d99c377-c502-4b3f-ba9a-10d08c2a87d1"
      },
      "source": [
        "val.columns.values"
      ],
      "execution_count": 101,
      "outputs": [
        {
          "output_type": "execute_result",
          "data": {
            "text/plain": [
              "array(['game_id', 'game_event_id', 'player_name', 'period',\n",
              "       'minutes_remaining', 'seconds_remaining', 'action_type',\n",
              "       'shot_type', 'shot_zone_basic', 'shot_zone_area',\n",
              "       'shot_zone_range', 'shot_distance', 'loc_x', 'loc_y',\n",
              "       'shot_made_flag', 'htm', 'vtm', 'season_type',\n",
              "       'scoremargin_before_shot'], dtype=object)"
            ]
          },
          "metadata": {
            "tags": []
          },
          "execution_count": 101
        }
      ]
    },
    {
      "cell_type": "code",
      "metadata": {
        "id": "dDvvkNIu8-Gi",
        "colab_type": "code",
        "colab": {}
      },
      "source": [
        "X_val =val[['game_id', 'game_event_id', 'player_name', 'period',\n",
        "       'minutes_remaining', 'seconds_remaining', 'action_type',\n",
        "       'shot_type', 'shot_zone_basic', 'shot_zone_area',\n",
        "       'shot_zone_range', 'shot_distance', 'loc_x', 'loc_y',\n",
        "        'htm', 'vtm', 'season_type',\n",
        "       'scoremargin_before_shot']]\n",
        "\n",
        "y_val = val['shot_made_flag']"
      ],
      "execution_count": 0,
      "outputs": []
    },
    {
      "cell_type": "code",
      "metadata": {
        "id": "72WqNEy85fb1",
        "colab_type": "code",
        "colab": {
          "base_uri": "https://localhost:8080/",
          "height": 52
        },
        "outputId": "46b2cd4c-8b4c-49b4-e0ed-13ddcc349dde"
      },
      "source": [
        "%%time\n",
        "from sklearn.ensemble import RandomForestClassifier\n",
        "\n",
        "pipeline = make_pipeline(\n",
        "    ce.OneHotEncoder(use_cat_names=True), \n",
        "    SimpleImputer(strategy='median'), \n",
        "    RandomForestClassifier(n_estimators=100, random_state=42, n_jobs=-1)\n",
        ")\n",
        "\n",
        "# Fit on train, score on val\n",
        "a = pipeline.fit(X_train, y_train)\n",
        "# print('Validation Accuracy', pipeline.score(X_val, y_val))"
      ],
      "execution_count": 112,
      "outputs": [
        {
          "output_type": "stream",
          "text": [
            "CPU times: user 3.7 s, sys: 34.2 ms, total: 3.73 s\n",
            "Wall time: 2.19 s\n"
          ],
          "name": "stdout"
        }
      ]
    },
    {
      "cell_type": "code",
      "metadata": {
        "id": "A1sE2es-CVoS",
        "colab_type": "code",
        "colab": {
          "base_uri": "https://localhost:8080/",
          "height": 426
        },
        "outputId": "0599ac87-a5e3-493e-9c61-518fec6dc5ad"
      },
      "source": [
        "a"
      ],
      "execution_count": 113,
      "outputs": [
        {
          "output_type": "execute_result",
          "data": {
            "text/plain": [
              "Pipeline(memory=None,\n",
              "         steps=[('onehotencoder',\n",
              "                 OneHotEncoder(cols=['player_name', 'action_type', 'shot_type',\n",
              "                                     'shot_zone_basic', 'shot_zone_area', 'htm',\n",
              "                                     'vtm', 'season_type'],\n",
              "                               drop_invariant=False, handle_missing='value',\n",
              "                               handle_unknown='value', return_df=True,\n",
              "                               use_cat_names=True, verbose=0)),\n",
              "                ('simpleimputer',\n",
              "                 SimpleImputer(add_indicator=False, copy=True, fill_valu...\n",
              "                ('randomforestclassifier',\n",
              "                 RandomForestClassifier(bootstrap=True, class_weight=None,\n",
              "                                        criterion='gini', max_depth=None,\n",
              "                                        max_features='auto',\n",
              "                                        max_leaf_nodes=None,\n",
              "                                        min_impurity_decrease=0.0,\n",
              "                                        min_impurity_split=None,\n",
              "                                        min_samples_leaf=1, min_samples_split=2,\n",
              "                                        min_weight_fraction_leaf=0.0,\n",
              "                                        n_estimators=100, n_jobs=-1,\n",
              "                                        oob_score=False, random_state=42,\n",
              "                                        verbose=0, warm_start=False))],\n",
              "         verbose=False)"
            ]
          },
          "metadata": {
            "tags": []
          },
          "execution_count": 113
        }
      ]
    },
    {
      "cell_type": "markdown",
      "metadata": {
        "id": "VwiqiXQFlXJZ",
        "colab_type": "text"
      },
      "source": [
        "\n",
        "### Stretch goals\n",
        "Engineer at least 4 of these 5 features:\n",
        "\n",
        "- **Homecourt Advantage**: Is the home team (`htm`) the Golden State Warriors (`GSW`) ?\n",
        "- **Opponent**: Who is the other team playing the Golden State Warriors?\n",
        "- **Seconds remaining in the period**: Combine minutes remaining with seconds remaining, to get the total number of seconds remaining in the period.\n",
        "- **Seconds remaining in the game**: Combine period, and seconds remaining in the period, to get the total number of seconds remaining in the game. A basketball game has 4 periods, each 12 minutes long.\n",
        "- **Made previous shot**: Was Steph Curry's previous shot successful?"
      ]
    },
    {
      "cell_type": "markdown",
      "metadata": {
        "id": "gWRX4uaY9NCw",
        "colab_type": "text"
      },
      "source": [
        "This Sprint Challenge has two parts. To demonstrate mastery on each part, do all the required, numbered instructions. To earn a score of \"3\" for the part, also do the stretch goals.\n",
        "\n",
        "\n",
        "    \n",
        "\n",
        "## Part 2. Evaluate models\n",
        "\n",
        "### Required\n",
        "1. Get your model's **validation accuracy.** (Multiple times if you try multiple iterations.)\n",
        "2. Get your model's **test accuracy.** (One time, at the end.)\n",
        "3. Get and plot your Random Forest's **feature importances** _or_ your Logistic Regression's **coefficients.**\n",
        "4. Imagine this is the confusion matrix for a binary classification model. **Calculate accuracy, precision, and recall for this confusion matrix:**\n",
        "\n",
        "<table>\n",
        "  <tr>\n",
        "    <td colspan=\"2\" rowspan=\"2\"></td>\n",
        "    <td colspan=\"2\">Predicted</td>\n",
        "  </tr>\n",
        "  <tr>\n",
        "    <td>Negative</td>\n",
        "    <td>Positive</td>\n",
        "  </tr>\n",
        "  <tr>\n",
        "    <td rowspan=\"2\">Actual</td>\n",
        "    <td>Negative</td>\n",
        "    <td style=\"border: solid\">85</td>\n",
        "    <td style=\"border: solid\">58</td>\n",
        "  </tr>\n",
        "  <tr>\n",
        "    <td>Positive</td>\n",
        "    <td style=\"border: solid\">8</td>\n",
        "    <td style=\"border: solid\"> 36</td>\n",
        "  </tr>\n",
        "</table>\n",
        "\n",
        "\n",
        "### Stretch goals\n",
        "- Calculate F1 score for the provided, imaginary confusion matrix.\n",
        "- Plot a real confusion matrix for your basketball model, with row and column labels.\n",
        "- Print the classification report for your model."
      ]
    },
    {
      "cell_type": "markdown",
      "metadata": {
        "id": "JKNasAhqDqp-",
        "colab_type": "text"
      },
      "source": [
        "##Confusion Matrix"
      ]
    },
    {
      "cell_type": "code",
      "metadata": {
        "id": "9riOP6xpDpHh",
        "colab_type": "code",
        "colab": {
          "base_uri": "https://localhost:8080/",
          "height": 35
        },
        "outputId": "b196a9bd-bad9-4496-c05e-bdfffeb7d7b0"
      },
      "source": [
        "Accuracy = (85 + 36 / (85+36+58+8))/100\n",
        "Accuracy"
      ],
      "execution_count": 119,
      "outputs": [
        {
          "output_type": "execute_result",
          "data": {
            "text/plain": [
              "0.8519251336898396"
            ]
          },
          "metadata": {
            "tags": []
          },
          "execution_count": 119
        }
      ]
    },
    {
      "cell_type": "code",
      "metadata": {
        "id": "HGgSu05QB1Ik",
        "colab_type": "code",
        "colab": {
          "base_uri": "https://localhost:8080/",
          "height": 35
        },
        "outputId": "eea9dad1-ae97-4748-d557-140ecc8e91f9"
      },
      "source": [
        "precision  = 85/(85+8)\n",
        "precision"
      ],
      "execution_count": 120,
      "outputs": [
        {
          "output_type": "execute_result",
          "data": {
            "text/plain": [
              "0.9139784946236559"
            ]
          },
          "metadata": {
            "tags": []
          },
          "execution_count": 120
        }
      ]
    },
    {
      "cell_type": "code",
      "metadata": {
        "id": "9IAdHHOzFIpo",
        "colab_type": "code",
        "colab": {
          "base_uri": "https://localhost:8080/",
          "height": 35
        },
        "outputId": "cdf71027-4bc9-484d-c1b5-6b37a75020be"
      },
      "source": [
        "recall = 85/(85+58)\n",
        "recall"
      ],
      "execution_count": 122,
      "outputs": [
        {
          "output_type": "execute_result",
          "data": {
            "text/plain": [
              "0.5944055944055944"
            ]
          },
          "metadata": {
            "tags": []
          },
          "execution_count": 122
        }
      ]
    }
  ]
}