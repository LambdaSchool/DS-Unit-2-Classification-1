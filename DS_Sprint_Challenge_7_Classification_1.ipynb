{
  "nbformat": 4,
  "nbformat_minor": 0,
  "metadata": {
    "colab": {
      "name": "DS_Sprint_Challenge_7_Classification_1.ipynb",
      "version": "0.3.2",
      "provenance": [],
      "include_colab_link": true
    },
    "language_info": {
      "codemirror_mode": {
        "name": "ipython",
        "version": 3
      },
      "file_extension": ".py",
      "mimetype": "text/x-python",
      "name": "python",
      "nbconvert_exporter": "python",
      "pygments_lexer": "ipython3",
      "version": "3.7.1"
    },
    "kernelspec": {
      "display_name": "Python 3",
      "language": "python",
      "name": "python3"
    }
  },
  "cells": [
    {
      "cell_type": "markdown",
      "metadata": {
        "id": "view-in-github",
        "colab_type": "text"
      },
      "source": [
        "<a href=\"https://colab.research.google.com/github/alvinwalker314/DS-Unit-2-Classification-1/blob/master/DS_Sprint_Challenge_7_Classification_1.ipynb\" target=\"_parent\"><img src=\"https://colab.research.google.com/assets/colab-badge.svg\" alt=\"Open In Colab\"/></a>"
      ]
    },
    {
      "cell_type": "markdown",
      "metadata": {
        "id": "gWRX4uaY9NCw",
        "colab_type": "text"
      },
      "source": [
        "This Sprint Challenge has two parts. To demonstrate mastery on each part, do all the required, numbered instructions. To earn a score of \"3\" for the part, also do the stretch goals.\n",
        "\n",
        "## Part 1. Prepare to model\n",
        "\n",
        "### Required\n",
        "\n",
        "1. **Do train/validate/test split.** Use the 2009-10 season through 2016-17 season to train, the 2017-18 season to validate, and the 2018-19 season to test. NBA seasons begin in October and end in June. You'll know you've split the data correctly when your train set has 11081 observations, your validation set has 1168 observations, and your test set has 1709 observations.\n",
        "2. **Begin with baselines for classification.** Your target to predict is `shot_made_flag`. What is the baseline accuracy for the validation set, if you guessed the majority class for every prediction?\n",
        "3. **Use Ordinal Encoding _or_ One-Hot Encoding,** for the categorical features you select.\n",
        "4. **Train a Random Forest _or_ Logistic Regression** with the features you select.\n",
        "\n",
        "### Stretch goals\n",
        "Engineer at least 4 of these 5 features:\n",
        "\n",
        "- **Homecourt Advantage**: Is the home team (`htm`) the Golden State Warriors (`GSW`) ?\n",
        "- **Opponent**: Who is the other team playing the Golden State Warriors?\n",
        "- **Seconds remaining in the period**: Combine minutes remaining with seconds remaining, to get the total number of seconds remaining in the period.\n",
        "- **Seconds remaining in the game**: Combine period, and seconds remaining in the period, to get the total number of seconds remaining in the game. A basketball game has 4 periods, each 12 minutes long.\n",
        "- **Made previous shot**: Was Steph Curry's previous shot successful?\n",
        "    \n",
        "\n",
        "## Part 2. Evaluate models\n",
        "\n",
        "### Required\n",
        "1. Get your model's **validation accuracy.** (Multiple times if you try multiple iterations.)\n",
        "2. Get your model's **test accuracy.** (One time, at the end.)\n",
        "3. Get and plot your Random Forest's **feature importances** _or_ your Logistic Regression's **coefficients.**\n",
        "4. Imagine this is the confusion matrix for a binary classification model. **Calculate accuracy, precision, and recall for this confusion matrix:**\n",
        "\n",
        "<table>\n",
        "  <tr>\n",
        "    <td colspan=\"2\" rowspan=\"2\"></td>\n",
        "    <td colspan=\"2\">Predicted</td>\n",
        "  </tr>\n",
        "  <tr>\n",
        "    <td>Negative</td>\n",
        "    <td>Positive</td>\n",
        "  </tr>\n",
        "  <tr>\n",
        "    <td rowspan=\"2\">Actual</td>\n",
        "    <td>Negative</td>\n",
        "    <td style=\"border: solid\">85</td>\n",
        "    <td style=\"border: solid\">58</td>\n",
        "  </tr>\n",
        "  <tr>\n",
        "    <td>Positive</td>\n",
        "    <td style=\"border: solid\">8</td>\n",
        "    <td style=\"border: solid\"> 36</td>\n",
        "  </tr>\n",
        "</table>\n",
        "\n",
        "\n",
        "### Stretch goals\n",
        "- Calculate F1 score for the provided, imaginary confusion matrix.\n",
        "- Plot a real confusion matrix for your basketball model, with row and column labels.\n",
        "- Print the classification report for your model."
      ]
    },
    {
      "cell_type": "markdown",
      "metadata": {
        "id": "7NQhCv9N9NCo",
        "colab_type": "text"
      },
      "source": [
        "_Lambda School Data Science, Unit 2_\n",
        " \n",
        "# Classification 1 Sprint Challenge: Predict Steph Curry's shots 🏀\n",
        "\n",
        "For your Sprint Challenge, you'll use a dataset with all Steph Curry's NBA field goal attempts. (Regular season and playoff games, from October 28, 2009, through June 5, 2019.) \n",
        "\n",
        "You'll use information about the shot and the game to predict whether the shot was made. This is hard to predict! Try for an accuracy score in the high 50's or low 60's. The dataset was collected with the [nba_api](https://github.com/swar/nba_api) Python library."
      ]
    },
    {
      "cell_type": "code",
      "metadata": {
        "id": "CdkOe4r1lYex",
        "colab_type": "code",
        "colab": {}
      },
      "source": [
        "!pip install category_encoders"
      ],
      "execution_count": 0,
      "outputs": []
    },
    {
      "cell_type": "code",
      "metadata": {
        "id": "LBu8Awg0fXs0",
        "colab_type": "code",
        "colab": {}
      },
      "source": [
        "#Imports\n",
        "import pandas as pd\n",
        "import seaborn as sns\n",
        "import matplotlib.pyplot as plt\n",
        "from sklearn.ensemble import RandomForestClassifier\n",
        "from sklearn.tree import DecisionTreeClassifier\n",
        "from sklearn.metrics import accuracy_score\n",
        "from sklearn.model_selection import train_test_split\n",
        "import category_encoders as ce"
      ],
      "execution_count": 0,
      "outputs": []
    },
    {
      "cell_type": "code",
      "metadata": {
        "id": "5RDEWI9c9NCr",
        "colab_type": "code",
        "colab": {}
      },
      "source": [
        "#Load Data\n",
        "url = 'https://drive.google.com/uc?export=download&id=1fL7KPyxgGYfQDsuJoBWHIWwCAf-HTFpX'\n",
        "df = pd.read_csv(url, parse_dates=['game_date']).set_index('game_date')\n",
        "assert df.shape == (13958, 19)"
      ],
      "execution_count": 0,
      "outputs": []
    },
    {
      "cell_type": "code",
      "metadata": {
        "id": "mdOGPTPnLlV7",
        "colab_type": "code",
        "colab": {
          "base_uri": "https://localhost:8080/",
          "height": 34
        },
        "outputId": "4b54a808-329c-46a5-c24e-edb89b0520b5"
      },
      "source": [
        "df.shape"
      ],
      "execution_count": 5,
      "outputs": [
        {
          "output_type": "execute_result",
          "data": {
            "text/plain": [
              "(13958, 18)"
            ]
          },
          "metadata": {
            "tags": []
          },
          "execution_count": 5
        }
      ]
    },
    {
      "cell_type": "code",
      "metadata": {
        "id": "TR04Vg9RfIDL",
        "colab_type": "code",
        "colab": {}
      },
      "source": [
        "#check null values and drop playername\n",
        "df.isna().sum()\n",
        "df.drop(columns= 'player_name', inplace=True)\n",
        "#copy data\n",
        "basketball= df.copy()"
      ],
      "execution_count": 0,
      "outputs": []
    },
    {
      "cell_type": "code",
      "metadata": {
        "id": "ft7gmK-4xR6n",
        "colab_type": "code",
        "colab": {}
      },
      "source": [
        "#engineer homecourt adv\n",
        "basketball['homecourt_advantage']= basketball['htm'].isin(['GSW'])"
      ],
      "execution_count": 0,
      "outputs": []
    },
    {
      "cell_type": "code",
      "metadata": {
        "id": "zJeWbaWB0KLn",
        "colab_type": "code",
        "colab": {}
      },
      "source": [
        "#engineer seconds left period\n",
        "basketball['seconds_left_period']= (basketball['minutes_remaining']*60) + basketball['seconds_remaining']"
      ],
      "execution_count": 0,
      "outputs": []
    },
    {
      "cell_type": "code",
      "metadata": {
        "id": "WGwGMVhM3FUs",
        "colab_type": "code",
        "colab": {}
      },
      "source": [
        "#engineer seconds left game\n",
        "basketball['seconds_left_game']= (basketball['seconds_remaining'])+ (basketball['minutes_remaining']*60)+ (((4-basketball['period'])*12)*60)"
      ],
      "execution_count": 0,
      "outputs": []
    },
    {
      "cell_type": "code",
      "metadata": {
        "id": "gYwM4HuGd9yr",
        "colab_type": "code",
        "colab": {}
      },
      "source": [
        "#drop redundant columns\n",
        "basketball.drop(columns= ['minutes_remaining', 'seconds_remaining', 'htm'], inplace=True)"
      ],
      "execution_count": 0,
      "outputs": []
    },
    {
      "cell_type": "code",
      "metadata": {
        "id": "bMOcgFv7Tref",
        "colab_type": "code",
        "colab": {}
      },
      "source": [
        "#split data to train, validate, test\n",
        "train= basketball['2009-10-28': '2017-06-12']\n",
        "validate= basketball['2017-10-17': '2018-06-08']\n",
        "test= basketball['2018-10-16' : '2019-06-05']"
      ],
      "execution_count": 0,
      "outputs": []
    },
    {
      "cell_type": "code",
      "metadata": {
        "id": "RLJYOaAsWLPo",
        "colab_type": "code",
        "colab": {
          "base_uri": "https://localhost:8080/",
          "height": 34
        },
        "outputId": "52402551-0d19-4a5f-d328-c790415cf859"
      },
      "source": [
        "train.shape, validate.shape, test.shape"
      ],
      "execution_count": 76,
      "outputs": [
        {
          "output_type": "execute_result",
          "data": {
            "text/plain": [
              "((11081, 18), (1168, 18), (1709, 18))"
            ]
          },
          "metadata": {
            "tags": []
          },
          "execution_count": 76
        }
      ]
    },
    {
      "cell_type": "code",
      "metadata": {
        "id": "xiFiKAMug_jR",
        "colab_type": "code",
        "colab": {
          "base_uri": "https://localhost:8080/",
          "height": 105
        },
        "outputId": "92805030-4f29-420c-c47e-67a8d4654a23"
      },
      "source": [
        "#grabbed my target and features\n",
        "basketball_target= train['shot_made_flag']\n",
        "train.drop(columns=['shot_made_flag'], inplace=True)\n",
        "validation_target= validate['shot_made_flag']\n",
        "validate.drop(columns=['shot_made_flag'], inplace=True)\n",
        "test_target= test['shot_made_flag']\n",
        "test.drop(columns=['shot_made_flag'], inplace=True)\n",
        "basketball_features= train\n",
        "\n",
        "\n"
      ],
      "execution_count": 77,
      "outputs": [
        {
          "output_type": "stream",
          "text": [
            "/usr/local/lib/python3.6/dist-packages/pandas/core/frame.py:3940: SettingWithCopyWarning: \n",
            "A value is trying to be set on a copy of a slice from a DataFrame\n",
            "\n",
            "See the caveats in the documentation: http://pandas.pydata.org/pandas-docs/stable/indexing.html#indexing-view-versus-copy\n",
            "  errors=errors)\n"
          ],
          "name": "stderr"
        }
      ]
    },
    {
      "cell_type": "code",
      "metadata": {
        "id": "iGl8eYZeiPKX",
        "colab_type": "code",
        "colab": {}
      },
      "source": [
        "#split data into train and test\n",
        "X_train, X_test, Y_train, Y_test= train_test_split(\n",
        "basketball_features, basketball_target, train_size= 0.8, test_size= 0.2, stratify= basketball_target) "
      ],
      "execution_count": 0,
      "outputs": []
    },
    {
      "cell_type": "code",
      "metadata": {
        "id": "QqTf8sOgja7Z",
        "colab_type": "code",
        "colab": {
          "base_uri": "https://localhost:8080/",
          "height": 34
        },
        "outputId": "23450a50-b341-437c-da2b-f6d9954a26e2"
      },
      "source": [
        "X_train.shape, X_test.shape, Y_train.shape, Y_test.shape"
      ],
      "execution_count": 67,
      "outputs": [
        {
          "output_type": "execute_result",
          "data": {
            "text/plain": [
              "((8864, 20), (2217, 20), (8864,), (2217,))"
            ]
          },
          "metadata": {
            "tags": []
          },
          "execution_count": 67
        }
      ]
    },
    {
      "cell_type": "code",
      "metadata": {
        "id": "1xT7ROXWkJno",
        "colab_type": "code",
        "colab": {}
      },
      "source": [
        "#encode data\n",
        "encoder= ce.OrdinalEncoder()\n",
        "X_train_encoded= encoder.fit_transform(X_train)\n",
        "X_test_encoded= encoder.transform(X_test)\n",
        "validate_encoded= encoder.transform(validate)\n",
        "test_encoded= encoder.transform(test)"
      ],
      "execution_count": 0,
      "outputs": []
    },
    {
      "cell_type": "code",
      "metadata": {
        "id": "yXRNz9gVpUKU",
        "colab_type": "code",
        "colab": {}
      },
      "source": [
        "#create baseline for test data\n",
        "X_test_encoded['baseline']= 1\n",
        "baseline= X_test_encoded['baseline']"
      ],
      "execution_count": 0,
      "outputs": []
    },
    {
      "cell_type": "code",
      "metadata": {
        "id": "Kb_RsRtnpkVx",
        "colab_type": "code",
        "colab": {
          "base_uri": "https://localhost:8080/",
          "height": 34
        },
        "outputId": "662f3219-4117-4fc2-fc4e-9d92b8863173"
      },
      "source": [
        "#print baseline accuracy for test data\n",
        "print('test baseline: '+str(accuracy_score(baseline, Y_test)))"
      ],
      "execution_count": 81,
      "outputs": [
        {
          "output_type": "stream",
          "text": [
            "test baseline: 0.4727108705457826\n"
          ],
          "name": "stdout"
        }
      ]
    },
    {
      "cell_type": "code",
      "metadata": {
        "id": "f13ifI9jqyoW",
        "colab_type": "code",
        "colab": {}
      },
      "source": [
        "#drop baseline\n",
        "X_test_encoded.drop(columns= 'baseline', inplace=True)"
      ],
      "execution_count": 0,
      "outputs": []
    },
    {
      "cell_type": "code",
      "metadata": {
        "id": "XQYPtTKdmnd4",
        "colab_type": "code",
        "colab": {
          "base_uri": "https://localhost:8080/",
          "height": 34
        },
        "outputId": "40e97e9f-64db-425f-c3b4-582e6e58cd22"
      },
      "source": [
        "#create a random forest with 100 trees, fit to validation data and scored validation data\n",
        "forest= RandomForestClassifier(n_estimators= 100, random_state= 42)\n",
        "forest.fit(X_train_encoded, Y_train)\n",
        "print('Training test score: '+ str(forest.score(X_test_encoded, Y_test)))"
      ],
      "execution_count": 83,
      "outputs": [
        {
          "output_type": "stream",
          "text": [
            "Training test score: 0.6341903473161931\n"
          ],
          "name": "stdout"
        }
      ]
    },
    {
      "cell_type": "code",
      "metadata": {
        "id": "2AnuDGw7bc1U",
        "colab_type": "code",
        "colab": {
          "base_uri": "https://localhost:8080/",
          "height": 34
        },
        "outputId": "adf1a381-1b95-43fe-babf-cf67972685f8"
      },
      "source": [
        "print('Validation score: '+ str(forest.score(validate_encoded, validation_target)))"
      ],
      "execution_count": 84,
      "outputs": [
        {
          "output_type": "stream",
          "text": [
            "Validation score: 0.5941780821917808\n"
          ],
          "name": "stdout"
        }
      ]
    },
    {
      "cell_type": "code",
      "metadata": {
        "id": "vTEoYKSskUsO",
        "colab_type": "code",
        "colab": {
          "base_uri": "https://localhost:8080/",
          "height": 34
        },
        "outputId": "057126f8-40a6-4b21-86d2-3595fdf7d5d4"
      },
      "source": [
        "#score test data with model \n",
        "print('Test Score: '+ str(forest.score(test_encoded, test_target)))"
      ],
      "execution_count": 85,
      "outputs": [
        {
          "output_type": "stream",
          "text": [
            "Test Score: 0.6284376828554711\n"
          ],
          "name": "stdout"
        }
      ]
    },
    {
      "cell_type": "code",
      "metadata": {
        "id": "J-SA5AflraH_",
        "colab_type": "code",
        "colab": {}
      },
      "source": [
        "#grabbed importances of model\n",
        "importances= pd.Series(forest.feature_importances_, X_train.columns)"
      ],
      "execution_count": 0,
      "outputs": []
    },
    {
      "cell_type": "code",
      "metadata": {
        "id": "5RFtTqdKru1e",
        "colab_type": "code",
        "colab": {
          "base_uri": "https://localhost:8080/",
          "height": 558
        },
        "outputId": "5a10cd45-aadf-4f7e-c55f-fd16f1fab13a"
      },
      "source": [
        "#plot importances\n",
        "fig= plt.figure(figsize= (18,9))\n",
        "importances.sort_values().plot.barh()"
      ],
      "execution_count": 87,
      "outputs": [
        {
          "output_type": "execute_result",
          "data": {
            "text/plain": [
              "<matplotlib.axes._subplots.AxesSubplot at 0x7f62c60cf240>"
            ]
          },
          "metadata": {
            "tags": []
          },
          "execution_count": 87
        },
        {
          "output_type": "display_data",
          "data": {
            "image/png": "[encoded data removed]",
            "text/plain": [
              "<Figure size 1296x648 with 1 Axes>"
            ]
          },
          "metadata": {
            "tags": []
          }
        }
      ]
    },
    {
      "cell_type": "code",
      "metadata": {
        "id": "iM_uwpFFs9ud",
        "colab_type": "code",
        "colab": {
          "base_uri": "https://localhost:8080/",
          "height": 70
        },
        "outputId": "df1c302f-0718-4691-fa63-65e8e91e54b8"
      },
      "source": [
        "#total values\n",
        "total= 85 + 58 + 8+ 36\n",
        "#total correct predictions\n",
        "correct_pred= 85 + 36\n",
        "#total times predicted positive\n",
        "pos_pred= 58 + 36\n",
        "#total times correctly predicting positive\n",
        "cor_pos= 36\n",
        "#total correct\n",
        "total_pos= 8 + 36\n",
        "\n",
        "print('Accuracy: '+str(correct_pred/ total))\n",
        "print('Precision: '+str(cor_pos/ pos_pred))\n",
        "print('Recall: ' +str(cor_pos/ total_pos))"
      ],
      "execution_count": 88,
      "outputs": [
        {
          "output_type": "stream",
          "text": [
            "Accuracy: 0.6470588235294118\n",
            "Precision: 0.3829787234042553\n",
            "Recall: 0.8181818181818182\n"
          ],
          "name": "stdout"
        }
      ]
    }
  ]
}