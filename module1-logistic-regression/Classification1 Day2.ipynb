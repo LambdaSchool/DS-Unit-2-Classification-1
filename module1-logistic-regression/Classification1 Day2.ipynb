{
 "cells": [
  {
   "cell_type": "code",
   "execution_count": 1,
   "metadata": {
    "collapsed": true
   },
   "outputs": [],
   "source": [
    "import pandas as pd\n",
    "import numpy as np\n",
    "from sklearn.metrics import accuracy_score as acc\n",
    "from sklearn.preprocessing import StandardScaler as ss, RobustScaler as rs\n",
    "from sklearn.model_selection import train_test_split as tts\n",
    "from sklearn.linear_model import LogisticRegression as LR\n",
    "from sklearn.tree import DecisionTreeClassifier as DTC\n",
    "from sklearn.ensemble import RandomForestClassifier as RFC, GradientBoostingClassifier as GBC, ExtraTreesClassifier as ETC\n",
    "from sklearn.neural_network import MLPClassifier as MLP\n",
    "import category_encoders as ce\n",
    "%matplotlib inline\n",
    "import matplotlib.pyplot as plt\n",
    "from sklearn.experimental import enable_iterative_imputer\n",
    "from sklearn.impute import IterativeImputer"
   ]
  },
  {
   "cell_type": "code",
   "execution_count": 2,
   "metadata": {},
   "outputs": [
    {
     "data": {
      "text/plain": [
       "((59400, 40), (59400, 2), (14358, 40), (14358, 2))"
      ]
     },
     "execution_count": 2,
     "metadata": {},
     "output_type": "execute_result"
    }
   ],
   "source": [
    "train_features = pd.read_csv('https://drive.google.com/uc?export=download&id=14ULvX0uOgftTB2s97uS8lIx1nHGQIB0P')\n",
    "train_labels = pd.read_csv('https://drive.google.com/uc?export=download&id=1r441wLr7gKGHGLyPpKauvCuUOU556S2f')\n",
    "test_features = pd.read_csv('https://drive.google.com/uc?export=download&id=1wvsYl9hbRbZuIuoaLWCsW_kbcxCdocHz')\n",
    "sample_submission = pd.read_csv('https://drive.google.com/uc?export=download&id=1kfJewnmhowpUo381oSn3XqsQ6Eto23XV')\n",
    "train_features.shape, train_labels.shape, test_features.shape, sample_submission.shape"
   ]
  },
  {
   "cell_type": "code",
   "execution_count": 3,
   "metadata": {
    "collapsed": true
   },
   "outputs": [],
   "source": [
    "num_features = ['id',\n",
    "                'latitude', \n",
    "                'longitude',\n",
    "                'population',\n",
    "                'construction_year',\n",
    "                'amount_tsh',\n",
    "                                       'gps_height']"
   ]
  },
  {
   "cell_type": "code",
   "execution_count": 4,
   "metadata": {},
   "outputs": [
    {
     "data": {
      "text/html": [
       "<div>\n",
       "<style scoped>\n",
       "    .dataframe tbody tr th:only-of-type {\n",
       "        vertical-align: middle;\n",
       "    }\n",
       "\n",
       "    .dataframe tbody tr th {\n",
       "        vertical-align: top;\n",
       "    }\n",
       "\n",
       "    .dataframe thead th {\n",
       "        text-align: right;\n",
       "    }\n",
       "</style>\n",
       "<table border=\"1\" class=\"dataframe\">\n",
       "  <thead>\n",
       "    <tr style=\"text-align: right;\">\n",
       "      <th></th>\n",
       "      <th>id</th>\n",
       "      <th>latitude</th>\n",
       "      <th>longitude</th>\n",
       "      <th>population</th>\n",
       "      <th>construction_year</th>\n",
       "      <th>amount_tsh</th>\n",
       "      <th>gps_height</th>\n",
       "    </tr>\n",
       "  </thead>\n",
       "  <tbody>\n",
       "    <tr>\n",
       "      <th>0</th>\n",
       "      <td>69572</td>\n",
       "      <td>-9.856322</td>\n",
       "      <td>34.938093</td>\n",
       "      <td>109</td>\n",
       "      <td>1999</td>\n",
       "      <td>6000.0</td>\n",
       "      <td>1390</td>\n",
       "    </tr>\n",
       "    <tr>\n",
       "      <th>1</th>\n",
       "      <td>8776</td>\n",
       "      <td>-2.147466</td>\n",
       "      <td>34.698766</td>\n",
       "      <td>280</td>\n",
       "      <td>2010</td>\n",
       "      <td>0.0</td>\n",
       "      <td>1399</td>\n",
       "    </tr>\n",
       "    <tr>\n",
       "      <th>2</th>\n",
       "      <td>34310</td>\n",
       "      <td>-3.821329</td>\n",
       "      <td>37.460664</td>\n",
       "      <td>250</td>\n",
       "      <td>2009</td>\n",
       "      <td>25.0</td>\n",
       "      <td>686</td>\n",
       "    </tr>\n",
       "    <tr>\n",
       "      <th>3</th>\n",
       "      <td>67743</td>\n",
       "      <td>-11.155298</td>\n",
       "      <td>38.486161</td>\n",
       "      <td>58</td>\n",
       "      <td>1986</td>\n",
       "      <td>0.0</td>\n",
       "      <td>263</td>\n",
       "    </tr>\n",
       "    <tr>\n",
       "      <th>4</th>\n",
       "      <td>19728</td>\n",
       "      <td>-1.825359</td>\n",
       "      <td>31.130847</td>\n",
       "      <td>0</td>\n",
       "      <td>0</td>\n",
       "      <td>0.0</td>\n",
       "      <td>0</td>\n",
       "    </tr>\n",
       "  </tbody>\n",
       "</table>\n",
       "</div>"
      ],
      "text/plain": [
       "      id   latitude  longitude  population  construction_year  amount_tsh  \\\n",
       "0  69572  -9.856322  34.938093         109               1999      6000.0   \n",
       "1   8776  -2.147466  34.698766         280               2010         0.0   \n",
       "2  34310  -3.821329  37.460664         250               2009        25.0   \n",
       "3  67743 -11.155298  38.486161          58               1986         0.0   \n",
       "4  19728  -1.825359  31.130847           0                  0         0.0   \n",
       "\n",
       "   gps_height  \n",
       "0        1390  \n",
       "1        1399  \n",
       "2         686  \n",
       "3         263  \n",
       "4           0  "
      ]
     },
     "execution_count": 4,
     "metadata": {},
     "output_type": "execute_result"
    }
   ],
   "source": [
    "num_data = train_features[num_features]\n",
    "num_test = test_features[num_features]\n",
    "num_data.head()"
   ]
  },
  {
   "cell_type": "code",
   "execution_count": 5,
   "metadata": {},
   "outputs": [
    {
     "data": {
      "text/html": [
       "<div>\n",
       "<style scoped>\n",
       "    .dataframe tbody tr th:only-of-type {\n",
       "        vertical-align: middle;\n",
       "    }\n",
       "\n",
       "    .dataframe tbody tr th {\n",
       "        vertical-align: top;\n",
       "    }\n",
       "\n",
       "    .dataframe thead th {\n",
       "        text-align: right;\n",
       "    }\n",
       "</style>\n",
       "<table border=\"1\" class=\"dataframe\">\n",
       "  <thead>\n",
       "    <tr style=\"text-align: right;\">\n",
       "      <th></th>\n",
       "      <th>latitude</th>\n",
       "      <th>longitude</th>\n",
       "      <th>population</th>\n",
       "      <th>construction_year</th>\n",
       "      <th>amount_tsh</th>\n",
       "      <th>gps_height</th>\n",
       "    </tr>\n",
       "    <tr>\n",
       "      <th>id</th>\n",
       "      <th></th>\n",
       "      <th></th>\n",
       "      <th></th>\n",
       "      <th></th>\n",
       "      <th></th>\n",
       "      <th></th>\n",
       "    </tr>\n",
       "  </thead>\n",
       "  <tbody>\n",
       "    <tr>\n",
       "      <th>69572</th>\n",
       "      <td>-9.856322</td>\n",
       "      <td>34.938093</td>\n",
       "      <td>109</td>\n",
       "      <td>1999</td>\n",
       "      <td>6000.0</td>\n",
       "      <td>1390</td>\n",
       "    </tr>\n",
       "    <tr>\n",
       "      <th>8776</th>\n",
       "      <td>-2.147466</td>\n",
       "      <td>34.698766</td>\n",
       "      <td>280</td>\n",
       "      <td>2010</td>\n",
       "      <td>0.0</td>\n",
       "      <td>1399</td>\n",
       "    </tr>\n",
       "    <tr>\n",
       "      <th>34310</th>\n",
       "      <td>-3.821329</td>\n",
       "      <td>37.460664</td>\n",
       "      <td>250</td>\n",
       "      <td>2009</td>\n",
       "      <td>25.0</td>\n",
       "      <td>686</td>\n",
       "    </tr>\n",
       "    <tr>\n",
       "      <th>67743</th>\n",
       "      <td>-11.155298</td>\n",
       "      <td>38.486161</td>\n",
       "      <td>58</td>\n",
       "      <td>1986</td>\n",
       "      <td>0.0</td>\n",
       "      <td>263</td>\n",
       "    </tr>\n",
       "    <tr>\n",
       "      <th>19728</th>\n",
       "      <td>-1.825359</td>\n",
       "      <td>31.130847</td>\n",
       "      <td>0</td>\n",
       "      <td>0</td>\n",
       "      <td>0.0</td>\n",
       "      <td>0</td>\n",
       "    </tr>\n",
       "  </tbody>\n",
       "</table>\n",
       "</div>"
      ],
      "text/plain": [
       "        latitude  longitude  population  construction_year  amount_tsh  \\\n",
       "id                                                                       \n",
       "69572  -9.856322  34.938093         109               1999      6000.0   \n",
       "8776   -2.147466  34.698766         280               2010         0.0   \n",
       "34310  -3.821329  37.460664         250               2009        25.0   \n",
       "67743 -11.155298  38.486161          58               1986         0.0   \n",
       "19728  -1.825359  31.130847           0                  0         0.0   \n",
       "\n",
       "       gps_height  \n",
       "id                 \n",
       "69572        1390  \n",
       "8776         1399  \n",
       "34310         686  \n",
       "67743         263  \n",
       "19728           0  "
      ]
     },
     "execution_count": 5,
     "metadata": {},
     "output_type": "execute_result"
    }
   ],
   "source": [
    "num_data = num_data.set_index('id')\n",
    "num_test = num_test.set_index('id')\n",
    "num_data.head()"
   ]
  },
  {
   "cell_type": "code",
   "execution_count": 6,
   "metadata": {},
   "outputs": [],
   "source": [
    "imputer = IterativeImputer(missing_values=0,\n",
    "                          initial_strategy='most_frequent',\n",
    "                          imputation_order='random',\n",
    "                          sample_posterior=True)\n",
    "num_data = imputer.fit_transform(num_data)\n",
    "num_test = imputer.transform(num_test)"
   ]
  },
  {
   "cell_type": "code",
   "execution_count": 7,
   "metadata": {
    "collapsed": true
   },
   "outputs": [],
   "source": [
    "train_features = train_features.drop(columns=['latitude', \n",
    "                                              'longitude',\n",
    "                                              'population',\n",
    "                                              'construction_year',\n",
    "                                              'amount_tsh',\n",
    "                                       'gps_height'])\n",
    "test_features = test_features.drop(columns=['latitude', \n",
    "                                            'longitude',\n",
    "                                            'population',\n",
    "                                            'construction_year',\n",
    "                                            'amount_tsh',\n",
    "                                       'gps_height'])"
   ]
  },
  {
   "cell_type": "code",
   "execution_count": 8,
   "metadata": {},
   "outputs": [],
   "source": [
    "data = pd.DataFrame(num_data, columns=['latitude', \n",
    "                                       'longitude',\n",
    "                                       'population',\n",
    "                                       'construction_year',\n",
    "                                       'amount_tsh',\n",
    "                                       'gps_height'])\n",
    "test = pd.DataFrame(num_data, columns=['latitude', \n",
    "                                       'longitude',\n",
    "                                       'population',\n",
    "                                       'construction_year',\n",
    "                                       'amount_tsh',\n",
    "                                       'gps_height'])"
   ]
  },
  {
   "cell_type": "code",
   "execution_count": 9,
   "metadata": {},
   "outputs": [],
   "source": [
    "data['id'] = train_features['id']\n",
    "test['id'] = test_features['id']"
   ]
  },
  {
   "cell_type": "code",
   "execution_count": 10,
   "metadata": {},
   "outputs": [],
   "source": [
    "train_features = train_features.merge(data)\n",
    "test_features = test_features.merge(test)"
   ]
  },
  {
   "cell_type": "code",
   "execution_count": 11,
   "metadata": {},
   "outputs": [],
   "source": [
    "train_features['construction_year'] = train_features['construction_year'].astype(int)\n",
    "test_features['construction_year'] = test_features['construction_year'].astype(int)"
   ]
  },
  {
   "cell_type": "code",
   "execution_count": 12,
   "metadata": {},
   "outputs": [],
   "source": [
    "train_features['construction_year'] = pd.to_datetime(train_features['construction_year'], format='%Y')\n",
    "test_features['construction_year'] = pd.to_datetime(test_features['construction_year'], format='%Y')\n",
    "now = pd.Timestamp.now()\n",
    "train_features['age'] = (now - train_features['construction_year']).dt.days\n",
    "test_features['age'] = (now - test_features['construction_year']).dt.days\n",
    "train_features = train_features.drop(columns='construction_year')\n",
    "test_features = test_features.drop(columns='construction_year')"
   ]
  },
  {
   "cell_type": "code",
   "execution_count": 13,
   "metadata": {},
   "outputs": [
    {
     "name": "stdout",
     "output_type": "stream",
     "text": [
      "(47520, 14) (11880, 14) (47520,) (11880,) (14358, 14)\n",
      "(47520, 60) (11880, 60) (14358, 60)\n"
     ]
    }
   ],
   "source": [
    "cat_features = [\n",
    "                'source_type',\n",
    "#                 'quality_group',\n",
    "                'extraction_type',\n",
    "                'quantity_group',\n",
    "#                 'management_group',\n",
    "                'basin',\n",
    "                'payment_type',\n",
    "#                 'permit',\n",
    "#                 'scheme_management'\n",
    "                ]\n",
    "num_features = [\n",
    "                'amount_tsh',\n",
    "                'gps_height',\n",
    "                'longitude',\n",
    "                'latitude',\n",
    "                'num_private',\n",
    "                'region_code',\n",
    "                'district_code',\n",
    "                'population',\n",
    "                'age'\n",
    "                ]\n",
    "features = cat_features + num_features\n",
    "\n",
    "train = train_features[features]\n",
    "y_train = train_labels['status_group']\n",
    "\n",
    "test = test_features[features]\n",
    "\n",
    "X_train, X_val, y_train, y_val = tts(train,\n",
    "                                     y_train,\n",
    "                                     train_size=.8,\n",
    "                                     test_size=.2,\n",
    "                                     stratify=y_train,\n",
    "                                     random_state=42)\n",
    "print(X_train.shape, X_val.shape, y_train.shape, y_val.shape, test.shape)\n",
    "\n",
    "encoder = ce.OneHotEncoder(use_cat_names=True)\n",
    "X_train_enc = encoder.fit_transform(X_train)\n",
    "X_val_enc = encoder.transform(X_val)\n",
    "X_test_features = encoder.transform(test)\n",
    "print(X_train_enc.shape, X_val_enc.shape, X_test_features.shape)\n"
   ]
  },
  {
   "cell_type": "code",
   "execution_count": 14,
   "metadata": {},
   "outputs": [
    {
     "data": {
      "text/plain": [
       "0.7968855218855219"
      ]
     },
     "execution_count": 14,
     "metadata": {},
     "output_type": "execute_result"
    }
   ],
   "source": [
    "%%time\n",
    "model = RFC(n_estimators=250,\n",
    "            min_samples_leaf=5,\n",
    "            criterion='entropy',\n",
    "            max_features=.9,\n",
    "            min_samples_split=9,\n",
    "            random_state=42,\n",
    "            bootstrap=True\n",
    "            )\n",
    "\n",
    "model.fit(X_train_enc, y_train)\n",
    "\n",
    "print(model.score(X_val_enc, y_val))"
   ]
  },
  {
   "cell_type": "code",
   "execution_count": 15,
   "metadata": {
    "collapsed": true
   },
   "outputs": [],
   "source": [
    "# predicted = model.predict(X_test_features)\n",
    "# submission = sample_submission.copy()\n",
    "# submission['status_group'] = predicted\n",
    "# submission.to_csv('sub_4.csv', index=False)"
   ]
  }
 ],
 "metadata": {
  "kernelspec": {
   "display_name": "Python 3",
   "language": "python",
   "name": "python3"
  },
  "language_info": {
   "codemirror_mode": {
    "name": "ipython",
    "version": 3
   },
   "file_extension": ".py",
   "mimetype": "text/x-python",
   "name": "python",
   "nbconvert_exporter": "python",
   "pygments_lexer": "ipython3",
   "version": "3.6.4"
  }
 },
 "nbformat": 4,
 "nbformat_minor": 2
}
