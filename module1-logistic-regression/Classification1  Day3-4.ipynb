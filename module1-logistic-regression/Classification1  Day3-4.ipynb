{
 "cells": [
  {
   "cell_type": "code",
   "execution_count": 1,
   "metadata": {
    "collapsed": true
   },
   "outputs": [],
   "source": [
    "# Import stuff. Some stuff may be unused :/\n",
    "import pandas as pd\n",
    "import numpy as np\n",
    "from sklearn.decomposition import PCA\n",
    "from sklearn.metrics import accuracy_score as acc\n",
    "from sklearn.pipeline import make_pipeline\n",
    "from sklearn.preprocessing import StandardScaler as ss, RobustScaler as rs\n",
    "from sklearn.model_selection import train_test_split as tts, GridSearchCV as GSCV\n",
    "from sklearn.linear_model import LogisticRegression as LR\n",
    "from sklearn.tree import DecisionTreeClassifier as DTC\n",
    "from sklearn.ensemble import RandomForestClassifier as RFC, GradientBoostingClassifier as GBC\n",
    "import category_encoders as ce\n",
    "%matplotlib inline\n",
    "import matplotlib.pyplot as plt\n",
    "from sklearn.experimental import enable_iterative_imputer\n",
    "from sklearn.impute import MissingIndicator, SimpleImputer, IterativeImputer"
   ]
  },
  {
   "cell_type": "code",
   "execution_count": 2,
   "metadata": {},
   "outputs": [
    {
     "data": {
      "text/plain": [
       "((59400, 40), (59400, 2), (14358, 40), (14358, 2))"
      ]
     },
     "execution_count": 2,
     "metadata": {},
     "output_type": "execute_result"
    }
   ],
   "source": [
    "# Download data into dataframes.\n",
    "train_features = pd.read_csv('https://drive.google.com/uc?export=download&id=14ULvX0uOgftTB2s97uS8lIx1nHGQIB0P')\n",
    "train_labels = pd.read_csv('https://drive.google.com/uc?export=download&id=1r441wLr7gKGHGLyPpKauvCuUOU556S2f')\n",
    "test_features = pd.read_csv('https://drive.google.com/uc?export=download&id=1wvsYl9hbRbZuIuoaLWCsW_kbcxCdocHz')\n",
    "sample_submission = pd.read_csv('https://drive.google.com/uc?export=download&id=1kfJewnmhowpUo381oSn3XqsQ6Eto23XV')\n",
    "train_features.shape, train_labels.shape, test_features.shape, sample_submission.shape"
   ]
  },
  {
   "cell_type": "code",
   "execution_count": 3,
   "metadata": {},
   "outputs": [
    {
     "data": {
      "text/plain": [
       "((41580, 40), (17820, 40))"
      ]
     },
     "execution_count": 3,
     "metadata": {},
     "output_type": "execute_result"
    }
   ],
   "source": [
    "train = train_features.merge(train_labels)\n",
    "# Split train into train & val\n",
    "train, val = tts(train, train_size=0.7, test_size=0.3, \n",
    "                 stratify=train['status_group'], random_state=42)\n",
    "y_train, y_val = train['status_group'], val['status_group']\n",
    "train = train.drop(columns='status_group')\n",
    "val = val.drop(columns='status_group')\n",
    "# Make sure we have the same number of columns.\n",
    "train.shape, val.shape"
   ]
  },
  {
   "cell_type": "code",
   "execution_count": 4,
   "metadata": {
    "collapsed": true
   },
   "outputs": [],
   "source": [
    "def clean_types(data):\n",
    "    \"\"\"Ensure each column has the appropriate data type.\n",
    "    \n",
    "    Remove some unnessecary columns.\n",
    "    \n",
    "    Returns: DataFrame\n",
    "    \n",
    "    \"\"\"\n",
    "    \n",
    "    df = data.copy()\n",
    "    \n",
    "    # Fill categorical nan values with string.\n",
    "    df = df.fillna('unknown')\n",
    "    \n",
    "    # Convert dates to numbers.\n",
    "    dates = pd.to_datetime(df['date_recorded'])\n",
    "    earliest = pd.to_datetime('2000-01-01')\n",
    "    years = [x.days / 365 for x in (dates - earliest)]\n",
    "    df['date_recorded'] = years\n",
    "    \n",
    "    # Region and district codes are categorical so should be strings\n",
    "    df['region_code'] = df['region_code'].astype('str')\n",
    "    df['district_code'] = df['district_code'].astype('str')\n",
    "\n",
    "    # No repeated values == no value. Repeated columns == no value. Drrrrrrop.\n",
    "    df = df.drop(columns=['recorded_by', 'quantity_group'])\n",
    "\n",
    "    # Make sure all types are appropriate.\n",
    "    types = {'amount_tsh': 'float64',\n",
    "             'gps_height': 'float64',\n",
    "             'date_recorded': 'float64',\n",
    "             'longitude': 'float64',\n",
    "             'latitude': 'float64',\n",
    "             'num_private': 'float64',\n",
    "             'population': 'float64',\n",
    "             'construction_year': 'float64',\n",
    "             'public_meeting': 'str',\n",
    "             'permit': 'str'\n",
    "             }\n",
    "    \n",
    "    df = df.astype(dtype=types)\n",
    "\n",
    "    return df"
   ]
  },
  {
   "cell_type": "code",
   "execution_count": 24,
   "metadata": {
    "collapsed": true
   },
   "outputs": [],
   "source": [
    "def clean_nums(data):\n",
    "    \"\"\"Clean numeric columns of bad nan and spurious values.\n",
    "    \n",
    "    Engineer age column.\n",
    "    Fill missing data with local median.\n",
    "    Calculate PCA for numerical columns.\n",
    "    \n",
    "    Returns: DataFrame\n",
    "    \n",
    "    \"\"\"\n",
    "    \n",
    "    df = data.copy()\n",
    "    \n",
    "    # Get numeric column names. Latitude is special.\n",
    "    num_columns = [\n",
    "                    'amount_tsh',\n",
    "                    'date_recorded',\n",
    "                    'gps_height',\n",
    "                    'longitude',\n",
    "                    'num_private',\n",
    "                    'population',\n",
    "                    'construction_year']\n",
    "    # Dict of inapropriate nan values\n",
    "    nulls = {col: 0 for col in num_columns}\n",
    "    nulls['latitude'] = -2.000000e-08\n",
    "    num_columns += ['latitude']\n",
    "    \n",
    "    # Replace bad values with nan.\n",
    "    for feature, null in nulls.items():\n",
    "        df[feature].replace(null, np.nan, inplace=True)\n",
    "        \n",
    "    # Make sure 'construction_year' is reasonable. 1960 - 2020.\n",
    "    filtered_years = [x if 1960 < x < 2020 else np.nan for x in df['construction_year']]\n",
    "    df['construction_year'] = filtered_years\n",
    "    \n",
    "    # Replace nans with nearest geographical means.\n",
    "    for feature in num_columns:\n",
    "        mean_ = df.groupby('ward')[feature].transform('median')\n",
    "        df[feature].fillna(mean_, inplace=True)\n",
    "        \n",
    "    for feature in num_columns:\n",
    "        mean_ = df.groupby('region')[feature].transform('median')\n",
    "        df[feature].fillna(mean_, inplace=True)\n",
    "    \n",
    "    for feature in num_columns:\n",
    "        mean_ = df[feature].median()\n",
    "        df[feature].fillna(mean_, inplace=True)\n",
    "    \n",
    "    #Create age column\n",
    "    df['age'] = df['date_recorded'] - df['construction_year']\n",
    "    df = df.drop(columns=['date_recorded', 'construction_year'])\n",
    "    \n",
    "#     num_columns = ['age', \n",
    "#                    'amount_tsh',\n",
    "#                    'gps_height',\n",
    "#                    'longitude',\n",
    "#                    'num_private',\n",
    "#                    'population']\n",
    "\n",
    "#     pca_data = PCA(n_components=2).fit_transform(df[num_columns])\n",
    "\n",
    "#     df = df.drop(columns=num_columns)\n",
    "\n",
    "#     for i in range(pca_data.shape[1]):\n",
    "#         df[f'pc{i}'] = pca_data[:,i]\n",
    "\n",
    "    return df"
   ]
  },
  {
   "cell_type": "code",
   "execution_count": 20,
   "metadata": {
    "collapsed": true
   },
   "outputs": [],
   "source": [
    "def clean_cats(data):\n",
    "    \"\"\"Clean categorical data.\n",
    "    \n",
    "    Replace various nan values with 'other'.\n",
    "    Remove features with low frequency of incidence.\n",
    "    \n",
    "    Returns: DataFrame\n",
    "    \n",
    "    \"\"\"\n",
    "\n",
    "    df = data.copy()\n",
    "    \n",
    "    cat_columns = df.select_dtypes(exclude='number').columns.tolist()\n",
    "    \n",
    "    # Standardize capitaliZation.\n",
    "    df[cat_columns] = df[cat_columns].applymap(lambda x: x.lower())\n",
    "    \n",
    "    # replace various nan names with nan.\n",
    "    other_nans = ['not known', 'unknown', 'none', '-', '##', 'not kno', 'unknown installer']\n",
    "    df.replace(other_nans, np.nan, inplace=True)\n",
    "    \n",
    "    # Low frequency values -> nan.\n",
    "    for feature in cat_columns:\n",
    "        keepers = df[feature].value_counts()[df[feature].value_counts() > 50].index.tolist()\n",
    "        copied = df[feature].copy()\n",
    "        copied[~copied.isin(keepers)] = np.nan\n",
    "        df[feature] = copied\n",
    "    \n",
    "    # All categorical nans == 'other'.\n",
    "    df[cat_columns].fillna('other', inplace=True)\n",
    "\n",
    "    df = df.drop(columns=['id', 'extraction_type_group', 'extraction_type_class',\n",
    "                          'payment_type', 'quality_group',\n",
    "                          'source_type', 'source_class', 'waterpoint_type_group', 'management_group'])    \n",
    "    \n",
    "    return df    "
   ]
  },
  {
   "cell_type": "code",
   "execution_count": 25,
   "metadata": {},
   "outputs": [
    {
     "name": "stderr",
     "output_type": "stream",
     "text": [
      "C:\\Users\\Paul\\Anaconda3\\lib\\site-packages\\pandas\\core\\frame.py:4034: SettingWithCopyWarning: \n",
      "A value is trying to be set on a copy of a slice from a DataFrame\n",
      "\n",
      "See the caveats in the documentation: http://pandas.pydata.org/pandas-docs/stable/indexing.html#indexing-view-versus-copy\n",
      "  downcast=downcast, **kwargs)\n"
     ]
    },
    {
     "data": {
      "text/plain": [
       "((41580, 28), (17820, 28), (14358, 28))"
      ]
     },
     "execution_count": 25,
     "metadata": {},
     "output_type": "execute_result"
    }
   ],
   "source": [
    "# Apply all the cleaning steps to train, valitation and test data.\n",
    "X_train = clean_cats(clean_nums(clean_types(train)))\n",
    "X_val = clean_cats(clean_nums(clean_types(val)))\n",
    "test = clean_cats(clean_nums(clean_types(test_features)))\n",
    "\n",
    "# Make sure we still have equal columns for each set.\n",
    "X_train.shape, X_val.shape, test.shape"
   ]
  },
  {
   "cell_type": "code",
   "execution_count": 27,
   "metadata": {},
   "outputs": [],
   "source": [
    "# Make a pipline for easy iteration of hyperparameters.\n",
    "pipeline = make_pipeline(ce.OrdinalEncoder(),\n",
    "                         SimpleImputer(strategy='median'),\n",
    "#                          ss(),\n",
    "                         RFC(n_jobs=-1,\n",
    "                             n_estimators=200,\n",
    "                             verbose=1,\n",
    "#                              min_samples_leaf=25,\n",
    "#                              min_samples_split=25,\n",
    "                             max_features=.9,\n",
    "                             criterion='entropy',\n",
    "#                              random_state=42,\n",
    "                             max_depth=50,\n",
    "                             ))"
   ]
  },
  {
   "cell_type": "code",
   "execution_count": 28,
   "metadata": {},
   "outputs": [
    {
     "name": "stderr",
     "output_type": "stream",
     "text": [
      "[Parallel(n_jobs=-1)]: Using backend ThreadingBackend with 4 concurrent workers.\n",
      "[Parallel(n_jobs=-1)]: Done  42 tasks      | elapsed:   11.1s\n",
      "[Parallel(n_jobs=-1)]: Done 192 tasks      | elapsed:   48.8s\n",
      "[Parallel(n_jobs=-1)]: Done 200 out of 200 | elapsed:   50.9s finished\n",
      "[Parallel(n_jobs=4)]: Using backend ThreadingBackend with 4 concurrent workers.\n",
      "[Parallel(n_jobs=4)]: Done  42 tasks      | elapsed:    0.0s\n",
      "[Parallel(n_jobs=4)]: Done 192 tasks      | elapsed:    0.3s\n",
      "[Parallel(n_jobs=4)]: Done 200 out of 200 | elapsed:    0.4s finished\n"
     ]
    },
    {
     "data": {
      "text/plain": [
       "0.7959034792368126"
      ]
     },
     "execution_count": 28,
     "metadata": {},
     "output_type": "execute_result"
    }
   ],
   "source": [
    "# Fit and evaluate our model.\n",
    "pipeline.fit(X_train, y_train)\n",
    "pipeline.score(X_val, y_val)"
   ]
  },
  {
   "cell_type": "code",
   "execution_count": null,
   "metadata": {},
   "outputs": [],
   "source": [
    "# Save submission if the model makes good predictions.\n",
    "# predicted = pipeline.predict(test)\n",
    "# submission = sample_submission.copy()\n",
    "# submission['status_group'] = predicted\n",
    "# submission.to_csv('sub_13.csv', index=False)"
   ]
  },
  {
   "cell_type": "code",
   "execution_count": null,
   "metadata": {
    "collapsed": true
   },
   "outputs": [],
   "source": []
  }
 ],
 "metadata": {
  "kernelspec": {
   "display_name": "Python 3",
   "language": "python",
   "name": "python3"
  },
  "language_info": {
   "codemirror_mode": {
    "name": "ipython",
    "version": 3
   },
   "file_extension": ".py",
   "mimetype": "text/x-python",
   "name": "python",
   "nbconvert_exporter": "python",
   "pygments_lexer": "ipython3",
   "version": "3.6.4"
  }
 },
 "nbformat": 4,
 "nbformat_minor": 2
}
