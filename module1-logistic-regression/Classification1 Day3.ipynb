{
 "cells": [
  {
   "cell_type": "code",
   "execution_count": 72,
   "metadata": {
    "collapsed": true
   },
   "outputs": [],
   "source": [
    "import pandas as pd\n",
    "import numpy as np\n",
    "from sklearn.decomposition import PCA\n",
    "from sklearn.metrics import accuracy_score as acc\n",
    "from sklearn.preprocessing import StandardScaler as ss, RobustScaler as rs\n",
    "from sklearn.model_selection import train_test_split as tts, GridSearchCV as GSCV\n",
    "from sklearn.linear_model import LogisticRegression as LR\n",
    "from sklearn.tree import DecisionTreeClassifier as DTC\n",
    "from sklearn.ensemble import RandomForestClassifier as RFC, GradientBoostingClassifier as GBC\n",
    "import category_encoders as ce\n",
    "%matplotlib inline\n",
    "import matplotlib.pyplot as plt\n",
    "from sklearn.experimental import enable_iterative_imputer\n",
    "from sklearn.impute import IterativeImputer"
   ]
  },
  {
   "cell_type": "code",
   "execution_count": 73,
   "metadata": {},
   "outputs": [
    {
     "data": {
      "text/plain": [
       "((59400, 40), (59400, 2), (14358, 40), (14358, 2))"
      ]
     },
     "execution_count": 73,
     "metadata": {},
     "output_type": "execute_result"
    }
   ],
   "source": [
    "train_features = pd.read_csv('https://drive.google.com/uc?export=download&id=14ULvX0uOgftTB2s97uS8lIx1nHGQIB0P')\n",
    "train_labels = pd.read_csv('https://drive.google.com/uc?export=download&id=1r441wLr7gKGHGLyPpKauvCuUOU556S2f')\n",
    "test_features = pd.read_csv('https://drive.google.com/uc?export=download&id=1wvsYl9hbRbZuIuoaLWCsW_kbcxCdocHz')\n",
    "sample_submission = pd.read_csv('https://drive.google.com/uc?export=download&id=1kfJewnmhowpUo381oSn3XqsQ6Eto23XV')\n",
    "train_features.shape, train_labels.shape, test_features.shape, sample_submission.shape"
   ]
  },
  {
   "cell_type": "code",
   "execution_count": 74,
   "metadata": {},
   "outputs": [
    {
     "data": {
      "text/plain": [
       "functional                 32259\n",
       "non functional             22824\n",
       "functional needs repair     4317\n",
       "Name: status_group, dtype: int64"
      ]
     },
     "execution_count": 74,
     "metadata": {},
     "output_type": "execute_result"
    }
   ],
   "source": [
    "train_labels['status_group'].value_counts()"
   ]
  },
  {
   "cell_type": "code",
   "execution_count": 75,
   "metadata": {
    "collapsed": true
   },
   "outputs": [],
   "source": [
    "train_labels['baseline'] = 'functional'"
   ]
  },
  {
   "cell_type": "code",
   "execution_count": 76,
   "metadata": {},
   "outputs": [
    {
     "data": {
      "text/plain": [
       "id                           0\n",
       "amount_tsh                   0\n",
       "date_recorded                0\n",
       "funder                    3635\n",
       "gps_height                   0\n",
       "installer                 3655\n",
       "longitude                    0\n",
       "latitude                     0\n",
       "wpt_name                     0\n",
       "num_private                  0\n",
       "basin                        0\n",
       "subvillage                 371\n",
       "region                       0\n",
       "region_code                  0\n",
       "district_code                0\n",
       "lga                          0\n",
       "ward                         0\n",
       "population                   0\n",
       "public_meeting            3334\n",
       "recorded_by                  0\n",
       "scheme_management         3877\n",
       "scheme_name              28166\n",
       "permit                    3056\n",
       "construction_year            0\n",
       "extraction_type              0\n",
       "extraction_type_group        0\n",
       "extraction_type_class        0\n",
       "management                   0\n",
       "management_group             0\n",
       "payment                      0\n",
       "payment_type                 0\n",
       "water_quality                0\n",
       "quality_group                0\n",
       "quantity                     0\n",
       "quantity_group               0\n",
       "source                       0\n",
       "source_type                  0\n",
       "source_class                 0\n",
       "waterpoint_type              0\n",
       "waterpoint_type_group        0\n",
       "dtype: int64"
      ]
     },
     "execution_count": 76,
     "metadata": {},
     "output_type": "execute_result"
    }
   ],
   "source": [
    "train_features.isna().sum()"
   ]
  },
  {
   "cell_type": "code",
   "execution_count": 77,
   "metadata": {},
   "outputs": [
    {
     "data": {
      "text/plain": [
       "((59400, 41), (14358, 41))"
      ]
     },
     "execution_count": 77,
     "metadata": {},
     "output_type": "execute_result"
    }
   ],
   "source": [
    "train_features['year'] = train_features['construction_year'].map(lambda x: np.nan if x == 0 else int(x))\n",
    "test_features['year'] = test_features['construction_year'].map(lambda x: np.nan if x == 0 else int(x))\n",
    "train_year_mean = int(train_features['year'].mean(skipna=True))\n",
    "test_year_mean = int(test_features['year'].mean(skipna=True))\n",
    "train_features['year'] = train_features['year'].fillna(train_year_mean)\n",
    "test_features['year'] = test_features['year'].fillna(test_year_mean)\n",
    "train_features['year'] = train_features['year'].astype(int)\n",
    "test_features['year'] = test_features['year'].astype(int)\n",
    "train_features['year'] = pd.to_datetime(train_features['year'], format='%Y')\n",
    "test_features['year'] = pd.to_datetime(test_features['year'], format='%Y')\n",
    "train_features.shape, test_features.shape"
   ]
  },
  {
   "cell_type": "code",
   "execution_count": 78,
   "metadata": {},
   "outputs": [
    {
     "data": {
      "text/plain": [
       "Timestamp('2019-06-05 08:49:08.554160')"
      ]
     },
     "execution_count": 78,
     "metadata": {},
     "output_type": "execute_result"
    }
   ],
   "source": [
    "now = pd.Timestamp.now()\n",
    "now"
   ]
  },
  {
   "cell_type": "code",
   "execution_count": 79,
   "metadata": {},
   "outputs": [
    {
     "data": {
      "text/plain": [
       "((59400, 42), (14358, 42))"
      ]
     },
     "execution_count": 79,
     "metadata": {},
     "output_type": "execute_result"
    }
   ],
   "source": [
    "train_features['age'] = (now - train_features['year']).dt.days\n",
    "test_features['age'] = (now - test_features['year']).dt.days\n",
    "train_features.shape, test_features.shape"
   ]
  },
  {
   "cell_type": "code",
   "execution_count": 80,
   "metadata": {
    "collapsed": true
   },
   "outputs": [],
   "source": [
    "def replace_zero_mean(df, training, feature):\n",
    "    df[feature] = df[feature].map(lambda x: np.nan if x == 0 else x)\n",
    "    df[feature].fillna(training[feature].mean(), inplace=True)"
   ]
  },
  {
   "cell_type": "code",
   "execution_count": 81,
   "metadata": {},
   "outputs": [
    {
     "data": {
      "text/plain": [
       "((59400, 42), (14358, 42))"
      ]
     },
     "execution_count": 81,
     "metadata": {},
     "output_type": "execute_result"
    }
   ],
   "source": [
    "train_features['population'] = train_features['population'].map(lambda x: np.nan if x == 0 else x)\n",
    "test_features['population'] = test_features['population'].map(lambda x: np.nan if x == 0 else x)\n",
    "train_features['population'].fillna(train_features['population'].mean(skipna=True), inplace=True)\n",
    "test_features['population'].fillna(test_features['population'].mean(skipna=True), inplace=True)\n",
    "train_features.shape, test_features.shape"
   ]
  },
  {
   "cell_type": "code",
   "execution_count": 82,
   "metadata": {
    "collapsed": true
   },
   "outputs": [],
   "source": [
    "replace_zero_mean(train_features, train_features, 'population')\n",
    "replace_zero_mean(test_features, train_features, 'population')"
   ]
  },
  {
   "cell_type": "code",
   "execution_count": 83,
   "metadata": {},
   "outputs": [
    {
     "data": {
      "text/plain": [
       "((59400, 43), (14358, 43))"
      ]
     },
     "execution_count": 83,
     "metadata": {},
     "output_type": "execute_result"
    }
   ],
   "source": [
    "train_features['date_recorded'] = pd.to_datetime(train_features['date_recorded'])\n",
    "test_features['date_recorded'] = pd.to_datetime(test_features['date_recorded'])\n",
    "train_features['since_recording'] = (now - train_features['date_recorded']).dt.days\n",
    "test_features['since_recording'] = (now - test_features['date_recorded']).dt.days\n",
    "train_features.shape, test_features.shape"
   ]
  },
  {
   "cell_type": "code",
   "execution_count": 84,
   "metadata": {},
   "outputs": [
    {
     "data": {
      "text/plain": [
       "0    3005\n",
       "1    2282\n",
       "2    2291\n",
       "3    2319\n",
       "4    2884\n",
       "Name: since_recording, dtype: int64"
      ]
     },
     "execution_count": 84,
     "metadata": {},
     "output_type": "execute_result"
    }
   ],
   "source": [
    "train_features['since_recording'].head()"
   ]
  },
  {
   "cell_type": "code",
   "execution_count": 85,
   "metadata": {},
   "outputs": [
    {
     "data": {
      "text/plain": [
       "((59400, 42), (14358, 42))"
      ]
     },
     "execution_count": 85,
     "metadata": {},
     "output_type": "execute_result"
    }
   ],
   "source": [
    "train_features = train_features.drop(columns='construction_year')\n",
    "test_features = test_features.drop(columns='construction_year')\n",
    "train_features.shape, test_features.shape"
   ]
  },
  {
   "cell_type": "code",
   "execution_count": 86,
   "metadata": {
    "collapsed": true
   },
   "outputs": [],
   "source": [
    "replace_zero_mean(train_features, train_features, 'latitude')\n",
    "replace_zero_mean(test_features, train_features, 'latitude')\n",
    "replace_zero_mean(train_features, train_features, 'longitude')\n",
    "replace_zero_mean(test_features, train_features, 'longitude')"
   ]
  },
  {
   "cell_type": "code",
   "execution_count": 87,
   "metadata": {},
   "outputs": [
    {
     "data": {
      "text/plain": [
       "CategoricalDtype(categories=['0', '1', '2', '3', '4', '5', '6', '7', '8', '9', '10', '11',\n",
       "                  '12', '13', '14', '15', '16', '17', '18', '19'],\n",
       "                 ordered=True)"
      ]
     },
     "execution_count": 87,
     "metadata": {},
     "output_type": "execute_result"
    }
   ],
   "source": [
    "train_features['latitude_bins'] = pd.cut(train_features['latitude'], 20, labels=[str(x) for x in range(20)])\n",
    "test_features['latitude_bins'] = pd.cut(test_features['latitude'], 20, labels=[str(x) for x in range(20)])\n",
    "\n",
    "train_features['longitude_bins'] = pd.cut(train_features['longitude'], 20, labels=[str(x) for x in range(20)])\n",
    "test_features['longitude_bins'] = pd.cut(test_features['longitude'], 20, labels=[str(x) for x in range(20)])\n",
    "train_features['latitude_bins'].dtype"
   ]
  },
  {
   "cell_type": "code",
   "execution_count": 88,
   "metadata": {
    "collapsed": true
   },
   "outputs": [],
   "source": [
    "replace_zero_mean(train_features, train_features, 'amount_tsh')\n",
    "replace_zero_mean(test_features, train_features, 'amount_tsh')"
   ]
  },
  {
   "cell_type": "code",
   "execution_count": 89,
   "metadata": {
    "collapsed": true
   },
   "outputs": [],
   "source": [
    "replace_zero_mean(train_features, train_features, 'gps_height')\n",
    "replace_zero_mean(test_features, train_features, 'gps_height')"
   ]
  },
  {
   "cell_type": "code",
   "execution_count": 90,
   "metadata": {},
   "outputs": [
    {
     "data": {
      "text/html": [
       "<div>\n",
       "<style scoped>\n",
       "    .dataframe tbody tr th:only-of-type {\n",
       "        vertical-align: middle;\n",
       "    }\n",
       "\n",
       "    .dataframe tbody tr th {\n",
       "        vertical-align: top;\n",
       "    }\n",
       "\n",
       "    .dataframe thead th {\n",
       "        text-align: right;\n",
       "    }\n",
       "</style>\n",
       "<table border=\"1\" class=\"dataframe\">\n",
       "  <thead>\n",
       "    <tr style=\"text-align: right;\">\n",
       "      <th></th>\n",
       "      <th>id</th>\n",
       "      <th>date_recorded</th>\n",
       "      <th>funder</th>\n",
       "      <th>installer</th>\n",
       "      <th>longitude</th>\n",
       "      <th>latitude</th>\n",
       "      <th>wpt_name</th>\n",
       "      <th>basin</th>\n",
       "      <th>subvillage</th>\n",
       "      <th>region</th>\n",
       "      <th>...</th>\n",
       "      <th>waterpoint_type</th>\n",
       "      <th>waterpoint_type_group</th>\n",
       "      <th>year</th>\n",
       "      <th>since_recording</th>\n",
       "      <th>latitude_bins</th>\n",
       "      <th>longitude_bins</th>\n",
       "      <th>pc0</th>\n",
       "      <th>pc1</th>\n",
       "      <th>pc2</th>\n",
       "      <th>pc3</th>\n",
       "    </tr>\n",
       "  </thead>\n",
       "  <tbody>\n",
       "    <tr>\n",
       "      <th>0</th>\n",
       "      <td>50785</td>\n",
       "      <td>2013-02-04</td>\n",
       "      <td>Dmdd</td>\n",
       "      <td>DMDD</td>\n",
       "      <td>35.290799</td>\n",
       "      <td>-4.059696</td>\n",
       "      <td>Dinamu Secondary School</td>\n",
       "      <td>Internal</td>\n",
       "      <td>Magoma</td>\n",
       "      <td>Manyara</td>\n",
       "      <td>...</td>\n",
       "      <td>other</td>\n",
       "      <td>other</td>\n",
       "      <td>2012-01-01</td>\n",
       "      <td>2312</td>\n",
       "      <td>12</td>\n",
       "      <td>10</td>\n",
       "      <td>-5465.910555</td>\n",
       "      <td>86.177522</td>\n",
       "      <td>-982.963320</td>\n",
       "      <td>236.129194</td>\n",
       "    </tr>\n",
       "    <tr>\n",
       "      <th>1</th>\n",
       "      <td>51630</td>\n",
       "      <td>2013-02-04</td>\n",
       "      <td>Government Of Tanzania</td>\n",
       "      <td>DWE</td>\n",
       "      <td>36.656709</td>\n",
       "      <td>-3.309214</td>\n",
       "      <td>Kimnyak</td>\n",
       "      <td>Pangani</td>\n",
       "      <td>Kimnyak</td>\n",
       "      <td>Arusha</td>\n",
       "      <td>...</td>\n",
       "      <td>communal standpipe</td>\n",
       "      <td>communal standpipe</td>\n",
       "      <td>2000-01-01</td>\n",
       "      <td>2312</td>\n",
       "      <td>14</td>\n",
       "      <td>13</td>\n",
       "      <td>-1085.119667</td>\n",
       "      <td>19.170761</td>\n",
       "      <td>-551.084542</td>\n",
       "      <td>131.675126</td>\n",
       "    </tr>\n",
       "    <tr>\n",
       "      <th>2</th>\n",
       "      <td>17168</td>\n",
       "      <td>2013-02-01</td>\n",
       "      <td>NaN</td>\n",
       "      <td>NaN</td>\n",
       "      <td>34.767863</td>\n",
       "      <td>-5.004344</td>\n",
       "      <td>Puma Secondary</td>\n",
       "      <td>Internal</td>\n",
       "      <td>Msatu</td>\n",
       "      <td>Singida</td>\n",
       "      <td>...</td>\n",
       "      <td>other</td>\n",
       "      <td>other</td>\n",
       "      <td>2010-01-01</td>\n",
       "      <td>2315</td>\n",
       "      <td>11</td>\n",
       "      <td>9</td>\n",
       "      <td>-4738.526681</td>\n",
       "      <td>71.357465</td>\n",
       "      <td>-520.989872</td>\n",
       "      <td>314.458890</td>\n",
       "    </tr>\n",
       "    <tr>\n",
       "      <th>3</th>\n",
       "      <td>45559</td>\n",
       "      <td>2013-01-22</td>\n",
       "      <td>Finn Water</td>\n",
       "      <td>FINN WATER</td>\n",
       "      <td>38.058046</td>\n",
       "      <td>-9.418672</td>\n",
       "      <td>Kwa Mzee Pange</td>\n",
       "      <td>Ruvuma / Southern Coast</td>\n",
       "      <td>Kipindimbi</td>\n",
       "      <td>Lindi</td>\n",
       "      <td>...</td>\n",
       "      <td>other</td>\n",
       "      <td>other</td>\n",
       "      <td>1987-01-01</td>\n",
       "      <td>2325</td>\n",
       "      <td>3</td>\n",
       "      <td>15</td>\n",
       "      <td>3657.092297</td>\n",
       "      <td>-62.917491</td>\n",
       "      <td>728.887000</td>\n",
       "      <td>-200.173634</td>\n",
       "    </tr>\n",
       "    <tr>\n",
       "      <th>4</th>\n",
       "      <td>49871</td>\n",
       "      <td>2013-03-27</td>\n",
       "      <td>Bruder</td>\n",
       "      <td>BRUDER</td>\n",
       "      <td>35.006123</td>\n",
       "      <td>-10.950412</td>\n",
       "      <td>Kwa Mzee Turuka</td>\n",
       "      <td>Ruvuma / Southern Coast</td>\n",
       "      <td>Losonga</td>\n",
       "      <td>Ruvuma</td>\n",
       "      <td>...</td>\n",
       "      <td>communal standpipe</td>\n",
       "      <td>communal standpipe</td>\n",
       "      <td>2000-01-01</td>\n",
       "      <td>2261</td>\n",
       "      <td>1</td>\n",
       "      <td>10</td>\n",
       "      <td>-1093.372501</td>\n",
       "      <td>-547.030269</td>\n",
       "      <td>-311.115368</td>\n",
       "      <td>-170.185416</td>\n",
       "    </tr>\n",
       "  </tbody>\n",
       "</table>\n",
       "<p>5 rows × 41 columns</p>\n",
       "</div>"
      ],
      "text/plain": [
       "      id date_recorded                  funder   installer  longitude  \\\n",
       "0  50785    2013-02-04                    Dmdd        DMDD  35.290799   \n",
       "1  51630    2013-02-04  Government Of Tanzania         DWE  36.656709   \n",
       "2  17168    2013-02-01                     NaN         NaN  34.767863   \n",
       "3  45559    2013-01-22              Finn Water  FINN WATER  38.058046   \n",
       "4  49871    2013-03-27                  Bruder      BRUDER  35.006123   \n",
       "\n",
       "    latitude                 wpt_name                    basin  subvillage  \\\n",
       "0  -4.059696  Dinamu Secondary School                 Internal      Magoma   \n",
       "1  -3.309214                  Kimnyak                  Pangani     Kimnyak   \n",
       "2  -5.004344           Puma Secondary                 Internal       Msatu   \n",
       "3  -9.418672           Kwa Mzee Pange  Ruvuma / Southern Coast  Kipindimbi   \n",
       "4 -10.950412          Kwa Mzee Turuka  Ruvuma / Southern Coast     Losonga   \n",
       "\n",
       "    region  ...     waterpoint_type waterpoint_type_group       year  \\\n",
       "0  Manyara  ...               other                 other 2012-01-01   \n",
       "1   Arusha  ...  communal standpipe    communal standpipe 2000-01-01   \n",
       "2  Singida  ...               other                 other 2010-01-01   \n",
       "3    Lindi  ...               other                 other 1987-01-01   \n",
       "4   Ruvuma  ...  communal standpipe    communal standpipe 2000-01-01   \n",
       "\n",
       "  since_recording latitude_bins longitude_bins          pc0         pc1  \\\n",
       "0            2312            12             10 -5465.910555   86.177522   \n",
       "1            2312            14             13 -1085.119667   19.170761   \n",
       "2            2315            11              9 -4738.526681   71.357465   \n",
       "3            2325             3             15  3657.092297  -62.917491   \n",
       "4            2261             1             10 -1093.372501 -547.030269   \n",
       "\n",
       "          pc2         pc3  \n",
       "0 -982.963320  236.129194  \n",
       "1 -551.084542  131.675126  \n",
       "2 -520.989872  314.458890  \n",
       "3  728.887000 -200.173634  \n",
       "4 -311.115368 -170.185416  \n",
       "\n",
       "[5 rows x 41 columns]"
      ]
     },
     "execution_count": 90,
     "metadata": {},
     "output_type": "execute_result"
    }
   ],
   "source": [
    "pca_features = ['amount_tsh',\n",
    "                'gps_height',\n",
    "                'num_private',\n",
    "                'region_code',\n",
    "                'district_code',\n",
    "                'population',\n",
    "                'age']\n",
    "pca_data = PCA(n_components=4).fit_transform(train_features[pca_features])\n",
    "\n",
    "pca_test = PCA(n_components=4).fit_transform(test_features[pca_features])\n",
    "\n",
    "train_features = train_features.drop(columns=pca_features)\n",
    "test_features = test_features.drop(columns=pca_features)\n",
    "\n",
    "for i in range(pca_data.shape[1]):\n",
    "    train_features[f'pc{i}'] = pca_data[:,i]\n",
    "    test_features[f'pc{i}'] = pca_test[:,i]\n",
    "test_features.head()"
   ]
  },
  {
   "cell_type": "code",
   "execution_count": 96,
   "metadata": {},
   "outputs": [
    {
     "name": "stdout",
     "output_type": "stream",
     "text": [
      "(44550, 9) (14850, 9) (44550,) (14850,) (14358, 9)\n",
      "(44550, 55) (14850, 55) (14358, 55)\n"
     ]
    }
   ],
   "source": [
    "cat_features = [\n",
    "                'source_type',\n",
    "#                 'quality_group',\n",
    "                'extraction_type',\n",
    "                'quantity_group',\n",
    "#                 'management_group',\n",
    "                'basin',\n",
    "                'payment_type',\n",
    "#                 'permit',\n",
    "#                 'scheme_management'\n",
    "                ]\n",
    "# num_features = [\n",
    "#                 'amount_tsh',\n",
    "#                 'gps_height',\n",
    "#                 'longitude',\n",
    "#                 'latitude',\n",
    "#                 'num_private',\n",
    "#                 'region_code',\n",
    "#                 'district_code',\n",
    "#                 'population',\n",
    "#                 'age',\n",
    "# #                 'since_recording'\n",
    "#                ]\n",
    "num_features = ['pc0', 'pc1', 'pc2', 'pc3']\n",
    "features = cat_features + num_features\n",
    "\n",
    "train = train_features[features]\n",
    "y_train = train_labels['status_group']\n",
    "\n",
    "test = test_features[features]\n",
    "\n",
    "X_train, X_val, y_train, y_val = tts(train,\n",
    "                                     y_train,\n",
    "                                     train_size=.75,\n",
    "                                     test_size=.25,\n",
    "                                     stratify=y_train,\n",
    "                                     random_state=42)\n",
    "print(X_train.shape, X_val.shape, y_train.shape, y_val.shape, test.shape)\n",
    "\n",
    "encoder = ce.OneHotEncoder(use_cat_names=True)\n",
    "X_train_enc = encoder.fit_transform(X_train)\n",
    "X_val_enc = encoder.transform(X_val)\n",
    "X_test_features = encoder.transform(test)\n",
    "print(X_train_enc.shape, X_val_enc.shape, X_test_features.shape)\n"
   ]
  },
  {
   "cell_type": "code",
   "execution_count": 98,
   "metadata": {},
   "outputs": [
    {
     "name": "stdout",
     "output_type": "stream",
     "text": [
      "0.7839057239057239\n",
      "Wall time: 2min\n"
     ]
    }
   ],
   "source": [
    "%%time\n",
    "model = RFC(\n",
    "            n_estimators=250,\n",
    "            min_samples_leaf=5,\n",
    "#             criterion='entropy',\n",
    "            max_features=.9,\n",
    "            min_samples_split=9,\n",
    "            random_state=42,\n",
    "            bootstrap=True\n",
    "            )\n",
    "# parameters = {'n_estimators': range(100, 251, 50),\n",
    "#               'min_samples_leaf': range(3, 7),\n",
    "#               'criterion': ('entropy', 'gini'),\n",
    "#               'max_features': [x / 100 for x in range(85, 100, 5)],\n",
    "#               'min_samples_split': range(5, 13),\n",
    "#               'bootstrap': (True, False),\n",
    "#               }\n",
    "# clf = GSCV(model,\n",
    "#            parameters, \n",
    "#            cv=3,\n",
    "#            n_jobs=-1,\n",
    "#            verbose=3,\n",
    "#            )\n",
    "\n",
    "# clf.fit(X_train_enc, y_train)\n",
    "model.fit(X_train_enc, y_train)\n",
    "print(model.score(X_val_enc, y_val))\n",
    "# print(clf.best_estimator_, clf.best_score_, clf.best_params_)"
   ]
  },
  {
   "cell_type": "code",
   "execution_count": 93,
   "metadata": {
    "collapsed": true
   },
   "outputs": [],
   "source": [
    "# model.score(X_val_enc, y_val)"
   ]
  },
  {
   "cell_type": "code",
   "execution_count": 94,
   "metadata": {},
   "outputs": [
    {
     "data": {
      "text/plain": [
       "0.543080808080808"
      ]
     },
     "execution_count": 94,
     "metadata": {},
     "output_type": "execute_result"
    }
   ],
   "source": [
    "acc(train_labels['status_group'], train_labels['baseline'])"
   ]
  },
  {
   "cell_type": "code",
   "execution_count": 95,
   "metadata": {
    "collapsed": true
   },
   "outputs": [],
   "source": [
    "# predicted = model.predict(X_test_features)\n",
    "# submission = sample_submission.copy()\n",
    "# submission['status_group'] = predicted\n",
    "# submission.to_csv('sub_7.csv', index=False)"
   ]
  },
  {
   "cell_type": "code",
   "execution_count": null,
   "metadata": {
    "collapsed": true
   },
   "outputs": [],
   "source": []
  }
 ],
 "metadata": {
  "kernelspec": {
   "display_name": "Python 3",
   "language": "python",
   "name": "python3"
  },
  "language_info": {
   "codemirror_mode": {
    "name": "ipython",
    "version": 3
   },
   "file_extension": ".py",
   "mimetype": "text/x-python",
   "name": "python",
   "nbconvert_exporter": "python",
   "pygments_lexer": "ipython3",
   "version": "3.6.4"
  }
 },
 "nbformat": 4,
 "nbformat_minor": 2
}
