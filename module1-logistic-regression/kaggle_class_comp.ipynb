{
 "cells": [
  {
   "cell_type": "code",
   "execution_count": 1,
   "metadata": {},
   "outputs": [],
   "source": [
    "import sys\n",
    "import pandas as pd\n",
    "import numpy as np\n",
    "import seaborn as sns"
   ]
  },
  {
   "cell_type": "markdown",
   "metadata": {},
   "source": [
    "## Load Data"
   ]
  },
  {
   "cell_type": "code",
   "execution_count": 531,
   "metadata": {},
   "outputs": [],
   "source": [
    "path = '/Users/ridleyleisy/Documents/lambda/unit_two/DS-Unit-2-Classification-1/ds4-predictive-modeling-challenge/'"
   ]
  },
  {
   "cell_type": "code",
   "execution_count": 532,
   "metadata": {},
   "outputs": [],
   "source": [
    "train = pd.read_csv(path + 'train_features.csv')\n",
    "test = pd.read_csv(path + 'test_features.csv')\n",
    "labels = pd.read_csv(path + 'train_labels.csv')\n",
    "sample_submission = pd.read_csv('https://drive.google.com/uc?export=download&id=1kfJewnmhowpUo381oSn3XqsQ6Eto23XV')"
   ]
  },
  {
   "cell_type": "markdown",
   "metadata": {},
   "source": [
    "## clean data"
   ]
  },
  {
   "cell_type": "markdown",
   "metadata": {},
   "source": [
    "### numeric"
   ]
  },
  {
   "cell_type": "code",
   "execution_count": 533,
   "metadata": {},
   "outputs": [],
   "source": [
    "def drop_cols_rows(df):\n",
    "    df.drop('num_private',axis=1,inplace=True)\n",
    "    df.drop('recorded_by',axis=1,inplace=True)\n",
    "    return df"
   ]
  },
  {
   "cell_type": "code",
   "execution_count": 534,
   "metadata": {},
   "outputs": [],
   "source": [
    "train = drop_cols_rows(train)"
   ]
  },
  {
   "cell_type": "markdown",
   "metadata": {},
   "source": [
    "#### replace longitude"
   ]
  },
  {
   "cell_type": "code",
   "execution_count": 535,
   "metadata": {
    "scrolled": true
   },
   "outputs": [],
   "source": [
    "#test whether you want to keep longitude\n",
    "long_mean = train.loc[train['longitude'] !=0]['longitude'].mean()\n",
    "train['longitude'].replace(0,long_mean,inplace=True)\n",
    "test['longitude'].replace(0,long_mean,inplace=True)"
   ]
  },
  {
   "cell_type": "markdown",
   "metadata": {},
   "source": [
    "#### drop longitude"
   ]
  },
  {
   "cell_type": "code",
   "execution_count": 414,
   "metadata": {
    "scrolled": true
   },
   "outputs": [],
   "source": [
    "#test whether you want to drop longitude from dataset\n",
    "train = train.loc[train['longitude'] != 0]\n",
    "test = test.loc[test['longitude'] != 0]"
   ]
  },
  {
   "cell_type": "markdown",
   "metadata": {},
   "source": [
    "## Train construction year data"
   ]
  },
  {
   "cell_type": "markdown",
   "metadata": {},
   "source": [
    "### feature engineering"
   ]
  },
  {
   "cell_type": "code",
   "execution_count": 536,
   "metadata": {},
   "outputs": [],
   "source": [
    "from sklearn.tree import DecisionTreeRegressor\n",
    "from sklearn.ensemble import RandomForestClassifier, RandomForestRegressor\n",
    "from sklearn.model_selection import train_test_split\n",
    "from sklearn.metrics import mean_absolute_error\n",
    "import seaborn as sns"
   ]
  },
  {
   "cell_type": "markdown",
   "metadata": {},
   "source": [
    "#### construction year predicted by random forest"
   ]
  },
  {
   "cell_type": "code",
   "execution_count": 537,
   "metadata": {},
   "outputs": [],
   "source": [
    "train['construction_year'] = train['construction_year'].replace(0,np.nan)\n",
    "test['construction_year'] = test['construction_year'].replace(0,np.nan)"
   ]
  },
  {
   "cell_type": "code",
   "execution_count": 538,
   "metadata": {},
   "outputs": [],
   "source": [
    "def transform_construction(df):\n",
    "    \n",
    "    df = df.select_dtypes(include=np.number)\n",
    "    X = df.loc[~df['construction_year'].isna()]\n",
    "    \n",
    "    # can only use these featuers since they differ \n",
    "    features = ['amount_tsh', 'gps_height', 'longitude', 'latitude',\n",
    "       'region_code', 'district_code', 'population']\n",
    "    target = 'construction_year'\n",
    "    \n",
    "    X_train = X[features]\n",
    "    y_train = X[target]\n",
    "    \n",
    "    X_train, X_test, y_train, y_test = train_test_split(X_train,y_train)\n",
    "    m = RandomForestRegressor(n_estimators=20,max_depth=25)\n",
    "    m.fit(X_train, y_train)\n",
    "    \n",
    "    vals = m.predict(df.loc[df['construction_year'].isna()][features])\n",
    "    \n",
    "    return  vals"
   ]
  },
  {
   "cell_type": "code",
   "execution_count": 539,
   "metadata": {
    "scrolled": true
   },
   "outputs": [],
   "source": [
    "train.loc[train['construction_year'].isna(),'construction_year'] = transform_construction(train)\n",
    "test.loc[test['construction_year'].isna(),'construction_year'] = transform_construction(test)\n",
    "train['construction_year'] = round(train['construction_year'])\n",
    "test['construction_year'] = round(test['construction_year'])"
   ]
  },
  {
   "cell_type": "markdown",
   "metadata": {},
   "source": [
    "#### construction year based on distribution"
   ]
  },
  {
   "cell_type": "code",
   "execution_count": 540,
   "metadata": {
    "scrolled": true
   },
   "outputs": [],
   "source": [
    "# getting distributions for construction years\n",
    "dist = train['construction_year'].value_counts(normalize=True)\n",
    "dist_test = test['construction_year'].value_counts(normalize=True)"
   ]
  },
  {
   "cell_type": "code",
   "execution_count": 541,
   "metadata": {},
   "outputs": [],
   "source": [
    "# applying distribution of construction year to na values for train and test sets\n",
    "train.loc[train['construction_year'].isna(),'construction_year'] = np.random.choice(dist.index, size=train['construction_year'].isna().sum(),p=dist.values)"
   ]
  },
  {
   "cell_type": "code",
   "execution_count": 542,
   "metadata": {},
   "outputs": [],
   "source": [
    "test.loc[test['construction_year'].isna(),'construction_year'] = np.random.choice(dist_test.index, size=test['construction_year'].isna().sum(),p=dist_test.values)"
   ]
  },
  {
   "cell_type": "markdown",
   "metadata": {},
   "source": [
    "Add time since construction"
   ]
  },
  {
   "cell_type": "code",
   "execution_count": 543,
   "metadata": {},
   "outputs": [],
   "source": [
    "def add_construction_diff(df):\n",
    "    df['date_recorded'] = pd.to_datetime(df['date_recorded'])\n",
    "    df['construction_year'] = pd.to_datetime(df['construction_year'],format=\"%Y\")\n",
    "    df['time_since_construction'] = (df['date_recorded'] - df['construction_year']).dt.days\n",
    "    df.loc[df['time_since_construction'] < 0,'time_since_construction'] = 0    \n",
    "    df['construction_year'] = df['construction_year'].dt.year\n",
    "    return df"
   ]
  },
  {
   "cell_type": "code",
   "execution_count": 544,
   "metadata": {},
   "outputs": [],
   "source": [
    "test = add_construction_diff(test)\n",
    "train = add_construction_diff(train)"
   ]
  },
  {
   "cell_type": "markdown",
   "metadata": {},
   "source": [
    "Feature engineering"
   ]
  },
  {
   "cell_type": "code",
   "execution_count": 564,
   "metadata": {},
   "outputs": [],
   "source": [
    "def add_ratios(df):\n",
    "    df['tsh_by_longitude'] = df['amount_tsh'] / df['longitude']\n",
    "    df['tsh_by_latitude'] = df['amount_tsh'] / abs(df['latitude'])\n",
    "    df['tsh_by_height'] =  df['amount_tsh'] / df['gps_height']\n",
    "    df['tsh_by_height'] = df['tsh_by_height'].replace(np.inf,0).replace(np.nan,0)\n",
    "    return df"
   ]
  },
  {
   "cell_type": "code",
   "execution_count": 565,
   "metadata": {},
   "outputs": [],
   "source": [
    "test = add_ratios(test)\n",
    "train = add_ratios(train)"
   ]
  },
  {
   "cell_type": "markdown",
   "metadata": {},
   "source": [
    "### reduce label size to fit feature engineers"
   ]
  },
  {
   "cell_type": "code",
   "execution_count": 566,
   "metadata": {},
   "outputs": [],
   "source": [
    "labels = labels.merge(train,on='id')[['id','status_group']]"
   ]
  },
  {
   "cell_type": "markdown",
   "metadata": {},
   "source": [
    "## Encoding and Scaling Categorical Data"
   ]
  },
  {
   "cell_type": "code",
   "execution_count": 568,
   "metadata": {},
   "outputs": [],
   "source": [
    "import category_encoders as ce\n",
    "from sklearn.preprocessing import RobustScaler\n",
    "from sklearn.linear_model import LogisticRegression\n",
    "from sklearn.pipeline import Pipeline\n",
    "import matplotlib.pyplot as plt"
   ]
  },
  {
   "cell_type": "code",
   "execution_count": 569,
   "metadata": {
    "scrolled": true
   },
   "outputs": [],
   "source": [
    "unique = train.describe(exclude=np.number).T.sort_values(by='unique')"
   ]
  },
  {
   "cell_type": "code",
   "execution_count": 570,
   "metadata": {},
   "outputs": [],
   "source": [
    "cat_features = list(unique.loc[unique['unique'] < 130].index)"
   ]
  },
  {
   "cell_type": "code",
   "execution_count": 571,
   "metadata": {},
   "outputs": [],
   "source": [
    "numeric_features = list(train.describe().columns[1:])"
   ]
  },
  {
   "cell_type": "code",
   "execution_count": 572,
   "metadata": {},
   "outputs": [],
   "source": [
    "encode_features = cat_features\n",
    "features = numeric_features + encode_features"
   ]
  },
  {
   "cell_type": "markdown",
   "metadata": {},
   "source": [
    "### Pipeline"
   ]
  },
  {
   "cell_type": "code",
   "execution_count": 597,
   "metadata": {},
   "outputs": [],
   "source": [
    "def transform_data_hot(features):\n",
    "    encoder = ce.OneHotEncoder(use_cat_names=True)\n",
    "    scaler = RobustScaler()\n",
    "    X_train = train[features]\n",
    "    y_train = labels['status_group']\n",
    "\n",
    "    X_train, X_val, y_train, y_val = train_test_split(\n",
    "        X_train, y_train, train_size=0.80, test_size=0.20, \n",
    "        stratify=y_train, random_state=42)\n",
    "\n",
    "    X_train_sub = X_train[features]\n",
    "    X_val_sub = X_val[features]\n",
    "    \n",
    "    pipeline1 = Pipeline([('encoder',encoder),('scaler',scaler)])\n",
    "    X_train_sub_encoded = pipeline1.fit_transform(X_train_sub)\n",
    "    X_val_sub_encoded = pipeline1.transform(X_val_sub)\n",
    "    \n",
    "    test_encoded = pipeline1.transform(test[features])\n",
    "    X_encode_cols = encoder.transform(X_train_sub)\n",
    "    \n",
    "    return X_train_sub_encoded, X_val_sub_encoded, y_train, y_val, X_encode_cols,test_encoded"
   ]
  },
  {
   "cell_type": "code",
   "execution_count": 555,
   "metadata": {},
   "outputs": [],
   "source": [
    "def transform_data_ordinal(features):\n",
    "    encoder = ce.OrdinalEncoder()\n",
    "    scaler = RobustScaler()\n",
    "    X_train = train[features]\n",
    "    y_train = labels['status_group']\n",
    "\n",
    "    X_train, X_val, y_train, y_val = train_test_split(\n",
    "        X_train, y_train, train_size=0.80, test_size=0.20, \n",
    "        stratify=y_train, random_state=42)\n",
    "\n",
    "    X_train_sub = X_train[features]\n",
    "    X_val_sub = X_val[features]\n",
    "    \n",
    "    pipeline1 = Pipeline([('encoder',encoder),('scaler',scaler)])\n",
    "    X_train_sub_encoded = pipeline1.fit_transform(X_train_sub)\n",
    "    X_val_sub_encoded = pipeline1.transform(X_val_sub)\n",
    "    \n",
    "    X_encode_cols = encoder.transform(X_train_sub)\n",
    "    return X_train_sub_encoded, X_val_sub_encoded, y_train, y_val, X_encode_cols"
   ]
  },
  {
   "cell_type": "markdown",
   "metadata": {},
   "source": [
    "## Logistical Regression"
   ]
  },
  {
   "cell_type": "code",
   "execution_count": 48,
   "metadata": {},
   "outputs": [],
   "source": [
    "#model = LogisticRegression(solver='lbfgs', multi_class='auto', max_iter=1000)\n",
    "#model.fit(X_train_scaled, y_train)"
   ]
  },
  {
   "cell_type": "code",
   "execution_count": null,
   "metadata": {
    "scrolled": true
   },
   "outputs": [],
   "source": [
    "model.score(X_val_scaled,y_val)"
   ]
  },
  {
   "cell_type": "markdown",
   "metadata": {},
   "source": [
    "## Decision Tree"
   ]
  },
  {
   "cell_type": "code",
   "execution_count": 389,
   "metadata": {},
   "outputs": [],
   "source": [
    "from sklearn.tree import DecisionTreeClassifier"
   ]
  },
  {
   "cell_type": "code",
   "execution_count": 390,
   "metadata": {},
   "outputs": [],
   "source": [
    "m = DecisionTreeClassifier(max_depth=25)"
   ]
  },
  {
   "cell_type": "code",
   "execution_count": 798,
   "metadata": {},
   "outputs": [
    {
     "data": {
      "text/plain": [
       "RandomForestClassifier(bootstrap=True, class_weight=None, criterion='gini',\n",
       "            max_depth=30, max_features='auto', max_leaf_nodes=None,\n",
       "            min_impurity_decrease=0.0, min_impurity_split=None,\n",
       "            min_samples_leaf=1, min_samples_split=2,\n",
       "            min_weight_fraction_leaf=0.0, n_estimators=150, n_jobs=None,\n",
       "            oob_score=False, random_state=None, verbose=0,\n",
       "            warm_start=False)"
      ]
     },
     "execution_count": 798,
     "metadata": {},
     "output_type": "execute_result"
    }
   ],
   "source": [
    "m.fit(X_train_scaled,y_train)"
   ]
  },
  {
   "cell_type": "code",
   "execution_count": 799,
   "metadata": {},
   "outputs": [
    {
     "data": {
      "text/plain": [
       "0.8071548821548822"
      ]
     },
     "execution_count": 799,
     "metadata": {},
     "output_type": "execute_result"
    }
   ],
   "source": [
    "m.score(X_val_scaled,y_val)"
   ]
  },
  {
   "cell_type": "code",
   "execution_count": 800,
   "metadata": {},
   "outputs": [
    {
     "data": {
      "text/plain": [
       "0.9867424242424242"
      ]
     },
     "execution_count": 800,
     "metadata": {},
     "output_type": "execute_result"
    }
   ],
   "source": [
    "m.score(X_train_scaled,y_train)"
   ]
  },
  {
   "cell_type": "code",
   "execution_count": 394,
   "metadata": {
    "scrolled": false
   },
   "outputs": [
    {
     "data": {
      "text/html": [
       "<div>\n",
       "<style scoped>\n",
       "    .dataframe tbody tr th:only-of-type {\n",
       "        vertical-align: middle;\n",
       "    }\n",
       "\n",
       "    .dataframe tbody tr th {\n",
       "        vertical-align: top;\n",
       "    }\n",
       "\n",
       "    .dataframe thead th {\n",
       "        text-align: right;\n",
       "    }\n",
       "</style>\n",
       "<table border=\"1\" class=\"dataframe\">\n",
       "  <thead>\n",
       "    <tr style=\"text-align: right;\">\n",
       "      <th></th>\n",
       "      <th>0</th>\n",
       "    </tr>\n",
       "  </thead>\n",
       "  <tbody>\n",
       "    <tr>\n",
       "      <th>district_code</th>\n",
       "      <td>0.010797</td>\n",
       "    </tr>\n",
       "    <tr>\n",
       "      <th>waterpoint_type_communal standpipe multiple</th>\n",
       "      <td>0.021741</td>\n",
       "    </tr>\n",
       "    <tr>\n",
       "      <th>amount_tsh</th>\n",
       "      <td>0.025102</td>\n",
       "    </tr>\n",
       "    <tr>\n",
       "      <th>population</th>\n",
       "      <td>0.040552</td>\n",
       "    </tr>\n",
       "    <tr>\n",
       "      <th>gps_height</th>\n",
       "      <td>0.053927</td>\n",
       "    </tr>\n",
       "    <tr>\n",
       "      <th>waterpoint_type_group_other</th>\n",
       "      <td>0.082631</td>\n",
       "    </tr>\n",
       "    <tr>\n",
       "      <th>time_since_construction</th>\n",
       "      <td>0.095104</td>\n",
       "    </tr>\n",
       "    <tr>\n",
       "      <th>latitude</th>\n",
       "      <td>0.115097</td>\n",
       "    </tr>\n",
       "    <tr>\n",
       "      <th>longitude</th>\n",
       "      <td>0.128420</td>\n",
       "    </tr>\n",
       "    <tr>\n",
       "      <th>quantity_group_dry</th>\n",
       "      <td>0.151526</td>\n",
       "    </tr>\n",
       "  </tbody>\n",
       "</table>\n",
       "</div>"
      ],
      "text/plain": [
       "                                                    0\n",
       "district_code                                0.010797\n",
       "waterpoint_type_communal standpipe multiple  0.021741\n",
       "amount_tsh                                   0.025102\n",
       "population                                   0.040552\n",
       "gps_height                                   0.053927\n",
       "waterpoint_type_group_other                  0.082631\n",
       "time_since_construction                      0.095104\n",
       "latitude                                     0.115097\n",
       "longitude                                    0.128420\n",
       "quantity_group_dry                           0.151526"
      ]
     },
     "execution_count": 394,
     "metadata": {},
     "output_type": "execute_result"
    }
   ],
   "source": [
    "pd.DataFrame(m.feature_importances_,X_train_sub_encoded.columns).sort_values(by=0).tail(10)"
   ]
  },
  {
   "cell_type": "markdown",
   "metadata": {},
   "source": [
    "## Random Forest"
   ]
  },
  {
   "cell_type": "code",
   "execution_count": 190,
   "metadata": {},
   "outputs": [],
   "source": [
    "from sklearn.ensemble import RandomForestClassifier"
   ]
  },
  {
   "cell_type": "markdown",
   "metadata": {},
   "source": [
    "### ordinal"
   ]
  },
  {
   "cell_type": "code",
   "execution_count": 198,
   "metadata": {},
   "outputs": [],
   "source": [
    "all_cats = train.describe(exclude='number').T.sort_values(by='unique').index"
   ]
  },
  {
   "cell_type": "code",
   "execution_count": 208,
   "metadata": {},
   "outputs": [],
   "source": [
    "all_cats = all_cats.delete(all_cats.get_loc('date_recorded'))"
   ]
  },
  {
   "cell_type": "code",
   "execution_count": 213,
   "metadata": {},
   "outputs": [],
   "source": [
    "X_train_sub_encoded, X_val_sub_encoded, y_train, y_val = transform_data_ordinal(features)"
   ]
  },
  {
   "cell_type": "markdown",
   "metadata": {},
   "source": [
    "### hot encoded"
   ]
  },
  {
   "cell_type": "code",
   "execution_count": 627,
   "metadata": {},
   "outputs": [],
   "source": [
    "X_train_sub_encoded, X_val_sub_encoded, y_train, y_val,cols, test_encoded = transform_data_hot(features)"
   ]
  },
  {
   "cell_type": "markdown",
   "metadata": {},
   "source": [
    "### model"
   ]
  },
  {
   "cell_type": "code",
   "execution_count": 694,
   "metadata": {},
   "outputs": [],
   "source": [
    "m = RandomForestClassifier(n_estimators=300,max_depth=28,max_features='auto',n_jobs=-1)"
   ]
  },
  {
   "cell_type": "code",
   "execution_count": 695,
   "metadata": {
    "scrolled": true
   },
   "outputs": [
    {
     "data": {
      "text/plain": [
       "RandomForestClassifier(bootstrap=True, class_weight=None, criterion='gini',\n",
       "            max_depth=28, max_features='auto', max_leaf_nodes=None,\n",
       "            min_impurity_decrease=0.0, min_impurity_split=None,\n",
       "            min_samples_leaf=1, min_samples_split=2,\n",
       "            min_weight_fraction_leaf=0.0, n_estimators=300, n_jobs=-1,\n",
       "            oob_score=False, random_state=None, verbose=0,\n",
       "            warm_start=False)"
      ]
     },
     "execution_count": 695,
     "metadata": {},
     "output_type": "execute_result"
    }
   ],
   "source": [
    "m.fit(X_train_sub_encoded,y_train)"
   ]
  },
  {
   "cell_type": "code",
   "execution_count": 696,
   "metadata": {},
   "outputs": [
    {
     "data": {
      "text/plain": [
       "0.8111111111111111"
      ]
     },
     "execution_count": 696,
     "metadata": {},
     "output_type": "execute_result"
    }
   ],
   "source": [
    "m.score(X_val_sub_encoded,y_val)"
   ]
  },
  {
   "cell_type": "code",
   "execution_count": 697,
   "metadata": {},
   "outputs": [
    {
     "data": {
      "text/plain": [
       "0.9824074074074074"
      ]
     },
     "execution_count": 697,
     "metadata": {},
     "output_type": "execute_result"
    }
   ],
   "source": [
    "m.score(X_train_sub_encoded,y_train)"
   ]
  },
  {
   "cell_type": "code",
   "execution_count": 581,
   "metadata": {
    "scrolled": true
   },
   "outputs": [
    {
     "data": {
      "text/html": [
       "<div>\n",
       "<style scoped>\n",
       "    .dataframe tbody tr th:only-of-type {\n",
       "        vertical-align: middle;\n",
       "    }\n",
       "\n",
       "    .dataframe tbody tr th {\n",
       "        vertical-align: top;\n",
       "    }\n",
       "\n",
       "    .dataframe thead th {\n",
       "        text-align: right;\n",
       "    }\n",
       "</style>\n",
       "<table border=\"1\" class=\"dataframe\">\n",
       "  <thead>\n",
       "    <tr style=\"text-align: right;\">\n",
       "      <th></th>\n",
       "      <th>0</th>\n",
       "    </tr>\n",
       "  </thead>\n",
       "  <tbody>\n",
       "    <tr>\n",
       "      <th>extraction_type_class_-1</th>\n",
       "      <td>0.000000e+00</td>\n",
       "    </tr>\n",
       "    <tr>\n",
       "      <th>waterpoint_type_group_-1</th>\n",
       "      <td>0.000000e+00</td>\n",
       "    </tr>\n",
       "    <tr>\n",
       "      <th>quantity_-1</th>\n",
       "      <td>0.000000e+00</td>\n",
       "    </tr>\n",
       "    <tr>\n",
       "      <th>payment_type_-1</th>\n",
       "      <td>0.000000e+00</td>\n",
       "    </tr>\n",
       "    <tr>\n",
       "      <th>source_type_-1</th>\n",
       "      <td>0.000000e+00</td>\n",
       "    </tr>\n",
       "    <tr>\n",
       "      <th>payment_-1</th>\n",
       "      <td>0.000000e+00</td>\n",
       "    </tr>\n",
       "    <tr>\n",
       "      <th>quantity_group_-1</th>\n",
       "      <td>0.000000e+00</td>\n",
       "    </tr>\n",
       "    <tr>\n",
       "      <th>waterpoint_type_-1</th>\n",
       "      <td>0.000000e+00</td>\n",
       "    </tr>\n",
       "    <tr>\n",
       "      <th>water_quality_-1</th>\n",
       "      <td>0.000000e+00</td>\n",
       "    </tr>\n",
       "    <tr>\n",
       "      <th>basin_-1</th>\n",
       "      <td>0.000000e+00</td>\n",
       "    </tr>\n",
       "    <tr>\n",
       "      <th>source_-1</th>\n",
       "      <td>0.000000e+00</td>\n",
       "    </tr>\n",
       "    <tr>\n",
       "      <th>management_group_-1</th>\n",
       "      <td>0.000000e+00</td>\n",
       "    </tr>\n",
       "    <tr>\n",
       "      <th>region_-1</th>\n",
       "      <td>0.000000e+00</td>\n",
       "    </tr>\n",
       "    <tr>\n",
       "      <th>management_-1</th>\n",
       "      <td>0.000000e+00</td>\n",
       "    </tr>\n",
       "    <tr>\n",
       "      <th>quality_group_-1</th>\n",
       "      <td>0.000000e+00</td>\n",
       "    </tr>\n",
       "    <tr>\n",
       "      <th>extraction_type_-1</th>\n",
       "      <td>0.000000e+00</td>\n",
       "    </tr>\n",
       "    <tr>\n",
       "      <th>lga_-1</th>\n",
       "      <td>0.000000e+00</td>\n",
       "    </tr>\n",
       "    <tr>\n",
       "      <th>source_class_-1</th>\n",
       "      <td>0.000000e+00</td>\n",
       "    </tr>\n",
       "    <tr>\n",
       "      <th>extraction_type_group_-1</th>\n",
       "      <td>0.000000e+00</td>\n",
       "    </tr>\n",
       "    <tr>\n",
       "      <th>permit_-1</th>\n",
       "      <td>0.000000e+00</td>\n",
       "    </tr>\n",
       "    <tr>\n",
       "      <th>scheme_management_-1</th>\n",
       "      <td>0.000000e+00</td>\n",
       "    </tr>\n",
       "    <tr>\n",
       "      <th>public_meeting_-1</th>\n",
       "      <td>0.000000e+00</td>\n",
       "    </tr>\n",
       "    <tr>\n",
       "      <th>scheme_management_None</th>\n",
       "      <td>2.559366e-08</td>\n",
       "    </tr>\n",
       "    <tr>\n",
       "      <th>extraction_type_other - mkulima/shinyanga</th>\n",
       "      <td>1.351370e-06</td>\n",
       "    </tr>\n",
       "    <tr>\n",
       "      <th>lga_Lindi Urban</th>\n",
       "      <td>8.213862e-06</td>\n",
       "    </tr>\n",
       "    <tr>\n",
       "      <th>waterpoint_type_group_dam</th>\n",
       "      <td>9.794289e-06</td>\n",
       "    </tr>\n",
       "    <tr>\n",
       "      <th>waterpoint_type_dam</th>\n",
       "      <td>1.124196e-05</td>\n",
       "    </tr>\n",
       "    <tr>\n",
       "      <th>lga_Kinondoni</th>\n",
       "      <td>2.973329e-05</td>\n",
       "    </tr>\n",
       "    <tr>\n",
       "      <th>lga_Songea Urban</th>\n",
       "      <td>3.131793e-05</td>\n",
       "    </tr>\n",
       "    <tr>\n",
       "      <th>extraction_type_climax</th>\n",
       "      <td>3.428772e-05</td>\n",
       "    </tr>\n",
       "    <tr>\n",
       "      <th>...</th>\n",
       "      <td>...</td>\n",
       "    </tr>\n",
       "    <tr>\n",
       "      <th>management_vwc</th>\n",
       "      <td>5.108469e-03</td>\n",
       "    </tr>\n",
       "    <tr>\n",
       "      <th>permit_False</th>\n",
       "      <td>5.108757e-03</td>\n",
       "    </tr>\n",
       "    <tr>\n",
       "      <th>permit_True</th>\n",
       "      <td>5.411500e-03</td>\n",
       "    </tr>\n",
       "    <tr>\n",
       "      <th>payment_never pay</th>\n",
       "      <td>5.614740e-03</td>\n",
       "    </tr>\n",
       "    <tr>\n",
       "      <th>quantity_group_insufficient</th>\n",
       "      <td>6.271899e-03</td>\n",
       "    </tr>\n",
       "    <tr>\n",
       "      <th>payment_type_never pay</th>\n",
       "      <td>6.391782e-03</td>\n",
       "    </tr>\n",
       "    <tr>\n",
       "      <th>waterpoint_type_communal standpipe multiple</th>\n",
       "      <td>6.818215e-03</td>\n",
       "    </tr>\n",
       "    <tr>\n",
       "      <th>quantity_insufficient</th>\n",
       "      <td>7.203316e-03</td>\n",
       "    </tr>\n",
       "    <tr>\n",
       "      <th>waterpoint_type_communal standpipe</th>\n",
       "      <td>7.207100e-03</td>\n",
       "    </tr>\n",
       "    <tr>\n",
       "      <th>extraction_type_class_other</th>\n",
       "      <td>9.837224e-03</td>\n",
       "    </tr>\n",
       "    <tr>\n",
       "      <th>amount_tsh</th>\n",
       "      <td>9.849068e-03</td>\n",
       "    </tr>\n",
       "    <tr>\n",
       "      <th>extraction_type_group_other</th>\n",
       "      <td>9.893396e-03</td>\n",
       "    </tr>\n",
       "    <tr>\n",
       "      <th>extraction_type_other</th>\n",
       "      <td>1.080930e-02</td>\n",
       "    </tr>\n",
       "    <tr>\n",
       "      <th>region_code</th>\n",
       "      <td>1.175372e-02</td>\n",
       "    </tr>\n",
       "    <tr>\n",
       "      <th>quantity_enough</th>\n",
       "      <td>1.180728e-02</td>\n",
       "    </tr>\n",
       "    <tr>\n",
       "      <th>waterpoint_type_other</th>\n",
       "      <td>1.362205e-02</td>\n",
       "    </tr>\n",
       "    <tr>\n",
       "      <th>district_code</th>\n",
       "      <td>1.389462e-02</td>\n",
       "    </tr>\n",
       "    <tr>\n",
       "      <th>quantity_group_enough</th>\n",
       "      <td>1.392489e-02</td>\n",
       "    </tr>\n",
       "    <tr>\n",
       "      <th>waterpoint_type_group_other</th>\n",
       "      <td>1.719750e-02</td>\n",
       "    </tr>\n",
       "    <tr>\n",
       "      <th>tsh_by_height</th>\n",
       "      <td>1.906623e-02</td>\n",
       "    </tr>\n",
       "    <tr>\n",
       "      <th>tsh_by_longitude</th>\n",
       "      <td>2.004848e-02</td>\n",
       "    </tr>\n",
       "    <tr>\n",
       "      <th>tsh_by_latitude</th>\n",
       "      <td>2.291668e-02</td>\n",
       "    </tr>\n",
       "    <tr>\n",
       "      <th>quantity_dry</th>\n",
       "      <td>3.373829e-02</td>\n",
       "    </tr>\n",
       "    <tr>\n",
       "      <th>population</th>\n",
       "      <td>3.448180e-02</td>\n",
       "    </tr>\n",
       "    <tr>\n",
       "      <th>quantity_group_dry</th>\n",
       "      <td>4.069058e-02</td>\n",
       "    </tr>\n",
       "    <tr>\n",
       "      <th>construction_year</th>\n",
       "      <td>4.370609e-02</td>\n",
       "    </tr>\n",
       "    <tr>\n",
       "      <th>gps_height</th>\n",
       "      <td>4.770538e-02</td>\n",
       "    </tr>\n",
       "    <tr>\n",
       "      <th>time_since_construction</th>\n",
       "      <td>7.651117e-02</td>\n",
       "    </tr>\n",
       "    <tr>\n",
       "      <th>latitude</th>\n",
       "      <td>9.885414e-02</td>\n",
       "    </tr>\n",
       "    <tr>\n",
       "      <th>longitude</th>\n",
       "      <td>9.944204e-02</td>\n",
       "    </tr>\n",
       "  </tbody>\n",
       "</table>\n",
       "<p>333 rows × 1 columns</p>\n",
       "</div>"
      ],
      "text/plain": [
       "                                                        0\n",
       "extraction_type_class_-1                     0.000000e+00\n",
       "waterpoint_type_group_-1                     0.000000e+00\n",
       "quantity_-1                                  0.000000e+00\n",
       "payment_type_-1                              0.000000e+00\n",
       "source_type_-1                               0.000000e+00\n",
       "payment_-1                                   0.000000e+00\n",
       "quantity_group_-1                            0.000000e+00\n",
       "waterpoint_type_-1                           0.000000e+00\n",
       "water_quality_-1                             0.000000e+00\n",
       "basin_-1                                     0.000000e+00\n",
       "source_-1                                    0.000000e+00\n",
       "management_group_-1                          0.000000e+00\n",
       "region_-1                                    0.000000e+00\n",
       "management_-1                                0.000000e+00\n",
       "quality_group_-1                             0.000000e+00\n",
       "extraction_type_-1                           0.000000e+00\n",
       "lga_-1                                       0.000000e+00\n",
       "source_class_-1                              0.000000e+00\n",
       "extraction_type_group_-1                     0.000000e+00\n",
       "permit_-1                                    0.000000e+00\n",
       "scheme_management_-1                         0.000000e+00\n",
       "public_meeting_-1                            0.000000e+00\n",
       "scheme_management_None                       2.559366e-08\n",
       "extraction_type_other - mkulima/shinyanga    1.351370e-06\n",
       "lga_Lindi Urban                              8.213862e-06\n",
       "waterpoint_type_group_dam                    9.794289e-06\n",
       "waterpoint_type_dam                          1.124196e-05\n",
       "lga_Kinondoni                                2.973329e-05\n",
       "lga_Songea Urban                             3.131793e-05\n",
       "extraction_type_climax                       3.428772e-05\n",
       "...                                                   ...\n",
       "management_vwc                               5.108469e-03\n",
       "permit_False                                 5.108757e-03\n",
       "permit_True                                  5.411500e-03\n",
       "payment_never pay                            5.614740e-03\n",
       "quantity_group_insufficient                  6.271899e-03\n",
       "payment_type_never pay                       6.391782e-03\n",
       "waterpoint_type_communal standpipe multiple  6.818215e-03\n",
       "quantity_insufficient                        7.203316e-03\n",
       "waterpoint_type_communal standpipe           7.207100e-03\n",
       "extraction_type_class_other                  9.837224e-03\n",
       "amount_tsh                                   9.849068e-03\n",
       "extraction_type_group_other                  9.893396e-03\n",
       "extraction_type_other                        1.080930e-02\n",
       "region_code                                  1.175372e-02\n",
       "quantity_enough                              1.180728e-02\n",
       "waterpoint_type_other                        1.362205e-02\n",
       "district_code                                1.389462e-02\n",
       "quantity_group_enough                        1.392489e-02\n",
       "waterpoint_type_group_other                  1.719750e-02\n",
       "tsh_by_height                                1.906623e-02\n",
       "tsh_by_longitude                             2.004848e-02\n",
       "tsh_by_latitude                              2.291668e-02\n",
       "quantity_dry                                 3.373829e-02\n",
       "population                                   3.448180e-02\n",
       "quantity_group_dry                           4.069058e-02\n",
       "construction_year                            4.370609e-02\n",
       "gps_height                                   4.770538e-02\n",
       "time_since_construction                      7.651117e-02\n",
       "latitude                                     9.885414e-02\n",
       "longitude                                    9.944204e-02\n",
       "\n",
       "[333 rows x 1 columns]"
      ]
     },
     "execution_count": 581,
     "metadata": {},
     "output_type": "execute_result"
    }
   ],
   "source": [
    "pd.DataFrame(m.feature_importances_,cols.columns).sort_values(by=0)"
   ]
  },
  {
   "cell_type": "code",
   "execution_count": 698,
   "metadata": {
    "scrolled": true
   },
   "outputs": [],
   "source": [
    "preds = m.predict(test_encoded)"
   ]
  },
  {
   "cell_type": "markdown",
   "metadata": {},
   "source": [
    "## Gradient Boosting"
   ]
  },
  {
   "cell_type": "code",
   "execution_count": 73,
   "metadata": {},
   "outputs": [
    {
     "data": {
      "text/plain": [
       "0.7553030303030303"
      ]
     },
     "execution_count": 73,
     "metadata": {},
     "output_type": "execute_result"
    }
   ],
   "source": [
    "gbc.score(X_val_sub_encoded,y_val)"
   ]
  },
  {
   "cell_type": "code",
   "execution_count": 74,
   "metadata": {},
   "outputs": [
    {
     "data": {
      "text/plain": [
       "0.7596170033670033"
      ]
     },
     "execution_count": 74,
     "metadata": {},
     "output_type": "execute_result"
    }
   ],
   "source": [
    "gbc.score(X_train_sub_encoded,y_train)"
   ]
  },
  {
   "cell_type": "markdown",
   "metadata": {},
   "source": [
    "## Reduce Dimensions"
   ]
  },
  {
   "cell_type": "code",
   "execution_count": 93,
   "metadata": {
    "scrolled": true
   },
   "outputs": [],
   "source": [
    "feat_impt = pd.DataFrame(m.feature_importances_,encoded_cols).sort_values(by=0)"
   ]
  },
  {
   "cell_type": "code",
   "execution_count": 94,
   "metadata": {
    "scrolled": true
   },
   "outputs": [
    {
     "data": {
      "text/html": [
       "<div>\n",
       "<style scoped>\n",
       "    .dataframe tbody tr th:only-of-type {\n",
       "        vertical-align: middle;\n",
       "    }\n",
       "\n",
       "    .dataframe tbody tr th {\n",
       "        vertical-align: top;\n",
       "    }\n",
       "\n",
       "    .dataframe thead th {\n",
       "        text-align: right;\n",
       "    }\n",
       "</style>\n",
       "<table border=\"1\" class=\"dataframe\">\n",
       "  <thead>\n",
       "    <tr style=\"text-align: right;\">\n",
       "      <th></th>\n",
       "      <th>0</th>\n",
       "    </tr>\n",
       "  </thead>\n",
       "  <tbody>\n",
       "    <tr>\n",
       "      <th>longitude</th>\n",
       "      <td>0.103512</td>\n",
       "    </tr>\n",
       "    <tr>\n",
       "      <th>latitude</th>\n",
       "      <td>0.103494</td>\n",
       "    </tr>\n",
       "    <tr>\n",
       "      <th>time_since_construction</th>\n",
       "      <td>0.088154</td>\n",
       "    </tr>\n",
       "    <tr>\n",
       "      <th>gps_height</th>\n",
       "      <td>0.056625</td>\n",
       "    </tr>\n",
       "    <tr>\n",
       "      <th>quantity_dry</th>\n",
       "      <td>0.043583</td>\n",
       "    </tr>\n",
       "    <tr>\n",
       "      <th>population</th>\n",
       "      <td>0.041037</td>\n",
       "    </tr>\n",
       "    <tr>\n",
       "      <th>quantity_group_dry</th>\n",
       "      <td>0.038667</td>\n",
       "    </tr>\n",
       "    <tr>\n",
       "      <th>waterpoint_type_other</th>\n",
       "      <td>0.018375</td>\n",
       "    </tr>\n",
       "    <tr>\n",
       "      <th>amount_tsh</th>\n",
       "      <td>0.017356</td>\n",
       "    </tr>\n",
       "    <tr>\n",
       "      <th>quantity_group_enough</th>\n",
       "      <td>0.015435</td>\n",
       "    </tr>\n",
       "    <tr>\n",
       "      <th>district_code</th>\n",
       "      <td>0.014695</td>\n",
       "    </tr>\n",
       "    <tr>\n",
       "      <th>quantity_enough</th>\n",
       "      <td>0.013356</td>\n",
       "    </tr>\n",
       "    <tr>\n",
       "      <th>extraction_type_class_other</th>\n",
       "      <td>0.013210</td>\n",
       "    </tr>\n",
       "    <tr>\n",
       "      <th>waterpoint_type_group_other</th>\n",
       "      <td>0.013047</td>\n",
       "    </tr>\n",
       "    <tr>\n",
       "      <th>region_code</th>\n",
       "      <td>0.012807</td>\n",
       "    </tr>\n",
       "    <tr>\n",
       "      <th>extraction_type_group_other</th>\n",
       "      <td>0.012400</td>\n",
       "    </tr>\n",
       "    <tr>\n",
       "      <th>extraction_type_other</th>\n",
       "      <td>0.011734</td>\n",
       "    </tr>\n",
       "    <tr>\n",
       "      <th>waterpoint_type_communal standpipe</th>\n",
       "      <td>0.008009</td>\n",
       "    </tr>\n",
       "    <tr>\n",
       "      <th>payment_type_never pay</th>\n",
       "      <td>0.007981</td>\n",
       "    </tr>\n",
       "    <tr>\n",
       "      <th>waterpoint_type_communal standpipe multiple</th>\n",
       "      <td>0.007947</td>\n",
       "    </tr>\n",
       "    <tr>\n",
       "      <th>quantity_insufficient</th>\n",
       "      <td>0.007940</td>\n",
       "    </tr>\n",
       "    <tr>\n",
       "      <th>payment_never pay</th>\n",
       "      <td>0.007589</td>\n",
       "    </tr>\n",
       "    <tr>\n",
       "      <th>quantity_group_insufficient</th>\n",
       "      <td>0.007475</td>\n",
       "    </tr>\n",
       "    <tr>\n",
       "      <th>permit_True</th>\n",
       "      <td>0.006073</td>\n",
       "    </tr>\n",
       "    <tr>\n",
       "      <th>permit_False</th>\n",
       "      <td>0.005633</td>\n",
       "    </tr>\n",
       "    <tr>\n",
       "      <th>management_vwc</th>\n",
       "      <td>0.005476</td>\n",
       "    </tr>\n",
       "    <tr>\n",
       "      <th>scheme_management_VWC</th>\n",
       "      <td>0.005442</td>\n",
       "    </tr>\n",
       "    <tr>\n",
       "      <th>public_meeting_True</th>\n",
       "      <td>0.005371</td>\n",
       "    </tr>\n",
       "    <tr>\n",
       "      <th>public_meeting_False</th>\n",
       "      <td>0.004492</td>\n",
       "    </tr>\n",
       "    <tr>\n",
       "      <th>quantity_seasonal</th>\n",
       "      <td>0.004475</td>\n",
       "    </tr>\n",
       "    <tr>\n",
       "      <th>...</th>\n",
       "      <td>...</td>\n",
       "    </tr>\n",
       "    <tr>\n",
       "      <th>lga_Kigoma Urban</th>\n",
       "      <td>0.000041</td>\n",
       "    </tr>\n",
       "    <tr>\n",
       "      <th>extraction_type_climax</th>\n",
       "      <td>0.000031</td>\n",
       "    </tr>\n",
       "    <tr>\n",
       "      <th>lga_Songea Urban</th>\n",
       "      <td>0.000021</td>\n",
       "    </tr>\n",
       "    <tr>\n",
       "      <th>waterpoint_type_group_dam</th>\n",
       "      <td>0.000015</td>\n",
       "    </tr>\n",
       "    <tr>\n",
       "      <th>waterpoint_type_dam</th>\n",
       "      <td>0.000014</td>\n",
       "    </tr>\n",
       "    <tr>\n",
       "      <th>lga_Lindi Urban</th>\n",
       "      <td>0.000009</td>\n",
       "    </tr>\n",
       "    <tr>\n",
       "      <th>extraction_type_other - mkulima/shinyanga</th>\n",
       "      <td>0.000002</td>\n",
       "    </tr>\n",
       "    <tr>\n",
       "      <th>permit_-1</th>\n",
       "      <td>0.000000</td>\n",
       "    </tr>\n",
       "    <tr>\n",
       "      <th>extraction_type_class_-1</th>\n",
       "      <td>0.000000</td>\n",
       "    </tr>\n",
       "    <tr>\n",
       "      <th>waterpoint_type_group_-1</th>\n",
       "      <td>0.000000</td>\n",
       "    </tr>\n",
       "    <tr>\n",
       "      <th>water_quality_-1</th>\n",
       "      <td>0.000000</td>\n",
       "    </tr>\n",
       "    <tr>\n",
       "      <th>public_meeting_-1</th>\n",
       "      <td>0.000000</td>\n",
       "    </tr>\n",
       "    <tr>\n",
       "      <th>quality_group_-1</th>\n",
       "      <td>0.000000</td>\n",
       "    </tr>\n",
       "    <tr>\n",
       "      <th>lga_-1</th>\n",
       "      <td>0.000000</td>\n",
       "    </tr>\n",
       "    <tr>\n",
       "      <th>basin_-1</th>\n",
       "      <td>0.000000</td>\n",
       "    </tr>\n",
       "    <tr>\n",
       "      <th>source_class_-1</th>\n",
       "      <td>0.000000</td>\n",
       "    </tr>\n",
       "    <tr>\n",
       "      <th>extraction_type_group_-1</th>\n",
       "      <td>0.000000</td>\n",
       "    </tr>\n",
       "    <tr>\n",
       "      <th>waterpoint_type_-1</th>\n",
       "      <td>0.000000</td>\n",
       "    </tr>\n",
       "    <tr>\n",
       "      <th>quantity_-1</th>\n",
       "      <td>0.000000</td>\n",
       "    </tr>\n",
       "    <tr>\n",
       "      <th>payment_-1</th>\n",
       "      <td>0.000000</td>\n",
       "    </tr>\n",
       "    <tr>\n",
       "      <th>management_group_-1</th>\n",
       "      <td>0.000000</td>\n",
       "    </tr>\n",
       "    <tr>\n",
       "      <th>management_-1</th>\n",
       "      <td>0.000000</td>\n",
       "    </tr>\n",
       "    <tr>\n",
       "      <th>extraction_type_-1</th>\n",
       "      <td>0.000000</td>\n",
       "    </tr>\n",
       "    <tr>\n",
       "      <th>quantity_group_-1</th>\n",
       "      <td>0.000000</td>\n",
       "    </tr>\n",
       "    <tr>\n",
       "      <th>scheme_management_None</th>\n",
       "      <td>0.000000</td>\n",
       "    </tr>\n",
       "    <tr>\n",
       "      <th>source_type_-1</th>\n",
       "      <td>0.000000</td>\n",
       "    </tr>\n",
       "    <tr>\n",
       "      <th>scheme_management_-1</th>\n",
       "      <td>0.000000</td>\n",
       "    </tr>\n",
       "    <tr>\n",
       "      <th>payment_type_-1</th>\n",
       "      <td>0.000000</td>\n",
       "    </tr>\n",
       "    <tr>\n",
       "      <th>region_-1</th>\n",
       "      <td>0.000000</td>\n",
       "    </tr>\n",
       "    <tr>\n",
       "      <th>source_-1</th>\n",
       "      <td>0.000000</td>\n",
       "    </tr>\n",
       "  </tbody>\n",
       "</table>\n",
       "<p>329 rows × 1 columns</p>\n",
       "</div>"
      ],
      "text/plain": [
       "                                                    0\n",
       "longitude                                    0.103512\n",
       "latitude                                     0.103494\n",
       "time_since_construction                      0.088154\n",
       "gps_height                                   0.056625\n",
       "quantity_dry                                 0.043583\n",
       "population                                   0.041037\n",
       "quantity_group_dry                           0.038667\n",
       "waterpoint_type_other                        0.018375\n",
       "amount_tsh                                   0.017356\n",
       "quantity_group_enough                        0.015435\n",
       "district_code                                0.014695\n",
       "quantity_enough                              0.013356\n",
       "extraction_type_class_other                  0.013210\n",
       "waterpoint_type_group_other                  0.013047\n",
       "region_code                                  0.012807\n",
       "extraction_type_group_other                  0.012400\n",
       "extraction_type_other                        0.011734\n",
       "waterpoint_type_communal standpipe           0.008009\n",
       "payment_type_never pay                       0.007981\n",
       "waterpoint_type_communal standpipe multiple  0.007947\n",
       "quantity_insufficient                        0.007940\n",
       "payment_never pay                            0.007589\n",
       "quantity_group_insufficient                  0.007475\n",
       "permit_True                                  0.006073\n",
       "permit_False                                 0.005633\n",
       "management_vwc                               0.005476\n",
       "scheme_management_VWC                        0.005442\n",
       "public_meeting_True                          0.005371\n",
       "public_meeting_False                         0.004492\n",
       "quantity_seasonal                            0.004475\n",
       "...                                               ...\n",
       "lga_Kigoma Urban                             0.000041\n",
       "extraction_type_climax                       0.000031\n",
       "lga_Songea Urban                             0.000021\n",
       "waterpoint_type_group_dam                    0.000015\n",
       "waterpoint_type_dam                          0.000014\n",
       "lga_Lindi Urban                              0.000009\n",
       "extraction_type_other - mkulima/shinyanga    0.000002\n",
       "permit_-1                                    0.000000\n",
       "extraction_type_class_-1                     0.000000\n",
       "waterpoint_type_group_-1                     0.000000\n",
       "water_quality_-1                             0.000000\n",
       "public_meeting_-1                            0.000000\n",
       "quality_group_-1                             0.000000\n",
       "lga_-1                                       0.000000\n",
       "basin_-1                                     0.000000\n",
       "source_class_-1                              0.000000\n",
       "extraction_type_group_-1                     0.000000\n",
       "waterpoint_type_-1                           0.000000\n",
       "quantity_-1                                  0.000000\n",
       "payment_-1                                   0.000000\n",
       "management_group_-1                          0.000000\n",
       "management_-1                                0.000000\n",
       "extraction_type_-1                           0.000000\n",
       "quantity_group_-1                            0.000000\n",
       "scheme_management_None                       0.000000\n",
       "source_type_-1                               0.000000\n",
       "scheme_management_-1                         0.000000\n",
       "payment_type_-1                              0.000000\n",
       "region_-1                                    0.000000\n",
       "source_-1                                    0.000000\n",
       "\n",
       "[329 rows x 1 columns]"
      ]
     },
     "execution_count": 94,
     "metadata": {},
     "output_type": "execute_result"
    }
   ],
   "source": [
    "feat_impt[::-1]"
   ]
  },
  {
   "cell_type": "code",
   "execution_count": 95,
   "metadata": {},
   "outputs": [],
   "source": [
    "cuml = np.cumsum(feat_impt[::-1])"
   ]
  },
  {
   "cell_type": "code",
   "execution_count": 183,
   "metadata": {
    "scrolled": true
   },
   "outputs": [
    {
     "data": {
      "text/html": [
       "<div>\n",
       "<style scoped>\n",
       "    .dataframe tbody tr th:only-of-type {\n",
       "        vertical-align: middle;\n",
       "    }\n",
       "\n",
       "    .dataframe tbody tr th {\n",
       "        vertical-align: top;\n",
       "    }\n",
       "\n",
       "    .dataframe thead th {\n",
       "        text-align: right;\n",
       "    }\n",
       "</style>\n",
       "<table border=\"1\" class=\"dataframe\">\n",
       "  <thead>\n",
       "    <tr style=\"text-align: right;\">\n",
       "      <th></th>\n",
       "      <th>0</th>\n",
       "    </tr>\n",
       "  </thead>\n",
       "  <tbody>\n",
       "    <tr>\n",
       "      <th>longitude</th>\n",
       "      <td>0.103512</td>\n",
       "    </tr>\n",
       "    <tr>\n",
       "      <th>latitude</th>\n",
       "      <td>0.207006</td>\n",
       "    </tr>\n",
       "    <tr>\n",
       "      <th>time_since_construction</th>\n",
       "      <td>0.295160</td>\n",
       "    </tr>\n",
       "    <tr>\n",
       "      <th>gps_height</th>\n",
       "      <td>0.351785</td>\n",
       "    </tr>\n",
       "    <tr>\n",
       "      <th>quantity_dry</th>\n",
       "      <td>0.395368</td>\n",
       "    </tr>\n",
       "  </tbody>\n",
       "</table>\n",
       "</div>"
      ],
      "text/plain": [
       "                                0\n",
       "longitude                0.103512\n",
       "latitude                 0.207006\n",
       "time_since_construction  0.295160\n",
       "gps_height               0.351785\n",
       "quantity_dry             0.395368"
      ]
     },
     "execution_count": 183,
     "metadata": {},
     "output_type": "execute_result"
    }
   ],
   "source": [
    "(cuml.loc[cuml[0] < .95]).head()"
   ]
  },
  {
   "cell_type": "code",
   "execution_count": 97,
   "metadata": {},
   "outputs": [
    {
     "data": {
      "text/plain": [
       "(array([  0.,  20.,  40.,  60.,  80., 100., 120., 140., 160.]),\n",
       " <a list of 9 Text xticklabel objects>)"
      ]
     },
     "execution_count": 97,
     "metadata": {},
     "output_type": "execute_result"
    },
    {
     "data": {
      "image/png": "[encoded data removed]",
      "text/plain": [
       "<Figure size 432x288 with 1 Axes>"
      ]
     },
     "metadata": {
      "needs_background": "light"
     },
     "output_type": "display_data"
    }
   ],
   "source": [
    "cuml.loc[cuml[0] < .95].plot()\n",
    "plt.xticks(rotation=90)"
   ]
  },
  {
   "cell_type": "code",
   "execution_count": 98,
   "metadata": {},
   "outputs": [],
   "source": [
    "reduced_features = cuml.loc[cuml[0] < .95].index"
   ]
  },
  {
   "cell_type": "code",
   "execution_count": 99,
   "metadata": {
    "scrolled": true
   },
   "outputs": [
    {
     "data": {
      "text/plain": [
       "Index(['id', 'amount_tsh', 'date_recorded', 'funder', 'gps_height',\n",
       "       'installer', 'longitude', 'latitude', 'wpt_name', 'basin', 'subvillage',\n",
       "       'region', 'region_code', 'district_code', 'lga', 'ward', 'population',\n",
       "       'public_meeting', 'scheme_management', 'scheme_name', 'permit',\n",
       "       'construction_year', 'extraction_type', 'extraction_type_group',\n",
       "       'extraction_type_class', 'management', 'management_group', 'payment',\n",
       "       'payment_type', 'water_quality', 'quality_group', 'quantity',\n",
       "       'quantity_group', 'source', 'source_type', 'source_class',\n",
       "       'waterpoint_type', 'waterpoint_type_group', 'time_since_construction'],\n",
       "      dtype='object')"
      ]
     },
     "execution_count": 99,
     "metadata": {},
     "output_type": "execute_result"
    }
   ],
   "source": [
    "train.columns"
   ]
  },
  {
   "cell_type": "markdown",
   "metadata": {},
   "source": [
    "### Random Forest Reduced Dims"
   ]
  },
  {
   "cell_type": "markdown",
   "metadata": {},
   "source": [
    "## Predicting for Kaggle"
   ]
  },
  {
   "cell_type": "code",
   "execution_count": 699,
   "metadata": {
    "scrolled": true
   },
   "outputs": [],
   "source": [
    "submission = pd.DataFrame(test['id'])"
   ]
  },
  {
   "cell_type": "code",
   "execution_count": 700,
   "metadata": {},
   "outputs": [],
   "source": [
    "submission['status_group'] = preds"
   ]
  },
  {
   "cell_type": "code",
   "execution_count": 702,
   "metadata": {
    "scrolled": true
   },
   "outputs": [],
   "source": [
    "submission.to_csv('submission-01.csv',index=False)"
   ]
  },
  {
   "cell_type": "code",
   "execution_count": 703,
   "metadata": {},
   "outputs": [],
   "source": [
    "import pandas as pd\n",
    "\n",
    "# Filenames of your submissions you want to ensemble\n",
    "files = ['submission-01.csv', 'submission-02.csv', 'submission-03.csv']\n",
    "\n",
    "submissions = (pd.read_csv(file)[['status_group']] for file in files)\n",
    "ensemble = pd.concat(submissions, axis='columns')\n",
    "majority_vote = ensemble.mode(axis='columns')[0]\n",
    "\n",
    "sample_submission = pd.read_csv('sample_submission.csv')\n",
    "submission = sample_submission.copy()\n",
    "submission['status_group'] = majority_vote\n",
    "submission.to_csv('my-ultimate-ensemble-submission.csv', index=False)"
   ]
  },
  {
   "cell_type": "code",
   "execution_count": null,
   "metadata": {},
   "outputs": [],
   "source": []
  }
 ],
 "metadata": {
  "kernelspec": {
   "display_name": "Python 3",
   "language": "python",
   "name": "python3"
  },
  "language_info": {
   "codemirror_mode": {
    "name": "ipython",
    "version": 3
   },
   "file_extension": ".py",
   "mimetype": "text/x-python",
   "name": "python",
   "nbconvert_exporter": "python",
   "pygments_lexer": "ipython3",
   "version": "3.7.3"
  },
  "varInspector": {
   "cols": {
    "lenName": 16,
    "lenType": 16,
    "lenVar": 40
   },
   "kernels_config": {
    "python": {
     "delete_cmd_postfix": "",
     "delete_cmd_prefix": "del ",
     "library": "var_list.py",
     "varRefreshCmd": "print(var_dic_list())"
    },
    "r": {
     "delete_cmd_postfix": ") ",
     "delete_cmd_prefix": "rm(",
     "library": "var_list.r",
     "varRefreshCmd": "cat(var_dic_list()) "
    }
   },
   "types_to_exclude": [
    "module",
    "function",
    "builtin_function_or_method",
    "instance",
    "_Feature"
   ],
   "window_display": false
  }
 },
 "nbformat": 4,
 "nbformat_minor": 2
}
