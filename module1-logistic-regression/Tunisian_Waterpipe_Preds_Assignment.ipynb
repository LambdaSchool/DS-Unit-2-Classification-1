{
 "cells": [
  {
   "cell_type": "markdown",
   "metadata": {},
   "source": [
    "Assignment\n",
    "\n",
    "    Learn about the mathematics of Logistic Regression by watching Aaron Gallant's video #1 (12 minutes) & video #2 (9 minutes).\n",
    "    Start a clean notebook.\n",
    "    Do train/validate/test split with the Tanzania Waterpumps data.\n",
    "    Begin to explore and clean the data. For ideas, refer to The Quartz guide to bad data, a \"reference to problems seen in real-world data along with suggestions on how to resolve them.\" One of the issues is \"Zeros replace missing values.\"\n",
    "    Select different numeric and categorical features.\n",
    "    Do one-hot encoding. (Remember it may not work with high cardinality categoricals.)\n",
    "    Scale features.\n",
    "    Use scikit-learn for logistic regression.\n",
    "    Get your validation accuracy score.\n",
    "    Get and plot your coefficients.\n",
    "    Submit your predictions to our Kaggle competition.\n",
    "    Commit your notebook to your fork of the GitHub repo"
   ]
  },
  {
   "cell_type": "code",
   "execution_count": 1,
   "metadata": {},
   "outputs": [
    {
     "data": {
      "text/plain": [
       "((59400, 40), (59400, 2), (14358, 40), (14358, 2))"
      ]
     },
     "execution_count": 1,
     "metadata": {},
     "output_type": "execute_result"
    }
   ],
   "source": [
    "import pandas as pd\n",
    "train_features = pd.read_csv('https://drive.google.com/uc?export=download&id=14ULvX0uOgftTB2s97uS8lIx1nHGQIB0P')\n",
    "train_labels = pd.read_csv('https://drive.google.com/uc?export=download&id=1r441wLr7gKGHGLyPpKauvCuUOU556S2f')\n",
    "test_features = pd.read_csv('https://drive.google.com/uc?export=download&id=1wvsYl9hbRbZuIuoaLWCsW_kbcxCdocHz')\n",
    "sample_submission = pd.read_csv('https://drive.google.com/uc?export=download&id=1kfJewnmhowpUo381oSn3XqsQ6Eto23XV')\n",
    "train_features.shape, train_labels.shape, test_features.shape, sample_submission.shape"
   ]
  },
  {
   "cell_type": "markdown",
   "metadata": {},
   "source": [
    "DO TRAIN/VALIDATE/TEST SPLIT "
   ]
  },
  {
   "cell_type": "code",
   "execution_count": 2,
   "metadata": {},
   "outputs": [
    {
     "data": {
      "text/plain": [
       "((47520, 40), (11880, 40), (47520,), (11880,))"
      ]
     },
     "execution_count": 2,
     "metadata": {},
     "output_type": "execute_result"
    }
   ],
   "source": [
    "from sklearn.model_selection import train_test_split\n",
    "\n",
    "X_train = train_features\n",
    "y_train = train_labels['status_group']\n",
    "\n",
    "X_train, X_val, y_train, y_val = train_test_split(\n",
    "    X_train, y_train, train_size=.8, test_size=.2,\n",
    "    stratify=y_train, random_state = 42)\n",
    "X_train.shape, X_val.shape, y_train.shape, y_val.shape"
   ]
  },
  {
   "cell_type": "code",
   "execution_count": 3,
   "metadata": {},
   "outputs": [],
   "source": [
    "X_train_num=X_train.select_dtypes('number')\n",
    "X_val_num = X_val.select_dtypes('number')"
   ]
  },
  {
   "cell_type": "markdown",
   "metadata": {},
   "source": [
    "Do One-Hot Encoding"
   ]
  },
  {
   "cell_type": "code",
   "execution_count": 5,
   "metadata": {},
   "outputs": [
    {
     "data": {
      "text/html": [
       "<div>\n",
       "<style scoped>\n",
       "    .dataframe tbody tr th:only-of-type {\n",
       "        vertical-align: middle;\n",
       "    }\n",
       "\n",
       "    .dataframe tbody tr th {\n",
       "        vertical-align: top;\n",
       "    }\n",
       "\n",
       "    .dataframe thead th {\n",
       "        text-align: right;\n",
       "    }\n",
       "</style>\n",
       "<table border=\"1\" class=\"dataframe\">\n",
       "  <thead>\n",
       "    <tr style=\"text-align: right;\">\n",
       "      <th></th>\n",
       "      <th>count</th>\n",
       "      <th>unique</th>\n",
       "      <th>top</th>\n",
       "      <th>freq</th>\n",
       "    </tr>\n",
       "  </thead>\n",
       "  <tbody>\n",
       "    <tr>\n",
       "      <th>recorded_by</th>\n",
       "      <td>47520</td>\n",
       "      <td>1</td>\n",
       "      <td>GeoData Consultants Ltd</td>\n",
       "      <td>47520</td>\n",
       "    </tr>\n",
       "    <tr>\n",
       "      <th>public_meeting</th>\n",
       "      <td>44876</td>\n",
       "      <td>2</td>\n",
       "      <td>True</td>\n",
       "      <td>40838</td>\n",
       "    </tr>\n",
       "    <tr>\n",
       "      <th>permit</th>\n",
       "      <td>45077</td>\n",
       "      <td>2</td>\n",
       "      <td>True</td>\n",
       "      <td>31071</td>\n",
       "    </tr>\n",
       "    <tr>\n",
       "      <th>source_class</th>\n",
       "      <td>47520</td>\n",
       "      <td>3</td>\n",
       "      <td>groundwater</td>\n",
       "      <td>36638</td>\n",
       "    </tr>\n",
       "    <tr>\n",
       "      <th>management_group</th>\n",
       "      <td>47520</td>\n",
       "      <td>5</td>\n",
       "      <td>user-group</td>\n",
       "      <td>42027</td>\n",
       "    </tr>\n",
       "    <tr>\n",
       "      <th>quantity_group</th>\n",
       "      <td>47520</td>\n",
       "      <td>5</td>\n",
       "      <td>enough</td>\n",
       "      <td>26567</td>\n",
       "    </tr>\n",
       "    <tr>\n",
       "      <th>quantity</th>\n",
       "      <td>47520</td>\n",
       "      <td>5</td>\n",
       "      <td>enough</td>\n",
       "      <td>26567</td>\n",
       "    </tr>\n",
       "    <tr>\n",
       "      <th>waterpoint_type_group</th>\n",
       "      <td>47520</td>\n",
       "      <td>6</td>\n",
       "      <td>communal standpipe</td>\n",
       "      <td>27642</td>\n",
       "    </tr>\n",
       "    <tr>\n",
       "      <th>quality_group</th>\n",
       "      <td>47520</td>\n",
       "      <td>6</td>\n",
       "      <td>good</td>\n",
       "      <td>40598</td>\n",
       "    </tr>\n",
       "    <tr>\n",
       "      <th>payment_type</th>\n",
       "      <td>47520</td>\n",
       "      <td>7</td>\n",
       "      <td>never pay</td>\n",
       "      <td>20287</td>\n",
       "    </tr>\n",
       "    <tr>\n",
       "      <th>source_type</th>\n",
       "      <td>47520</td>\n",
       "      <td>7</td>\n",
       "      <td>spring</td>\n",
       "      <td>13620</td>\n",
       "    </tr>\n",
       "    <tr>\n",
       "      <th>waterpoint_type</th>\n",
       "      <td>47520</td>\n",
       "      <td>7</td>\n",
       "      <td>communal standpipe</td>\n",
       "      <td>22778</td>\n",
       "    </tr>\n",
       "    <tr>\n",
       "      <th>extraction_type_class</th>\n",
       "      <td>47520</td>\n",
       "      <td>7</td>\n",
       "      <td>gravity</td>\n",
       "      <td>21448</td>\n",
       "    </tr>\n",
       "    <tr>\n",
       "      <th>payment</th>\n",
       "      <td>47520</td>\n",
       "      <td>7</td>\n",
       "      <td>never pay</td>\n",
       "      <td>20287</td>\n",
       "    </tr>\n",
       "    <tr>\n",
       "      <th>water_quality</th>\n",
       "      <td>47520</td>\n",
       "      <td>8</td>\n",
       "      <td>soft</td>\n",
       "      <td>40598</td>\n",
       "    </tr>\n",
       "    <tr>\n",
       "      <th>basin</th>\n",
       "      <td>47520</td>\n",
       "      <td>9</td>\n",
       "      <td>Lake Victoria</td>\n",
       "      <td>8137</td>\n",
       "    </tr>\n",
       "    <tr>\n",
       "      <th>source</th>\n",
       "      <td>47520</td>\n",
       "      <td>10</td>\n",
       "      <td>spring</td>\n",
       "      <td>13620</td>\n",
       "    </tr>\n",
       "    <tr>\n",
       "      <th>scheme_management</th>\n",
       "      <td>44392</td>\n",
       "      <td>12</td>\n",
       "      <td>VWC</td>\n",
       "      <td>29470</td>\n",
       "    </tr>\n",
       "    <tr>\n",
       "      <th>management</th>\n",
       "      <td>47520</td>\n",
       "      <td>12</td>\n",
       "      <td>vwc</td>\n",
       "      <td>32449</td>\n",
       "    </tr>\n",
       "    <tr>\n",
       "      <th>extraction_type_group</th>\n",
       "      <td>47520</td>\n",
       "      <td>13</td>\n",
       "      <td>gravity</td>\n",
       "      <td>21448</td>\n",
       "    </tr>\n",
       "    <tr>\n",
       "      <th>extraction_type</th>\n",
       "      <td>47520</td>\n",
       "      <td>18</td>\n",
       "      <td>gravity</td>\n",
       "      <td>21448</td>\n",
       "    </tr>\n",
       "    <tr>\n",
       "      <th>region</th>\n",
       "      <td>47520</td>\n",
       "      <td>21</td>\n",
       "      <td>Iringa</td>\n",
       "      <td>4250</td>\n",
       "    </tr>\n",
       "    <tr>\n",
       "      <th>lga</th>\n",
       "      <td>47520</td>\n",
       "      <td>124</td>\n",
       "      <td>Njombe</td>\n",
       "      <td>2003</td>\n",
       "    </tr>\n",
       "    <tr>\n",
       "      <th>date_recorded</th>\n",
       "      <td>47520</td>\n",
       "      <td>349</td>\n",
       "      <td>2011-03-17</td>\n",
       "      <td>474</td>\n",
       "    </tr>\n",
       "    <tr>\n",
       "      <th>funder</th>\n",
       "      <td>44616</td>\n",
       "      <td>1716</td>\n",
       "      <td>Government Of Tanzania</td>\n",
       "      <td>7321</td>\n",
       "    </tr>\n",
       "    <tr>\n",
       "      <th>installer</th>\n",
       "      <td>44603</td>\n",
       "      <td>1929</td>\n",
       "      <td>DWE</td>\n",
       "      <td>13978</td>\n",
       "    </tr>\n",
       "    <tr>\n",
       "      <th>ward</th>\n",
       "      <td>47520</td>\n",
       "      <td>2082</td>\n",
       "      <td>Igosi</td>\n",
       "      <td>257</td>\n",
       "    </tr>\n",
       "    <tr>\n",
       "      <th>scheme_name</th>\n",
       "      <td>24988</td>\n",
       "      <td>2563</td>\n",
       "      <td>K</td>\n",
       "      <td>548</td>\n",
       "    </tr>\n",
       "    <tr>\n",
       "      <th>subvillage</th>\n",
       "      <td>47234</td>\n",
       "      <td>17231</td>\n",
       "      <td>Shuleni</td>\n",
       "      <td>420</td>\n",
       "    </tr>\n",
       "    <tr>\n",
       "      <th>wpt_name</th>\n",
       "      <td>47520</td>\n",
       "      <td>30661</td>\n",
       "      <td>none</td>\n",
       "      <td>2879</td>\n",
       "    </tr>\n",
       "  </tbody>\n",
       "</table>\n",
       "</div>"
      ],
      "text/plain": [
       "                       count unique                      top   freq\n",
       "recorded_by            47520      1  GeoData Consultants Ltd  47520\n",
       "public_meeting         44876      2                     True  40838\n",
       "permit                 45077      2                     True  31071\n",
       "source_class           47520      3              groundwater  36638\n",
       "management_group       47520      5               user-group  42027\n",
       "quantity_group         47520      5                   enough  26567\n",
       "quantity               47520      5                   enough  26567\n",
       "waterpoint_type_group  47520      6       communal standpipe  27642\n",
       "quality_group          47520      6                     good  40598\n",
       "payment_type           47520      7                never pay  20287\n",
       "source_type            47520      7                   spring  13620\n",
       "waterpoint_type        47520      7       communal standpipe  22778\n",
       "extraction_type_class  47520      7                  gravity  21448\n",
       "payment                47520      7                never pay  20287\n",
       "water_quality          47520      8                     soft  40598\n",
       "basin                  47520      9            Lake Victoria   8137\n",
       "source                 47520     10                   spring  13620\n",
       "scheme_management      44392     12                      VWC  29470\n",
       "management             47520     12                      vwc  32449\n",
       "extraction_type_group  47520     13                  gravity  21448\n",
       "extraction_type        47520     18                  gravity  21448\n",
       "region                 47520     21                   Iringa   4250\n",
       "lga                    47520    124                   Njombe   2003\n",
       "date_recorded          47520    349               2011-03-17    474\n",
       "funder                 44616   1716   Government Of Tanzania   7321\n",
       "installer              44603   1929                      DWE  13978\n",
       "ward                   47520   2082                    Igosi    257\n",
       "scheme_name            24988   2563                        K    548\n",
       "subvillage             47234  17231                  Shuleni    420\n",
       "wpt_name               47520  30661                     none   2879"
      ]
     },
     "execution_count": 5,
     "metadata": {},
     "output_type": "execute_result"
    }
   ],
   "source": [
    "import category_encoders as ce\n",
    "X_train.describe(exclude='number').T.sort_values(by='unique')"
   ]
  },
  {
   "cell_type": "code",
   "execution_count": 26,
   "metadata": {},
   "outputs": [
    {
     "data": {
      "text/plain": [
       "communal standpipe             22778\n",
       "hand pump                      14015\n",
       "other                           5138\n",
       "communal standpipe multiple     4864\n",
       "improved spring                  631\n",
       "cattle trough                     89\n",
       "dam                                5\n",
       "Name: waterpoint_type, dtype: int64"
      ]
     },
     "execution_count": 26,
     "metadata": {},
     "output_type": "execute_result"
    }
   ],
   "source": [
    "X_train['waterpoint_type'].value_counts(dropna=False)"
   ]
  },
  {
   "cell_type": "code",
   "execution_count": 27,
   "metadata": {},
   "outputs": [
    {
     "data": {
      "text/plain": [
       "waterpoint_type              status_group           \n",
       "cattle trough                functional                 0.741573\n",
       "                             non functional             0.247191\n",
       "                             functional needs repair    0.011236\n",
       "communal standpipe           functional                 0.622706\n",
       "                             non functional             0.298270\n",
       "                             functional needs repair    0.079024\n",
       "communal standpipe multiple  non functional             0.523232\n",
       "                             functional                 0.366571\n",
       "                             functional needs repair    0.110197\n",
       "dam                          functional                 1.000000\n",
       "hand pump                    functional                 0.617125\n",
       "                             non functional             0.324367\n",
       "                             functional needs repair    0.058509\n",
       "improved spring              functional                 0.727417\n",
       "                             non functional             0.171157\n",
       "                             functional needs repair    0.101426\n",
       "other                        non functional             0.826002\n",
       "                             functional                 0.128649\n",
       "                             functional needs repair    0.045348\n",
       "Name: status_group, dtype: float64"
      ]
     },
     "execution_count": 27,
     "metadata": {},
     "output_type": "execute_result"
    }
   ],
   "source": [
    "train = X_train.copy()\n",
    "train['status_group'] = y_train\n",
    "\n",
    "#Do groupby\n",
    "train.groupby('waterpoint_type')['status_group'].value_counts(normalize=True)"
   ]
  },
  {
   "cell_type": "code",
   "execution_count": 28,
   "metadata": {},
   "outputs": [
    {
     "data": {
      "text/plain": [
       "43360             communal standpipe\n",
       "7263              communal standpipe\n",
       "2486                       hand pump\n",
       "313                            other\n",
       "52726             communal standpipe\n",
       "8558              communal standpipe\n",
       "2559     communal standpipe multiple\n",
       "54735             communal standpipe\n",
       "25763                      hand pump\n",
       "44540                          other\n",
       "Name: waterpoint_type, dtype: object"
      ]
     },
     "execution_count": 28,
     "metadata": {},
     "output_type": "execute_result"
    }
   ],
   "source": [
    "X_train['waterpoint_type'].head(10)"
   ]
  },
  {
   "cell_type": "code",
   "execution_count": 29,
   "metadata": {},
   "outputs": [
    {
     "data": {
      "text/html": [
       "<div>\n",
       "<style scoped>\n",
       "    .dataframe tbody tr th:only-of-type {\n",
       "        vertical-align: middle;\n",
       "    }\n",
       "\n",
       "    .dataframe tbody tr th {\n",
       "        vertical-align: top;\n",
       "    }\n",
       "\n",
       "    .dataframe thead th {\n",
       "        text-align: right;\n",
       "    }\n",
       "</style>\n",
       "<table border=\"1\" class=\"dataframe\">\n",
       "  <thead>\n",
       "    <tr style=\"text-align: right;\">\n",
       "      <th></th>\n",
       "      <th>waterpoint_type_communal standpipe</th>\n",
       "      <th>waterpoint_type_hand pump</th>\n",
       "      <th>waterpoint_type_other</th>\n",
       "      <th>waterpoint_type_communal standpipe multiple</th>\n",
       "      <th>waterpoint_type_improved spring</th>\n",
       "      <th>waterpoint_type_cattle trough</th>\n",
       "      <th>waterpoint_type_dam</th>\n",
       "    </tr>\n",
       "  </thead>\n",
       "  <tbody>\n",
       "    <tr>\n",
       "      <th>43360</th>\n",
       "      <td>1</td>\n",
       "      <td>0</td>\n",
       "      <td>0</td>\n",
       "      <td>0</td>\n",
       "      <td>0</td>\n",
       "      <td>0</td>\n",
       "      <td>0</td>\n",
       "    </tr>\n",
       "    <tr>\n",
       "      <th>7263</th>\n",
       "      <td>1</td>\n",
       "      <td>0</td>\n",
       "      <td>0</td>\n",
       "      <td>0</td>\n",
       "      <td>0</td>\n",
       "      <td>0</td>\n",
       "      <td>0</td>\n",
       "    </tr>\n",
       "    <tr>\n",
       "      <th>2486</th>\n",
       "      <td>0</td>\n",
       "      <td>1</td>\n",
       "      <td>0</td>\n",
       "      <td>0</td>\n",
       "      <td>0</td>\n",
       "      <td>0</td>\n",
       "      <td>0</td>\n",
       "    </tr>\n",
       "    <tr>\n",
       "      <th>313</th>\n",
       "      <td>0</td>\n",
       "      <td>0</td>\n",
       "      <td>1</td>\n",
       "      <td>0</td>\n",
       "      <td>0</td>\n",
       "      <td>0</td>\n",
       "      <td>0</td>\n",
       "    </tr>\n",
       "    <tr>\n",
       "      <th>52726</th>\n",
       "      <td>1</td>\n",
       "      <td>0</td>\n",
       "      <td>0</td>\n",
       "      <td>0</td>\n",
       "      <td>0</td>\n",
       "      <td>0</td>\n",
       "      <td>0</td>\n",
       "    </tr>\n",
       "    <tr>\n",
       "      <th>8558</th>\n",
       "      <td>1</td>\n",
       "      <td>0</td>\n",
       "      <td>0</td>\n",
       "      <td>0</td>\n",
       "      <td>0</td>\n",
       "      <td>0</td>\n",
       "      <td>0</td>\n",
       "    </tr>\n",
       "    <tr>\n",
       "      <th>2559</th>\n",
       "      <td>0</td>\n",
       "      <td>0</td>\n",
       "      <td>0</td>\n",
       "      <td>1</td>\n",
       "      <td>0</td>\n",
       "      <td>0</td>\n",
       "      <td>0</td>\n",
       "    </tr>\n",
       "    <tr>\n",
       "      <th>54735</th>\n",
       "      <td>1</td>\n",
       "      <td>0</td>\n",
       "      <td>0</td>\n",
       "      <td>0</td>\n",
       "      <td>0</td>\n",
       "      <td>0</td>\n",
       "      <td>0</td>\n",
       "    </tr>\n",
       "    <tr>\n",
       "      <th>25763</th>\n",
       "      <td>0</td>\n",
       "      <td>1</td>\n",
       "      <td>0</td>\n",
       "      <td>0</td>\n",
       "      <td>0</td>\n",
       "      <td>0</td>\n",
       "      <td>0</td>\n",
       "    </tr>\n",
       "    <tr>\n",
       "      <th>44540</th>\n",
       "      <td>0</td>\n",
       "      <td>0</td>\n",
       "      <td>1</td>\n",
       "      <td>0</td>\n",
       "      <td>0</td>\n",
       "      <td>0</td>\n",
       "      <td>0</td>\n",
       "    </tr>\n",
       "  </tbody>\n",
       "</table>\n",
       "</div>"
      ],
      "text/plain": [
       "       waterpoint_type_communal standpipe  waterpoint_type_hand pump  \\\n",
       "43360                                   1                          0   \n",
       "7263                                    1                          0   \n",
       "2486                                    0                          1   \n",
       "313                                     0                          0   \n",
       "52726                                   1                          0   \n",
       "8558                                    1                          0   \n",
       "2559                                    0                          0   \n",
       "54735                                   1                          0   \n",
       "25763                                   0                          1   \n",
       "44540                                   0                          0   \n",
       "\n",
       "       waterpoint_type_other  waterpoint_type_communal standpipe multiple  \\\n",
       "43360                      0                                            0   \n",
       "7263                       0                                            0   \n",
       "2486                       0                                            0   \n",
       "313                        1                                            0   \n",
       "52726                      0                                            0   \n",
       "8558                       0                                            0   \n",
       "2559                       0                                            1   \n",
       "54735                      0                                            0   \n",
       "25763                      0                                            0   \n",
       "44540                      1                                            0   \n",
       "\n",
       "       waterpoint_type_improved spring  waterpoint_type_cattle trough  \\\n",
       "43360                                0                              0   \n",
       "7263                                 0                              0   \n",
       "2486                                 0                              0   \n",
       "313                                  0                              0   \n",
       "52726                                0                              0   \n",
       "8558                                 0                              0   \n",
       "2559                                 0                              0   \n",
       "54735                                0                              0   \n",
       "25763                                0                              0   \n",
       "44540                                0                              0   \n",
       "\n",
       "       waterpoint_type_dam  \n",
       "43360                    0  \n",
       "7263                     0  \n",
       "2486                     0  \n",
       "313                      0  \n",
       "52726                    0  \n",
       "8558                     0  \n",
       "2559                     0  \n",
       "54735                    0  \n",
       "25763                    0  \n",
       "44540                    0  "
      ]
     },
     "execution_count": 29,
     "metadata": {},
     "output_type": "execute_result"
    }
   ],
   "source": [
    "encoder = ce.OneHotEncoder(use_cat_names=True)\n",
    "encoded = encoder.fit_transform(X_train['waterpoint_type'])\n",
    "encoded.head(10)"
   ]
  },
  {
   "cell_type": "code",
   "execution_count": 30,
   "metadata": {},
   "outputs": [
    {
     "name": "stderr",
     "output_type": "stream",
     "text": [
      "C:\\Users\\Kevona Jean\\myCODE\\lib\\site-packages\\sklearn\\preprocessing\\data.py:625: DataConversionWarning: Data with input dtype int64, float64 were all converted to float64 by StandardScaler.\n",
      "  return self.partial_fit(X, y)\n",
      "C:\\Users\\Kevona Jean\\myCODE\\lib\\site-packages\\sklearn\\base.py:462: DataConversionWarning: Data with input dtype int64, float64 were all converted to float64 by StandardScaler.\n",
      "  return self.fit(X, **fit_params).transform(X)\n",
      "C:\\Users\\Kevona Jean\\myCODE\\lib\\site-packages\\ipykernel_launcher.py:15: DataConversionWarning: Data with input dtype int64, float64 were all converted to float64 by StandardScaler.\n",
      "  from ipykernel import kernelapp as app\n"
     ]
    },
    {
     "name": "stdout",
     "output_type": "stream",
     "text": [
      "Validation Accuracy 0.6303030303030303\n"
     ]
    }
   ],
   "source": [
    "from sklearn.preprocessing import StandardScaler\n",
    "categorical_features =['waterpoint_type']\n",
    "numeric_features = X_train.select_dtypes('number').columns.drop('id').tolist()\n",
    "features=categorical_features + numeric_features\n",
    "\n",
    "X_train_subset = X_train[features]\n",
    "X_val_subset = X_val[features]\n",
    "\n",
    "encoder= ce.OneHotEncoder(use_cat_names=True)\n",
    "X_train_encoded=encoder.fit_transform(X_train_subset)\n",
    "X_val_encoded = encoder.transform(X_val_subset)\n",
    "\n",
    "scaler = StandardScaler()\n",
    "X_train_scaled = scaler.fit_transform(X_train_encoded)\n",
    "X_val_scaled = scaler.transform(X_val_encoded)\n",
    "\n",
    "model = LogisticRegression(solver='lbfgs', multi_class='auto', max_iter=1000)\n",
    "model.fit(X_train_scaled, y_train)\n",
    "print('Validation Accuracy', model.score(X_val_scaled, y_val))"
   ]
  },
  {
   "cell_type": "code",
   "execution_count": 11,
   "metadata": {},
   "outputs": [],
   "source": [
    "coefficients = pd.Series(model.coef_[0], X_train_encoded.columns)"
   ]
  },
  {
   "cell_type": "code",
   "execution_count": 12,
   "metadata": {},
   "outputs": [
    {
     "data": {
      "image/png": "[encoded data removed]",
      "text/plain": [
       "<Figure size 720x720 with 1 Axes>"
      ]
     },
     "metadata": {
      "needs_background": "light"
     },
     "output_type": "display_data"
    }
   ],
   "source": [
    "%matplotlib inline\n",
    "import matplotlib.pyplot as plt\n",
    "plt.figure(figsize=(10, 10))\n",
    "coefficients.sort_values().plot.barh();"
   ]
  },
  {
   "cell_type": "code",
   "execution_count": 13,
   "metadata": {},
   "outputs": [
    {
     "name": "stderr",
     "output_type": "stream",
     "text": [
      "C:\\Users\\Kevona Jean\\myCODE\\lib\\site-packages\\ipykernel_launcher.py:3: DataConversionWarning: Data with input dtype int64, float64 were all converted to float64 by StandardScaler.\n",
      "  This is separate from the ipykernel package so we can avoid doing imports until\n"
     ]
    }
   ],
   "source": [
    "X_test_subset = test_features[features]\n",
    "X_test_encoded = encoder.transform(X_test_subset)\n",
    "X_test_scaled = scaler.transform(X_test_encoded)"
   ]
  },
  {
   "cell_type": "code",
   "execution_count": 14,
   "metadata": {},
   "outputs": [
    {
     "data": {
      "text/plain": [
       "True"
      ]
     },
     "execution_count": 14,
     "metadata": {},
     "output_type": "execute_result"
    }
   ],
   "source": [
    "all(X_test_encoded.columns == X_train_encoded.columns)"
   ]
  },
  {
   "cell_type": "code",
   "execution_count": 15,
   "metadata": {},
   "outputs": [],
   "source": [
    "y_pred = model.predict(X_test_scaled)\n",
    "submission = sample_submission.copy()\n",
    "submission['status_group'] = y_pred\n",
    "submission.to_csv('submission-01.csv', index=False)"
   ]
  }
 ],
 "metadata": {
  "kernelspec": {
   "display_name": "Python 3",
   "language": "python",
   "name": "python3"
  },
  "language_info": {
   "codemirror_mode": {
    "name": "ipython",
    "version": 3
   },
   "file_extension": ".py",
   "mimetype": "text/x-python",
   "name": "python",
   "nbconvert_exporter": "python",
   "pygments_lexer": "ipython3",
   "version": "3.7.0"
  }
 },
 "nbformat": 4,
 "nbformat_minor": 2
}
