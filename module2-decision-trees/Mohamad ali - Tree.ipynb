{
  "nbformat": 4,
  "nbformat_minor": 0,
  "metadata": {
    "colab": {
      "name": "Untitled16.ipynb",
      "version": "0.3.2",
      "provenance": [],
      "collapsed_sections": [],
      "include_colab_link": true
    },
    "kernelspec": {
      "name": "python3",
      "display_name": "Python 3"
    }
  },
  "cells": [
    {
      "cell_type": "markdown",
      "metadata": {
        "id": "view-in-github",
        "colab_type": "text"
      },
      "source": [
        "<a href=\"https://colab.research.google.com/github/cartman12/DS-Unit-2-Classification-1/blob/master/module2-decision-trees/Mohamad%20ali%20-%20Tree.ipynb\" target=\"_parent\"><img src=\"https://colab.research.google.com/assets/colab-badge.svg\" alt=\"Open In Colab\"/></a>"
      ]
    },
    {
      "cell_type": "code",
      "metadata": {
        "id": "U-d-Z1mdqRTG",
        "colab_type": "code",
        "outputId": "b640dd16-dbac-49e8-c44b-c45acb72fb46",
        "colab": {
          "base_uri": "https://localhost:8080/",
          "height": 442
        }
      },
      "source": [
        "!pip install category_encoders\n",
        "!pip install pandas==0.23.4\n",
        "!pip install graphviz\n",
        "!apt-get install graphviz"
      ],
      "execution_count": 0,
      "outputs": [
        {
          "output_type": "stream",
          "text": [
            "Requirement already satisfied: category_encoders in /usr/local/lib/python3.6/dist-packages (2.0.0)\n",
            "Requirement already satisfied: patsy>=0.4.1 in /usr/local/lib/python3.6/dist-packages (from category_encoders) (0.5.1)\n",
            "Requirement already satisfied: scikit-learn>=0.20.0 in /usr/local/lib/python3.6/dist-packages (from category_encoders) (0.21.2)\n",
            "Requirement already satisfied: scipy>=0.19.0 in /usr/local/lib/python3.6/dist-packages (from category_encoders) (1.3.0)\n",
            "Requirement already satisfied: statsmodels>=0.6.1 in /usr/local/lib/python3.6/dist-packages (from category_encoders) (0.9.0)\n",
            "Requirement already satisfied: numpy>=1.11.3 in /usr/local/lib/python3.6/dist-packages (from category_encoders) (1.16.4)\n",
            "Requirement already satisfied: pandas>=0.21.1 in /usr/local/lib/python3.6/dist-packages (from category_encoders) (0.23.4)\n",
            "Requirement already satisfied: six in /usr/local/lib/python3.6/dist-packages (from patsy>=0.4.1->category_encoders) (1.12.0)\n",
            "Requirement already satisfied: joblib>=0.11 in /usr/local/lib/python3.6/dist-packages (from scikit-learn>=0.20.0->category_encoders) (0.13.2)\n",
            "Requirement already satisfied: pytz>=2011k in /usr/local/lib/python3.6/dist-packages (from pandas>=0.21.1->category_encoders) (2018.9)\n",
            "Requirement already satisfied: python-dateutil>=2.5.0 in /usr/local/lib/python3.6/dist-packages (from pandas>=0.21.1->category_encoders) (2.5.3)\n",
            "Requirement already satisfied: pandas==0.23.4 in /usr/local/lib/python3.6/dist-packages (0.23.4)\n",
            "Requirement already satisfied: python-dateutil>=2.5.0 in /usr/local/lib/python3.6/dist-packages (from pandas==0.23.4) (2.5.3)\n",
            "Requirement already satisfied: numpy>=1.9.0 in /usr/local/lib/python3.6/dist-packages (from pandas==0.23.4) (1.16.4)\n",
            "Requirement already satisfied: pytz>=2011k in /usr/local/lib/python3.6/dist-packages (from pandas==0.23.4) (2018.9)\n",
            "Requirement already satisfied: six>=1.5 in /usr/local/lib/python3.6/dist-packages (from python-dateutil>=2.5.0->pandas==0.23.4) (1.12.0)\n",
            "Requirement already satisfied: graphviz in /usr/local/lib/python3.6/dist-packages (0.10.1)\n",
            "Reading package lists... Done\n",
            "Building dependency tree       \n",
            "Reading state information... Done\n",
            "graphviz is already the newest version (2.40.1-2).\n",
            "The following package was automatically installed and is no longer required:\n",
            "  libnvidia-common-410\n",
            "Use 'apt autoremove' to remove it.\n",
            "0 upgraded, 0 newly installed, 0 to remove and 8 not upgraded.\n"
          ],
          "name": "stdout"
        }
      ]
    },
    {
      "cell_type": "code",
      "metadata": {
        "id": "n0AY8HEuqo94",
        "colab_type": "code",
        "outputId": "b8c74188-1b3b-4ba3-a865-54b0d754969f",
        "colab": {
          "base_uri": "https://localhost:8080/",
          "height": 68
        }
      },
      "source": [
        "%matplotlib inline\n",
        "import category_encoders as ce\n",
        "import matplotlib.pyplot as plt\n",
        "import numpy as np\n",
        "import pandas as pd\n",
        "import seaborn as sns\n",
        "from sklearn.linear_model import LogisticRegression\n",
        "from sklearn.model_selection import train_test_split\n",
        "from sklearn.preprocessing import RobustScaler\n",
        "pd.set_option('display.float_format', '{:.2f}'.format)\n",
        "\n",
        "# Merge train_features.csv & train_labels.csv\n",
        "train = pd.merge(pd.read_csv('https://drive.google.com/uc?export=download&id=14ULvX0uOgftTB2s97uS8lIx1nHGQIB0P'), \n",
        "                 pd.read_csv('https://drive.google.com/uc?export=download&id=1r441wLr7gKGHGLyPpKauvCuUOU556S2f'))\n",
        "\n",
        "# Read test_features.csv & sample_submission.csv\n",
        "test = pd.read_csv('https://drive.google.com/uc?export=download&id=1wvsYl9hbRbZuIuoaLWCsW_kbcxCdocHz')\n",
        "sample_submission = pd.read_csv('https://drive.google.com/uc?export=download&id=1kfJewnmhowpUo381oSn3XqsQ6Eto23XV')\n",
        "\n",
        "# Split train into train & val\n",
        "train, val = train_test_split(train, train_size=0.80, test_size=0.20, \n",
        "                              stratify=train['status_group'], random_state=42)\n",
        "\n",
        "# Print dataframe shapes\n",
        "print('train', train.shape)\n",
        "print('val', val.shape)\n",
        "print('test', test.shape)"
      ],
      "execution_count": 0,
      "outputs": [
        {
          "output_type": "stream",
          "text": [
            "train (47520, 41)\n",
            "val (11880, 41)\n",
            "test (14358, 40)\n"
          ],
          "name": "stdout"
        }
      ]
    },
    {
      "cell_type": "code",
      "metadata": {
        "id": "DqEPlRNfqvwQ",
        "colab_type": "code",
        "colab": {}
      },
      "source": [
        "def wrangle(X):\n",
        "    \"\"\"Wrangles train, validate, and test sets in the same way\"\"\"\n",
        "    X = X.copy()\n",
        "    \n",
        "    # About 3% of the time, latitude has small values near zero,\n",
        "    # outside Tanzania, so we'll treat these values like zero.\n",
        "    X['latitude'] = X['latitude'].replace(-2e-08, 0)\n",
        "    \n",
        "    # When columns have zeros and shouldn't, they are like null values.\n",
        "    # So we will replace them with the column mean.\n",
        "    cols_with_zeros = ['construction_year', 'longitude', 'latitude']\n",
        "    for col in cols_with_zeros:\n",
        "        X[col] = X[col].replace(0, np.nan)\n",
        "        X[col] = X[col].fillna(X[col].mean())\n",
        "        \n",
        "    # Convert date_recorded to datetime\n",
        "    X['date_recorded'] = pd.to_datetime(X['date_recorded'], infer_datetime_format=True)\n",
        "    \n",
        "    # Extract year from date_recorded\n",
        "    X['year_recorded'] = X['date_recorded'].dt.year\n",
        "    \n",
        "    # quantity & quantity_group are duplicates, so drop one\n",
        "    X = X.drop(columns='quantity_group')\n",
        "    \n",
        "    # for categoricals with missing values, fill with the category 'MISSING'\n",
        "    categoricals = X.select_dtypes(exclude='number').columns\n",
        "    for col in categoricals:\n",
        "        X[col] = X[col].fillna('MISSING')\n",
        "    \n",
        "    return X\n",
        "\n",
        "\n",
        "train = wrangle(train)\n",
        "val = wrangle(val)\n",
        "test = wrangle(test)"
      ],
      "execution_count": 0,
      "outputs": []
    },
    {
      "cell_type": "code",
      "metadata": {
        "id": "qLOiNkbCwp3G",
        "colab_type": "code",
        "outputId": "26147d48-bacf-45dc-87b1-227bcb6c594c",
        "colab": {
          "base_uri": "https://localhost:8080/",
          "height": 374
        }
      },
      "source": [
        "categorical_features = ['basin',\n",
        " 'region',\n",
        " 'public_meeting',\n",
        " 'recorded_by',\n",
        " 'scheme_management',\n",
        " 'permit',\n",
        " 'extraction_type',\n",
        " 'management',\n",
        " 'payment',\n",
        " 'water_quality',\n",
        " 'quantity',\n",
        " 'source_type',\n",
        " 'waterpoint_type']"
      ],
      "execution_count": 0,
      "outputs": [
        {
          "output_type": "execute_result",
          "data": {
            "text/plain": [
              "['basin',\n",
              " 'region',\n",
              " 'public_meeting',\n",
              " 'recorded_by',\n",
              " 'scheme_management',\n",
              " 'permit',\n",
              " 'extraction_type',\n",
              " 'extraction_type_group',\n",
              " 'extraction_type_class',\n",
              " 'management',\n",
              " 'management_group',\n",
              " 'payment',\n",
              " 'payment_type',\n",
              " 'water_quality',\n",
              " 'quality_group',\n",
              " 'quantity',\n",
              " 'source',\n",
              " 'source_type',\n",
              " 'source_class',\n",
              " 'waterpoint_type',\n",
              " 'waterpoint_type_group']"
            ]
          },
          "metadata": {
            "tags": []
          },
          "execution_count": 58
        }
      ]
    },
    {
      "cell_type": "code",
      "metadata": {
        "id": "4-ACKGQ9qywv",
        "colab_type": "code",
        "colab": {}
      },
      "source": [
        "categorical_features = ['public_meeting', 'management', 'payment', 'waterpoint_type',\n",
        " 'permit',\n",
        " 'quantity',\n",
        " 'payment_type',\n",
        " 'source_type',\n",
        " 'water_quality',\n",
        " 'basin',\n",
        " 'extraction_type','installer','ward','lga','subvillage','basin','funder']\n",
        "# The status_group column is the target\n",
        "target = 'status_group'\n",
        "\n",
        "# Get a dataframe with all train columns except the target & id\n",
        "train_features = train.drop(columns=[target, 'id'])\n",
        "\n",
        "# Get a list of the numeric features\n",
        "# numeric_features = train_features.select_dtypes(include='number').columns.tolist()\n",
        "numeric_features = ['amount_tsh', 'latitude','longitude',\n",
        " 'gps_height', 'region_code']\n",
        "\n",
        "#cardinality_list = [x for x in train_features.select_dtypes(exclude='number').columns.tolist() if x not in categorical_features]\n",
        "\n",
        "# Get a series with the cardinality of the nonnumeric features\n",
        "#cardinality = train_features[categorical_features].select_dtypes(exclude='number').nunique()\n",
        "\n",
        "# Get a list of all categorical features with cardinality <= 50\n",
        "#categorical_features = cardinality[cardinality <= 50].index.tolist()\n",
        "\n",
        "features = numeric_features + categorical_features"
      ],
      "execution_count": 0,
      "outputs": []
    },
    {
      "cell_type": "code",
      "metadata": {
        "id": "yJZyI2gts8p6",
        "colab_type": "code",
        "outputId": "2b93c23f-ac9f-4fcb-a70e-4349b385a8c4",
        "colab": {
          "base_uri": "https://localhost:8080/",
          "height": 34
        }
      },
      "source": [
        "numeric_features"
      ],
      "execution_count": 0,
      "outputs": [
        {
          "output_type": "execute_result",
          "data": {
            "text/plain": [
              "['amount_tsh', 'latitude', 'longitude', 'gps_height', 'region_code']"
            ]
          },
          "metadata": {
            "tags": []
          },
          "execution_count": 33
        }
      ]
    },
    {
      "cell_type": "code",
      "metadata": {
        "id": "yH3Jum2Ot98s",
        "colab_type": "code",
        "outputId": "f6cf68fe-c92d-49d2-c9b6-857e3deee596",
        "colab": {
          "base_uri": "https://localhost:8080/",
          "height": 306
        }
      },
      "source": [
        "features"
      ],
      "execution_count": 0,
      "outputs": [
        {
          "output_type": "execute_result",
          "data": {
            "text/plain": [
              "['amount_tsh',\n",
              " 'latitude',\n",
              " 'longitude',\n",
              " 'gps_height',\n",
              " 'region_code',\n",
              " 'public_meeting',\n",
              " 'management',\n",
              " 'payment',\n",
              " 'waterpoint_type',\n",
              " 'permit',\n",
              " 'quantity',\n",
              " 'payment_type',\n",
              " 'source_type',\n",
              " 'water_quality',\n",
              " 'basin',\n",
              " 'extraction_type',\n",
              " 'basin']"
            ]
          },
          "metadata": {
            "tags": []
          },
          "execution_count": 23
        }
      ]
    },
    {
      "cell_type": "code",
      "metadata": {
        "id": "NIsaFIfxrw9J",
        "colab_type": "code",
        "colab": {}
      },
      "source": [
        "# The status_group column is the target\n",
        "target = 'status_group'\n",
        "\n",
        "# Get a dataframe with all train columns except the target & id\n",
        "train_features = train.drop(columns=[target, 'id'])\n",
        "\n",
        "# Get a list of the numeric features\n",
        "numeric_features = train_features.select_dtypes(include='number').columns.tolist()\n",
        "\n",
        "# Get a series with the cardinality of the nonnumeric features\n",
        "cardinality = train_features.select_dtypes(exclude='number').nunique()\n",
        "\n",
        "# Get a list of all categorical features with cardinality <= 50\n",
        "categorical_features = cardinality[cardinality <= 50].index.tolist()\n",
        "\n",
        "# Combine the lists \n",
        "features = numeric_features + categorical_features"
      ],
      "execution_count": 0,
      "outputs": []
    },
    {
      "cell_type": "code",
      "metadata": {
        "id": "yXBxqGKGs-TM",
        "colab_type": "code",
        "outputId": "2de2be6c-f12f-43ff-cfdf-b1387ac46352",
        "colab": {
          "base_uri": "https://localhost:8080/",
          "height": 527
        }
      },
      "source": [
        "cardinality"
      ],
      "execution_count": 0,
      "outputs": [
        {
          "output_type": "execute_result",
          "data": {
            "text/plain": [
              "date_recorded              349\n",
              "funder                    1717\n",
              "installer                 1930\n",
              "wpt_name                 30661\n",
              "basin                        9\n",
              "subvillage               17232\n",
              "region                      21\n",
              "lga                        124\n",
              "ward                      2082\n",
              "public_meeting               3\n",
              "recorded_by                  1\n",
              "scheme_management           13\n",
              "scheme_name               2564\n",
              "permit                       3\n",
              "extraction_type             18\n",
              "extraction_type_group       13\n",
              "extraction_type_class        7\n",
              "management                  12\n",
              "management_group             5\n",
              "payment                      7\n",
              "payment_type                 7\n",
              "water_quality                8\n",
              "quality_group                6\n",
              "quantity                     5\n",
              "source                      10\n",
              "source_type                  7\n",
              "source_class                 3\n",
              "waterpoint_type              7\n",
              "waterpoint_type_group        6\n",
              "dtype: int64"
            ]
          },
          "metadata": {
            "tags": []
          },
          "execution_count": 191
        }
      ]
    },
    {
      "cell_type": "code",
      "metadata": {
        "id": "96Ul_3KDtAZp",
        "colab_type": "code",
        "colab": {}
      },
      "source": [
        "cardinality"
      ],
      "execution_count": 0,
      "outputs": []
    },
    {
      "cell_type": "code",
      "metadata": {
        "id": "zGFKqDeovFDc",
        "colab_type": "code",
        "colab": {}
      },
      "source": [
        "X_train = train[features]\n",
        "y_train = train[target]\n",
        "X_val = val[features]\n",
        "y_val = val[target]\n",
        "X_test = test[features]"
      ],
      "execution_count": 0,
      "outputs": []
    },
    {
      "cell_type": "code",
      "metadata": {
        "id": "dhFH-4CdvXNR",
        "colab_type": "code",
        "colab": {}
      },
      "source": [
        "categorical_features = [\n",
        " 'region',\n",
        " 'public_meeting',\n",
        " 'permit',\n",
        " 'extraction_type',\n",
        " 'management',\n",
        " 'water_quality',\n",
        " 'quantity',\n",
        " 'source_type',\n",
        " 'waterpoint_type']\n",
        "numeric_features = ['amount_tsh', 'latitude','longitude','population','construction_year','year_recorded','district_code','gps_height']\n",
        "features = numeric_features + categorical_features\n"
      ],
      "execution_count": 0,
      "outputs": []
    },
    {
      "cell_type": "code",
      "metadata": {
        "id": "V4_LfPGuvHyZ",
        "colab_type": "code",
        "colab": {}
      },
      "source": [
        "X_train.head()"
      ],
      "execution_count": 0,
      "outputs": []
    },
    {
      "cell_type": "code",
      "metadata": {
        "id": "bYG2R9ECrUP9",
        "colab_type": "code",
        "colab": {}
      },
      "source": [
        "# Arrange data into X features matrix and y target vector \n",
        "X_train = train[features]\n",
        "y_train = train[target]\n",
        "X_val = val[features]\n",
        "y_val = val[target]\n",
        "X_test = test[features]\n",
        "\n",
        "# Encoder: fit_transform on train, transform on val & test\n",
        "encoder = ce.OneHotEncoder(use_cat_names=True)\n",
        "X_train_encoded = encoder.fit_transform(X_train)\n",
        "X_val_encoded = encoder.transform(X_val)\n",
        "X_test_encoded = encoder.transform(X_test)"
      ],
      "execution_count": 0,
      "outputs": []
    },
    {
      "cell_type": "code",
      "metadata": {
        "id": "yWybl8TRrowT",
        "colab_type": "code",
        "outputId": "4ebd1217-e781-442e-ad4e-605ad656d733",
        "colab": {
          "base_uri": "https://localhost:8080/",
          "height": 68
        }
      },
      "source": [
        "from sklearn.tree import DecisionTreeClassifier\n",
        "model = DecisionTreeClassifier(random_state=42, max_depth = 20)\n",
        "model.fit(X_train_encoded, y_train)\n",
        "print('Decision Tree')\n",
        "print('Train Accuracy', model.score(X_train_encoded, y_train))\n",
        "print('Validation Accuracy', model.score(X_val_encoded, y_val))"
      ],
      "execution_count": 0,
      "outputs": [
        {
          "output_type": "stream",
          "text": [
            "Decision Tree\n",
            "Train Accuracy 0.8854587542087542\n",
            "Validation Accuracy 0.7677609427609428\n"
          ],
          "name": "stdout"
        }
      ]
    },
    {
      "cell_type": "code",
      "metadata": {
        "id": "gKjxZ2tnxk24",
        "colab_type": "code",
        "colab": {}
      },
      "source": [
        "from sklearn.ensemble import RandomForestClassifier"
      ],
      "execution_count": 0,
      "outputs": []
    },
    {
      "cell_type": "code",
      "metadata": {
        "id": "cAjtod1asoXJ",
        "colab_type": "code",
        "outputId": "693a5d48-b1f4-4d52-b0ae-b4f46b52bf1c",
        "colab": {
          "base_uri": "https://localhost:8080/",
          "height": 68
        }
      },
      "source": [
        "model = RandomForestClassifier(n_estimators = 442, random_state=42, max_depth = 23)\n",
        "model.fit(X_train_encoded, y_train)\n",
        "print('RandomForest')\n",
        "print('Train Accuracy', model.score(X_train_encoded, y_train))\n",
        "print('Validation Accuracy', model.score(X_val_encoded, y_val))"
      ],
      "execution_count": 0,
      "outputs": [
        {
          "output_type": "stream",
          "text": [
            "RandomForest\n",
            "Train Accuracy 0.9513257575757575\n",
            "Validation Accuracy 0.8121212121212121\n"
          ],
          "name": "stdout"
        }
      ]
    },
    {
      "cell_type": "code",
      "metadata": {
        "id": "qJ34A7Qv4xAQ",
        "colab_type": "code",
        "colab": {}
      },
      "source": [
        "y_pred = model.predict(X_test_encoded)\n",
        "\n",
        "# Write submission csv file\n",
        "submission = sample_submission.copy()\n",
        "submission['status_group'] = y_pred\n",
        "submission.to_csv('submission-forest-4.csv', index=False)"
      ],
      "execution_count": 0,
      "outputs": []
    },
    {
      "cell_type": "code",
      "metadata": {
        "id": "fkK0asp03Qbc",
        "colab_type": "code",
        "outputId": "086c3a47-41af-4989-cef1-400a3809bc20",
        "colab": {
          "base_uri": "https://localhost:8080/",
          "height": 1682
        }
      },
      "source": [
        "importances = pd.Series(model.feature_importances_, \n",
        "                        X_train_encoded.columns)\n",
        "\n",
        "plt.figure(figsize=(10,30))\n",
        "importances.sort_values().plot.barh(color='grey');"
      ],
      "execution_count": 0,
      "outputs": [
        {
          "output_type": "display_data",
          "data": {
            "image/png": "[encoded data removed]",
            "text/plain": [
              "<Figure size 720x2160 with 1 Axes>"
            ]
          },
          "metadata": {
            "tags": []
          }
        }
      ]
    },
    {
      "cell_type": "code",
      "metadata": {
        "id": "zsa3aBKN1KbD",
        "colab_type": "code",
        "colab": {}
      },
      "source": [
        "from sklearn.ensemble import ExtraTreesClassifier"
      ],
      "execution_count": 0,
      "outputs": []
    },
    {
      "cell_type": "code",
      "metadata": {
        "id": "UUBBYW-t1NKg",
        "colab_type": "code",
        "outputId": "8a9ad7d2-35c6-4f59-be90-240e72fcd103",
        "colab": {
          "base_uri": "https://localhost:8080/",
          "height": 68
        }
      },
      "source": [
        "model = ExtraTreesClassifier(n_estimators = 400, random_state=42)\n",
        "model.fit(X_train_encoded, y_train)\n",
        "print('ExtraTreesClassifier')\n",
        "print('Train Accuracy', model.score(X_train_encoded, y_train))\n",
        "print('Validation Accuracy', model.score(X_val_encoded, y_val))"
      ],
      "execution_count": 0,
      "outputs": [
        {
          "output_type": "stream",
          "text": [
            "ExtraTreesClassifier\n",
            "Train Accuracy 0.9953914141414142\n",
            "Validation Accuracy 0.7902356902356902\n"
          ],
          "name": "stdout"
        }
      ]
    },
    {
      "cell_type": "code",
      "metadata": {
        "id": "Abb47_DwySIo",
        "colab_type": "code",
        "colab": {}
      },
      "source": [
        "y_pred = model.predict(X_test_scaled)\n",
        "\n",
        "# Write submission csv file\n",
        "submission = sample_submission.copy()\n",
        "submission['status_group'] = y_pred\n",
        "submission.to_csv('submission-02.csv', index=False)"
      ],
      "execution_count": 0,
      "outputs": []
    },
    {
      "cell_type": "code",
      "metadata": {
        "id": "aXQZVbSXzCdV",
        "colab_type": "code",
        "colab": {}
      },
      "source": [
        "importances = pd.Series(model.feature_importances_, \n",
        "                        X_train_encoded.columns)"
      ],
      "execution_count": 0,
      "outputs": []
    },
    {
      "cell_type": "code",
      "metadata": {
        "id": "_DDXf910zDp0",
        "colab_type": "code",
        "colab": {}
      },
      "source": [
        "new_features = importances.sort_values(ascending = False)\n",
        "new_features = importances[:70]"
      ],
      "execution_count": 0,
      "outputs": []
    },
    {
      "cell_type": "code",
      "metadata": {
        "id": "Rlwk-tlbzEq6",
        "colab_type": "code",
        "colab": {}
      },
      "source": [
        "new_features = list(new_features.index)"
      ],
      "execution_count": 0,
      "outputs": []
    },
    {
      "cell_type": "code",
      "metadata": {
        "id": "rJJwq_wkI6-F",
        "colab_type": "code",
        "colab": {}
      },
      "source": [
        "# Arrange data into X new_features matrix and y target vector \n",
        "X_train = train[new_features]\n",
        "y_train = train[target]\n",
        "X_val = val[new_features]\n",
        "y_val = val[target]\n",
        "X_test = test[new_features]\n",
        "\n",
        "# Encoder: fit_transform on train, transform on val & test\n",
        "encoder = ce.OneHotEncoder(use_cat_names=True)\n",
        "X_train_encoded = encoder.fit_transform(X_train)\n",
        "X_val_encoded = encoder.transform(X_val)\n",
        "X_test_encoded = encoder.transform(X_test)"
      ],
      "execution_count": 0,
      "outputs": []
    },
    {
      "cell_type": "code",
      "metadata": {
        "id": "IU8LPtKFIyQG",
        "colab_type": "code",
        "colab": {}
      },
      "source": [
        "train2 = train.copy()"
      ],
      "execution_count": 0,
      "outputs": []
    },
    {
      "cell_type": "code",
      "metadata": {
        "id": "h2LbSqLpJ2GS",
        "colab_type": "code",
        "colab": {}
      },
      "source": [
        "truelist = [True]\n",
        "falselist = [False]"
      ],
      "execution_count": 0,
      "outputs": []
    },
    {
      "cell_type": "code",
      "metadata": {
        "id": "RC4QP0ckJNu7",
        "colab_type": "code",
        "colab": {}
      },
      "source": [
        "truelist = int(train2['public_meeting'].value_counts(normalize=True)[1]*100) * [True]\n",
        "falselist = int(train2['public_meeting'].value_counts(normalize=True)[0]*100) * [False]\n",
        "true_false_list = falselist + truelist"
      ],
      "execution_count": 0,
      "outputs": []
    },
    {
      "cell_type": "code",
      "metadata": {
        "id": "K_pU4QVmKH_I",
        "colab_type": "code",
        "colab": {}
      },
      "source": [
        "true_false_list"
      ],
      "execution_count": 0,
      "outputs": []
    },
    {
      "cell_type": "code",
      "metadata": {
        "id": "lTTGWwTgI1MF",
        "colab_type": "code",
        "colab": {}
      },
      "source": [
        "train2['public_meeting'] = train2['public_meeting'].replace('MISSING', np.random.choice(true_false_list))"
      ],
      "execution_count": 0,
      "outputs": []
    },
    {
      "cell_type": "code",
      "metadata": {
        "id": "DevF1OiCKmU8",
        "colab_type": "code",
        "colab": {}
      },
      "source": [
        "val2 = val.copy()\n",
        "truelist = [True]\n",
        "falselist = [False]\n",
        "truelist = int(val2['public_meeting'].value_counts(normalize=True)[1]*100) * [True]\n",
        "falselist = int(val2['public_meeting'].value_counts(normalize=True)[0]*100) * [False]\n",
        "true_false_list = falselist + truelist\n",
        "val2['public_meeting'] = val2['public_meeting'].replace('MISSING', np.random.choice(true_false_list))"
      ],
      "execution_count": 0,
      "outputs": []
    },
    {
      "cell_type": "code",
      "metadata": {
        "id": "pIDpkkUyMjB0",
        "colab_type": "code",
        "colab": {}
      },
      "source": [
        "test2 = test.copy()\n",
        "truelist = [True]\n",
        "falselist = [False]\n",
        "truelist = int(test2['public_meeting'].value_counts(normalize=True)[1]*100) * [True]\n",
        "falselist = int(test2['public_meeting'].value_counts(normalize=True)[0]*100) * [False]\n",
        "true_false_list = falselist + truelist\n",
        "test2['public_meeting'] = test2['public_meeting'].replace('MISSING', np.random.choice(true_false_list))"
      ],
      "execution_count": 0,
      "outputs": []
    },
    {
      "cell_type": "code",
      "metadata": {
        "id": "-PjH0WSzPcYJ",
        "colab_type": "code",
        "colab": {}
      },
      "source": [
        ""
      ],
      "execution_count": 0,
      "outputs": []
    },
    {
      "cell_type": "code",
      "metadata": {
        "id": "kNctpX92SVAn",
        "colab_type": "code",
        "colab": {}
      },
      "source": [
        "truelist = [True]\n",
        "falselist = [False]\n",
        "truelist = int(train2['permit'].value_counts(normalize=True)[1]*100) * [True]\n",
        "falselist = int(train2['permit'].value_counts(normalize=True)[0]*100) * [False]\n",
        "true_false_list = falselist + truelist\n",
        "train2['permit'] = train2['permit'].replace('MISSING', np.random.choice(true_false_list))"
      ],
      "execution_count": 0,
      "outputs": []
    },
    {
      "cell_type": "code",
      "metadata": {
        "id": "ZwHUH8XdShUk",
        "colab_type": "code",
        "colab": {}
      },
      "source": [
        "truelist = [True]\n",
        "falselist = [False]\n",
        "truelist = int(val2['permit'].value_counts(normalize=True)[1]*100) * [True]\n",
        "falselist = int(val2['permit'].value_counts(normalize=True)[0]*100) * [False]\n",
        "true_false_list = falselist + truelist\n",
        "val2['permit'] = val2['permit'].replace('MISSING', np.random.choice(true_false_list))"
      ],
      "execution_count": 0,
      "outputs": []
    },
    {
      "cell_type": "code",
      "metadata": {
        "id": "_zREwOIISjUs",
        "colab_type": "code",
        "colab": {}
      },
      "source": [
        "truelist = [True]\n",
        "falselist = [False]\n",
        "truelist = int(test2['permit'].value_counts(normalize=True)[1]*100) * [True]\n",
        "falselist = int(test2['permit'].value_counts(normalize=True)[0]*100) * [False]\n",
        "true_false_list = falselist + truelist\n",
        "test2['permit'] = test2['permit'].replace('MISSING', np.random.choice(true_false_list))"
      ],
      "execution_count": 0,
      "outputs": []
    },
    {
      "cell_type": "code",
      "metadata": {
        "id": "Me3Zrf-pPLlG",
        "colab_type": "code",
        "colab": {}
      },
      "source": [
        "def missing(X,feature1, feature2):\n",
        "  X2 = X.copy()\n",
        "  truelist = [True]\n",
        "  falselist = [False]\n",
        "  truelist = int(X2[feature1].value_counts(normalize=True)[1]*100) * [True]\n",
        "  falselist = int(X2[feature1].value_counts(normalize=True)[0]*100) * [False]\n",
        "  true_false_list = falselist + truelist\n",
        "  X2[feature1] = X2[feature1].replace('MISSING', np.random.choice(true_false_list))\n",
        "  \n",
        "  truelist2 = [True]\n",
        "  falselist2 = [False]\n",
        "  truelist2 = int(X2[feature2].value_counts(normalize=True)[1]*100) * [True]\n",
        "  falselist2 = int(X2[feature2].value_counts(normalize=True)[0]*100) * [False]\n",
        "  true_false_list2 = falselist2 + truelist2\n",
        "  X2[feature2] = X2[feature2].replace('MISSING', np.random.choice(true_false_list2))\n",
        "\n",
        "train2 = missing(train, 'public_meeting','permit')\n",
        "val2 = missing(val, 'public_meeting','permit')\n",
        "test2 = missing(test, 'public_meeting','permit')\n",
        "  "
      ],
      "execution_count": 0,
      "outputs": []
    },
    {
      "cell_type": "code",
      "metadata": {
        "id": "zQwW3DS9UCac",
        "colab_type": "code",
        "colab": {}
      },
      "source": [
        ""
      ],
      "execution_count": 0,
      "outputs": []
    },
    {
      "cell_type": "code",
      "metadata": {
        "id": "JbWpbKGUVf4V",
        "colab_type": "code",
        "colab": {}
      },
      "source": [
        ""
      ],
      "execution_count": 0,
      "outputs": []
    },
    {
      "cell_type": "code",
      "metadata": {
        "id": "iP3pUTeqVMfV",
        "colab_type": "code",
        "colab": {}
      },
      "source": [
        "newlist = train2['water_quality'].value_counts(normalize=True).index.tolist()"
      ],
      "execution_count": 0,
      "outputs": []
    },
    {
      "cell_type": "code",
      "metadata": {
        "id": "WzFmeEOBV8pZ",
        "colab_type": "code",
        "colab": {}
      },
      "source": [
        "newlist.remove('unknown')"
      ],
      "execution_count": 0,
      "outputs": []
    },
    {
      "cell_type": "code",
      "metadata": {
        "id": "n_MjDwowWKMW",
        "colab_type": "code",
        "outputId": "9e9b301e-8ec2-4dae-ce08-db7d27edfdbb",
        "colab": {
          "base_uri": "https://localhost:8080/",
          "height": 136
        }
      },
      "source": [
        "newlist"
      ],
      "execution_count": 0,
      "outputs": [
        {
          "output_type": "execute_result",
          "data": {
            "text/plain": [
              "['soft',\n",
              " 'salty',\n",
              " 'milky',\n",
              " 'coloured',\n",
              " 'salty abandoned',\n",
              " 'fluoride',\n",
              " 'fluoride abandoned']"
            ]
          },
          "metadata": {
            "tags": []
          },
          "execution_count": 24
        }
      ]
    },
    {
      "cell_type": "code",
      "metadata": {
        "id": "JG3wtt-YNkBv",
        "colab_type": "code",
        "outputId": "b6ee4516-af5f-4b28-fb92-ecb126b350c2",
        "colab": {
          "base_uri": "https://localhost:8080/",
          "height": 153
        }
      },
      "source": [
        "train2['water_quality'].value_counts(normalize=True).T[newlist]*100"
      ],
      "execution_count": 0,
      "outputs": [
        {
          "output_type": "execute_result",
          "data": {
            "text/plain": [
              "soft                 85.43\n",
              "salty                 8.21\n",
              "milky                 1.38\n",
              "coloured              0.85\n",
              "salty abandoned       0.58\n",
              "fluoride              0.35\n",
              "fluoride abandoned    0.03\n",
              "Name: water_quality, dtype: float64"
            ]
          },
          "metadata": {
            "tags": []
          },
          "execution_count": 62
        }
      ]
    },
    {
      "cell_type": "code",
      "metadata": {
        "id": "VgaoWwrWWY1K",
        "colab_type": "code",
        "outputId": "8c9b2095-fb45-4a8c-864b-3b0484777b30",
        "colab": {
          "base_uri": "https://localhost:8080/",
          "height": 34
        }
      },
      "source": [
        "newlist[0]"
      ],
      "execution_count": 0,
      "outputs": [
        {
          "output_type": "execute_result",
          "data": {
            "text/plain": [
              "'soft'"
            ]
          },
          "metadata": {
            "tags": []
          },
          "execution_count": 33
        }
      ]
    },
    {
      "cell_type": "code",
      "metadata": {
        "id": "OljGBuAIWRkM",
        "colab_type": "code",
        "colab": {}
      },
      "source": [
        "def water(X):\n",
        "  num = 0\n",
        "  listy = []\n",
        "  for i in range(len(newlist)):\n",
        "    softlist = int(X['water_quality'].value_counts(normalize=True)[newlist][i]*100) * [newlist[i]]\n",
        "    num +1\n",
        "    listy.append(softlist)\n",
        "  return listy\n",
        "water(train2)"
      ],
      "execution_count": 0,
      "outputs": []
    },
    {
      "cell_type": "code",
      "metadata": {
        "id": "44bk0dWNe7Lb",
        "colab_type": "code",
        "colab": {}
      },
      "source": [
        "from mpl_toolkits import mplot3d\n",
        "\n",
        "%matplotlib inline\n",
        "import matplotlib.pyplot as plt"
      ],
      "execution_count": 0,
      "outputs": []
    },
    {
      "cell_type": "code",
      "metadata": {
        "id": "AZ_si9j-e9ZK",
        "colab_type": "code",
        "colab": {
          "base_uri": "https://localhost:8080/",
          "height": 248
        },
        "outputId": "2e53ece7-7301-4d6c-b4b8-fda8fb4455c3"
      },
      "source": [
        "ax = plt.axes(projection='3d')\n",
        "\n",
        "\n",
        "\n",
        "# Data for three-dimensional scattered points\n",
        "zdata = train['gps_height']\n",
        "xdata = train['latitude']\n",
        "ydata = train['longitude']\n",
        "ax.scatter3D(xdata, ydata, zdata, c=zdata, cmap='Greens');\n",
        "\n"
      ],
      "execution_count": 61,
      "outputs": [
        {
          "output_type": "display_data",
          "data": {
            "image/png": "[encoded data removed]",
            "text/plain": [
              "<Figure size 432x288 with 1 Axes>"
            ]
          },
          "metadata": {
            "tags": []
          }
        }
      ]
    },
    {
      "cell_type": "code",
      "metadata": {
        "id": "7V1JwtN-sbcg",
        "colab_type": "code",
        "colab": {}
      },
      "source": [
        "categorical_features = [\n",
        " 'region',\n",
        " 'public_meeting',\n",
        " 'permit',\n",
        " 'extraction_type',\n",
        " 'management',\n",
        " 'water_quality',\n",
        " 'quantity',\n",
        " 'source_type',\n",
        " 'waterpoint_type']\n",
        "numeric_features = ['amount_tsh', 'latitude','longitude','population','construction_year','year_recorded','district_code','gps_height']\n",
        "target = 'status_group'\n",
        "features = numeric_features + categorical_features"
      ],
      "execution_count": 0,
      "outputs": []
    },
    {
      "cell_type": "code",
      "metadata": {
        "id": "VqFiRfYJIehd",
        "colab_type": "code",
        "colab": {}
      },
      "source": [
        "# Arrange data into X features matrix and y target vector \n",
        "X_train = train2[features]\n",
        "y_train = train2[target]\n",
        "X_val = val2[features]\n",
        "y_val = val2[target]\n",
        "X_test = test2[features]\n",
        "\n",
        "# Encoder: fit_transform on train, transform on val & test\n",
        "encoder = ce.OrdinalEncoder()\n",
        "X_train_encoded = encoder.fit_transform(X_train)\n",
        "X_val_encoded = encoder.transform(X_val)\n",
        "X_test_encoded = encoder.transform(X_test)"
      ],
      "execution_count": 0,
      "outputs": []
    },
    {
      "cell_type": "code",
      "metadata": {
        "id": "hWz5ARR6Suxe",
        "colab_type": "code",
        "colab": {}
      },
      "source": [
        "from sklearn.ensemble import RandomForestClassifier"
      ],
      "execution_count": 0,
      "outputs": []
    },
    {
      "cell_type": "code",
      "metadata": {
        "id": "B_ryjoOwIhVX",
        "colab_type": "code",
        "outputId": "aa53eba8-bc69-4869-d123-553c365a4e0a",
        "colab": {
          "base_uri": "https://localhost:8080/",
          "height": 68
        }
      },
      "source": [
        "model = RandomForestClassifier(n_estimators = 442, random_state=42, max_depth = 23)\n",
        "model.fit(X_train_encoded, y_train)\n",
        "print('RandomForest')\n",
        "print('Train Accuracy', model.score(X_train_encoded, y_train))\n",
        "print('Validation Accuracy', model.score(X_val_encoded, y_val))"
      ],
      "execution_count": 76,
      "outputs": [
        {
          "output_type": "stream",
          "text": [
            "RandomForest\n",
            "Train Accuracy 0.9845959595959596\n",
            "Validation Accuracy 0.8075757575757576\n"
          ],
          "name": "stdout"
        }
      ]
    },
    {
      "cell_type": "code",
      "metadata": {
        "id": "DQSvtcJtJDZb",
        "colab_type": "code",
        "colab": {}
      },
      "source": [
        "y_pred = model.predict(X_test_encoded)\n",
        "\n",
        "# Write submission csv file\n",
        "submission = sample_submission.copy()\n",
        "submission['status_group'] = y_pred\n",
        "submission.to_csv('submission-forest-7.csv', index=False)"
      ],
      "execution_count": 0,
      "outputs": []
    },
    {
      "cell_type": "code",
      "metadata": {
        "id": "5m5ox4FDLSZA",
        "colab_type": "code",
        "colab": {}
      },
      "source": [
        ""
      ],
      "execution_count": 0,
      "outputs": []
    }
  ]
}