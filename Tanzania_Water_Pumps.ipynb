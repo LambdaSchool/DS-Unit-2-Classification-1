{
  "nbformat": 4,
  "nbformat_minor": 0,
  "metadata": {
    "colab": {
      "name": "Tanzania Water Pumps",
      "version": "0.3.2",
      "provenance": [],
      "collapsed_sections": [],
      "include_colab_link": true
    },
    "kernelspec": {
      "name": "python3",
      "display_name": "Python 3"
    }
  },
  "cells": [
    {
      "cell_type": "markdown",
      "metadata": {
        "id": "view-in-github",
        "colab_type": "text"
      },
      "source": [
        "<a href=\"https://colab.research.google.com/github/khaloodi/DS-Unit-2-Classification-1/blob/master/Tanzania_Water_Pumps.ipynb\" target=\"_parent\"><img src=\"https://colab.research.google.com/assets/colab-badge.svg\" alt=\"Open In Colab\"/></a>"
      ]
    },
    {
      "cell_type": "markdown",
      "metadata": {
        "id": "wSZM5mkzkt3Y",
        "colab_type": "text"
      },
      "source": [
        "### Features\n",
        "\n",
        "Your goal is to predict the operating condition of a waterpoint for each record in the dataset. You are provided the following set of information about the waterpoints:\n",
        "\n",
        "- `amount_tsh` : Total static head (amount water available to waterpoint)\n",
        "- `date_recorded` : The date the row was entered\n",
        "- `funder` : Who funded the well\n",
        "- `gps_height` : Altitude of the well\n",
        "- `installer` : Organization that installed the well\n",
        "- `longitude` : GPS coordinate\n",
        "- `latitude` : GPS coordinate\n",
        "- `wpt_name` : Name of the waterpoint if there is one\n",
        "- `num_private` :  \n",
        "- `basin` : Geographic water basin\n",
        "- `subvillage` : Geographic location\n",
        "- `region` : Geographic location\n",
        "- `region_code` : Geographic location (coded)\n",
        "- `district_code` : Geographic location (coded)\n",
        "- `lga` : Geographic location\n",
        "- `ward` : Geographic location\n",
        "- `population` : Population around the well\n",
        "- `public_meeting` : True/False\n",
        "- `recorded_by` : Group entering this row of data\n",
        "- `scheme_management` : Who operates the waterpoint\n",
        "- `scheme_name` : Who operates the waterpoint\n",
        "- `permit` : If the waterpoint is permitted\n",
        "- `construction_year` : Year the waterpoint was constructed\n",
        "- `extraction_type` : The kind of extraction the waterpoint uses\n",
        "- `extraction_type_group` : The kind of extraction the waterpoint uses\n",
        "- `extraction_type_class` : The kind of extraction the waterpoint uses\n",
        "- `management` : How the waterpoint is managed\n",
        "- `management_group` : How the waterpoint is managed\n",
        "- `payment` : What the water costs\n",
        "- `payment_type` : What the water costs\n",
        "- `water_quality` : The quality of the water\n",
        "- `quality_group` : The quality of the water\n",
        "- `quantity` : The quantity of water\n",
        "- `quantity_group` : The quantity of water\n",
        "- `source` : The source of the water\n",
        "- `source_type` : The source of the water\n",
        "- `source_class` : The source of the water\n",
        "- `waterpoint_type` : The kind of waterpoint\n",
        "- `waterpoint_type_group` : The kind of waterpoint\n",
        "\n",
        "### Labels\n",
        "\n",
        "There are three possible values:\n",
        "\n",
        "- `functional` : the waterpoint is operational and there are no repairs needed\n",
        "- `functional needs repair` : the waterpoint is operational, but needs repairs\n",
        "- `non functional` : the waterpoint is not operational"
      ]
    },
    {
      "cell_type": "code",
      "metadata": {
        "id": "BMCaMg6ikB38",
        "colab_type": "code",
        "outputId": "6961f7a2-669d-41dd-befb-2838a1052069",
        "colab": {
          "base_uri": "https://localhost:8080/",
          "height": 34
        }
      },
      "source": [
        "import pandas as pd\n",
        "train_features = pd.read_csv('https://drive.google.com/uc?export=download&id=14ULvX0uOgftTB2s97uS8lIx1nHGQIB0P')\n",
        "train_labels = pd.read_csv('https://drive.google.com/uc?export=download&id=1r441wLr7gKGHGLyPpKauvCuUOU556S2f')\n",
        "test_features = pd.read_csv('https://drive.google.com/uc?export=download&id=1wvsYl9hbRbZuIuoaLWCsW_kbcxCdocHz')\n",
        "sample_submission = pd.read_csv('https://drive.google.com/uc?export=download&id=1kfJewnmhowpUo381oSn3XqsQ6Eto23XV')\n",
        "train_features.shape, train_labels.shape, test_features.shape, sample_submission.shape"
      ],
      "execution_count": 0,
      "outputs": [
        {
          "output_type": "execute_result",
          "data": {
            "text/plain": [
              "((59400, 40), (59400, 2), (14358, 40), (14358, 2))"
            ]
          },
          "metadata": {
            "tags": []
          },
          "execution_count": 45
        }
      ]
    },
    {
      "cell_type": "code",
      "metadata": {
        "id": "d2Th29LskE34",
        "colab_type": "code",
        "outputId": "df785924-ce0b-4315-e298-dde4a24c1334",
        "colab": {
          "base_uri": "https://localhost:8080/",
          "height": 264
        }
      },
      "source": [
        "train_features.head(3)"
      ],
      "execution_count": 0,
      "outputs": [
        {
          "output_type": "execute_result",
          "data": {
            "text/html": [
              "<div>\n",
              "<style scoped>\n",
              "    .dataframe tbody tr th:only-of-type {\n",
              "        vertical-align: middle;\n",
              "    }\n",
              "\n",
              "    .dataframe tbody tr th {\n",
              "        vertical-align: top;\n",
              "    }\n",
              "\n",
              "    .dataframe thead th {\n",
              "        text-align: right;\n",
              "    }\n",
              "</style>\n",
              "<table border=\"1\" class=\"dataframe\">\n",
              "  <thead>\n",
              "    <tr style=\"text-align: right;\">\n",
              "      <th></th>\n",
              "      <th>id</th>\n",
              "      <th>amount_tsh</th>\n",
              "      <th>date_recorded</th>\n",
              "      <th>funder</th>\n",
              "      <th>gps_height</th>\n",
              "      <th>installer</th>\n",
              "      <th>longitude</th>\n",
              "      <th>latitude</th>\n",
              "      <th>wpt_name</th>\n",
              "      <th>num_private</th>\n",
              "      <th>basin</th>\n",
              "      <th>subvillage</th>\n",
              "      <th>region</th>\n",
              "      <th>region_code</th>\n",
              "      <th>district_code</th>\n",
              "      <th>lga</th>\n",
              "      <th>ward</th>\n",
              "      <th>population</th>\n",
              "      <th>public_meeting</th>\n",
              "      <th>recorded_by</th>\n",
              "      <th>scheme_management</th>\n",
              "      <th>scheme_name</th>\n",
              "      <th>permit</th>\n",
              "      <th>construction_year</th>\n",
              "      <th>extraction_type</th>\n",
              "      <th>extraction_type_group</th>\n",
              "      <th>extraction_type_class</th>\n",
              "      <th>management</th>\n",
              "      <th>management_group</th>\n",
              "      <th>payment</th>\n",
              "      <th>payment_type</th>\n",
              "      <th>water_quality</th>\n",
              "      <th>quality_group</th>\n",
              "      <th>quantity</th>\n",
              "      <th>quantity_group</th>\n",
              "      <th>source</th>\n",
              "      <th>source_type</th>\n",
              "      <th>source_class</th>\n",
              "      <th>waterpoint_type</th>\n",
              "      <th>waterpoint_type_group</th>\n",
              "    </tr>\n",
              "  </thead>\n",
              "  <tbody>\n",
              "    <tr>\n",
              "      <th>0</th>\n",
              "      <td>69572</td>\n",
              "      <td>6000.0</td>\n",
              "      <td>2011-03-14</td>\n",
              "      <td>Roman</td>\n",
              "      <td>1390</td>\n",
              "      <td>Roman</td>\n",
              "      <td>34.938093</td>\n",
              "      <td>-9.856322</td>\n",
              "      <td>none</td>\n",
              "      <td>0</td>\n",
              "      <td>Lake Nyasa</td>\n",
              "      <td>Mnyusi B</td>\n",
              "      <td>Iringa</td>\n",
              "      <td>11</td>\n",
              "      <td>5</td>\n",
              "      <td>Ludewa</td>\n",
              "      <td>Mundindi</td>\n",
              "      <td>109</td>\n",
              "      <td>True</td>\n",
              "      <td>GeoData Consultants Ltd</td>\n",
              "      <td>VWC</td>\n",
              "      <td>Roman</td>\n",
              "      <td>False</td>\n",
              "      <td>1999</td>\n",
              "      <td>gravity</td>\n",
              "      <td>gravity</td>\n",
              "      <td>gravity</td>\n",
              "      <td>vwc</td>\n",
              "      <td>user-group</td>\n",
              "      <td>pay annually</td>\n",
              "      <td>annually</td>\n",
              "      <td>soft</td>\n",
              "      <td>good</td>\n",
              "      <td>enough</td>\n",
              "      <td>enough</td>\n",
              "      <td>spring</td>\n",
              "      <td>spring</td>\n",
              "      <td>groundwater</td>\n",
              "      <td>communal standpipe</td>\n",
              "      <td>communal standpipe</td>\n",
              "    </tr>\n",
              "    <tr>\n",
              "      <th>1</th>\n",
              "      <td>8776</td>\n",
              "      <td>0.0</td>\n",
              "      <td>2013-03-06</td>\n",
              "      <td>Grumeti</td>\n",
              "      <td>1399</td>\n",
              "      <td>GRUMETI</td>\n",
              "      <td>34.698766</td>\n",
              "      <td>-2.147466</td>\n",
              "      <td>Zahanati</td>\n",
              "      <td>0</td>\n",
              "      <td>Lake Victoria</td>\n",
              "      <td>Nyamara</td>\n",
              "      <td>Mara</td>\n",
              "      <td>20</td>\n",
              "      <td>2</td>\n",
              "      <td>Serengeti</td>\n",
              "      <td>Natta</td>\n",
              "      <td>280</td>\n",
              "      <td>NaN</td>\n",
              "      <td>GeoData Consultants Ltd</td>\n",
              "      <td>Other</td>\n",
              "      <td>NaN</td>\n",
              "      <td>True</td>\n",
              "      <td>2010</td>\n",
              "      <td>gravity</td>\n",
              "      <td>gravity</td>\n",
              "      <td>gravity</td>\n",
              "      <td>wug</td>\n",
              "      <td>user-group</td>\n",
              "      <td>never pay</td>\n",
              "      <td>never pay</td>\n",
              "      <td>soft</td>\n",
              "      <td>good</td>\n",
              "      <td>insufficient</td>\n",
              "      <td>insufficient</td>\n",
              "      <td>rainwater harvesting</td>\n",
              "      <td>rainwater harvesting</td>\n",
              "      <td>surface</td>\n",
              "      <td>communal standpipe</td>\n",
              "      <td>communal standpipe</td>\n",
              "    </tr>\n",
              "    <tr>\n",
              "      <th>2</th>\n",
              "      <td>34310</td>\n",
              "      <td>25.0</td>\n",
              "      <td>2013-02-25</td>\n",
              "      <td>Lottery Club</td>\n",
              "      <td>686</td>\n",
              "      <td>World vision</td>\n",
              "      <td>37.460664</td>\n",
              "      <td>-3.821329</td>\n",
              "      <td>Kwa Mahundi</td>\n",
              "      <td>0</td>\n",
              "      <td>Pangani</td>\n",
              "      <td>Majengo</td>\n",
              "      <td>Manyara</td>\n",
              "      <td>21</td>\n",
              "      <td>4</td>\n",
              "      <td>Simanjiro</td>\n",
              "      <td>Ngorika</td>\n",
              "      <td>250</td>\n",
              "      <td>True</td>\n",
              "      <td>GeoData Consultants Ltd</td>\n",
              "      <td>VWC</td>\n",
              "      <td>Nyumba ya mungu pipe scheme</td>\n",
              "      <td>True</td>\n",
              "      <td>2009</td>\n",
              "      <td>gravity</td>\n",
              "      <td>gravity</td>\n",
              "      <td>gravity</td>\n",
              "      <td>vwc</td>\n",
              "      <td>user-group</td>\n",
              "      <td>pay per bucket</td>\n",
              "      <td>per bucket</td>\n",
              "      <td>soft</td>\n",
              "      <td>good</td>\n",
              "      <td>enough</td>\n",
              "      <td>enough</td>\n",
              "      <td>dam</td>\n",
              "      <td>dam</td>\n",
              "      <td>surface</td>\n",
              "      <td>communal standpipe multiple</td>\n",
              "      <td>communal standpipe</td>\n",
              "    </tr>\n",
              "  </tbody>\n",
              "</table>\n",
              "</div>"
            ],
            "text/plain": [
              "      id  amount_tsh  ...              waterpoint_type waterpoint_type_group\n",
              "0  69572      6000.0  ...           communal standpipe    communal standpipe\n",
              "1   8776         0.0  ...           communal standpipe    communal standpipe\n",
              "2  34310        25.0  ...  communal standpipe multiple    communal standpipe\n",
              "\n",
              "[3 rows x 40 columns]"
            ]
          },
          "metadata": {
            "tags": []
          },
          "execution_count": 46
        }
      ]
    },
    {
      "cell_type": "code",
      "metadata": {
        "id": "8sqmGzu9kTTm",
        "colab_type": "code",
        "outputId": "5a928069-ee08-426a-e568-9879d8fa5152",
        "colab": {
          "base_uri": "https://localhost:8080/",
          "height": 142
        }
      },
      "source": [
        "train_labels.head(3)"
      ],
      "execution_count": 0,
      "outputs": [
        {
          "output_type": "execute_result",
          "data": {
            "text/html": [
              "<div>\n",
              "<style scoped>\n",
              "    .dataframe tbody tr th:only-of-type {\n",
              "        vertical-align: middle;\n",
              "    }\n",
              "\n",
              "    .dataframe tbody tr th {\n",
              "        vertical-align: top;\n",
              "    }\n",
              "\n",
              "    .dataframe thead th {\n",
              "        text-align: right;\n",
              "    }\n",
              "</style>\n",
              "<table border=\"1\" class=\"dataframe\">\n",
              "  <thead>\n",
              "    <tr style=\"text-align: right;\">\n",
              "      <th></th>\n",
              "      <th>id</th>\n",
              "      <th>status_group</th>\n",
              "    </tr>\n",
              "  </thead>\n",
              "  <tbody>\n",
              "    <tr>\n",
              "      <th>0</th>\n",
              "      <td>69572</td>\n",
              "      <td>functional</td>\n",
              "    </tr>\n",
              "    <tr>\n",
              "      <th>1</th>\n",
              "      <td>8776</td>\n",
              "      <td>functional</td>\n",
              "    </tr>\n",
              "    <tr>\n",
              "      <th>2</th>\n",
              "      <td>34310</td>\n",
              "      <td>functional</td>\n",
              "    </tr>\n",
              "  </tbody>\n",
              "</table>\n",
              "</div>"
            ],
            "text/plain": [
              "      id status_group\n",
              "0  69572   functional\n",
              "1   8776   functional\n",
              "2  34310   functional"
            ]
          },
          "metadata": {
            "tags": []
          },
          "execution_count": 47
        }
      ]
    },
    {
      "cell_type": "code",
      "metadata": {
        "id": "wIUE4JJ2kWxG",
        "colab_type": "code",
        "outputId": "6928c50a-15ab-483e-d338-9af5748c1ff1",
        "colab": {
          "base_uri": "https://localhost:8080/",
          "height": 264
        }
      },
      "source": [
        "test_features.head(3)"
      ],
      "execution_count": 0,
      "outputs": [
        {
          "output_type": "execute_result",
          "data": {
            "text/html": [
              "<div>\n",
              "<style scoped>\n",
              "    .dataframe tbody tr th:only-of-type {\n",
              "        vertical-align: middle;\n",
              "    }\n",
              "\n",
              "    .dataframe tbody tr th {\n",
              "        vertical-align: top;\n",
              "    }\n",
              "\n",
              "    .dataframe thead th {\n",
              "        text-align: right;\n",
              "    }\n",
              "</style>\n",
              "<table border=\"1\" class=\"dataframe\">\n",
              "  <thead>\n",
              "    <tr style=\"text-align: right;\">\n",
              "      <th></th>\n",
              "      <th>id</th>\n",
              "      <th>amount_tsh</th>\n",
              "      <th>date_recorded</th>\n",
              "      <th>funder</th>\n",
              "      <th>gps_height</th>\n",
              "      <th>installer</th>\n",
              "      <th>longitude</th>\n",
              "      <th>latitude</th>\n",
              "      <th>wpt_name</th>\n",
              "      <th>num_private</th>\n",
              "      <th>basin</th>\n",
              "      <th>subvillage</th>\n",
              "      <th>region</th>\n",
              "      <th>region_code</th>\n",
              "      <th>district_code</th>\n",
              "      <th>lga</th>\n",
              "      <th>ward</th>\n",
              "      <th>population</th>\n",
              "      <th>public_meeting</th>\n",
              "      <th>recorded_by</th>\n",
              "      <th>scheme_management</th>\n",
              "      <th>scheme_name</th>\n",
              "      <th>permit</th>\n",
              "      <th>construction_year</th>\n",
              "      <th>extraction_type</th>\n",
              "      <th>extraction_type_group</th>\n",
              "      <th>extraction_type_class</th>\n",
              "      <th>management</th>\n",
              "      <th>management_group</th>\n",
              "      <th>payment</th>\n",
              "      <th>payment_type</th>\n",
              "      <th>water_quality</th>\n",
              "      <th>quality_group</th>\n",
              "      <th>quantity</th>\n",
              "      <th>quantity_group</th>\n",
              "      <th>source</th>\n",
              "      <th>source_type</th>\n",
              "      <th>source_class</th>\n",
              "      <th>waterpoint_type</th>\n",
              "      <th>waterpoint_type_group</th>\n",
              "    </tr>\n",
              "  </thead>\n",
              "  <tbody>\n",
              "    <tr>\n",
              "      <th>0</th>\n",
              "      <td>50785</td>\n",
              "      <td>0.0</td>\n",
              "      <td>2013-02-04</td>\n",
              "      <td>Dmdd</td>\n",
              "      <td>1996</td>\n",
              "      <td>DMDD</td>\n",
              "      <td>35.290799</td>\n",
              "      <td>-4.059696</td>\n",
              "      <td>Dinamu Secondary School</td>\n",
              "      <td>0</td>\n",
              "      <td>Internal</td>\n",
              "      <td>Magoma</td>\n",
              "      <td>Manyara</td>\n",
              "      <td>21</td>\n",
              "      <td>3</td>\n",
              "      <td>Mbulu</td>\n",
              "      <td>Bashay</td>\n",
              "      <td>321</td>\n",
              "      <td>True</td>\n",
              "      <td>GeoData Consultants Ltd</td>\n",
              "      <td>Parastatal</td>\n",
              "      <td>NaN</td>\n",
              "      <td>True</td>\n",
              "      <td>2012</td>\n",
              "      <td>other</td>\n",
              "      <td>other</td>\n",
              "      <td>other</td>\n",
              "      <td>parastatal</td>\n",
              "      <td>parastatal</td>\n",
              "      <td>never pay</td>\n",
              "      <td>never pay</td>\n",
              "      <td>soft</td>\n",
              "      <td>good</td>\n",
              "      <td>seasonal</td>\n",
              "      <td>seasonal</td>\n",
              "      <td>rainwater harvesting</td>\n",
              "      <td>rainwater harvesting</td>\n",
              "      <td>surface</td>\n",
              "      <td>other</td>\n",
              "      <td>other</td>\n",
              "    </tr>\n",
              "    <tr>\n",
              "      <th>1</th>\n",
              "      <td>51630</td>\n",
              "      <td>0.0</td>\n",
              "      <td>2013-02-04</td>\n",
              "      <td>Government Of Tanzania</td>\n",
              "      <td>1569</td>\n",
              "      <td>DWE</td>\n",
              "      <td>36.656709</td>\n",
              "      <td>-3.309214</td>\n",
              "      <td>Kimnyak</td>\n",
              "      <td>0</td>\n",
              "      <td>Pangani</td>\n",
              "      <td>Kimnyak</td>\n",
              "      <td>Arusha</td>\n",
              "      <td>2</td>\n",
              "      <td>2</td>\n",
              "      <td>Arusha Rural</td>\n",
              "      <td>Kimnyaki</td>\n",
              "      <td>300</td>\n",
              "      <td>True</td>\n",
              "      <td>GeoData Consultants Ltd</td>\n",
              "      <td>VWC</td>\n",
              "      <td>TPRI pipe line</td>\n",
              "      <td>True</td>\n",
              "      <td>2000</td>\n",
              "      <td>gravity</td>\n",
              "      <td>gravity</td>\n",
              "      <td>gravity</td>\n",
              "      <td>vwc</td>\n",
              "      <td>user-group</td>\n",
              "      <td>never pay</td>\n",
              "      <td>never pay</td>\n",
              "      <td>soft</td>\n",
              "      <td>good</td>\n",
              "      <td>insufficient</td>\n",
              "      <td>insufficient</td>\n",
              "      <td>spring</td>\n",
              "      <td>spring</td>\n",
              "      <td>groundwater</td>\n",
              "      <td>communal standpipe</td>\n",
              "      <td>communal standpipe</td>\n",
              "    </tr>\n",
              "    <tr>\n",
              "      <th>2</th>\n",
              "      <td>17168</td>\n",
              "      <td>0.0</td>\n",
              "      <td>2013-02-01</td>\n",
              "      <td>NaN</td>\n",
              "      <td>1567</td>\n",
              "      <td>NaN</td>\n",
              "      <td>34.767863</td>\n",
              "      <td>-5.004344</td>\n",
              "      <td>Puma Secondary</td>\n",
              "      <td>0</td>\n",
              "      <td>Internal</td>\n",
              "      <td>Msatu</td>\n",
              "      <td>Singida</td>\n",
              "      <td>13</td>\n",
              "      <td>2</td>\n",
              "      <td>Singida Rural</td>\n",
              "      <td>Puma</td>\n",
              "      <td>500</td>\n",
              "      <td>True</td>\n",
              "      <td>GeoData Consultants Ltd</td>\n",
              "      <td>VWC</td>\n",
              "      <td>P</td>\n",
              "      <td>NaN</td>\n",
              "      <td>2010</td>\n",
              "      <td>other</td>\n",
              "      <td>other</td>\n",
              "      <td>other</td>\n",
              "      <td>vwc</td>\n",
              "      <td>user-group</td>\n",
              "      <td>never pay</td>\n",
              "      <td>never pay</td>\n",
              "      <td>soft</td>\n",
              "      <td>good</td>\n",
              "      <td>insufficient</td>\n",
              "      <td>insufficient</td>\n",
              "      <td>rainwater harvesting</td>\n",
              "      <td>rainwater harvesting</td>\n",
              "      <td>surface</td>\n",
              "      <td>other</td>\n",
              "      <td>other</td>\n",
              "    </tr>\n",
              "  </tbody>\n",
              "</table>\n",
              "</div>"
            ],
            "text/plain": [
              "      id  amount_tsh  ...     waterpoint_type waterpoint_type_group\n",
              "0  50785         0.0  ...               other                 other\n",
              "1  51630         0.0  ...  communal standpipe    communal standpipe\n",
              "2  17168         0.0  ...               other                 other\n",
              "\n",
              "[3 rows x 40 columns]"
            ]
          },
          "metadata": {
            "tags": []
          },
          "execution_count": 48
        }
      ]
    },
    {
      "cell_type": "code",
      "metadata": {
        "id": "RjFww0-SkZwO",
        "colab_type": "code",
        "outputId": "aef2361b-d62a-41e2-81d3-1b64bc693716",
        "colab": {
          "base_uri": "https://localhost:8080/",
          "height": 142
        }
      },
      "source": [
        "sample_submission.head(3)"
      ],
      "execution_count": 0,
      "outputs": [
        {
          "output_type": "execute_result",
          "data": {
            "text/html": [
              "<div>\n",
              "<style scoped>\n",
              "    .dataframe tbody tr th:only-of-type {\n",
              "        vertical-align: middle;\n",
              "    }\n",
              "\n",
              "    .dataframe tbody tr th {\n",
              "        vertical-align: top;\n",
              "    }\n",
              "\n",
              "    .dataframe thead th {\n",
              "        text-align: right;\n",
              "    }\n",
              "</style>\n",
              "<table border=\"1\" class=\"dataframe\">\n",
              "  <thead>\n",
              "    <tr style=\"text-align: right;\">\n",
              "      <th></th>\n",
              "      <th>id</th>\n",
              "      <th>status_group</th>\n",
              "    </tr>\n",
              "  </thead>\n",
              "  <tbody>\n",
              "    <tr>\n",
              "      <th>0</th>\n",
              "      <td>50785</td>\n",
              "      <td>functional</td>\n",
              "    </tr>\n",
              "    <tr>\n",
              "      <th>1</th>\n",
              "      <td>51630</td>\n",
              "      <td>functional</td>\n",
              "    </tr>\n",
              "    <tr>\n",
              "      <th>2</th>\n",
              "      <td>17168</td>\n",
              "      <td>functional</td>\n",
              "    </tr>\n",
              "  </tbody>\n",
              "</table>\n",
              "</div>"
            ],
            "text/plain": [
              "      id status_group\n",
              "0  50785   functional\n",
              "1  51630   functional\n",
              "2  17168   functional"
            ]
          },
          "metadata": {
            "tags": []
          },
          "execution_count": 49
        }
      ]
    },
    {
      "cell_type": "code",
      "metadata": {
        "id": "8ShknN4AkchP",
        "colab_type": "code",
        "outputId": "3a91ebdb-dbb3-4b74-aaed-ab0e0f3139a5",
        "colab": {
          "base_uri": "https://localhost:8080/",
          "height": 297
        }
      },
      "source": [
        "train_features.describe()"
      ],
      "execution_count": 0,
      "outputs": [
        {
          "output_type": "execute_result",
          "data": {
            "text/html": [
              "<div>\n",
              "<style scoped>\n",
              "    .dataframe tbody tr th:only-of-type {\n",
              "        vertical-align: middle;\n",
              "    }\n",
              "\n",
              "    .dataframe tbody tr th {\n",
              "        vertical-align: top;\n",
              "    }\n",
              "\n",
              "    .dataframe thead th {\n",
              "        text-align: right;\n",
              "    }\n",
              "</style>\n",
              "<table border=\"1\" class=\"dataframe\">\n",
              "  <thead>\n",
              "    <tr style=\"text-align: right;\">\n",
              "      <th></th>\n",
              "      <th>id</th>\n",
              "      <th>amount_tsh</th>\n",
              "      <th>gps_height</th>\n",
              "      <th>longitude</th>\n",
              "      <th>latitude</th>\n",
              "      <th>num_private</th>\n",
              "      <th>region_code</th>\n",
              "      <th>district_code</th>\n",
              "      <th>population</th>\n",
              "      <th>construction_year</th>\n",
              "    </tr>\n",
              "  </thead>\n",
              "  <tbody>\n",
              "    <tr>\n",
              "      <th>count</th>\n",
              "      <td>59400.000000</td>\n",
              "      <td>59400.000000</td>\n",
              "      <td>59400.000000</td>\n",
              "      <td>59400.000000</td>\n",
              "      <td>5.940000e+04</td>\n",
              "      <td>59400.000000</td>\n",
              "      <td>59400.000000</td>\n",
              "      <td>59400.000000</td>\n",
              "      <td>59400.000000</td>\n",
              "      <td>59400.000000</td>\n",
              "    </tr>\n",
              "    <tr>\n",
              "      <th>mean</th>\n",
              "      <td>37115.131768</td>\n",
              "      <td>317.650385</td>\n",
              "      <td>668.297239</td>\n",
              "      <td>34.077427</td>\n",
              "      <td>-5.706033e+00</td>\n",
              "      <td>0.474141</td>\n",
              "      <td>15.297003</td>\n",
              "      <td>5.629747</td>\n",
              "      <td>179.909983</td>\n",
              "      <td>1300.652475</td>\n",
              "    </tr>\n",
              "    <tr>\n",
              "      <th>std</th>\n",
              "      <td>21453.128371</td>\n",
              "      <td>2997.574558</td>\n",
              "      <td>693.116350</td>\n",
              "      <td>6.567432</td>\n",
              "      <td>2.946019e+00</td>\n",
              "      <td>12.236230</td>\n",
              "      <td>17.587406</td>\n",
              "      <td>9.633649</td>\n",
              "      <td>471.482176</td>\n",
              "      <td>951.620547</td>\n",
              "    </tr>\n",
              "    <tr>\n",
              "      <th>min</th>\n",
              "      <td>0.000000</td>\n",
              "      <td>0.000000</td>\n",
              "      <td>-90.000000</td>\n",
              "      <td>0.000000</td>\n",
              "      <td>-1.164944e+01</td>\n",
              "      <td>0.000000</td>\n",
              "      <td>1.000000</td>\n",
              "      <td>0.000000</td>\n",
              "      <td>0.000000</td>\n",
              "      <td>0.000000</td>\n",
              "    </tr>\n",
              "    <tr>\n",
              "      <th>25%</th>\n",
              "      <td>18519.750000</td>\n",
              "      <td>0.000000</td>\n",
              "      <td>0.000000</td>\n",
              "      <td>33.090347</td>\n",
              "      <td>-8.540621e+00</td>\n",
              "      <td>0.000000</td>\n",
              "      <td>5.000000</td>\n",
              "      <td>2.000000</td>\n",
              "      <td>0.000000</td>\n",
              "      <td>0.000000</td>\n",
              "    </tr>\n",
              "    <tr>\n",
              "      <th>50%</th>\n",
              "      <td>37061.500000</td>\n",
              "      <td>0.000000</td>\n",
              "      <td>369.000000</td>\n",
              "      <td>34.908743</td>\n",
              "      <td>-5.021597e+00</td>\n",
              "      <td>0.000000</td>\n",
              "      <td>12.000000</td>\n",
              "      <td>3.000000</td>\n",
              "      <td>25.000000</td>\n",
              "      <td>1986.000000</td>\n",
              "    </tr>\n",
              "    <tr>\n",
              "      <th>75%</th>\n",
              "      <td>55656.500000</td>\n",
              "      <td>20.000000</td>\n",
              "      <td>1319.250000</td>\n",
              "      <td>37.178387</td>\n",
              "      <td>-3.326156e+00</td>\n",
              "      <td>0.000000</td>\n",
              "      <td>17.000000</td>\n",
              "      <td>5.000000</td>\n",
              "      <td>215.000000</td>\n",
              "      <td>2004.000000</td>\n",
              "    </tr>\n",
              "    <tr>\n",
              "      <th>max</th>\n",
              "      <td>74247.000000</td>\n",
              "      <td>350000.000000</td>\n",
              "      <td>2770.000000</td>\n",
              "      <td>40.345193</td>\n",
              "      <td>-2.000000e-08</td>\n",
              "      <td>1776.000000</td>\n",
              "      <td>99.000000</td>\n",
              "      <td>80.000000</td>\n",
              "      <td>30500.000000</td>\n",
              "      <td>2013.000000</td>\n",
              "    </tr>\n",
              "  </tbody>\n",
              "</table>\n",
              "</div>"
            ],
            "text/plain": [
              "                 id     amount_tsh  ...    population  construction_year\n",
              "count  59400.000000   59400.000000  ...  59400.000000       59400.000000\n",
              "mean   37115.131768     317.650385  ...    179.909983        1300.652475\n",
              "std    21453.128371    2997.574558  ...    471.482176         951.620547\n",
              "min        0.000000       0.000000  ...      0.000000           0.000000\n",
              "25%    18519.750000       0.000000  ...      0.000000           0.000000\n",
              "50%    37061.500000       0.000000  ...     25.000000        1986.000000\n",
              "75%    55656.500000      20.000000  ...    215.000000        2004.000000\n",
              "max    74247.000000  350000.000000  ...  30500.000000        2013.000000\n",
              "\n",
              "[8 rows x 10 columns]"
            ]
          },
          "metadata": {
            "tags": []
          },
          "execution_count": 50
        }
      ]
    },
    {
      "cell_type": "code",
      "metadata": {
        "id": "r1RffSFhkh-Y",
        "colab_type": "code",
        "outputId": "874cbc4f-7988-459c-8604-0daf0b0cb2ba",
        "colab": {
          "base_uri": "https://localhost:8080/",
          "height": 227
        }
      },
      "source": [
        "train_features.describe(exclude='number')"
      ],
      "execution_count": 0,
      "outputs": [
        {
          "output_type": "execute_result",
          "data": {
            "text/html": [
              "<div>\n",
              "<style scoped>\n",
              "    .dataframe tbody tr th:only-of-type {\n",
              "        vertical-align: middle;\n",
              "    }\n",
              "\n",
              "    .dataframe tbody tr th {\n",
              "        vertical-align: top;\n",
              "    }\n",
              "\n",
              "    .dataframe thead th {\n",
              "        text-align: right;\n",
              "    }\n",
              "</style>\n",
              "<table border=\"1\" class=\"dataframe\">\n",
              "  <thead>\n",
              "    <tr style=\"text-align: right;\">\n",
              "      <th></th>\n",
              "      <th>date_recorded</th>\n",
              "      <th>funder</th>\n",
              "      <th>installer</th>\n",
              "      <th>wpt_name</th>\n",
              "      <th>basin</th>\n",
              "      <th>subvillage</th>\n",
              "      <th>region</th>\n",
              "      <th>lga</th>\n",
              "      <th>ward</th>\n",
              "      <th>public_meeting</th>\n",
              "      <th>recorded_by</th>\n",
              "      <th>scheme_management</th>\n",
              "      <th>scheme_name</th>\n",
              "      <th>permit</th>\n",
              "      <th>extraction_type</th>\n",
              "      <th>extraction_type_group</th>\n",
              "      <th>extraction_type_class</th>\n",
              "      <th>management</th>\n",
              "      <th>management_group</th>\n",
              "      <th>payment</th>\n",
              "      <th>payment_type</th>\n",
              "      <th>water_quality</th>\n",
              "      <th>quality_group</th>\n",
              "      <th>quantity</th>\n",
              "      <th>quantity_group</th>\n",
              "      <th>source</th>\n",
              "      <th>source_type</th>\n",
              "      <th>source_class</th>\n",
              "      <th>waterpoint_type</th>\n",
              "      <th>waterpoint_type_group</th>\n",
              "    </tr>\n",
              "  </thead>\n",
              "  <tbody>\n",
              "    <tr>\n",
              "      <th>count</th>\n",
              "      <td>59400</td>\n",
              "      <td>55765</td>\n",
              "      <td>55745</td>\n",
              "      <td>59400</td>\n",
              "      <td>59400</td>\n",
              "      <td>59029</td>\n",
              "      <td>59400</td>\n",
              "      <td>59400</td>\n",
              "      <td>59400</td>\n",
              "      <td>56066</td>\n",
              "      <td>59400</td>\n",
              "      <td>55523</td>\n",
              "      <td>31234</td>\n",
              "      <td>56344</td>\n",
              "      <td>59400</td>\n",
              "      <td>59400</td>\n",
              "      <td>59400</td>\n",
              "      <td>59400</td>\n",
              "      <td>59400</td>\n",
              "      <td>59400</td>\n",
              "      <td>59400</td>\n",
              "      <td>59400</td>\n",
              "      <td>59400</td>\n",
              "      <td>59400</td>\n",
              "      <td>59400</td>\n",
              "      <td>59400</td>\n",
              "      <td>59400</td>\n",
              "      <td>59400</td>\n",
              "      <td>59400</td>\n",
              "      <td>59400</td>\n",
              "    </tr>\n",
              "    <tr>\n",
              "      <th>unique</th>\n",
              "      <td>356</td>\n",
              "      <td>1897</td>\n",
              "      <td>2145</td>\n",
              "      <td>37400</td>\n",
              "      <td>9</td>\n",
              "      <td>19287</td>\n",
              "      <td>21</td>\n",
              "      <td>125</td>\n",
              "      <td>2092</td>\n",
              "      <td>2</td>\n",
              "      <td>1</td>\n",
              "      <td>12</td>\n",
              "      <td>2696</td>\n",
              "      <td>2</td>\n",
              "      <td>18</td>\n",
              "      <td>13</td>\n",
              "      <td>7</td>\n",
              "      <td>12</td>\n",
              "      <td>5</td>\n",
              "      <td>7</td>\n",
              "      <td>7</td>\n",
              "      <td>8</td>\n",
              "      <td>6</td>\n",
              "      <td>5</td>\n",
              "      <td>5</td>\n",
              "      <td>10</td>\n",
              "      <td>7</td>\n",
              "      <td>3</td>\n",
              "      <td>7</td>\n",
              "      <td>6</td>\n",
              "    </tr>\n",
              "    <tr>\n",
              "      <th>top</th>\n",
              "      <td>2011-03-15</td>\n",
              "      <td>Government Of Tanzania</td>\n",
              "      <td>DWE</td>\n",
              "      <td>none</td>\n",
              "      <td>Lake Victoria</td>\n",
              "      <td>Madukani</td>\n",
              "      <td>Iringa</td>\n",
              "      <td>Njombe</td>\n",
              "      <td>Igosi</td>\n",
              "      <td>True</td>\n",
              "      <td>GeoData Consultants Ltd</td>\n",
              "      <td>VWC</td>\n",
              "      <td>K</td>\n",
              "      <td>True</td>\n",
              "      <td>gravity</td>\n",
              "      <td>gravity</td>\n",
              "      <td>gravity</td>\n",
              "      <td>vwc</td>\n",
              "      <td>user-group</td>\n",
              "      <td>never pay</td>\n",
              "      <td>never pay</td>\n",
              "      <td>soft</td>\n",
              "      <td>good</td>\n",
              "      <td>enough</td>\n",
              "      <td>enough</td>\n",
              "      <td>spring</td>\n",
              "      <td>spring</td>\n",
              "      <td>groundwater</td>\n",
              "      <td>communal standpipe</td>\n",
              "      <td>communal standpipe</td>\n",
              "    </tr>\n",
              "    <tr>\n",
              "      <th>freq</th>\n",
              "      <td>572</td>\n",
              "      <td>9084</td>\n",
              "      <td>17402</td>\n",
              "      <td>3563</td>\n",
              "      <td>10248</td>\n",
              "      <td>508</td>\n",
              "      <td>5294</td>\n",
              "      <td>2503</td>\n",
              "      <td>307</td>\n",
              "      <td>51011</td>\n",
              "      <td>59400</td>\n",
              "      <td>36793</td>\n",
              "      <td>682</td>\n",
              "      <td>38852</td>\n",
              "      <td>26780</td>\n",
              "      <td>26780</td>\n",
              "      <td>26780</td>\n",
              "      <td>40507</td>\n",
              "      <td>52490</td>\n",
              "      <td>25348</td>\n",
              "      <td>25348</td>\n",
              "      <td>50818</td>\n",
              "      <td>50818</td>\n",
              "      <td>33186</td>\n",
              "      <td>33186</td>\n",
              "      <td>17021</td>\n",
              "      <td>17021</td>\n",
              "      <td>45794</td>\n",
              "      <td>28522</td>\n",
              "      <td>34625</td>\n",
              "    </tr>\n",
              "  </tbody>\n",
              "</table>\n",
              "</div>"
            ],
            "text/plain": [
              "       date_recorded  ... waterpoint_type_group\n",
              "count          59400  ...                 59400\n",
              "unique           356  ...                     6\n",
              "top       2011-03-15  ...    communal standpipe\n",
              "freq             572  ...                 34625\n",
              "\n",
              "[4 rows x 30 columns]"
            ]
          },
          "metadata": {
            "tags": []
          },
          "execution_count": 51
        }
      ]
    },
    {
      "cell_type": "markdown",
      "metadata": {
        "id": "6Qc9bYDBm9XS",
        "colab_type": "text"
      },
      "source": [
        "### Get majority class baseline\n",
        "\n",
        "[Will Koehrsen](https://twitter.com/koehrsen_will/status/1088863527778111488)\n",
        "\n",
        "> A baseline for classification can be the most common class in the training dataset.\n",
        "\n",
        "[*Data Science for Business*](https://books.google.com/books?id=4ZctAAAAQBAJ&pg=PT276), Chapter 7.3: Evaluation, Baseline Performance, and Implications for Investments in Data\n",
        "\n",
        "> For classification tasks, one good baseline is the _majority classifier_, a naive classifier that always chooses the majority class of the training dataset (see Note: Base rate in Holdout Data and Fitting Graphs). This may seem like advice so obvious it can be passed over quickly, but it is worth spending an extra moment here. There are many cases where smart, analytical people have been tripped up in skipping over this basic comparison. For example, an analyst may see a classification accuracy of 94% from her classifier and conclude that it is doing fairly well—when in fact only 6% of the instances are positive. So, the simple majority prediction classifier also would have an accuracy of 94%. "
      ]
    },
    {
      "cell_type": "markdown",
      "metadata": {
        "id": "ff3brFGSk5H_",
        "colab_type": "text"
      },
      "source": [
        "**Determine Majority Class:**"
      ]
    },
    {
      "cell_type": "code",
      "metadata": {
        "id": "tQBZtgsIk8dr",
        "colab_type": "code",
        "outputId": "aad73d2c-d88f-463b-a049-487b77bda92c",
        "colab": {
          "base_uri": "https://localhost:8080/",
          "height": 204
        }
      },
      "source": [
        "train_features.columns"
      ],
      "execution_count": 0,
      "outputs": [
        {
          "output_type": "execute_result",
          "data": {
            "text/plain": [
              "Index(['id', 'amount_tsh', 'date_recorded', 'funder', 'gps_height',\n",
              "       'installer', 'longitude', 'latitude', 'wpt_name', 'num_private',\n",
              "       'basin', 'subvillage', 'region', 'region_code', 'district_code', 'lga',\n",
              "       'ward', 'population', 'public_meeting', 'recorded_by',\n",
              "       'scheme_management', 'scheme_name', 'permit', 'construction_year',\n",
              "       'extraction_type', 'extraction_type_group', 'extraction_type_class',\n",
              "       'management', 'management_group', 'payment', 'payment_type',\n",
              "       'water_quality', 'quality_group', 'quantity', 'quantity_group',\n",
              "       'source', 'source_type', 'source_class', 'waterpoint_type',\n",
              "       'waterpoint_type_group'],\n",
              "      dtype='object')"
            ]
          },
          "metadata": {
            "tags": []
          },
          "execution_count": 52
        }
      ]
    },
    {
      "cell_type": "code",
      "metadata": {
        "id": "Nd9187Qvlw3J",
        "colab_type": "code",
        "outputId": "9a2733a0-06a9-4757-b001-a93853ad0e10",
        "colab": {
          "base_uri": "https://localhost:8080/",
          "height": 85
        }
      },
      "source": [
        "y_train = train_labels['status_group']\n",
        "y_train.value_counts()"
      ],
      "execution_count": 0,
      "outputs": [
        {
          "output_type": "execute_result",
          "data": {
            "text/plain": [
              "functional                 32259\n",
              "non functional             22824\n",
              "functional needs repair     4317\n",
              "Name: status_group, dtype: int64"
            ]
          },
          "metadata": {
            "tags": []
          },
          "execution_count": 53
        }
      ]
    },
    {
      "cell_type": "code",
      "metadata": {
        "id": "veqPulr9mCW0",
        "colab_type": "code",
        "outputId": "84ae062d-5bc4-4629-9305-7229c522bb24",
        "colab": {
          "base_uri": "https://localhost:8080/",
          "height": 85
        }
      },
      "source": [
        "y_train.value_counts(normalize=True)"
      ],
      "execution_count": 0,
      "outputs": [
        {
          "output_type": "execute_result",
          "data": {
            "text/plain": [
              "functional                 0.543081\n",
              "non functional             0.384242\n",
              "functional needs repair    0.072677\n",
              "Name: status_group, dtype: float64"
            ]
          },
          "metadata": {
            "tags": []
          },
          "execution_count": 54
        }
      ]
    },
    {
      "cell_type": "markdown",
      "metadata": {
        "id": "GxOksvoBnDws",
        "colab_type": "text"
      },
      "source": [
        "#### What if we guessed the majority class for every prediction?"
      ]
    },
    {
      "cell_type": "code",
      "metadata": {
        "id": "jFAKTaD-m2GH",
        "colab_type": "code",
        "colab": {}
      },
      "source": [
        "majority_class = y_train.mode()[0]"
      ],
      "execution_count": 0,
      "outputs": []
    },
    {
      "cell_type": "code",
      "metadata": {
        "id": "J4UEl0ddnLje",
        "colab_type": "code",
        "colab": {}
      },
      "source": [
        "y_pred = [majority_class] * len(y_train)"
      ],
      "execution_count": 0,
      "outputs": []
    },
    {
      "cell_type": "code",
      "metadata": {
        "id": "AH4ZN0cenavX",
        "colab_type": "code",
        "colab": {}
      },
      "source": [
        "from sklearn.metrics import accuracy_score"
      ],
      "execution_count": 0,
      "outputs": []
    },
    {
      "cell_type": "code",
      "metadata": {
        "id": "ZMAJV2PTn7pM",
        "colab_type": "code",
        "outputId": "2c681aef-e0dd-467a-9228-79eb7fd1cd4b",
        "colab": {
          "base_uri": "https://localhost:8080/",
          "height": 34
        }
      },
      "source": [
        "accuracy_score(y_train, y_pred)"
      ],
      "execution_count": 0,
      "outputs": [
        {
          "output_type": "execute_result",
          "data": {
            "text/plain": [
              "0.543080808080808"
            ]
          },
          "metadata": {
            "tags": []
          },
          "execution_count": 58
        }
      ]
    },
    {
      "cell_type": "markdown",
      "metadata": {
        "id": "KlgT5t-Vof39",
        "colab_type": "text"
      },
      "source": [
        "## Do train/validate/test split"
      ]
    },
    {
      "cell_type": "markdown",
      "metadata": {
        "id": "R4dlsSjoorLA",
        "colab_type": "text"
      },
      "source": [
        "#### We have two options for where we choose to split:\n",
        "- Time\n",
        "- Random\n",
        "\n",
        "To split on time, we can use pandas.\n",
        "\n",
        "To split randomly, we can use the [**`sklearn.model_selection.train_test_split`**](https://scikit-learn.org/stable/modules/generated/sklearn.model_selection.train_test_split.html) function."
      ]
    },
    {
      "cell_type": "code",
      "metadata": {
        "id": "OJSmbizYoEs_",
        "colab_type": "code",
        "colab": {}
      },
      "source": [
        "from sklearn.model_selection import train_test_split"
      ],
      "execution_count": 0,
      "outputs": []
    },
    {
      "cell_type": "code",
      "metadata": {
        "id": "3Yo1nEbuoqFi",
        "colab_type": "code",
        "colab": {}
      },
      "source": [
        "X_train = train_features\n",
        "y_train = train_labels['status_group']"
      ],
      "execution_count": 0,
      "outputs": []
    },
    {
      "cell_type": "code",
      "metadata": {
        "id": "1aiLiadho6bj",
        "colab_type": "code",
        "colab": {}
      },
      "source": [
        "X_train, X_val, y_train, y_val = train_test_split(\n",
        "  X_train, y_train, train_size=0.80, test_size=0.20,\n",
        "  stratify=y_train, random_state =42)"
      ],
      "execution_count": 0,
      "outputs": []
    },
    {
      "cell_type": "code",
      "metadata": {
        "id": "g_Cd75VUpQwn",
        "colab_type": "code",
        "outputId": "b8e39935-a646-4107-e3c7-2a516dd23f88",
        "colab": {
          "base_uri": "https://localhost:8080/",
          "height": 34
        }
      },
      "source": [
        "X_train.shape, X_val.shape, y_train.shape, y_val.shape"
      ],
      "execution_count": 0,
      "outputs": [
        {
          "output_type": "execute_result",
          "data": {
            "text/plain": [
              "((47520, 40), (11880, 40), (47520,), (11880,))"
            ]
          },
          "metadata": {
            "tags": []
          },
          "execution_count": 62
        }
      ]
    },
    {
      "cell_type": "code",
      "metadata": {
        "id": "uhPydMzFpV0X",
        "colab_type": "code",
        "outputId": "a769f813-2b49-403f-ee8c-82eadc00dbcc",
        "colab": {
          "base_uri": "https://localhost:8080/",
          "height": 85
        }
      },
      "source": [
        "y_train.value_counts(normalize=True)"
      ],
      "execution_count": 0,
      "outputs": [
        {
          "output_type": "execute_result",
          "data": {
            "text/plain": [
              "functional                 0.543077\n",
              "non functional             0.384238\n",
              "functional needs repair    0.072685\n",
              "Name: status_group, dtype: float64"
            ]
          },
          "metadata": {
            "tags": []
          },
          "execution_count": 63
        }
      ]
    },
    {
      "cell_type": "code",
      "metadata": {
        "id": "lcccEWLypboS",
        "colab_type": "code",
        "outputId": "1e87f8e6-39d6-49f2-a1ef-b809692bb4c2",
        "colab": {
          "base_uri": "https://localhost:8080/",
          "height": 85
        }
      },
      "source": [
        "y_val.value_counts(normalize=True)"
      ],
      "execution_count": 0,
      "outputs": [
        {
          "output_type": "execute_result",
          "data": {
            "text/plain": [
              "functional                 0.543098\n",
              "non functional             0.384259\n",
              "functional needs repair    0.072643\n",
              "Name: status_group, dtype: float64"
            ]
          },
          "metadata": {
            "tags": []
          },
          "execution_count": 64
        }
      ]
    },
    {
      "cell_type": "markdown",
      "metadata": {
        "id": "5VwFwHmSqvMZ",
        "colab_type": "text"
      },
      "source": [
        "## Use scikit-learn for logistic regression"
      ]
    },
    {
      "cell_type": "markdown",
      "metadata": {
        "id": "c03yI0-gqy9Y",
        "colab_type": "text"
      },
      "source": [
        "### Begin with baselines: fast, first models\n",
        "\n",
        "#### Drop non-numeric features"
      ]
    },
    {
      "cell_type": "code",
      "metadata": {
        "id": "Hkvo2MBqpfnw",
        "colab_type": "code",
        "colab": {}
      },
      "source": [
        "X_train_numeric = X_train.select_dtypes('number')\n",
        "X_val_numeric = X_val.select_dtypes('number')"
      ],
      "execution_count": 0,
      "outputs": []
    },
    {
      "cell_type": "markdown",
      "metadata": {
        "id": "EsXNLK_LrFuS",
        "colab_type": "text"
      },
      "source": [
        "#### Drop nulls if necessary"
      ]
    },
    {
      "cell_type": "code",
      "metadata": {
        "id": "HkMr64hcrCTd",
        "colab_type": "code",
        "outputId": "01d9c000-06d2-40e0-e88c-3d2615513ca7",
        "colab": {
          "base_uri": "https://localhost:8080/",
          "height": 204
        }
      },
      "source": [
        "X_train_numeric.isnull().sum()"
      ],
      "execution_count": 0,
      "outputs": [
        {
          "output_type": "execute_result",
          "data": {
            "text/plain": [
              "id                   0\n",
              "amount_tsh           0\n",
              "gps_height           0\n",
              "longitude            0\n",
              "latitude             0\n",
              "num_private          0\n",
              "region_code          0\n",
              "district_code        0\n",
              "population           0\n",
              "construction_year    0\n",
              "dtype: int64"
            ]
          },
          "metadata": {
            "tags": []
          },
          "execution_count": 66
        }
      ]
    },
    {
      "cell_type": "markdown",
      "metadata": {
        "id": "nB6c0vSNrPnJ",
        "colab_type": "text"
      },
      "source": [
        "#### Fit Logistic Regresson on train data"
      ]
    },
    {
      "cell_type": "code",
      "metadata": {
        "id": "pYmmQl27rLaN",
        "colab_type": "code",
        "colab": {}
      },
      "source": [
        "from sklearn.linear_model import LogisticRegression"
      ],
      "execution_count": 0,
      "outputs": []
    },
    {
      "cell_type": "code",
      "metadata": {
        "id": "GS2sZ47WrQQX",
        "colab_type": "code",
        "colab": {}
      },
      "source": [
        "model = LogisticRegression(solver='lbfgs', multi_class='auto', max_iter=1000)"
      ],
      "execution_count": 0,
      "outputs": []
    },
    {
      "cell_type": "code",
      "metadata": {
        "id": "7TALdm6YrhHo",
        "colab_type": "code",
        "outputId": "7af28b76-71af-427d-fef2-626a11f0bd9b",
        "colab": {
          "base_uri": "https://localhost:8080/",
          "height": 156
        }
      },
      "source": [
        "model.fit(X_train_numeric, y_train)"
      ],
      "execution_count": 0,
      "outputs": [
        {
          "output_type": "stream",
          "text": [
            "/usr/local/lib/python3.6/dist-packages/sklearn/linear_model/logistic.py:947: ConvergenceWarning: lbfgs failed to converge. Increase the number of iterations.\n",
            "  \"of iterations.\", ConvergenceWarning)\n"
          ],
          "name": "stderr"
        },
        {
          "output_type": "execute_result",
          "data": {
            "text/plain": [
              "LogisticRegression(C=1.0, class_weight=None, dual=False, fit_intercept=True,\n",
              "                   intercept_scaling=1, l1_ratio=None, max_iter=1000,\n",
              "                   multi_class='auto', n_jobs=None, penalty='l2',\n",
              "                   random_state=None, solver='lbfgs', tol=0.0001, verbose=0,\n",
              "                   warm_start=False)"
            ]
          },
          "metadata": {
            "tags": []
          },
          "execution_count": 69
        }
      ]
    },
    {
      "cell_type": "markdown",
      "metadata": {
        "id": "zZkT4PhFrpKT",
        "colab_type": "text"
      },
      "source": [
        "#### Evaluate on validation data"
      ]
    },
    {
      "cell_type": "code",
      "metadata": {
        "id": "YT0PRguOArsa",
        "colab_type": "code",
        "outputId": "7be86224-7b6f-44a3-f57d-4b1cb5b9a1c7",
        "colab": {
          "base_uri": "https://localhost:8080/",
          "height": 51
        }
      },
      "source": [
        "model.predict(X_val_numeric)"
      ],
      "execution_count": 0,
      "outputs": [
        {
          "output_type": "execute_result",
          "data": {
            "text/plain": [
              "array(['functional', 'functional', 'functional', ..., 'functional',\n",
              "       'functional', 'non functional'], dtype=object)"
            ]
          },
          "metadata": {
            "tags": []
          },
          "execution_count": 75
        }
      ]
    },
    {
      "cell_type": "code",
      "metadata": {
        "id": "TxmyUuiCrmN5",
        "colab_type": "code",
        "outputId": "bf254eb4-8a32-407a-e053-10460fbce360",
        "colab": {
          "base_uri": "https://localhost:8080/",
          "height": 34
        }
      },
      "source": [
        "y_pred = model.predict(X_val_numeric)\n",
        "accuracy_score(y_val, y_pred)"
      ],
      "execution_count": 0,
      "outputs": [
        {
          "output_type": "execute_result",
          "data": {
            "text/plain": [
              "0.5546296296296296"
            ]
          },
          "metadata": {
            "tags": []
          },
          "execution_count": 70
        }
      ]
    },
    {
      "cell_type": "code",
      "metadata": {
        "id": "QJKDqa13rp_n",
        "colab_type": "code",
        "outputId": "f88b41b2-db12-472d-d498-29ec7505b951",
        "colab": {
          "base_uri": "https://localhost:8080/",
          "height": 34
        }
      },
      "source": [
        "model.score(X_val_numeric, y_val)"
      ],
      "execution_count": 0,
      "outputs": [
        {
          "output_type": "execute_result",
          "data": {
            "text/plain": [
              "0.5546296296296296"
            ]
          },
          "metadata": {
            "tags": []
          },
          "execution_count": 71
        }
      ]
    },
    {
      "cell_type": "markdown",
      "metadata": {
        "id": "YI22riTCr5qj",
        "colab_type": "text"
      },
      "source": [
        "#### What predictions does a Logistic Regression return?"
      ]
    },
    {
      "cell_type": "code",
      "metadata": {
        "id": "QhiYyXTcr0nL",
        "colab_type": "code",
        "outputId": "b5636d15-46d7-4890-ab59-b6f9124fbe1a",
        "colab": {
          "base_uri": "https://localhost:8080/",
          "height": 68
        }
      },
      "source": [
        "pd.Series(y_pred).value_counts()"
      ],
      "execution_count": 0,
      "outputs": [
        {
          "output_type": "execute_result",
          "data": {
            "text/plain": [
              "functional        10800\n",
              "non functional     1080\n",
              "dtype: int64"
            ]
          },
          "metadata": {
            "tags": []
          },
          "execution_count": 72
        }
      ]
    },
    {
      "cell_type": "code",
      "metadata": {
        "id": "mbTUX1IKr-g9",
        "colab_type": "code",
        "outputId": "89ff12a5-0436-42cb-f201-8018c6d48c6c",
        "colab": {
          "base_uri": "https://localhost:8080/",
          "height": 51
        }
      },
      "source": [
        "y_pred"
      ],
      "execution_count": 0,
      "outputs": [
        {
          "output_type": "execute_result",
          "data": {
            "text/plain": [
              "array(['functional', 'functional', 'functional', ..., 'functional',\n",
              "       'functional', 'non functional'], dtype=object)"
            ]
          },
          "metadata": {
            "tags": []
          },
          "execution_count": 73
        }
      ]
    },
    {
      "cell_type": "code",
      "metadata": {
        "id": "kkZ2I9rxsNd3",
        "colab_type": "code",
        "outputId": "d013c841-4ea3-4f0c-e2fa-199d9e174484",
        "colab": {
          "base_uri": "https://localhost:8080/",
          "height": 136
        }
      },
      "source": [
        "y_pred_proba = model.predict_proba(X_val_numeric)\n",
        "y_pred_proba"
      ],
      "execution_count": 0,
      "outputs": [
        {
          "output_type": "execute_result",
          "data": {
            "text/plain": [
              "array([[0.49945889, 0.07419516, 0.42634595],\n",
              "       [0.66388077, 0.08727128, 0.24884795],\n",
              "       [0.5829407 , 0.07133899, 0.34572031],\n",
              "       ...,\n",
              "       [0.53203411, 0.06999972, 0.39796617],\n",
              "       [0.65347997, 0.05874194, 0.28777809],\n",
              "       [0.30706702, 0.02297016, 0.66996282]])"
            ]
          },
          "metadata": {
            "tags": []
          },
          "execution_count": 77
        }
      ]
    },
    {
      "cell_type": "code",
      "metadata": {
        "id": "FXvMw1Tbs5jV",
        "colab_type": "code",
        "outputId": "76b2638e-229a-4996-fd8f-de26dfd97f35",
        "colab": {
          "base_uri": "https://localhost:8080/",
          "height": 34
        }
      },
      "source": [
        "y_pred_proba.sum(axis=1)"
      ],
      "execution_count": 0,
      "outputs": [
        {
          "output_type": "execute_result",
          "data": {
            "text/plain": [
              "array([1., 1., 1., ..., 1., 1., 1.])"
            ]
          },
          "metadata": {
            "tags": []
          },
          "execution_count": 78
        }
      ]
    },
    {
      "cell_type": "code",
      "metadata": {
        "id": "ao0sly1qB_OT",
        "colab_type": "code",
        "outputId": "70d24dc3-aa5b-4af1-a378-0e5ccb9b01e3",
        "colab": {
          "base_uri": "https://localhost:8080/",
          "height": 34
        }
      },
      "source": [
        "(y_pred_proba.sum(axis=1))==1"
      ],
      "execution_count": 0,
      "outputs": [
        {
          "output_type": "execute_result",
          "data": {
            "text/plain": [
              "array([ True, False,  True, ...,  True,  True,  True])"
            ]
          },
          "metadata": {
            "tags": []
          },
          "execution_count": 79
        }
      ]
    },
    {
      "cell_type": "code",
      "metadata": {
        "id": "tk60ufGpCHDR",
        "colab_type": "code",
        "outputId": "4c1951cb-8910-4fdf-fd0e-74030f5b6ce1",
        "colab": {
          "base_uri": "https://localhost:8080/",
          "height": 51
        }
      },
      "source": [
        "proba_functional = y_pred_proba[:,0]\n",
        "proba_functional"
      ],
      "execution_count": 0,
      "outputs": [
        {
          "output_type": "execute_result",
          "data": {
            "text/plain": [
              "array([0.49945889, 0.66388077, 0.5829407 , ..., 0.53203411, 0.65347997,\n",
              "       0.30706702])"
            ]
          },
          "metadata": {
            "tags": []
          },
          "execution_count": 85
        }
      ]
    },
    {
      "cell_type": "code",
      "metadata": {
        "id": "4NLROAPwCtum",
        "colab_type": "code",
        "outputId": "0b4a8b73-c292-433b-b277-7c2a50370bc6",
        "colab": {
          "base_uri": "https://localhost:8080/",
          "height": 51
        }
      },
      "source": [
        "proba_functional_needs_repair = y_pred_proba[:,1]\n",
        "proba_functional_needs_repair"
      ],
      "execution_count": 0,
      "outputs": [
        {
          "output_type": "execute_result",
          "data": {
            "text/plain": [
              "array([0.07419516, 0.08727128, 0.07133899, ..., 0.06999972, 0.05874194,\n",
              "       0.02297016])"
            ]
          },
          "metadata": {
            "tags": []
          },
          "execution_count": 81
        }
      ]
    },
    {
      "cell_type": "code",
      "metadata": {
        "id": "bFn7JlzdCt4t",
        "colab_type": "code",
        "outputId": "54505037-0c35-4b42-da39-972ea2c3a7cd",
        "colab": {
          "base_uri": "https://localhost:8080/",
          "height": 51
        }
      },
      "source": [
        "proba_non_functional = y_pred_proba[:,2]\n",
        "proba_non_functional"
      ],
      "execution_count": 0,
      "outputs": [
        {
          "output_type": "execute_result",
          "data": {
            "text/plain": [
              "array([0.42634595, 0.24884795, 0.34572031, ..., 0.39796617, 0.28777809,\n",
              "       0.66996282])"
            ]
          },
          "metadata": {
            "tags": []
          },
          "execution_count": 82
        }
      ]
    },
    {
      "cell_type": "code",
      "metadata": {
        "id": "YzfGh1q7DIDS",
        "colab_type": "code",
        "colab": {}
      },
      "source": [
        "pd.set_option('display.float_format', '{:.2f}'.format)"
      ],
      "execution_count": 0,
      "outputs": []
    },
    {
      "cell_type": "code",
      "metadata": {
        "id": "7hm-W42sDLCY",
        "colab_type": "code",
        "outputId": "e7a636a6-c6e5-4346-d51f-4c8accff0930",
        "colab": {
          "base_uri": "https://localhost:8080/",
          "height": 297
        }
      },
      "source": [
        "pd.DataFrame({'Functional': proba_functional, \n",
        "              'Functional Needs Repair': proba_functional_needs_repair, \n",
        "              'Non Functional': proba_non_functional}).describe()"
      ],
      "execution_count": 0,
      "outputs": [
        {
          "output_type": "execute_result",
          "data": {
            "text/html": [
              "<div>\n",
              "<style scoped>\n",
              "    .dataframe tbody tr th:only-of-type {\n",
              "        vertical-align: middle;\n",
              "    }\n",
              "\n",
              "    .dataframe tbody tr th {\n",
              "        vertical-align: top;\n",
              "    }\n",
              "\n",
              "    .dataframe thead th {\n",
              "        text-align: right;\n",
              "    }\n",
              "</style>\n",
              "<table border=\"1\" class=\"dataframe\">\n",
              "  <thead>\n",
              "    <tr style=\"text-align: right;\">\n",
              "      <th></th>\n",
              "      <th>Functional</th>\n",
              "      <th>Functional Needs Repair</th>\n",
              "      <th>Non Functional</th>\n",
              "    </tr>\n",
              "  </thead>\n",
              "  <tbody>\n",
              "    <tr>\n",
              "      <th>count</th>\n",
              "      <td>11880.00</td>\n",
              "      <td>11880.00</td>\n",
              "      <td>11880.00</td>\n",
              "    </tr>\n",
              "    <tr>\n",
              "      <th>mean</th>\n",
              "      <td>0.54</td>\n",
              "      <td>0.07</td>\n",
              "      <td>0.38</td>\n",
              "    </tr>\n",
              "    <tr>\n",
              "      <th>std</th>\n",
              "      <td>0.09</td>\n",
              "      <td>0.04</td>\n",
              "      <td>0.08</td>\n",
              "    </tr>\n",
              "    <tr>\n",
              "      <th>min</th>\n",
              "      <td>0.27</td>\n",
              "      <td>0.00</td>\n",
              "      <td>0.00</td>\n",
              "    </tr>\n",
              "    <tr>\n",
              "      <th>25%</th>\n",
              "      <td>0.51</td>\n",
              "      <td>0.06</td>\n",
              "      <td>0.35</td>\n",
              "    </tr>\n",
              "    <tr>\n",
              "      <th>50%</th>\n",
              "      <td>0.54</td>\n",
              "      <td>0.07</td>\n",
              "      <td>0.39</td>\n",
              "    </tr>\n",
              "    <tr>\n",
              "      <th>75%</th>\n",
              "      <td>0.59</td>\n",
              "      <td>0.07</td>\n",
              "      <td>0.41</td>\n",
              "    </tr>\n",
              "    <tr>\n",
              "      <th>max</th>\n",
              "      <td>1.00</td>\n",
              "      <td>0.29</td>\n",
              "      <td>0.71</td>\n",
              "    </tr>\n",
              "  </tbody>\n",
              "</table>\n",
              "</div>"
            ],
            "text/plain": [
              "       Functional  Functional Needs Repair  Non Functional\n",
              "count    11880.00                 11880.00        11880.00\n",
              "mean         0.54                     0.07            0.38\n",
              "std          0.09                     0.04            0.08\n",
              "min          0.27                     0.00            0.00\n",
              "25%          0.51                     0.06            0.35\n",
              "50%          0.54                     0.07            0.39\n",
              "75%          0.59                     0.07            0.41\n",
              "max          1.00                     0.29            0.71"
            ]
          },
          "metadata": {
            "tags": []
          },
          "execution_count": 86
        }
      ]
    },
    {
      "cell_type": "markdown",
      "metadata": {
        "id": "V1IC6TWWDYUL",
        "colab_type": "text"
      },
      "source": [
        "## Do one-hot encoding of categorical features"
      ]
    },
    {
      "cell_type": "code",
      "metadata": {
        "id": "2ufpZZ5UDa8J",
        "colab_type": "code",
        "outputId": "49e3eae3-894a-4469-dd77-768ee4abba92",
        "colab": {
          "base_uri": "https://localhost:8080/",
          "height": 292
        }
      },
      "source": [
        "!pip install category_encoders"
      ],
      "execution_count": 0,
      "outputs": [
        {
          "output_type": "stream",
          "text": [
            "Collecting category_encoders\n",
            "\u001b[?25l  Downloading https://files.pythonhosted.org/packages/6e/a1/f7a22f144f33be78afeb06bfa78478e8284a64263a3c09b1ef54e673841e/category_encoders-2.0.0-py2.py3-none-any.whl (87kB)\n",
            "\u001b[K     |████████████████████████████████| 92kB 3.3MB/s \n",
            "\u001b[?25hRequirement already satisfied: numpy>=1.11.3 in /usr/local/lib/python3.6/dist-packages (from category_encoders) (1.16.4)\n",
            "Requirement already satisfied: statsmodels>=0.6.1 in /usr/local/lib/python3.6/dist-packages (from category_encoders) (0.9.0)\n",
            "Requirement already satisfied: pandas>=0.21.1 in /usr/local/lib/python3.6/dist-packages (from category_encoders) (0.24.2)\n",
            "Requirement already satisfied: patsy>=0.4.1 in /usr/local/lib/python3.6/dist-packages (from category_encoders) (0.5.1)\n",
            "Requirement already satisfied: scikit-learn>=0.20.0 in /usr/local/lib/python3.6/dist-packages (from category_encoders) (0.21.2)\n",
            "Requirement already satisfied: scipy>=0.19.0 in /usr/local/lib/python3.6/dist-packages (from category_encoders) (1.3.0)\n",
            "Requirement already satisfied: pytz>=2011k in /usr/local/lib/python3.6/dist-packages (from pandas>=0.21.1->category_encoders) (2018.9)\n",
            "Requirement already satisfied: python-dateutil>=2.5.0 in /usr/local/lib/python3.6/dist-packages (from pandas>=0.21.1->category_encoders) (2.5.3)\n",
            "Requirement already satisfied: six in /usr/local/lib/python3.6/dist-packages (from patsy>=0.4.1->category_encoders) (1.12.0)\n",
            "Requirement already satisfied: joblib>=0.11 in /usr/local/lib/python3.6/dist-packages (from scikit-learn>=0.20.0->category_encoders) (0.13.2)\n",
            "Installing collected packages: category-encoders\n",
            "Successfully installed category-encoders-2.0.0\n"
          ],
          "name": "stdout"
        }
      ]
    },
    {
      "cell_type": "code",
      "metadata": {
        "id": "1ZNNlBMfELlD",
        "colab_type": "code",
        "colab": {}
      },
      "source": [
        "import category_encoders as ce"
      ],
      "execution_count": 0,
      "outputs": []
    },
    {
      "cell_type": "markdown",
      "metadata": {
        "id": "y1AuoNR-BO-N",
        "colab_type": "text"
      },
      "source": [
        "### Check \"cardinality\" of categorical features\n",
        "\n",
        "[Cardinality](https://simple.wikipedia.org/wiki/Cardinality) means the number of unique values that a feature has:\n",
        "> In mathematics, the cardinality of a set means the number of its elements. For example, the set A = {2, 4, 6} contains 3 elements, and therefore A has a cardinality of 3. \n",
        "\n",
        "One-hot encoding adds a dimension for each unique value of each categorical feature. So, it may not be a good choice for \"high cardinality\" categoricals that have dozens, hundreds, or thousands of unique values. "
      ]
    },
    {
      "cell_type": "markdown",
      "metadata": {
        "id": "7c9QZUQpIgSy",
        "colab_type": "text"
      },
      "source": [
        "### Explore `quantity` feature"
      ]
    },
    {
      "cell_type": "code",
      "metadata": {
        "id": "QoZP5vaLENzw",
        "colab_type": "code",
        "outputId": "697a6708-1920-4671-fcd1-9dd36e991172",
        "colab": {
          "base_uri": "https://localhost:8080/",
          "height": 979
        }
      },
      "source": [
        "X_train.describe(exclude='number').T.sort_values(by='unique')"
      ],
      "execution_count": 0,
      "outputs": [
        {
          "output_type": "execute_result",
          "data": {
            "text/html": [
              "<div>\n",
              "<style scoped>\n",
              "    .dataframe tbody tr th:only-of-type {\n",
              "        vertical-align: middle;\n",
              "    }\n",
              "\n",
              "    .dataframe tbody tr th {\n",
              "        vertical-align: top;\n",
              "    }\n",
              "\n",
              "    .dataframe thead th {\n",
              "        text-align: right;\n",
              "    }\n",
              "</style>\n",
              "<table border=\"1\" class=\"dataframe\">\n",
              "  <thead>\n",
              "    <tr style=\"text-align: right;\">\n",
              "      <th></th>\n",
              "      <th>count</th>\n",
              "      <th>unique</th>\n",
              "      <th>top</th>\n",
              "      <th>freq</th>\n",
              "    </tr>\n",
              "  </thead>\n",
              "  <tbody>\n",
              "    <tr>\n",
              "      <th>recorded_by</th>\n",
              "      <td>47520</td>\n",
              "      <td>1</td>\n",
              "      <td>GeoData Consultants Ltd</td>\n",
              "      <td>47520</td>\n",
              "    </tr>\n",
              "    <tr>\n",
              "      <th>public_meeting</th>\n",
              "      <td>44876</td>\n",
              "      <td>2</td>\n",
              "      <td>True</td>\n",
              "      <td>40838</td>\n",
              "    </tr>\n",
              "    <tr>\n",
              "      <th>permit</th>\n",
              "      <td>45077</td>\n",
              "      <td>2</td>\n",
              "      <td>True</td>\n",
              "      <td>31071</td>\n",
              "    </tr>\n",
              "    <tr>\n",
              "      <th>source_class</th>\n",
              "      <td>47520</td>\n",
              "      <td>3</td>\n",
              "      <td>groundwater</td>\n",
              "      <td>36638</td>\n",
              "    </tr>\n",
              "    <tr>\n",
              "      <th>management_group</th>\n",
              "      <td>47520</td>\n",
              "      <td>5</td>\n",
              "      <td>user-group</td>\n",
              "      <td>42027</td>\n",
              "    </tr>\n",
              "    <tr>\n",
              "      <th>quantity_group</th>\n",
              "      <td>47520</td>\n",
              "      <td>5</td>\n",
              "      <td>enough</td>\n",
              "      <td>26567</td>\n",
              "    </tr>\n",
              "    <tr>\n",
              "      <th>quantity</th>\n",
              "      <td>47520</td>\n",
              "      <td>5</td>\n",
              "      <td>enough</td>\n",
              "      <td>26567</td>\n",
              "    </tr>\n",
              "    <tr>\n",
              "      <th>waterpoint_type_group</th>\n",
              "      <td>47520</td>\n",
              "      <td>6</td>\n",
              "      <td>communal standpipe</td>\n",
              "      <td>27642</td>\n",
              "    </tr>\n",
              "    <tr>\n",
              "      <th>quality_group</th>\n",
              "      <td>47520</td>\n",
              "      <td>6</td>\n",
              "      <td>good</td>\n",
              "      <td>40598</td>\n",
              "    </tr>\n",
              "    <tr>\n",
              "      <th>payment_type</th>\n",
              "      <td>47520</td>\n",
              "      <td>7</td>\n",
              "      <td>never pay</td>\n",
              "      <td>20287</td>\n",
              "    </tr>\n",
              "    <tr>\n",
              "      <th>source_type</th>\n",
              "      <td>47520</td>\n",
              "      <td>7</td>\n",
              "      <td>spring</td>\n",
              "      <td>13620</td>\n",
              "    </tr>\n",
              "    <tr>\n",
              "      <th>waterpoint_type</th>\n",
              "      <td>47520</td>\n",
              "      <td>7</td>\n",
              "      <td>communal standpipe</td>\n",
              "      <td>22778</td>\n",
              "    </tr>\n",
              "    <tr>\n",
              "      <th>extraction_type_class</th>\n",
              "      <td>47520</td>\n",
              "      <td>7</td>\n",
              "      <td>gravity</td>\n",
              "      <td>21448</td>\n",
              "    </tr>\n",
              "    <tr>\n",
              "      <th>payment</th>\n",
              "      <td>47520</td>\n",
              "      <td>7</td>\n",
              "      <td>never pay</td>\n",
              "      <td>20287</td>\n",
              "    </tr>\n",
              "    <tr>\n",
              "      <th>water_quality</th>\n",
              "      <td>47520</td>\n",
              "      <td>8</td>\n",
              "      <td>soft</td>\n",
              "      <td>40598</td>\n",
              "    </tr>\n",
              "    <tr>\n",
              "      <th>basin</th>\n",
              "      <td>47520</td>\n",
              "      <td>9</td>\n",
              "      <td>Lake Victoria</td>\n",
              "      <td>8137</td>\n",
              "    </tr>\n",
              "    <tr>\n",
              "      <th>source</th>\n",
              "      <td>47520</td>\n",
              "      <td>10</td>\n",
              "      <td>spring</td>\n",
              "      <td>13620</td>\n",
              "    </tr>\n",
              "    <tr>\n",
              "      <th>scheme_management</th>\n",
              "      <td>44392</td>\n",
              "      <td>12</td>\n",
              "      <td>VWC</td>\n",
              "      <td>29470</td>\n",
              "    </tr>\n",
              "    <tr>\n",
              "      <th>management</th>\n",
              "      <td>47520</td>\n",
              "      <td>12</td>\n",
              "      <td>vwc</td>\n",
              "      <td>32449</td>\n",
              "    </tr>\n",
              "    <tr>\n",
              "      <th>extraction_type_group</th>\n",
              "      <td>47520</td>\n",
              "      <td>13</td>\n",
              "      <td>gravity</td>\n",
              "      <td>21448</td>\n",
              "    </tr>\n",
              "    <tr>\n",
              "      <th>extraction_type</th>\n",
              "      <td>47520</td>\n",
              "      <td>18</td>\n",
              "      <td>gravity</td>\n",
              "      <td>21448</td>\n",
              "    </tr>\n",
              "    <tr>\n",
              "      <th>region</th>\n",
              "      <td>47520</td>\n",
              "      <td>21</td>\n",
              "      <td>Iringa</td>\n",
              "      <td>4250</td>\n",
              "    </tr>\n",
              "    <tr>\n",
              "      <th>lga</th>\n",
              "      <td>47520</td>\n",
              "      <td>124</td>\n",
              "      <td>Njombe</td>\n",
              "      <td>2003</td>\n",
              "    </tr>\n",
              "    <tr>\n",
              "      <th>date_recorded</th>\n",
              "      <td>47520</td>\n",
              "      <td>349</td>\n",
              "      <td>2011-03-17</td>\n",
              "      <td>474</td>\n",
              "    </tr>\n",
              "    <tr>\n",
              "      <th>funder</th>\n",
              "      <td>44616</td>\n",
              "      <td>1716</td>\n",
              "      <td>Government Of Tanzania</td>\n",
              "      <td>7321</td>\n",
              "    </tr>\n",
              "    <tr>\n",
              "      <th>installer</th>\n",
              "      <td>44603</td>\n",
              "      <td>1929</td>\n",
              "      <td>DWE</td>\n",
              "      <td>13978</td>\n",
              "    </tr>\n",
              "    <tr>\n",
              "      <th>ward</th>\n",
              "      <td>47520</td>\n",
              "      <td>2082</td>\n",
              "      <td>Igosi</td>\n",
              "      <td>257</td>\n",
              "    </tr>\n",
              "    <tr>\n",
              "      <th>scheme_name</th>\n",
              "      <td>24988</td>\n",
              "      <td>2563</td>\n",
              "      <td>K</td>\n",
              "      <td>548</td>\n",
              "    </tr>\n",
              "    <tr>\n",
              "      <th>subvillage</th>\n",
              "      <td>47234</td>\n",
              "      <td>17231</td>\n",
              "      <td>Shuleni</td>\n",
              "      <td>420</td>\n",
              "    </tr>\n",
              "    <tr>\n",
              "      <th>wpt_name</th>\n",
              "      <td>47520</td>\n",
              "      <td>30661</td>\n",
              "      <td>none</td>\n",
              "      <td>2879</td>\n",
              "    </tr>\n",
              "  </tbody>\n",
              "</table>\n",
              "</div>"
            ],
            "text/plain": [
              "                       count unique                      top   freq\n",
              "recorded_by            47520      1  GeoData Consultants Ltd  47520\n",
              "public_meeting         44876      2                     True  40838\n",
              "permit                 45077      2                     True  31071\n",
              "source_class           47520      3              groundwater  36638\n",
              "management_group       47520      5               user-group  42027\n",
              "quantity_group         47520      5                   enough  26567\n",
              "quantity               47520      5                   enough  26567\n",
              "waterpoint_type_group  47520      6       communal standpipe  27642\n",
              "quality_group          47520      6                     good  40598\n",
              "payment_type           47520      7                never pay  20287\n",
              "source_type            47520      7                   spring  13620\n",
              "waterpoint_type        47520      7       communal standpipe  22778\n",
              "extraction_type_class  47520      7                  gravity  21448\n",
              "payment                47520      7                never pay  20287\n",
              "water_quality          47520      8                     soft  40598\n",
              "basin                  47520      9            Lake Victoria   8137\n",
              "source                 47520     10                   spring  13620\n",
              "scheme_management      44392     12                      VWC  29470\n",
              "management             47520     12                      vwc  32449\n",
              "extraction_type_group  47520     13                  gravity  21448\n",
              "extraction_type        47520     18                  gravity  21448\n",
              "region                 47520     21                   Iringa   4250\n",
              "lga                    47520    124                   Njombe   2003\n",
              "date_recorded          47520    349               2011-03-17    474\n",
              "funder                 44616   1716   Government Of Tanzania   7321\n",
              "installer              44603   1929                      DWE  13978\n",
              "ward                   47520   2082                    Igosi    257\n",
              "scheme_name            24988   2563                        K    548\n",
              "subvillage             47234  17231                  Shuleni    420\n",
              "wpt_name               47520  30661                     none   2879"
            ]
          },
          "metadata": {
            "tags": []
          },
          "execution_count": 96
        }
      ]
    },
    {
      "cell_type": "code",
      "metadata": {
        "id": "jZ_tym4QGdRZ",
        "colab_type": "code",
        "outputId": "ab965989-5ed7-4b11-b971-2067e8e0a294",
        "colab": {
          "base_uri": "https://localhost:8080/",
          "height": 119
        }
      },
      "source": [
        "X_train['quantity'].value_counts(dropna=False)"
      ],
      "execution_count": 0,
      "outputs": [
        {
          "output_type": "execute_result",
          "data": {
            "text/plain": [
              "enough          26567\n",
              "insufficient    12153\n",
              "dry              4921\n",
              "seasonal         3244\n",
              "unknown           635\n",
              "Name: quantity, dtype: int64"
            ]
          },
          "metadata": {
            "tags": []
          },
          "execution_count": 97
        }
      ]
    },
    {
      "cell_type": "code",
      "metadata": {
        "id": "p-6PkEPqHkcM",
        "colab_type": "code",
        "outputId": "aad7f03b-69db-4bce-fa53-12de490651f0",
        "colab": {
          "base_uri": "https://localhost:8080/",
          "height": 119
        }
      },
      "source": [
        "X_train['quantity'].value_counts(dropna=False, normalize=True)"
      ],
      "execution_count": 0,
      "outputs": [
        {
          "output_type": "execute_result",
          "data": {
            "text/plain": [
              "enough         0.56\n",
              "insufficient   0.26\n",
              "dry            0.10\n",
              "seasonal       0.07\n",
              "unknown        0.01\n",
              "Name: quantity, dtype: float64"
            ]
          },
          "metadata": {
            "tags": []
          },
          "execution_count": 98
        }
      ]
    },
    {
      "cell_type": "code",
      "metadata": {
        "id": "bnKc62k2HwME",
        "colab_type": "code",
        "outputId": "566217c5-6ae7-4880-ea48-29b0e9e5dbbb",
        "colab": {
          "base_uri": "https://localhost:8080/",
          "height": 306
        }
      },
      "source": [
        "#Recombine X train and Y train for explanatory data analysis\n",
        "train = X_train.copy()\n",
        "train['status_group'] = y_train\n",
        "\n",
        "#Now do groupby...\n",
        "train.groupby('quantity')['status_group'].value_counts()"
      ],
      "execution_count": 0,
      "outputs": [
        {
          "output_type": "execute_result",
          "data": {
            "text/plain": [
              "quantity      status_group           \n",
              "dry           non functional              4762\n",
              "              functional                   128\n",
              "              functional needs repair       31\n",
              "enough        functional                 17293\n",
              "              non functional              7359\n",
              "              functional needs repair     1915\n",
              "insufficient  functional                  6333\n",
              "              non functional              4652\n",
              "              functional needs repair     1168\n",
              "seasonal      functional                  1883\n",
              "              non functional              1033\n",
              "              functional needs repair      328\n",
              "unknown       non functional               453\n",
              "              functional                   170\n",
              "              functional needs repair       12\n",
              "Name: status_group, dtype: int64"
            ]
          },
          "metadata": {
            "tags": []
          },
          "execution_count": 101
        }
      ]
    },
    {
      "cell_type": "code",
      "metadata": {
        "id": "2UwfI0sLIHvh",
        "colab_type": "code",
        "outputId": "8e84372e-ebb5-4b34-a90a-9c7345e5f1e8",
        "colab": {
          "base_uri": "https://localhost:8080/",
          "height": 306
        }
      },
      "source": [
        "#Recombine X train and Y train for explanatory data analysis\n",
        "train = X_train.copy()\n",
        "train['status_group'] = y_train\n",
        "\n",
        "#Now do groupby...\n",
        "train.groupby('quantity')['status_group'].value_counts(normalize=True)"
      ],
      "execution_count": 0,
      "outputs": [
        {
          "output_type": "execute_result",
          "data": {
            "text/plain": [
              "quantity      status_group           \n",
              "dry           non functional            0.97\n",
              "              functional                0.03\n",
              "              functional needs repair   0.01\n",
              "enough        functional                0.65\n",
              "              non functional            0.28\n",
              "              functional needs repair   0.07\n",
              "insufficient  functional                0.52\n",
              "              non functional            0.38\n",
              "              functional needs repair   0.10\n",
              "seasonal      functional                0.58\n",
              "              non functional            0.32\n",
              "              functional needs repair   0.10\n",
              "unknown       non functional            0.71\n",
              "              functional                0.27\n",
              "              functional needs repair   0.02\n",
              "Name: status_group, dtype: float64"
            ]
          },
          "metadata": {
            "tags": []
          },
          "execution_count": 102
        }
      ]
    },
    {
      "cell_type": "markdown",
      "metadata": {
        "id": "WfvThiAjIoj8",
        "colab_type": "text"
      },
      "source": [
        "### Encode `quantity` feature"
      ]
    },
    {
      "cell_type": "code",
      "metadata": {
        "id": "f31rOtZ1IQAZ",
        "colab_type": "code",
        "outputId": "d36e4761-5422-485e-a0d0-0ce1af3a3c41",
        "colab": {
          "base_uri": "https://localhost:8080/",
          "height": 204
        }
      },
      "source": [
        "encoder = ce.OneHotEncoder(use_cat_names=True)\n",
        "encoded = encoder.fit_transform(X_train['quantity'])\n",
        "encoded.head()"
      ],
      "execution_count": 0,
      "outputs": [
        {
          "output_type": "execute_result",
          "data": {
            "text/html": [
              "<div>\n",
              "<style scoped>\n",
              "    .dataframe tbody tr th:only-of-type {\n",
              "        vertical-align: middle;\n",
              "    }\n",
              "\n",
              "    .dataframe tbody tr th {\n",
              "        vertical-align: top;\n",
              "    }\n",
              "\n",
              "    .dataframe thead th {\n",
              "        text-align: right;\n",
              "    }\n",
              "</style>\n",
              "<table border=\"1\" class=\"dataframe\">\n",
              "  <thead>\n",
              "    <tr style=\"text-align: right;\">\n",
              "      <th></th>\n",
              "      <th>quantity_insufficient</th>\n",
              "      <th>quantity_enough</th>\n",
              "      <th>quantity_dry</th>\n",
              "      <th>quantity_seasonal</th>\n",
              "      <th>quantity_unknown</th>\n",
              "    </tr>\n",
              "  </thead>\n",
              "  <tbody>\n",
              "    <tr>\n",
              "      <th>43360</th>\n",
              "      <td>1</td>\n",
              "      <td>0</td>\n",
              "      <td>0</td>\n",
              "      <td>0</td>\n",
              "      <td>0</td>\n",
              "    </tr>\n",
              "    <tr>\n",
              "      <th>7263</th>\n",
              "      <td>0</td>\n",
              "      <td>1</td>\n",
              "      <td>0</td>\n",
              "      <td>0</td>\n",
              "      <td>0</td>\n",
              "    </tr>\n",
              "    <tr>\n",
              "      <th>2486</th>\n",
              "      <td>1</td>\n",
              "      <td>0</td>\n",
              "      <td>0</td>\n",
              "      <td>0</td>\n",
              "      <td>0</td>\n",
              "    </tr>\n",
              "    <tr>\n",
              "      <th>313</th>\n",
              "      <td>0</td>\n",
              "      <td>1</td>\n",
              "      <td>0</td>\n",
              "      <td>0</td>\n",
              "      <td>0</td>\n",
              "    </tr>\n",
              "    <tr>\n",
              "      <th>52726</th>\n",
              "      <td>0</td>\n",
              "      <td>1</td>\n",
              "      <td>0</td>\n",
              "      <td>0</td>\n",
              "      <td>0</td>\n",
              "    </tr>\n",
              "  </tbody>\n",
              "</table>\n",
              "</div>"
            ],
            "text/plain": [
              "       quantity_insufficient  ...  quantity_unknown\n",
              "43360                      1  ...                 0\n",
              "7263                       0  ...                 0\n",
              "2486                       1  ...                 0\n",
              "313                        0  ...                 0\n",
              "52726                      0  ...                 0\n",
              "\n",
              "[5 rows x 5 columns]"
            ]
          },
          "metadata": {
            "tags": []
          },
          "execution_count": 104
        }
      ]
    },
    {
      "cell_type": "markdown",
      "metadata": {
        "id": "MF8PuRenJ4Ac",
        "colab_type": "text"
      },
      "source": [
        ""
      ]
    },
    {
      "cell_type": "markdown",
      "metadata": {
        "id": "6kCA47KPr9PE",
        "colab_type": "text"
      },
      "source": [
        "## Do one-hot encoding & Scale features, \n",
        "within a complete model fitting workflow.\n",
        "\n",
        "### Why and how to scale features before fitting linear models\n",
        "\n",
        "Scikit-Learn User Guide, [Preprocessing data](https://scikit-learn.org/stable/modules/preprocessing.html)\n",
        "> Standardization of datasets is a common requirement for many machine learning estimators implemented in scikit-learn; they might behave badly if the individual features do not more or less look like standard normally distributed data: Gaussian with zero mean and unit variance.\n",
        "\n",
        "> The `preprocessing` module further provides a utility class `StandardScaler` that implements the `Transformer` API to compute the mean and standard deviation on a training set. The scaler instance can then be used on new data to transform it the same way it did on the training set.\n",
        "\n",
        "### How to use encoders and scalers in scikit-learn\n",
        "- Use the **`fit_transform`** method on the **train** set\n",
        "- Use the **`transform`** method on the **validation** set\n"
      ]
    },
    {
      "cell_type": "code",
      "metadata": {
        "id": "LO94F-0PJZJ_",
        "colab_type": "code",
        "outputId": "2e065031-b30b-4b7b-ff69-0bfda8e30abe",
        "colab": {
          "base_uri": "https://localhost:8080/",
          "height": 187
        }
      },
      "source": [
        "from sklearn.preprocessing import StandardScaler\n",
        "\n",
        "categorical_features = ['quantity']\n",
        "numeric_features = X_train.select_dtypes('number').columns.drop('id').tolist()\n",
        "features = categorical_features + numeric_features\n",
        "\n",
        "features"
      ],
      "execution_count": 0,
      "outputs": [
        {
          "output_type": "execute_result",
          "data": {
            "text/plain": [
              "['quantity',\n",
              " 'amount_tsh',\n",
              " 'gps_height',\n",
              " 'longitude',\n",
              " 'latitude',\n",
              " 'num_private',\n",
              " 'region_code',\n",
              " 'district_code',\n",
              " 'population',\n",
              " 'construction_year']"
            ]
          },
          "metadata": {
            "tags": []
          },
          "execution_count": 106
        }
      ]
    },
    {
      "cell_type": "code",
      "metadata": {
        "id": "InD5D81lK8jI",
        "colab_type": "code",
        "outputId": "862834ea-b064-416c-ce48-e80621f50dd2",
        "colab": {
          "base_uri": "https://localhost:8080/",
          "height": 34
        }
      },
      "source": [
        "X_train_subset = X_train[features]\n",
        "X_val_subset = X_val[features]\n",
        "\n",
        "encoder = ce.OneHotEncoder(use_cat_names=True)\n",
        "X_train_encoded = encoder.fit_transform(X_train_subset)\n",
        "X_val_encoded = encoder.transform(X_val_subset)\n",
        "\n",
        "scaler = StandardScaler()\n",
        "X_train_scaled = scaler.fit_transform(X_train_encoded)\n",
        "X_val_scaled = scaler.transform(X_val_encoded)\n",
        "\n",
        "model = LogisticRegression(solver='lbfgs', multi_class='auto', max_iter=1000)\n",
        "model.fit(X_train_scaled, y_train)\n",
        "print('Validation accuracy ', model.score(X_val_scaled, y_val))"
      ],
      "execution_count": 0,
      "outputs": [
        {
          "output_type": "stream",
          "text": [
            "Validation accuracy  0.6579124579124579\n"
          ],
          "name": "stdout"
        }
      ]
    },
    {
      "cell_type": "markdown",
      "metadata": {
        "id": "ZfVECpN7J6gb",
        "colab_type": "text"
      },
      "source": [
        "### Get & plot coefficients"
      ]
    },
    {
      "cell_type": "code",
      "metadata": {
        "id": "km8la0AdLa2N",
        "colab_type": "code",
        "outputId": "01f55fcd-0b66-48a3-8657-34d79f3ddf6b",
        "colab": {
          "base_uri": "https://localhost:8080/",
          "height": 170
        }
      },
      "source": [
        "model.coef_"
      ],
      "execution_count": 0,
      "outputs": [
        {
          "output_type": "execute_result",
          "data": {
            "text/plain": [
              "array([[ 0.02748456,  0.20453448, -0.40997646,  0.04581306, -0.00159188,\n",
              "         0.24726122,  0.10363169,  0.04604089, -0.05603392,  0.00708643,\n",
              "        -0.1722201 ,  0.09406163,  0.01112345, -0.05527931],\n",
              "       [ 0.1192351 ,  0.04660743, -0.28314549,  0.08674043, -0.0937658 ,\n",
              "         0.18014314,  0.04338193, -0.20846438, -0.05777954, -0.01265651,\n",
              "         0.07653079, -0.06798033,  0.01135458, -0.04676952],\n",
              "       [-0.14671966, -0.25114191,  0.69312195, -0.1325535 ,  0.09535769,\n",
              "        -0.42740436, -0.14701362,  0.16242349,  0.11381346,  0.00557008,\n",
              "         0.09568932, -0.0260813 , -0.02247803,  0.10204882]])"
            ]
          },
          "metadata": {
            "tags": []
          },
          "execution_count": 110
        }
      ]
    },
    {
      "cell_type": "code",
      "metadata": {
        "id": "FLiyCxL5Nork",
        "colab_type": "code",
        "outputId": "a592b87f-5413-4397-d670-22066759abcb",
        "colab": {
          "base_uri": "https://localhost:8080/",
          "height": 68
        }
      },
      "source": [
        "#getting coefficients for the 0 class\n",
        "model.coef_[0]"
      ],
      "execution_count": 0,
      "outputs": [
        {
          "output_type": "execute_result",
          "data": {
            "text/plain": [
              "array([ 0.02748456,  0.20453448, -0.40997646,  0.04581306, -0.00159188,\n",
              "        0.24726122,  0.10363169,  0.04604089, -0.05603392,  0.00708643,\n",
              "       -0.1722201 ,  0.09406163,  0.01112345, -0.05527931])"
            ]
          },
          "metadata": {
            "tags": []
          },
          "execution_count": 111
        }
      ]
    },
    {
      "cell_type": "code",
      "metadata": {
        "id": "pN7hA-zZNv1F",
        "colab_type": "code",
        "colab": {}
      },
      "source": [
        "coefficients = pd.Series(model.coef_[0], X_train_encoded.columns)"
      ],
      "execution_count": 0,
      "outputs": []
    },
    {
      "cell_type": "code",
      "metadata": {
        "id": "c0Haqxu-N2zV",
        "colab_type": "code",
        "outputId": "eaa5b242-37e9-49c6-f3e4-73e4d1ad6a39",
        "colab": {
          "base_uri": "https://localhost:8080/",
          "height": 595
        }
      },
      "source": [
        "%matplotlib inline\n",
        "import matplotlib.pyplot as plt\n",
        "plt.figure(figsize=(10,10))\n",
        "coefficients.sort_values().plot.barh();"
      ],
      "execution_count": 0,
      "outputs": [
        {
          "output_type": "display_data",
          "data": {
            "image/png": "[encoded data removed]",
            "text/plain": [
              "<Figure size 720x720 with 1 Axes>"
            ]
          },
          "metadata": {
            "tags": []
          }
        }
      ]
    },
    {
      "cell_type": "markdown",
      "metadata": {
        "id": "ZhUzucgPr_he",
        "colab_type": "text"
      },
      "source": [
        "## Submit to predictive modeling competition\n",
        "\n",
        "\n",
        "### Write submission CSV file\n",
        "\n",
        "The format for the submission file is simply the row id and the predicted label (for an example, see `sample_submission.csv` on the data download page.\n",
        "\n",
        "For example, if you just predicted that all the waterpoints were functional you would have the following predictions:\n",
        "\n",
        "<pre>id,status_group\n",
        "50785,functional\n",
        "51630,functional\n",
        "17168,functional\n",
        "45559,functional\n",
        "49871,functional\n",
        "</pre>\n",
        "\n",
        "Your code to generate a submission file may look like this: \n",
        "<pre># estimator is your scikit-learn estimator, which you've fit on X_train\n",
        "\n",
        "# X_test is your pandas dataframe or numpy array, \n",
        "# with the same number of rows, in the same order, as test_features.csv, \n",
        "# and the same number of columns, in the same order, as X_train\n",
        "\n",
        "y_pred = estimator.predict(X_test)\n",
        "\n",
        "\n",
        "# Makes a dataframe with two columns, id and status_group, \n",
        "# and writes to a csv file, without the index\n",
        "\n",
        "sample_submission = pd.read_csv('sample_submission.csv')\n",
        "submission = sample_submission.copy()\n",
        "submission['status_group'] = y_pred\n",
        "submission.to_csv('your-submission-filename.csv', index=False)\n",
        "</pre>"
      ]
    },
    {
      "cell_type": "code",
      "metadata": {
        "id": "EAIoOetpOhYb",
        "colab_type": "code",
        "colab": {}
      },
      "source": [
        "X_test_subset = test_features[features]\n",
        "X_test_encoded = encoder.transform(X_test_subset)\n",
        "X_test_scaled = scaler.transform(X_test_encoded)\n",
        "\n"
      ],
      "execution_count": 0,
      "outputs": []
    },
    {
      "cell_type": "code",
      "metadata": {
        "id": "sCMVV4vtOutr",
        "colab_type": "code",
        "outputId": "9e644d4c-1c8a-434f-81a3-35dd7ac53713",
        "colab": {
          "base_uri": "https://localhost:8080/",
          "height": 34
        }
      },
      "source": [
        "all(X_test_encoded.columns == X_train_encoded.columns)"
      ],
      "execution_count": 0,
      "outputs": [
        {
          "output_type": "execute_result",
          "data": {
            "text/plain": [
              "True"
            ]
          },
          "metadata": {
            "tags": []
          },
          "execution_count": 115
        }
      ]
    },
    {
      "cell_type": "code",
      "metadata": {
        "id": "WVz3wfLdOzVX",
        "colab_type": "code",
        "outputId": "509c6b3a-1d67-4e54-c501-a457b737dd75",
        "colab": {
          "base_uri": "https://localhost:8080/",
          "height": 187
        }
      },
      "source": [
        "X_test_encoded.columns, X_train_encoded.columns"
      ],
      "execution_count": 0,
      "outputs": [
        {
          "output_type": "execute_result",
          "data": {
            "text/plain": [
              "(Index(['quantity_insufficient', 'quantity_enough', 'quantity_dry',\n",
              "        'quantity_seasonal', 'quantity_unknown', 'amount_tsh', 'gps_height',\n",
              "        'longitude', 'latitude', 'num_private', 'region_code', 'district_code',\n",
              "        'population', 'construction_year'],\n",
              "       dtype='object'),\n",
              " Index(['quantity_insufficient', 'quantity_enough', 'quantity_dry',\n",
              "        'quantity_seasonal', 'quantity_unknown', 'amount_tsh', 'gps_height',\n",
              "        'longitude', 'latitude', 'num_private', 'region_code', 'district_code',\n",
              "        'population', 'construction_year'],\n",
              "       dtype='object'))"
            ]
          },
          "metadata": {
            "tags": []
          },
          "execution_count": 116
        }
      ]
    },
    {
      "cell_type": "code",
      "metadata": {
        "id": "h5qFXkRlO5Uh",
        "colab_type": "code",
        "outputId": "54482290-b199-4ded-f8ea-9b3deedf33a3",
        "colab": {
          "base_uri": "https://localhost:8080/",
          "height": 669
        }
      },
      "source": [
        "y_pred = model.predict(X_test_scaled)\n",
        "submission = sample_submission.copy()\n",
        "submission['status_group'] = y_pred\n",
        "submission.head(20)"
      ],
      "execution_count": 0,
      "outputs": [
        {
          "output_type": "execute_result",
          "data": {
            "text/html": [
              "<div>\n",
              "<style scoped>\n",
              "    .dataframe tbody tr th:only-of-type {\n",
              "        vertical-align: middle;\n",
              "    }\n",
              "\n",
              "    .dataframe tbody tr th {\n",
              "        vertical-align: top;\n",
              "    }\n",
              "\n",
              "    .dataframe thead th {\n",
              "        text-align: right;\n",
              "    }\n",
              "</style>\n",
              "<table border=\"1\" class=\"dataframe\">\n",
              "  <thead>\n",
              "    <tr style=\"text-align: right;\">\n",
              "      <th></th>\n",
              "      <th>id</th>\n",
              "      <th>status_group</th>\n",
              "    </tr>\n",
              "  </thead>\n",
              "  <tbody>\n",
              "    <tr>\n",
              "      <th>0</th>\n",
              "      <td>50785</td>\n",
              "      <td>functional</td>\n",
              "    </tr>\n",
              "    <tr>\n",
              "      <th>1</th>\n",
              "      <td>51630</td>\n",
              "      <td>functional</td>\n",
              "    </tr>\n",
              "    <tr>\n",
              "      <th>2</th>\n",
              "      <td>17168</td>\n",
              "      <td>functional</td>\n",
              "    </tr>\n",
              "    <tr>\n",
              "      <th>3</th>\n",
              "      <td>45559</td>\n",
              "      <td>non functional</td>\n",
              "    </tr>\n",
              "    <tr>\n",
              "      <th>4</th>\n",
              "      <td>49871</td>\n",
              "      <td>functional</td>\n",
              "    </tr>\n",
              "    <tr>\n",
              "      <th>5</th>\n",
              "      <td>52449</td>\n",
              "      <td>functional</td>\n",
              "    </tr>\n",
              "    <tr>\n",
              "      <th>6</th>\n",
              "      <td>24806</td>\n",
              "      <td>functional</td>\n",
              "    </tr>\n",
              "    <tr>\n",
              "      <th>7</th>\n",
              "      <td>28965</td>\n",
              "      <td>non functional</td>\n",
              "    </tr>\n",
              "    <tr>\n",
              "      <th>8</th>\n",
              "      <td>36301</td>\n",
              "      <td>non functional</td>\n",
              "    </tr>\n",
              "    <tr>\n",
              "      <th>9</th>\n",
              "      <td>54122</td>\n",
              "      <td>functional</td>\n",
              "    </tr>\n",
              "    <tr>\n",
              "      <th>10</th>\n",
              "      <td>419</td>\n",
              "      <td>functional</td>\n",
              "    </tr>\n",
              "    <tr>\n",
              "      <th>11</th>\n",
              "      <td>45750</td>\n",
              "      <td>non functional</td>\n",
              "    </tr>\n",
              "    <tr>\n",
              "      <th>12</th>\n",
              "      <td>653</td>\n",
              "      <td>non functional</td>\n",
              "    </tr>\n",
              "    <tr>\n",
              "      <th>13</th>\n",
              "      <td>14017</td>\n",
              "      <td>functional</td>\n",
              "    </tr>\n",
              "    <tr>\n",
              "      <th>14</th>\n",
              "      <td>40228</td>\n",
              "      <td>functional</td>\n",
              "    </tr>\n",
              "    <tr>\n",
              "      <th>15</th>\n",
              "      <td>27714</td>\n",
              "      <td>functional</td>\n",
              "    </tr>\n",
              "    <tr>\n",
              "      <th>16</th>\n",
              "      <td>28785</td>\n",
              "      <td>functional</td>\n",
              "    </tr>\n",
              "    <tr>\n",
              "      <th>17</th>\n",
              "      <td>18532</td>\n",
              "      <td>non functional</td>\n",
              "    </tr>\n",
              "    <tr>\n",
              "      <th>18</th>\n",
              "      <td>69961</td>\n",
              "      <td>functional</td>\n",
              "    </tr>\n",
              "    <tr>\n",
              "      <th>19</th>\n",
              "      <td>55083</td>\n",
              "      <td>functional</td>\n",
              "    </tr>\n",
              "  </tbody>\n",
              "</table>\n",
              "</div>"
            ],
            "text/plain": [
              "       id    status_group\n",
              "0   50785      functional\n",
              "1   51630      functional\n",
              "2   17168      functional\n",
              "3   45559  non functional\n",
              "4   49871      functional\n",
              "5   52449      functional\n",
              "6   24806      functional\n",
              "7   28965  non functional\n",
              "8   36301  non functional\n",
              "9   54122      functional\n",
              "10    419      functional\n",
              "11  45750  non functional\n",
              "12    653  non functional\n",
              "13  14017      functional\n",
              "14  40228      functional\n",
              "15  27714      functional\n",
              "16  28785      functional\n",
              "17  18532  non functional\n",
              "18  69961      functional\n",
              "19  55083      functional"
            ]
          },
          "metadata": {
            "tags": []
          },
          "execution_count": 117
        }
      ]
    },
    {
      "cell_type": "code",
      "metadata": {
        "id": "zbh1goFtPK3F",
        "colab_type": "code",
        "colab": {}
      },
      "source": [
        "submission.to_csv('submission-01.csv', index=False)"
      ],
      "execution_count": 0,
      "outputs": []
    },
    {
      "cell_type": "code",
      "metadata": {
        "id": "3tiywYh-PYAM",
        "colab_type": "code",
        "outputId": "8b346e54-d7fc-4c1e-cc05-c677a021e3b1",
        "colab": {
          "base_uri": "https://localhost:8080/",
          "height": 187
        }
      },
      "source": [
        "!head submission-01.csv"
      ],
      "execution_count": 0,
      "outputs": [
        {
          "output_type": "stream",
          "text": [
            "id,status_group\n",
            "50785,functional\n",
            "51630,functional\n",
            "17168,functional\n",
            "45559,non functional\n",
            "49871,functional\n",
            "52449,functional\n",
            "24806,functional\n",
            "28965,non functional\n",
            "36301,non functional\n"
          ],
          "name": "stdout"
        }
      ]
    },
    {
      "cell_type": "code",
      "metadata": {
        "id": "M7Mhm1NaPaZY",
        "colab_type": "code",
        "colab": {}
      },
      "source": [
        "from google.colab import files\n",
        "files.download('submission-01.csv')"
      ],
      "execution_count": 0,
      "outputs": []
    },
    {
      "cell_type": "code",
      "metadata": {
        "id": "pQ4HJwCzPjrA",
        "colab_type": "code",
        "colab": {}
      },
      "source": [
        ""
      ],
      "execution_count": 0,
      "outputs": []
    }
  ]
}