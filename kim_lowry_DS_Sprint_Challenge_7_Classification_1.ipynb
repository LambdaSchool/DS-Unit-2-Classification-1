{
  "nbformat": 4,
  "nbformat_minor": 0,
  "metadata": {
    "colab": {
      "name": "kim_lowry_DS_Sprint_Challenge_7_Classification_1.ipynb",
      "version": "0.3.2",
      "provenance": [],
      "collapsed_sections": [],
      "include_colab_link": true
    },
    "language_info": {
      "codemirror_mode": {
        "name": "ipython",
        "version": 3
      },
      "file_extension": ".py",
      "mimetype": "text/x-python",
      "name": "python",
      "nbconvert_exporter": "python",
      "pygments_lexer": "ipython3",
      "version": "3.7.1"
    },
    "kernelspec": {
      "display_name": "Python 3",
      "language": "python",
      "name": "python3"
    }
  },
  "cells": [
    {
      "cell_type": "markdown",
      "metadata": {
        "id": "view-in-github",
        "colab_type": "text"
      },
      "source": [
        "<a href=\"https://colab.research.google.com/github/hBar2013/DS-Unit-2-Classification-1/blob/master/kim_lowry_DS_Sprint_Challenge_7_Classification_1.ipynb\" target=\"_parent\"><img src=\"https://colab.research.google.com/assets/colab-badge.svg\" alt=\"Open In Colab\"/></a>"
      ]
    },
    {
      "cell_type": "markdown",
      "metadata": {
        "id": "7NQhCv9N9NCo",
        "colab_type": "text"
      },
      "source": [
        "_Lambda School Data Science, Unit 2_\n",
        " \n",
        "# Classification 1 Sprint Challenge: Predict Steph Curry's shots 🏀\n",
        "\n",
        "For your Sprint Challenge, you'll use a dataset with all Steph Curry's NBA field goal attempts. (Regular season and playoff games, from October 28, 2009, through June 5, 2019.) \n",
        "\n",
        "You'll use information about the shot and the game to predict whether the shot was made. This is hard to predict! Try for an accuracy score in the high 50's or low 60's. The dataset was collected with the [nba_api](https://github.com/swar/nba_api) Python library."
      ]
    },
    {
      "cell_type": "code",
      "metadata": {
        "id": "PTSl69verbAe",
        "colab_type": "code",
        "colab": {
          "base_uri": "https://localhost:8080/",
          "height": 224
        },
        "outputId": "952ed4a7-4067-45a9-e64d-495db2e7b976"
      },
      "source": [
        "!pip install category_encoders"
      ],
      "execution_count": 31,
      "outputs": [
        {
          "output_type": "stream",
          "text": [
            "Requirement already satisfied: category_encoders in /usr/local/lib/python3.6/dist-packages (2.0.0)\n",
            "Requirement already satisfied: scikit-learn>=0.20.0 in /usr/local/lib/python3.6/dist-packages (from category_encoders) (0.21.2)\n",
            "Requirement already satisfied: statsmodels>=0.6.1 in /usr/local/lib/python3.6/dist-packages (from category_encoders) (0.9.0)\n",
            "Requirement already satisfied: numpy>=1.11.3 in /usr/local/lib/python3.6/dist-packages (from category_encoders) (1.16.4)\n",
            "Requirement already satisfied: patsy>=0.4.1 in /usr/local/lib/python3.6/dist-packages (from category_encoders) (0.5.1)\n",
            "Requirement already satisfied: pandas>=0.21.1 in /usr/local/lib/python3.6/dist-packages (from category_encoders) (0.24.2)\n",
            "Requirement already satisfied: scipy>=0.19.0 in /usr/local/lib/python3.6/dist-packages (from category_encoders) (1.3.0)\n",
            "Requirement already satisfied: joblib>=0.11 in /usr/local/lib/python3.6/dist-packages (from scikit-learn>=0.20.0->category_encoders) (0.13.2)\n",
            "Requirement already satisfied: six in /usr/local/lib/python3.6/dist-packages (from patsy>=0.4.1->category_encoders) (1.12.0)\n",
            "Requirement already satisfied: python-dateutil>=2.5.0 in /usr/local/lib/python3.6/dist-packages (from pandas>=0.21.1->category_encoders) (2.5.3)\n",
            "Requirement already satisfied: pytz>=2011k in /usr/local/lib/python3.6/dist-packages (from pandas>=0.21.1->category_encoders) (2018.9)\n"
          ],
          "name": "stdout"
        }
      ]
    },
    {
      "cell_type": "code",
      "metadata": {
        "id": "5RDEWI9c9NCr",
        "colab_type": "code",
        "colab": {}
      },
      "source": [
        "import pandas as pd\n",
        "url = 'https://drive.google.com/uc?export=download&id=1fL7KPyxgGYfQDsuJoBWHIWwCAf-HTFpX'\n",
        "df = pd.read_csv(url, parse_dates=['game_date']).set_index('game_date')\n",
        "assert df.shape == (13958, 19)"
      ],
      "execution_count": 0,
      "outputs": []
    },
    {
      "cell_type": "code",
      "metadata": {
        "id": "HJksE34Ypur4",
        "colab_type": "code",
        "colab": {}
      },
      "source": [
        "%matplotlib inline\n",
        "import category_encoders as ce\n",
        "import pandas as pd\n",
        "import numpy as np\n",
        "import matplotlib.pyplot as plt\n",
        "import seaborn as sns\n",
        "from sklearn.ensemble import RandomForestClassifier\n",
        "from sklearn.linear_model import LogisticRegression\n",
        "from sklearn.impute import SimpleImputer\n",
        "from sklearn.preprocessing import StandardScaler\n",
        "from sklearn.pipeline import make_pipeline\n",
        "from sklearn.metrics import classification_report, confusion_matrix, accuracy_score\n",
        "from sklearn.utils.multiclass import unique_labels"
      ],
      "execution_count": 0,
      "outputs": []
    },
    {
      "cell_type": "markdown",
      "metadata": {
        "id": "iOYtb9z5eCE-",
        "colab_type": "text"
      },
      "source": [
        "Part 1. Prepare to model\n",
        "Required\n",
        "\n",
        "Do train/validate/test split. \n",
        "Use the 2009-10 season through 2016-17 season to train, the 2017-18 season to validate, and the 2018-19 season to test. NBA seasons begin in October and end in June. You'll know you've split the data correctly when your train set has 11081 observations, your validation set has 1168 observations, and your test set has 1709 observations.\n",
        "\n",
        "Begin with baselines for classification. Your target to predict is shot_made_flag. What is the baseline accuracy for the validation set, if you guessed the majority class for every prediction?\n",
        "\n",
        "Use Ordinal Encoding or One-Hot Encoding, for the categorical features you select.\n",
        "\n",
        "Train a Random Forest or Logistic Regression with the features you select."
      ]
    },
    {
      "cell_type": "code",
      "metadata": {
        "id": "fxlkUj_2uZ1g",
        "colab_type": "code",
        "colab": {}
      },
      "source": [
        "df['period'] =  df['period'].apply(str)"
      ],
      "execution_count": 0,
      "outputs": []
    },
    {
      "cell_type": "code",
      "metadata": {
        "id": "_ejgKIsy6eNP",
        "colab_type": "code",
        "colab": {
          "base_uri": "https://localhost:8080/",
          "height": 359
        },
        "outputId": "9d21b63d-4aab-4389-bb10-5735293df7b3"
      },
      "source": [
        "df.describe(exclude=np.number).T"
      ],
      "execution_count": 92,
      "outputs": [
        {
          "output_type": "execute_result",
          "data": {
            "text/html": [
              "<div>\n",
              "<style scoped>\n",
              "    .dataframe tbody tr th:only-of-type {\n",
              "        vertical-align: middle;\n",
              "    }\n",
              "\n",
              "    .dataframe tbody tr th {\n",
              "        vertical-align: top;\n",
              "    }\n",
              "\n",
              "    .dataframe thead th {\n",
              "        text-align: right;\n",
              "    }\n",
              "</style>\n",
              "<table border=\"1\" class=\"dataframe\">\n",
              "  <thead>\n",
              "    <tr style=\"text-align: right;\">\n",
              "      <th></th>\n",
              "      <th>count</th>\n",
              "      <th>unique</th>\n",
              "      <th>top</th>\n",
              "      <th>freq</th>\n",
              "    </tr>\n",
              "  </thead>\n",
              "  <tbody>\n",
              "    <tr>\n",
              "      <th>player_name</th>\n",
              "      <td>13958</td>\n",
              "      <td>1</td>\n",
              "      <td>Stephen Curry</td>\n",
              "      <td>13958</td>\n",
              "    </tr>\n",
              "    <tr>\n",
              "      <th>period</th>\n",
              "      <td>13958</td>\n",
              "      <td>6</td>\n",
              "      <td>3</td>\n",
              "      <td>4129</td>\n",
              "    </tr>\n",
              "    <tr>\n",
              "      <th>action_type</th>\n",
              "      <td>13958</td>\n",
              "      <td>53</td>\n",
              "      <td>Jump Shot</td>\n",
              "      <td>6657</td>\n",
              "    </tr>\n",
              "    <tr>\n",
              "      <th>shot_type</th>\n",
              "      <td>13958</td>\n",
              "      <td>2</td>\n",
              "      <td>2PT Field Goal</td>\n",
              "      <td>7135</td>\n",
              "    </tr>\n",
              "    <tr>\n",
              "      <th>shot_zone_basic</th>\n",
              "      <td>13958</td>\n",
              "      <td>7</td>\n",
              "      <td>Above the Break 3</td>\n",
              "      <td>5695</td>\n",
              "    </tr>\n",
              "    <tr>\n",
              "      <th>shot_zone_area</th>\n",
              "      <td>13958</td>\n",
              "      <td>6</td>\n",
              "      <td>Center(C)</td>\n",
              "      <td>5987</td>\n",
              "    </tr>\n",
              "    <tr>\n",
              "      <th>shot_zone_range</th>\n",
              "      <td>13958</td>\n",
              "      <td>5</td>\n",
              "      <td>24+ ft.</td>\n",
              "      <td>6721</td>\n",
              "    </tr>\n",
              "    <tr>\n",
              "      <th>htm</th>\n",
              "      <td>13958</td>\n",
              "      <td>32</td>\n",
              "      <td>GSW</td>\n",
              "      <td>6871</td>\n",
              "    </tr>\n",
              "    <tr>\n",
              "      <th>vtm</th>\n",
              "      <td>13958</td>\n",
              "      <td>32</td>\n",
              "      <td>GSW</td>\n",
              "      <td>7087</td>\n",
              "    </tr>\n",
              "    <tr>\n",
              "      <th>season_type</th>\n",
              "      <td>13958</td>\n",
              "      <td>2</td>\n",
              "      <td>Regular Season</td>\n",
              "      <td>11846</td>\n",
              "    </tr>\n",
              "  </tbody>\n",
              "</table>\n",
              "</div>"
            ],
            "text/plain": [
              "                 count unique                top   freq\n",
              "player_name      13958      1      Stephen Curry  13958\n",
              "period           13958      6                  3   4129\n",
              "action_type      13958     53          Jump Shot   6657\n",
              "shot_type        13958      2     2PT Field Goal   7135\n",
              "shot_zone_basic  13958      7  Above the Break 3   5695\n",
              "shot_zone_area   13958      6          Center(C)   5987\n",
              "shot_zone_range  13958      5            24+ ft.   6721\n",
              "htm              13958     32                GSW   6871\n",
              "vtm              13958     32                GSW   7087\n",
              "season_type      13958      2     Regular Season  11846"
            ]
          },
          "metadata": {
            "tags": []
          },
          "execution_count": 92
        }
      ]
    },
    {
      "cell_type": "code",
      "metadata": {
        "id": "Y83CCFnAjZgZ",
        "colab_type": "code",
        "colab": {}
      },
      "source": [
        "train = df['2009-10-01':'2017-06-30']\n",
        "val = df['2017-10-01':'2018-06-30']\n",
        "test  = df['2018-10-01':]"
      ],
      "execution_count": 0,
      "outputs": []
    },
    {
      "cell_type": "code",
      "metadata": {
        "id": "neyF9xX4xYvO",
        "colab_type": "code",
        "colab": {}
      },
      "source": [
        "test.isnull().sum()"
      ],
      "execution_count": 0,
      "outputs": []
    },
    {
      "cell_type": "code",
      "metadata": {
        "id": "6FoVbWKqk9UV",
        "colab_type": "code",
        "colab": {}
      },
      "source": [
        "X_train = train.drop(['shot_made_flag'], axis=1)"
      ],
      "execution_count": 0,
      "outputs": []
    },
    {
      "cell_type": "code",
      "metadata": {
        "id": "6msx1np2mF1L",
        "colab_type": "code",
        "colab": {}
      },
      "source": [
        "y_train = train['shot_made_flag']\n",
        "X_val = val.drop(['shot_made_flag'], axis=1)\n",
        "y_val = val['shot_made_flag']"
      ],
      "execution_count": 0,
      "outputs": []
    },
    {
      "cell_type": "code",
      "metadata": {
        "id": "9Tp2p-no_emB",
        "colab_type": "code",
        "colab": {}
      },
      "source": [
        "X_test = test.drop(['shot_made_flag'], axis=1)\n",
        "y_test = test['shot_made_flag']"
      ],
      "execution_count": 0,
      "outputs": []
    },
    {
      "cell_type": "code",
      "metadata": {
        "id": "4fB7doSVkBDK",
        "colab_type": "code",
        "colab": {
          "base_uri": "https://localhost:8080/",
          "height": 34
        },
        "outputId": "0b98abdd-77a7-48eb-d29b-b45045e05479"
      },
      "source": [
        "X_train.shape, X_val.shape, y_train.shape, y_val.shape"
      ],
      "execution_count": 48,
      "outputs": [
        {
          "output_type": "execute_result",
          "data": {
            "text/plain": [
              "((11081, 18), (1168, 18), (11081,), (1168,))"
            ]
          },
          "metadata": {
            "tags": []
          },
          "execution_count": 48
        }
      ]
    },
    {
      "cell_type": "code",
      "metadata": {
        "id": "y-71iqpYnF8G",
        "colab_type": "code",
        "colab": {
          "base_uri": "https://localhost:8080/",
          "height": 68
        },
        "outputId": "fcfab6a9-5424-44df-c5dd-7537adb5daec"
      },
      "source": [
        "\n",
        "y_train.value_counts(normalize=True)"
      ],
      "execution_count": 49,
      "outputs": [
        {
          "output_type": "execute_result",
          "data": {
            "text/plain": [
              "0    0.527209\n",
              "1    0.472791\n",
              "Name: shot_made_flag, dtype: float64"
            ]
          },
          "metadata": {
            "tags": []
          },
          "execution_count": 49
        }
      ]
    },
    {
      "cell_type": "markdown",
      "metadata": {
        "id": "pq-BCtxkoPFu",
        "colab_type": "text"
      },
      "source": [
        "Baseline  for class is y_pred = 0.527209"
      ]
    },
    {
      "cell_type": "code",
      "metadata": {
        "id": "jarxVsl9m9sV",
        "colab_type": "code",
        "colab": {}
      },
      "source": [
        "df.dtypes\n"
      ],
      "execution_count": 0,
      "outputs": []
    },
    {
      "cell_type": "code",
      "metadata": {
        "id": "rpok6EN-qPa_",
        "colab_type": "code",
        "colab": {}
      },
      "source": [
        "cat_features = ['shot_type', 'shot_zone_basic', 'shot_zone_area', \n",
        "               'shot_zone_range', 'season_type', 'period']"
      ],
      "execution_count": 0,
      "outputs": []
    },
    {
      "cell_type": "code",
      "metadata": {
        "id": "Z1X9gKzko5im",
        "colab_type": "code",
        "colab": {}
      },
      "source": [
        "num_features = ['minutes_remaining', 'seconds_remaining', 'shot_distance', \n",
        "                'loc_x', 'loc_y', 'scoremargin_before_shot']"
      ],
      "execution_count": 0,
      "outputs": []
    },
    {
      "cell_type": "code",
      "metadata": {
        "id": "38Fox8XlqowD",
        "colab_type": "code",
        "colab": {}
      },
      "source": [
        "features = cat_features + num_features"
      ],
      "execution_count": 0,
      "outputs": []
    },
    {
      "cell_type": "code",
      "metadata": {
        "id": "og1sD0FqqzNa",
        "colab_type": "code",
        "colab": {}
      },
      "source": [
        "X_train_subset = X_train[features]\n",
        "X_val_subset = X_val[features]"
      ],
      "execution_count": 0,
      "outputs": []
    },
    {
      "cell_type": "code",
      "metadata": {
        "id": "J-wY19SE_tbO",
        "colab_type": "code",
        "colab": {}
      },
      "source": [
        "X_test_subset = X_test[features]"
      ],
      "execution_count": 0,
      "outputs": []
    },
    {
      "cell_type": "code",
      "metadata": {
        "id": "7vtd0KJxrTZk",
        "colab_type": "code",
        "colab": {
          "base_uri": "https://localhost:8080/",
          "height": 269
        },
        "outputId": "f0b0f8f5-8507-43ef-db76-157265e78e38"
      },
      "source": [
        "pipeline = make_pipeline(\n",
        "          #ce.OrdinalEncoder(),\n",
        "          ce.OneHotEncoder(),\n",
        "          SimpleImputer(strategy='median'),\n",
        "          StandardScaler(),\n",
        "          LogisticRegression(solver='lbfgs', multi_class='auto', max_iter=1000)\n",
        "          #RandomForestClassifier(n_estimators=500, random_state=42, n_jobs=-1)\n",
        "    )\n",
        "\n",
        "pipeline.fit(X_train_subset, y_train)\n",
        "y_pred = pipeline.predict(X_val_subset)\n",
        "    \n",
        "labels = unique_labels(y_val)\n",
        "columns = [f'Predicted {label}' for label in labels]\n",
        "index = [f'Actual {label}' for label in labels]\n",
        "table = pd.DataFrame(confusion_matrix(y_val, y_pred), \n",
        "                         columns=columns, index=index)\n",
        "sns.heatmap(table, annot=True, fmt='d', cmap='viridis');\n",
        "     "
      ],
      "execution_count": 76,
      "outputs": [
        {
          "output_type": "display_data",
          "data": {
            "image/png": "[encoded data removed]",
            "text/plain": [
              "<Figure size 432x288 with 2 Axes>"
            ]
          },
          "metadata": {
            "tags": []
          }
        }
      ]
    },
    {
      "cell_type": "code",
      "metadata": {
        "id": "uqT48jfqvGLJ",
        "colab_type": "code",
        "colab": {
          "base_uri": "https://localhost:8080/",
          "height": 204
        },
        "outputId": "f87f3a86-308f-4546-bba1-1e523666f801"
      },
      "source": [
        "print('Logistic Regression Accuracy: ', accuracy_score(y_val, y_pred)) \n",
        "print('Logistic Regression Report: \\n', classification_report(y_val, y_pred))\n"
      ],
      "execution_count": 89,
      "outputs": [
        {
          "output_type": "stream",
          "text": [
            "Logistic Regression Accuracy:  0.5676369863013698\n",
            "Logistic Regression Report: \n",
            "               precision    recall  f1-score   support\n",
            "\n",
            "           0       0.56      0.76      0.65       603\n",
            "           1       0.59      0.36      0.45       565\n",
            "\n",
            "    accuracy                           0.57      1168\n",
            "   macro avg       0.57      0.56      0.55      1168\n",
            "weighted avg       0.57      0.57      0.55      1168\n",
            "\n"
          ],
          "name": "stdout"
        }
      ]
    },
    {
      "cell_type": "code",
      "metadata": {
        "id": "4w1ZIE7A-9rn",
        "colab_type": "code",
        "colab": {}
      },
      "source": [
        "y_pred_test = pipeline.predict(X_test_subset)"
      ],
      "execution_count": 0,
      "outputs": []
    },
    {
      "cell_type": "code",
      "metadata": {
        "id": "q9fPZXoj_ND3",
        "colab_type": "code",
        "colab": {
          "base_uri": "https://localhost:8080/",
          "height": 34
        },
        "outputId": "90df8763-cea3-4fec-adc4-eb5542ba6e6e"
      },
      "source": [
        "print('Logistic Regression Test Accuracy: ', accuracy_score(y_test, y_pred))"
      ],
      "execution_count": 98,
      "outputs": [
        {
          "output_type": "stream",
          "text": [
            "Logistic Regression Test Accuracy:  0.5781158572264482\n"
          ],
          "name": "stdout"
        }
      ]
    },
    {
      "cell_type": "code",
      "metadata": {
        "id": "VlKXncId3byq",
        "colab_type": "code",
        "colab": {
          "base_uri": "https://localhost:8080/",
          "height": 238
        },
        "outputId": "2d15e248-f5e1-4e5f-90fe-393a63a2bbd0"
      },
      "source": [
        "pipeline.named_steps"
      ],
      "execution_count": 80,
      "outputs": [
        {
          "output_type": "execute_result",
          "data": {
            "text/plain": [
              "{'logisticregression': LogisticRegression(C=1.0, class_weight=None, dual=False, fit_intercept=True,\n",
              "                    intercept_scaling=1, l1_ratio=None, max_iter=1000,\n",
              "                    multi_class='auto', n_jobs=None, penalty='l2',\n",
              "                    random_state=None, solver='lbfgs', tol=0.0001, verbose=0,\n",
              "                    warm_start=False),\n",
              " 'onehotencoder': OneHotEncoder(cols=['shot_type', 'shot_zone_basic', 'shot_zone_area',\n",
              "                     'shot_zone_range', 'season_type', 'period'],\n",
              "               drop_invariant=False, handle_missing='value',\n",
              "               handle_unknown='value', return_df=True, use_cat_names=False,\n",
              "               verbose=0),\n",
              " 'simpleimputer': SimpleImputer(add_indicator=False, copy=True, fill_value=None,\n",
              "               missing_values=nan, strategy='median', verbose=0),\n",
              " 'standardscaler': StandardScaler(copy=True, with_mean=True, with_std=True)}"
            ]
          },
          "metadata": {
            "tags": []
          },
          "execution_count": 80
        }
      ]
    },
    {
      "cell_type": "code",
      "metadata": {
        "id": "mA-K_NbR38_3",
        "colab_type": "code",
        "colab": {}
      },
      "source": [
        "encoder = pipeline.named_steps['onehotencoder']\n",
        "model = pipeline.named_steps['logisticregression']\n",
        "feature_names = encoder.transform(X_val_subset).columns\n",
        "importances = pd.Series(model.coef_[0], feature_names)\n"
      ],
      "execution_count": 0,
      "outputs": []
    },
    {
      "cell_type": "code",
      "metadata": {
        "id": "LYBpc7Rf4zPm",
        "colab_type": "code",
        "colab": {
          "base_uri": "https://localhost:8080/",
          "height": 899
        },
        "outputId": "bf65d27a-c43d-4756-e968-b1b458d24d35"
      },
      "source": [
        "n = 30\n",
        "plt.figure(figsize=(15,30/2))\n",
        "plt.title(f'Top {n} features')\n",
        "importances.sort_values()[-n:].plot.barh(color='grey');"
      ],
      "execution_count": 88,
      "outputs": [
        {
          "output_type": "display_data",
          "data": {
            "image/png": "[encoded data removed]",
            "text/plain": [
              "<Figure size 1080x1080 with 1 Axes>"
            ]
          },
          "metadata": {
            "tags": []
          }
        }
      ]
    },
    {
      "cell_type": "markdown",
      "metadata": {
        "id": "gWRX4uaY9NCw",
        "colab_type": "text"
      },
      "source": [
        "This Sprint Challenge has two parts. To demonstrate mastery on each part, do all the required, numbered instructions. To earn a score of \"3\" for the part, also do the stretch goals.\n",
        "\n",
        "## Part 1. Prepare to model\n",
        "\n",
        "### Required\n",
        "\n",
        "1. **Do train/validate/test split.** Use the 2009-10 season through 2016-17 season to train, the 2017-18 season to validate, and the 2018-19 season to test. NBA seasons begin in October and end in June. You'll know you've split the data correctly when your train set has 11081 observations, your validation set has 1168 observations, and your test set has 1709 observations.\n",
        "2. **Begin with baselines for classification.** Your target to predict is `shot_made_flag`. What is the baseline accuracy for the validation set, if you guessed the majority class for every prediction?\n",
        "3. **Use Ordinal Encoding _or_ One-Hot Encoding,** for the categorical features you select.\n",
        "4. **Train a Random Forest _or_ Logistic Regression** with the features you select.\n",
        "\n",
        "### Stretch goals\n",
        "Engineer at least 4 of these 5 features:\n",
        "\n",
        "- **Homecourt Advantage**: Is the home team (`htm`) the Golden State Warriors (`GSW`) ?\n",
        "- **Opponent**: Who is the other team playing the Golden State Warriors?\n",
        "- **Seconds remaining in the period**: Combine minutes remaining with seconds remaining, to get the total number of seconds remaining in the period.\n",
        "- **Seconds remaining in the game**: Combine period, and seconds remaining in the period, to get the total number of seconds remaining in the game. A basketball game has 4 periods, each 12 minutes long.\n",
        "- **Made previous shot**: Was Steph Curry's previous shot successful?\n",
        "    \n",
        "\n",
        "## Part 2. Evaluate models\n",
        "\n",
        "### Required\n",
        "1. Get your model's **validation accuracy.** (Multiple times if you try multiple iterations.)\n",
        "2. Get your model's **test accuracy.** (One time, at the end.)\n",
        "3. Get and plot your Random Forest's **feature importances** _or_ your Logistic Regression's **coefficients.**\n",
        "4. Imagine this is the confusion matrix for a binary classification model. **Calculate accuracy, precision, and recall for this confusion matrix:**\n",
        "\n",
        "<table>\n",
        "  <tr>\n",
        "    <td colspan=\"2\" rowspan=\"2\"></td>\n",
        "    <td colspan=\"2\">Predicted</td>\n",
        "  </tr>\n",
        "  <tr>\n",
        "    <td>Negative</td>\n",
        "    <td>Positive</td>\n",
        "  </tr>\n",
        "  <tr>\n",
        "    <td rowspan=\"2\">Actual</td>\n",
        "    <td>Negative</td>\n",
        "    <td style=\"border: solid\">85</td>\n",
        "    <td style=\"border: solid\">58</td>\n",
        "  </tr>\n",
        "  <tr>\n",
        "    <td>Positive</td>\n",
        "    <td style=\"border: solid\">8</td>\n",
        "    <td style=\"border: solid\"> 36</td>\n",
        "  </tr>\n",
        "</table>\n",
        "\n",
        "\n",
        "### Stretch goals\n",
        "- Calculate F1 score for the provided, imaginary confusion matrix.\n",
        "- Plot a real confusion matrix for your basketball model, with row and column labels.\n",
        "- Print the classification report for your model."
      ]
    },
    {
      "cell_type": "code",
      "metadata": {
        "id": "yLz19G771MrJ",
        "colab_type": "code",
        "colab": {
          "base_uri": "https://localhost:8080/",
          "height": 34
        },
        "outputId": "6a0b9afc-b45c-470a-8365-971cd9ac0716"
      },
      "source": [
        "#Example Confusion Matrix Accuracy\n",
        "correct_predictions = 85 + 36\n",
        "total_predictions = correct_predictions + 8 + 58\n",
        "accuracy = correct_predictions / total_predictions\n",
        "accuracy"
      ],
      "execution_count": 100,
      "outputs": [
        {
          "output_type": "execute_result",
          "data": {
            "text/plain": [
              "0.6470588235294118"
            ]
          },
          "metadata": {
            "tags": []
          },
          "execution_count": 100
        }
      ]
    },
    {
      "cell_type": "code",
      "metadata": {
        "id": "RWTIe_fiBeB-",
        "colab_type": "code",
        "colab": {
          "base_uri": "https://localhost:8080/",
          "height": 34
        },
        "outputId": "0a211c44-4f01-4ca9-82d9-fe4abd5e56ea"
      },
      "source": [
        "#Example Confusion Matrix  Negative Precision\n",
        "correct_predictions_negative = 85\n",
        "total_predictions_negative = 85 + 8\n",
        "negative_precision = correct_predictions_negative / total_predictions_negative\n",
        "negative_precision"
      ],
      "execution_count": 105,
      "outputs": [
        {
          "output_type": "execute_result",
          "data": {
            "text/plain": [
              "0.9139784946236559"
            ]
          },
          "metadata": {
            "tags": []
          },
          "execution_count": 105
        }
      ]
    },
    {
      "cell_type": "code",
      "metadata": {
        "id": "wNR3Qh2cCSTT",
        "colab_type": "code",
        "colab": {
          "base_uri": "https://localhost:8080/",
          "height": 34
        },
        "outputId": "53d7fb3e-5145-4955-d06c-76cfef988914"
      },
      "source": [
        "#Example Confusion Matrix Positive Precision\n",
        "correct_predictions_positive = 36\n",
        "total_predictions_positive = 36 + 58\n",
        "positive_precision = correct_predictions_positive / total_predictions_positive\n",
        "positive_precision"
      ],
      "execution_count": 113,
      "outputs": [
        {
          "output_type": "execute_result",
          "data": {
            "text/plain": [
              "0.3829787234042553"
            ]
          },
          "metadata": {
            "tags": []
          },
          "execution_count": 113
        }
      ]
    },
    {
      "cell_type": "code",
      "metadata": {
        "id": "vAr-BUdcCvms",
        "colab_type": "code",
        "colab": {
          "base_uri": "https://localhost:8080/",
          "height": 34
        },
        "outputId": "0a450890-9a8d-472e-d26d-dbcf92291e33"
      },
      "source": [
        "#Example Confusion Matrix  Negative Recall\n",
        "actual_negative = 85 + 58\n",
        "negative_recall = correct_predictions_negative / actual_negative\n",
        "negative_recall"
      ],
      "execution_count": 109,
      "outputs": [
        {
          "output_type": "execute_result",
          "data": {
            "text/plain": [
              "0.5944055944055944"
            ]
          },
          "metadata": {
            "tags": []
          },
          "execution_count": 109
        }
      ]
    },
    {
      "cell_type": "code",
      "metadata": {
        "id": "U26oe1s6EQgX",
        "colab_type": "code",
        "colab": {
          "base_uri": "https://localhost:8080/",
          "height": 34
        },
        "outputId": "507b3779-af02-4d2b-e159-83a236e0240a"
      },
      "source": [
        "#Example Confusion Matrix Positive Recall\n",
        "actual_positive = 8 + 36\n",
        "positive_recall = correct_predictions_positive / actual_positive\n",
        "positive_recall"
      ],
      "execution_count": 112,
      "outputs": [
        {
          "output_type": "execute_result",
          "data": {
            "text/plain": [
              "0.8181818181818182"
            ]
          },
          "metadata": {
            "tags": []
          },
          "execution_count": 112
        }
      ]
    }
  ]
}